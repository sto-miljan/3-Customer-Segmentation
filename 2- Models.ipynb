{
 "cells": [
  {
   "cell_type": "markdown",
   "metadata": {},
   "source": [
    "# Model testing"
   ]
  },
  {
   "cell_type": "code",
   "execution_count": 1,
   "metadata": {},
   "outputs": [],
   "source": [
    "\n",
    "import pandas as pd\n",
    "import numpy as np\n",
    "import matplotlib.pyplot as plt\n",
    "import matplotlib.lines as mlines\n",
    "import datetime as dt\n",
    "import pickle\n",
    "import itertools\n",
    "\n",
    "from sklearn.cross_validation import train_test_split\n",
    "from sklearn.preprocessing import StandardScaler"
   ]
  },
  {
   "cell_type": "code",
   "execution_count": 29,
   "metadata": {
    "scrolled": true
   },
   "outputs": [],
   "source": [
    "data = pd.read_csv(\"final_dataset_V2.csv\")"
   ]
  },
  {
   "cell_type": "code",
   "execution_count": 30,
   "metadata": {
    "scrolled": true
   },
   "outputs": [
    {
     "data": {
      "text/html": [
       "<div>\n",
       "<style scoped>\n",
       "    .dataframe tbody tr th:only-of-type {\n",
       "        vertical-align: middle;\n",
       "    }\n",
       "\n",
       "    .dataframe tbody tr th {\n",
       "        vertical-align: top;\n",
       "    }\n",
       "\n",
       "    .dataframe thead th {\n",
       "        text-align: right;\n",
       "    }\n",
       "</style>\n",
       "<table border=\"1\" class=\"dataframe\">\n",
       "  <thead>\n",
       "    <tr style=\"text-align: right;\">\n",
       "      <th></th>\n",
       "      <th>CustomerID</th>\n",
       "      <th>min</th>\n",
       "      <th>max</th>\n",
       "      <th>mean</th>\n",
       "      <th>min_recency</th>\n",
       "      <th>max_recency</th>\n",
       "      <th>frequency</th>\n",
       "      <th>monetary_value</th>\n",
       "      <th>quantity</th>\n",
       "      <th>country</th>\n",
       "      <th>...</th>\n",
       "      <th>Cluster_125</th>\n",
       "      <th>Cluster_126</th>\n",
       "      <th>Cluster_127</th>\n",
       "      <th>Cluster_128</th>\n",
       "      <th>Cluster_129</th>\n",
       "      <th>Cluster_130</th>\n",
       "      <th>Cluster_131</th>\n",
       "      <th>Cluster_132</th>\n",
       "      <th>Cluster_133</th>\n",
       "      <th>Cluster_134</th>\n",
       "    </tr>\n",
       "  </thead>\n",
       "  <tbody>\n",
       "    <tr>\n",
       "      <th>0</th>\n",
       "      <td>12347.0</td>\n",
       "      <td>13.2</td>\n",
       "      <td>45.0</td>\n",
       "      <td>23.308571</td>\n",
       "      <td>2.0</td>\n",
       "      <td>367.0</td>\n",
       "      <td>7</td>\n",
       "      <td>4310.00</td>\n",
       "      <td>2458</td>\n",
       "      <td>16</td>\n",
       "      <td>...</td>\n",
       "      <td>0.0</td>\n",
       "      <td>0.026729</td>\n",
       "      <td>0.0</td>\n",
       "      <td>0.000000</td>\n",
       "      <td>0.0</td>\n",
       "      <td>0.042877</td>\n",
       "      <td>0.000000</td>\n",
       "      <td>0.007494</td>\n",
       "      <td>0.046775</td>\n",
       "      <td>0.0</td>\n",
       "    </tr>\n",
       "    <tr>\n",
       "      <th>1</th>\n",
       "      <td>12348.0</td>\n",
       "      <td>39.6</td>\n",
       "      <td>150.0</td>\n",
       "      <td>82.840000</td>\n",
       "      <td>75.0</td>\n",
       "      <td>358.0</td>\n",
       "      <td>4</td>\n",
       "      <td>1437.24</td>\n",
       "      <td>2332</td>\n",
       "      <td>12</td>\n",
       "      <td>...</td>\n",
       "      <td>0.0</td>\n",
       "      <td>0.000000</td>\n",
       "      <td>0.0</td>\n",
       "      <td>0.000000</td>\n",
       "      <td>0.0</td>\n",
       "      <td>0.204559</td>\n",
       "      <td>0.159806</td>\n",
       "      <td>0.000000</td>\n",
       "      <td>0.000000</td>\n",
       "      <td>0.0</td>\n",
       "    </tr>\n",
       "    <tr>\n",
       "      <th>2</th>\n",
       "      <td>12349.0</td>\n",
       "      <td>15.0</td>\n",
       "      <td>15.0</td>\n",
       "      <td>15.000000</td>\n",
       "      <td>18.0</td>\n",
       "      <td>18.0</td>\n",
       "      <td>1</td>\n",
       "      <td>1457.55</td>\n",
       "      <td>630</td>\n",
       "      <td>18</td>\n",
       "      <td>...</td>\n",
       "      <td>0.0</td>\n",
       "      <td>0.004556</td>\n",
       "      <td>0.0</td>\n",
       "      <td>0.044458</td>\n",
       "      <td>0.0</td>\n",
       "      <td>0.004556</td>\n",
       "      <td>0.000000</td>\n",
       "      <td>0.000000</td>\n",
       "      <td>0.000000</td>\n",
       "      <td>0.0</td>\n",
       "    </tr>\n",
       "    <tr>\n",
       "      <th>3</th>\n",
       "      <td>12350.0</td>\n",
       "      <td>25.2</td>\n",
       "      <td>25.2</td>\n",
       "      <td>25.200000</td>\n",
       "      <td>310.0</td>\n",
       "      <td>310.0</td>\n",
       "      <td>1</td>\n",
       "      <td>294.40</td>\n",
       "      <td>196</td>\n",
       "      <td>24</td>\n",
       "      <td>...</td>\n",
       "      <td>0.0</td>\n",
       "      <td>0.000000</td>\n",
       "      <td>0.0</td>\n",
       "      <td>0.000000</td>\n",
       "      <td>0.0</td>\n",
       "      <td>0.000000</td>\n",
       "      <td>0.000000</td>\n",
       "      <td>0.050951</td>\n",
       "      <td>0.000000</td>\n",
       "      <td>0.0</td>\n",
       "    </tr>\n",
       "    <tr>\n",
       "      <th>4</th>\n",
       "      <td>12352.0</td>\n",
       "      <td>9.9</td>\n",
       "      <td>35.7</td>\n",
       "      <td>19.650000</td>\n",
       "      <td>36.0</td>\n",
       "      <td>296.0</td>\n",
       "      <td>6</td>\n",
       "      <td>1265.41</td>\n",
       "      <td>463</td>\n",
       "      <td>24</td>\n",
       "      <td>...</td>\n",
       "      <td>0.0</td>\n",
       "      <td>0.000000</td>\n",
       "      <td>0.0</td>\n",
       "      <td>0.028923</td>\n",
       "      <td>0.0</td>\n",
       "      <td>0.039355</td>\n",
       "      <td>0.000000</td>\n",
       "      <td>0.000000</td>\n",
       "      <td>0.000000</td>\n",
       "      <td>0.0</td>\n",
       "    </tr>\n",
       "  </tbody>\n",
       "</table>\n",
       "<p>5 rows × 146 columns</p>\n",
       "</div>"
      ],
      "text/plain": [
       "   CustomerID   min    max       mean  min_recency  max_recency  frequency  \\\n",
       "0     12347.0  13.2   45.0  23.308571          2.0        367.0          7   \n",
       "1     12348.0  39.6  150.0  82.840000         75.0        358.0          4   \n",
       "2     12349.0  15.0   15.0  15.000000         18.0         18.0          1   \n",
       "3     12350.0  25.2   25.2  25.200000        310.0        310.0          1   \n",
       "4     12352.0   9.9   35.7  19.650000         36.0        296.0          6   \n",
       "\n",
       "   monetary_value  quantity  country     ...       Cluster_125  Cluster_126  \\\n",
       "0         4310.00      2458       16     ...               0.0     0.026729   \n",
       "1         1437.24      2332       12     ...               0.0     0.000000   \n",
       "2         1457.55       630       18     ...               0.0     0.004556   \n",
       "3          294.40       196       24     ...               0.0     0.000000   \n",
       "4         1265.41       463       24     ...               0.0     0.000000   \n",
       "\n",
       "   Cluster_127  Cluster_128  Cluster_129  Cluster_130  Cluster_131  \\\n",
       "0          0.0     0.000000          0.0     0.042877     0.000000   \n",
       "1          0.0     0.000000          0.0     0.204559     0.159806   \n",
       "2          0.0     0.044458          0.0     0.004556     0.000000   \n",
       "3          0.0     0.000000          0.0     0.000000     0.000000   \n",
       "4          0.0     0.028923          0.0     0.039355     0.000000   \n",
       "\n",
       "   Cluster_132  Cluster_133  Cluster_134  \n",
       "0     0.007494     0.046775          0.0  \n",
       "1     0.000000     0.000000          0.0  \n",
       "2     0.000000     0.000000          0.0  \n",
       "3     0.050951     0.000000          0.0  \n",
       "4     0.000000     0.000000          0.0  \n",
       "\n",
       "[5 rows x 146 columns]"
      ]
     },
     "execution_count": 30,
     "metadata": {},
     "output_type": "execute_result"
    }
   ],
   "source": [
    "data.head()"
   ]
  },
  {
   "cell_type": "code",
   "execution_count": 20,
   "metadata": {},
   "outputs": [
    {
     "data": {
      "text/plain": [
       "Index(['CustomerID', 'min', 'max', 'mean', 'min_recency', 'max_recency',\n",
       "       'frequency', 'monetary_value', 'quantity', 'country', 'cluster',\n",
       "       'Cluster_0', 'Cluster_1', 'Cluster_2', 'Cluster_3', 'Cluster_4',\n",
       "       'Cluster_5', 'Cluster_6', 'Cluster_7', 'Cluster_8'],\n",
       "      dtype='object')"
      ]
     },
     "execution_count": 20,
     "metadata": {},
     "output_type": "execute_result"
    }
   ],
   "source": [
    "data.columns[:20]"
   ]
  },
  {
   "cell_type": "markdown",
   "metadata": {},
   "source": [
    "# Features preparation"
   ]
  },
  {
   "cell_type": "code",
   "execution_count": 31,
   "metadata": {},
   "outputs": [],
   "source": [
    "cluster0 = data[data['cluster']==0]\n",
    "cluster1 = data[data['cluster']==1]\n",
    "cluster2 = data[data['cluster']==2]\n",
    "cluster3 = data[data['cluster']==3]\n",
    "cluster4 = data[data['cluster']==4]\n",
    "cluster5 = data[data['cluster']==5]\n",
    "cluster6 = data[data['cluster']==6]\n",
    "cluster7 = data[data['cluster']==7]"
   ]
  },
  {
   "cell_type": "code",
   "execution_count": 32,
   "metadata": {},
   "outputs": [
    {
     "name": "stdout",
     "output_type": "stream",
     "text": [
      "944 1544 3 296 4 1453 62 19\n"
     ]
    }
   ],
   "source": [
    "print(cluster0.shape[0], cluster1.shape[0], cluster2.shape[0], cluster3.shape[0], \n",
    "      cluster4.shape[0], cluster5.shape[0], cluster6.shape[0], cluster7.shape[0])a"
   ]
  },
  {
   "cell_type": "code",
   "execution_count": 34,
   "metadata": {},
   "outputs": [],
   "source": [
    "frames = [cluster0.sample(frac=0.8, random_state=0), cluster1.sample(frac=0.9, random_state=0),\n",
    "          cluster2.sample(frac=0.7, random_state=0),cluster3.sample(frac=0.6, random_state=0),\n",
    "          cluster4.sample(frac=0.5, random_state=0), cluster5.sample(frac=0.9, random_state=0),\n",
    "          cluster6.sample(frac=0.6, random_state=0), cluster7.sample(frac=0.5, random_state=0)]\n",
    "\n",
    "\n",
    "data_train_biased = pd.concat(frames)\n",
    "data_test_biased = data.drop(data_train_biased.index, axis = 0)"
   ]
  },
  {
   "cell_type": "code",
   "execution_count": 36,
   "metadata": {},
   "outputs": [],
   "source": [
    "X_random = data.drop(columns=['CustomerID', 'cluster']) \n",
    "y_random = data['cluster'].values\n",
    "\n",
    "X_train_biased = data_train_biased.drop(columns=['CustomerID', 'cluster'])\n",
    "X_test_biased = data_test_biased.drop(columns=['CustomerID', 'cluster'])\n",
    "y_train_biased = data_train_biased['cluster'].values\n",
    "y_test_biased = data_test_biased['cluster'].values\n"
   ]
  },
  {
   "cell_type": "code",
   "execution_count": 32,
   "metadata": {},
   "outputs": [
    {
     "data": {
      "text/plain": [
       "Index(['CustomerID', 'min', 'max', 'mean', 'min_recency', 'max_recency',\n",
       "       'nb_visit', 'frequency', 'monetary_value', 'quantity', 'cluster',\n",
       "       'Cluster_0', 'Cluster_1', 'Cluster_2', 'Cluster_3', 'Cluster_4',\n",
       "       'Cluster_5', 'Cluster_6', 'Cluster_7', 'Cluster_8'],\n",
       "      dtype='object')"
      ]
     },
     "execution_count": 32,
     "metadata": {},
     "output_type": "execute_result"
    }
   ],
   "source": [
    "data.columns[0:20]"
   ]
  },
  {
   "cell_type": "code",
   "execution_count": 41,
   "metadata": {},
   "outputs": [],
   "source": [
    "scaler = StandardScaler() # create scaler object\n",
    "\n",
    "X_random_scaled = scaler.fit_transform(X_random)\n",
    "X_train_biased = scaler.fit_transform(X_train_biased)\n",
    "X_test_biased = scaler.fit_transform(X_test_biased)"
   ]
  },
  {
   "cell_type": "code",
   "execution_count": 43,
   "metadata": {},
   "outputs": [],
   "source": [
    "X_train_random, X_test_random, y_train_random, y_test_random = train_test_split(X_random,y_random,test_size = 0.2,random_state = 0) # Do 80/20 split"
   ]
  },
  {
   "cell_type": "markdown",
   "metadata": {},
   "source": [
    "# Testing different models"
   ]
  },
  {
   "cell_type": "markdown",
   "metadata": {},
   "source": [
    "## Baseline"
   ]
  },
  {
   "cell_type": "code",
   "execution_count": 40,
   "metadata": {},
   "outputs": [],
   "source": [
    "from sklearn.dummy import DummyClassifier"
   ]
  },
  {
   "cell_type": "code",
   "execution_count": 44,
   "metadata": {},
   "outputs": [
    {
     "data": {
      "text/plain": [
       "DummyClassifier(constant=None, random_state=0, strategy='stratified')"
      ]
     },
     "execution_count": 44,
     "metadata": {},
     "output_type": "execute_result"
    }
   ],
   "source": [
    "dummy_random = DummyClassifier(random_state=0)\n",
    "dummy_biased = DummyClassifier(random_state=0)\n",
    "dummy_random.fit(X_train_random, y_train_random)\n",
    "dummy_biased.fit(X_train_biased, y_train_biased)"
   ]
  },
  {
   "cell_type": "code",
   "execution_count": 45,
   "metadata": {},
   "outputs": [
    {
     "name": "stdout",
     "output_type": "stream",
     "text": [
      "Baseline accuracy for random sampling: 30.520231213872833\n",
      "Baseline accuracy for biased sampling: 25.194401244167963\n"
     ]
    }
   ],
   "source": [
    "print(\"Baseline accuracy for random sampling:\", (dummy_random.score(X_test_random, y_test_random))*100)\n",
    "print(\"Baseline accuracy for biased sampling:\", (dummy_biased.score(X_test_biased, y_test_biased))*100)"
   ]
  },
  {
   "cell_type": "markdown",
   "metadata": {},
   "source": [
    "## Linear models"
   ]
  },
  {
   "cell_type": "code",
   "execution_count": 46,
   "metadata": {},
   "outputs": [],
   "source": [
    "from sklearn.linear_model import LogisticRegression, SGDClassifier"
   ]
  },
  {
   "cell_type": "markdown",
   "metadata": {},
   "source": [
    "### Logistic Regression"
   ]
  },
  {
   "cell_type": "code",
   "execution_count": 47,
   "metadata": {},
   "outputs": [
    {
     "name": "stdout",
     "output_type": "stream",
     "text": [
      "LogisticRegression_classifier with random sampling accuracy: 95.26011560693641\n",
      "LogisticRegression_classifier with biased sampling accuracy: 75.58320373250389\n"
     ]
    }
   ],
   "source": [
    "LogisticRegression_random = LogisticRegression()\n",
    "LogisticRegression_biased = LogisticRegression()\n",
    "LogisticRegression_random.fit(X_train_random, y_train_random)\n",
    "LogisticRegression_biased.fit(X_train_biased, y_train_biased)\n",
    "print(\"LogisticRegression_classifier with random sampling accuracy:\", (LogisticRegression_random.score(X_test_random, y_test_random))*100)\n",
    "print(\"LogisticRegression_classifier with biased sampling accuracy:\", (LogisticRegression_biased.score(X_test_biased, y_test_biased))*100)"
   ]
  },
  {
   "cell_type": "markdown",
   "metadata": {},
   "source": [
    "### SGD Classifier"
   ]
  },
  {
   "cell_type": "code",
   "execution_count": 51,
   "metadata": {},
   "outputs": [
    {
     "name": "stdout",
     "output_type": "stream",
     "text": [
      "SGDClassifier with random sampling accuracy: 62.774566473988436\n",
      "SGDClassifier with biased sampling accuracy: 68.11819595645412\n"
     ]
    },
    {
     "name": "stderr",
     "output_type": "stream",
     "text": [
      "/Users/miljanstojiljkovic/anaconda3/lib/python3.6/site-packages/sklearn/linear_model/stochastic_gradient.py:128: FutureWarning: max_iter and tol parameters have been added in <class 'sklearn.linear_model.stochastic_gradient.SGDClassifier'> in 0.19. If both are left unset, they default to max_iter=5 and tol=None. If tol is not None, max_iter defaults to max_iter=1000. From 0.21, default max_iter will be 1000, and default tol will be 1e-3.\n",
      "  \"and default tol will be 1e-3.\" % type(self), FutureWarning)\n"
     ]
    }
   ],
   "source": [
    "SGD_random = SGDClassifier()\n",
    "SGD_biased = SGDClassifier()\n",
    "SGD_random.fit(X_train_random, y_train_random)\n",
    "SGD_biased.fit(X_train_biased, y_train_biased)\n",
    "print(\"SGDClassifier with random sampling accuracy:\", (SGD_random.score(X_test_random, y_test_random))*100)\n",
    "print(\"SGDClassifier with biased sampling accuracy:\", (SGD_biased.score(X_test_biased, y_test_biased))*100)"
   ]
  },
  {
   "cell_type": "markdown",
   "metadata": {},
   "source": [
    "## SVM Classifiers"
   ]
  },
  {
   "cell_type": "code",
   "execution_count": 57,
   "metadata": {},
   "outputs": [],
   "source": [
    "from sklearn.svm import LinearSVC"
   ]
  },
  {
   "cell_type": "markdown",
   "metadata": {},
   "source": [
    "### Linear SVC"
   ]
  },
  {
   "cell_type": "code",
   "execution_count": 59,
   "metadata": {},
   "outputs": [
    {
     "name": "stdout",
     "output_type": "stream",
     "text": [
      "LinearSV with random sampling accuracy: 68.32369942196533\n",
      "LinearSV with biased sampling accuracy: 75.73872472783826\n"
     ]
    }
   ],
   "source": [
    "LinearSV_random = LinearSVC()\n",
    "LinearSV_biased = LinearSVC()\n",
    "LinearSV_random.fit(X_train_random, y_train_random)\n",
    "LinearSV_biased.fit(X_train_biased, y_train_biased)\n",
    "print(\"LinearSV with random sampling accuracy:\", (LinearSV_random.score(X_test_random, y_test_random))*100)\n",
    "print(\"LinearSV with biased sampling accuracy:\", (LinearSV_biased.score(X_test_biased, y_test_biased))*100)"
   ]
  },
  {
   "cell_type": "markdown",
   "metadata": {},
   "source": [
    "# Random Forest"
   ]
  },
  {
   "cell_type": "code",
   "execution_count": 60,
   "metadata": {},
   "outputs": [],
   "source": [
    "from sklearn.ensemble import RandomForestClassifier"
   ]
  },
  {
   "cell_type": "code",
   "execution_count": 61,
   "metadata": {},
   "outputs": [],
   "source": [
    "rfc_random=RandomForestClassifier(random_state=0, n_estimators = 1000)\n",
    "rfc_biased=RandomForestClassifier(random_state=0, n_estimators = 1000)"
   ]
  },
  {
   "cell_type": "code",
   "execution_count": 62,
   "metadata": {},
   "outputs": [],
   "source": [
    "param_grid = { \n",
    "    'n_estimators' : [100, 500, 1000],\n",
    "    'max_features' : ['auto', 'sqrt', 'log2'],\n",
    "    'max_depth' : [4, 6],\n",
    "    'criterion' :['gini', 'entropy']\n",
    "}"
   ]
  },
  {
   "cell_type": "code",
   "execution_count": 63,
   "metadata": {
    "scrolled": true
   },
   "outputs": [
    {
     "name": "stdout",
     "output_type": "stream",
     "text": [
      "Fitting 5 folds for each of 36 candidates, totalling 180 fits\n"
     ]
    },
    {
     "name": "stderr",
     "output_type": "stream",
     "text": [
      "/Users/miljanstojiljkovic/anaconda3/lib/python3.6/site-packages/sklearn/model_selection/_split.py:605: Warning: The least populated class in y has only 2 members, which is too few. The minimum number of members in any class cannot be less than n_splits=5.\n",
      "  % (min_groups, self.n_splits)), Warning)\n"
     ]
    },
    {
     "name": "stdout",
     "output_type": "stream",
     "text": [
      "[CV] criterion=gini, max_depth=4, max_features=auto, n_estimators=100 \n",
      "[CV] criterion=gini, max_depth=4, max_features=auto, n_estimators=100 \n",
      "[CV] criterion=gini, max_depth=4, max_features=auto, n_estimators=100 \n",
      "[CV] criterion=gini, max_depth=4, max_features=auto, n_estimators=100 \n",
      "[CV]  criterion=gini, max_depth=4, max_features=auto, n_estimators=100, score=0.8706896551724138, total=   1.3s\n",
      "[CV] criterion=gini, max_depth=4, max_features=auto, n_estimators=100 \n",
      "[CV]  criterion=gini, max_depth=4, max_features=auto, n_estimators=100, score=0.8672438672438673, total=   1.3s\n",
      "[CV] criterion=gini, max_depth=4, max_features=auto, n_estimators=500 \n",
      "[CV]  criterion=gini, max_depth=4, max_features=auto, n_estimators=100, score=0.8625180897250362, total=   1.4s\n",
      "[CV]  criterion=gini, max_depth=4, max_features=auto, n_estimators=100, score=0.8728323699421965, total=   1.4s\n",
      "[CV] criterion=gini, max_depth=4, max_features=auto, n_estimators=500 \n",
      "[CV] criterion=gini, max_depth=4, max_features=auto, n_estimators=500 \n",
      "[CV]  criterion=gini, max_depth=4, max_features=auto, n_estimators=100, score=0.8473837209302325, total=   1.1s\n",
      "[CV] criterion=gini, max_depth=4, max_features=auto, n_estimators=500 \n"
     ]
    },
    {
     "name": "stderr",
     "output_type": "stream",
     "text": [
      "[Parallel(n_jobs=-1)]: Done   5 tasks      | elapsed:    2.7s\n"
     ]
    },
    {
     "name": "stdout",
     "output_type": "stream",
     "text": [
      "[CV]  criterion=gini, max_depth=4, max_features=auto, n_estimators=500, score=0.867816091954023, total=   4.8s\n",
      "[CV] criterion=gini, max_depth=4, max_features=auto, n_estimators=500 \n",
      "[CV]  criterion=gini, max_depth=4, max_features=auto, n_estimators=500, score=0.8845598845598845, total=   4.7s\n",
      "[CV]  criterion=gini, max_depth=4, max_features=auto, n_estimators=500, score=0.869942196531792, total=   4.7s\n",
      "[CV] criterion=gini, max_depth=4, max_features=auto, n_estimators=1000 \n",
      "[CV] criterion=gini, max_depth=4, max_features=auto, n_estimators=1000 \n",
      "[CV]  criterion=gini, max_depth=4, max_features=auto, n_estimators=500, score=0.8596237337192475, total=   5.4s\n",
      "[CV] criterion=gini, max_depth=4, max_features=auto, n_estimators=1000 \n",
      "[CV]  criterion=gini, max_depth=4, max_features=auto, n_estimators=500, score=0.8648255813953488, total=   6.0s\n",
      "[CV] criterion=gini, max_depth=4, max_features=auto, n_estimators=1000 \n"
     ]
    },
    {
     "name": "stderr",
     "output_type": "stream",
     "text": [
      "[Parallel(n_jobs=-1)]: Done  10 tasks      | elapsed:   13.8s\n"
     ]
    },
    {
     "name": "stdout",
     "output_type": "stream",
     "text": [
      "[CV]  criterion=gini, max_depth=4, max_features=auto, n_estimators=1000, score=0.867816091954023, total=  10.8s\n",
      "[CV] criterion=gini, max_depth=4, max_features=auto, n_estimators=1000 \n",
      "[CV]  criterion=gini, max_depth=4, max_features=auto, n_estimators=1000, score=0.8787878787878788, total=  10.9s\n",
      "[CV] criterion=gini, max_depth=4, max_features=sqrt, n_estimators=100 \n",
      "[CV]  criterion=gini, max_depth=4, max_features=auto, n_estimators=1000, score=0.8641618497109826, total=  10.6s\n",
      "[CV] criterion=gini, max_depth=4, max_features=sqrt, n_estimators=100 \n",
      "[CV]  criterion=gini, max_depth=4, max_features=sqrt, n_estimators=100, score=0.8706896551724138, total=   0.9s\n",
      "[CV] criterion=gini, max_depth=4, max_features=sqrt, n_estimators=100 \n",
      "[CV]  criterion=gini, max_depth=4, max_features=sqrt, n_estimators=100, score=0.8672438672438673, total=   1.0s\n",
      "[CV] criterion=gini, max_depth=4, max_features=sqrt, n_estimators=100 \n",
      "[CV]  criterion=gini, max_depth=4, max_features=sqrt, n_estimators=100, score=0.8728323699421965, total=   1.0s\n",
      "[CV] criterion=gini, max_depth=4, max_features=sqrt, n_estimators=100 \n",
      "[CV]  criterion=gini, max_depth=4, max_features=sqrt, n_estimators=100, score=0.8625180897250362, total=   1.0s\n",
      "[CV] criterion=gini, max_depth=4, max_features=sqrt, n_estimators=500 \n"
     ]
    },
    {
     "name": "stderr",
     "output_type": "stream",
     "text": [
      "[Parallel(n_jobs=-1)]: Done  17 tasks      | elapsed:   22.3s\n"
     ]
    },
    {
     "name": "stdout",
     "output_type": "stream",
     "text": [
      "[CV]  criterion=gini, max_depth=4, max_features=sqrt, n_estimators=100, score=0.8473837209302325, total=   1.0s\n",
      "[CV] criterion=gini, max_depth=4, max_features=sqrt, n_estimators=500 \n",
      "[CV]  criterion=gini, max_depth=4, max_features=auto, n_estimators=1000, score=0.85383502170767, total=   9.8s\n",
      "[CV] criterion=gini, max_depth=4, max_features=sqrt, n_estimators=500 \n",
      "[CV]  criterion=gini, max_depth=4, max_features=sqrt, n_estimators=500, score=0.867816091954023, total=   5.1s\n",
      "[CV] criterion=gini, max_depth=4, max_features=sqrt, n_estimators=500 \n",
      "[CV]  criterion=gini, max_depth=4, max_features=sqrt, n_estimators=500, score=0.8845598845598845, total=   5.0s\n",
      "[CV] criterion=gini, max_depth=4, max_features=sqrt, n_estimators=500 \n",
      "[CV]  criterion=gini, max_depth=4, max_features=sqrt, n_estimators=500, score=0.869942196531792, total=   5.6s\n",
      "[CV] criterion=gini, max_depth=4, max_features=sqrt, n_estimators=1000 \n",
      "[CV]  criterion=gini, max_depth=4, max_features=auto, n_estimators=1000, score=0.8662790697674418, total=  10.5s\n",
      "[CV] criterion=gini, max_depth=4, max_features=sqrt, n_estimators=1000 \n",
      "[CV]  criterion=gini, max_depth=4, max_features=sqrt, n_estimators=500, score=0.8596237337192475, total=   5.6s\n",
      "[CV]  criterion=gini, max_depth=4, max_features=sqrt, n_estimators=500, score=0.8648255813953488, total=   5.5s\n",
      "[CV] criterion=gini, max_depth=4, max_features=sqrt, n_estimators=1000 \n",
      "[CV] criterion=gini, max_depth=4, max_features=sqrt, n_estimators=1000 \n"
     ]
    },
    {
     "name": "stderr",
     "output_type": "stream",
     "text": [
      "[Parallel(n_jobs=-1)]: Done  24 tasks      | elapsed:   33.9s\n"
     ]
    },
    {
     "name": "stdout",
     "output_type": "stream",
     "text": [
      "[CV]  criterion=gini, max_depth=4, max_features=sqrt, n_estimators=1000, score=0.867816091954023, total=   9.9s\n",
      "[CV] criterion=gini, max_depth=4, max_features=sqrt, n_estimators=1000 \n",
      "[CV]  criterion=gini, max_depth=4, max_features=sqrt, n_estimators=1000, score=0.8787878787878788, total=   9.8s\n",
      "[CV] criterion=gini, max_depth=4, max_features=log2, n_estimators=100 \n",
      "[CV]  criterion=gini, max_depth=4, max_features=log2, n_estimators=100, score=0.8146551724137931, total=   0.7s\n",
      "[CV] criterion=gini, max_depth=4, max_features=log2, n_estimators=100 \n",
      "[CV]  criterion=gini, max_depth=4, max_features=log2, n_estimators=100, score=0.823953823953824, total=   0.8s\n",
      "[CV] criterion=gini, max_depth=4, max_features=log2, n_estimators=100 \n",
      "[CV]  criterion=gini, max_depth=4, max_features=log2, n_estimators=100, score=0.8063583815028902, total=   0.8s\n",
      "[CV] criterion=gini, max_depth=4, max_features=log2, n_estimators=100 \n",
      "[CV]  criterion=gini, max_depth=4, max_features=sqrt, n_estimators=1000, score=0.8641618497109826, total=   9.9s\n",
      "[CV] criterion=gini, max_depth=4, max_features=log2, n_estimators=100 \n",
      "[CV]  criterion=gini, max_depth=4, max_features=sqrt, n_estimators=1000, score=0.85383502170767, total=  10.0s\n",
      "[CV] criterion=gini, max_depth=4, max_features=log2, n_estimators=500 \n",
      "[CV]  criterion=gini, max_depth=4, max_features=log2, n_estimators=100, score=0.8002894356005789, total=   0.8s\n",
      "[CV] criterion=gini, max_depth=4, max_features=log2, n_estimators=500 \n"
     ]
    },
    {
     "name": "stderr",
     "output_type": "stream",
     "text": [
      "[Parallel(n_jobs=-1)]: Done  33 tasks      | elapsed:   45.0s\n"
     ]
    },
    {
     "name": "stdout",
     "output_type": "stream",
     "text": [
      "[CV]  criterion=gini, max_depth=4, max_features=log2, n_estimators=100, score=0.7892441860465116, total=   1.0s\n",
      "[CV] criterion=gini, max_depth=4, max_features=log2, n_estimators=500 \n",
      "[CV]  criterion=gini, max_depth=4, max_features=log2, n_estimators=500, score=0.8189655172413793, total=   3.9s\n",
      "[CV] criterion=gini, max_depth=4, max_features=log2, n_estimators=500 \n",
      "[CV]  criterion=gini, max_depth=4, max_features=log2, n_estimators=500, score=0.834054834054834, total=   3.8s\n",
      "[CV] criterion=gini, max_depth=4, max_features=log2, n_estimators=500 \n",
      "[CV]  criterion=gini, max_depth=4, max_features=log2, n_estimators=500, score=0.8135838150289018, total=   3.8s\n",
      "[CV] criterion=gini, max_depth=4, max_features=log2, n_estimators=1000 \n",
      "[CV]  criterion=gini, max_depth=4, max_features=sqrt, n_estimators=1000, score=0.8662790697674418, total=  10.5s\n",
      "[CV] criterion=gini, max_depth=4, max_features=log2, n_estimators=1000 \n",
      "[CV]  criterion=gini, max_depth=4, max_features=log2, n_estimators=500, score=0.8052325581395349, total=   3.8s\n",
      "[CV] criterion=gini, max_depth=4, max_features=log2, n_estimators=1000 \n",
      "[CV]  criterion=gini, max_depth=4, max_features=log2, n_estimators=500, score=0.7959479015918958, total=   3.9s\n",
      "[CV] criterion=gini, max_depth=4, max_features=log2, n_estimators=1000 \n",
      "[CV]  criterion=gini, max_depth=4, max_features=log2, n_estimators=1000, score=0.8247126436781609, total=   7.6s\n",
      "[CV] criterion=gini, max_depth=4, max_features=log2, n_estimators=1000 \n",
      "[CV]  criterion=gini, max_depth=4, max_features=log2, n_estimators=1000, score=0.8326118326118326, total=   7.7s\n",
      "[CV] criterion=gini, max_depth=6, max_features=auto, n_estimators=100 \n"
     ]
    },
    {
     "name": "stderr",
     "output_type": "stream",
     "text": [
      "[Parallel(n_jobs=-1)]: Done  42 tasks      | elapsed:  1.0min\n"
     ]
    },
    {
     "name": "stdout",
     "output_type": "stream",
     "text": [
      "[CV]  criterion=gini, max_depth=4, max_features=log2, n_estimators=1000, score=0.8121387283236994, total=   7.8s\n",
      "[CV]  criterion=gini, max_depth=4, max_features=log2, n_estimators=1000, score=0.7988422575976846, total=   7.8s\n",
      "[CV] criterion=gini, max_depth=6, max_features=auto, n_estimators=100 \n",
      "[CV] criterion=gini, max_depth=6, max_features=auto, n_estimators=100 \n",
      "[CV]  criterion=gini, max_depth=6, max_features=auto, n_estimators=100, score=0.9037356321839081, total=   1.4s\n",
      "[CV] criterion=gini, max_depth=6, max_features=auto, n_estimators=100 \n",
      "[CV]  criterion=gini, max_depth=6, max_features=auto, n_estimators=100, score=0.9191919191919192, total=   1.3s\n",
      "[CV] criterion=gini, max_depth=6, max_features=auto, n_estimators=100 \n",
      "[CV]  criterion=gini, max_depth=6, max_features=auto, n_estimators=100, score=0.9335260115606936, total=   1.3s\n",
      "[CV] criterion=gini, max_depth=6, max_features=auto, n_estimators=500 \n",
      "[CV]  criterion=gini, max_depth=6, max_features=auto, n_estimators=100, score=0.9073806078147613, total=   1.3s\n",
      "[CV] criterion=gini, max_depth=6, max_features=auto, n_estimators=500 \n",
      "[CV]  criterion=gini, max_depth=6, max_features=auto, n_estimators=100, score=0.9084302325581395, total=   1.3s\n",
      "[CV] criterion=gini, max_depth=6, max_features=auto, n_estimators=500 \n",
      "[CV]  criterion=gini, max_depth=4, max_features=log2, n_estimators=1000, score=0.8066860465116279, total=   7.8s\n",
      "[CV] criterion=gini, max_depth=6, max_features=auto, n_estimators=500 \n",
      "[CV]  criterion=gini, max_depth=6, max_features=auto, n_estimators=500, score=0.9137931034482759, total=   6.5s\n",
      "[CV] criterion=gini, max_depth=6, max_features=auto, n_estimators=500 \n",
      "[CV]  criterion=gini, max_depth=6, max_features=auto, n_estimators=500, score=0.9321789321789322, total=   6.6s\n",
      "[CV] criterion=gini, max_depth=6, max_features=auto, n_estimators=1000 \n",
      "[CV]  criterion=gini, max_depth=6, max_features=auto, n_estimators=500, score=0.9277456647398844, total=   6.5s\n",
      "[CV] criterion=gini, max_depth=6, max_features=auto, n_estimators=1000 \n"
     ]
    },
    {
     "name": "stderr",
     "output_type": "stream",
     "text": [
      "[Parallel(n_jobs=-1)]: Done  53 tasks      | elapsed:  1.2min\n"
     ]
    },
    {
     "name": "stdout",
     "output_type": "stream",
     "text": [
      "[CV]  criterion=gini, max_depth=6, max_features=auto, n_estimators=500, score=0.9247467438494935, total=   6.4s\n",
      "[CV] criterion=gini, max_depth=6, max_features=auto, n_estimators=1000 \n",
      "[CV]  criterion=gini, max_depth=6, max_features=auto, n_estimators=500, score=0.9156976744186046, total=   5.8s\n",
      "[CV] criterion=gini, max_depth=6, max_features=auto, n_estimators=1000 \n",
      "[CV]  criterion=gini, max_depth=6, max_features=auto, n_estimators=1000, score=0.9152298850574713, total=  11.4s\n",
      "[CV] criterion=gini, max_depth=6, max_features=auto, n_estimators=1000 \n",
      "[CV]  criterion=gini, max_depth=6, max_features=auto, n_estimators=1000, score=0.9336219336219336, total=  11.6s\n",
      "[CV] criterion=gini, max_depth=6, max_features=sqrt, n_estimators=100 \n",
      "[CV]  criterion=gini, max_depth=6, max_features=sqrt, n_estimators=100, score=0.9037356321839081, total=   1.2s\n",
      "[CV] criterion=gini, max_depth=6, max_features=sqrt, n_estimators=100 \n",
      "[CV]  criterion=gini, max_depth=6, max_features=auto, n_estimators=1000, score=0.9263005780346821, total=  11.6s\n",
      "[CV] criterion=gini, max_depth=6, max_features=sqrt, n_estimators=100 \n",
      "[CV]  criterion=gini, max_depth=6, max_features=sqrt, n_estimators=100, score=0.9191919191919192, total=   1.2s\n",
      "[CV] criterion=gini, max_depth=6, max_features=sqrt, n_estimators=100 \n",
      "[CV]  criterion=gini, max_depth=6, max_features=sqrt, n_estimators=100, score=0.9335260115606936, total=   1.2s\n",
      "[CV] criterion=gini, max_depth=6, max_features=sqrt, n_estimators=100 \n",
      "[CV]  criterion=gini, max_depth=6, max_features=sqrt, n_estimators=100, score=0.9073806078147613, total=   1.3s\n",
      "[CV] criterion=gini, max_depth=6, max_features=sqrt, n_estimators=500 \n",
      "[CV]  criterion=gini, max_depth=6, max_features=sqrt, n_estimators=100, score=0.9084302325581395, total=   1.3s\n",
      "[CV] criterion=gini, max_depth=6, max_features=sqrt, n_estimators=500 \n",
      "[CV]  criterion=gini, max_depth=6, max_features=auto, n_estimators=1000, score=0.9276410998552822, total=  11.7s\n",
      "[CV] criterion=gini, max_depth=6, max_features=sqrt, n_estimators=500 \n"
     ]
    },
    {
     "name": "stderr",
     "output_type": "stream",
     "text": [
      "[Parallel(n_jobs=-1)]: Done  64 tasks      | elapsed:  1.5min\n"
     ]
    },
    {
     "name": "stdout",
     "output_type": "stream",
     "text": [
      "[CV]  criterion=gini, max_depth=6, max_features=sqrt, n_estimators=500, score=0.9137931034482759, total=   5.6s\n",
      "[CV] criterion=gini, max_depth=6, max_features=sqrt, n_estimators=500 \n",
      "[CV]  criterion=gini, max_depth=6, max_features=sqrt, n_estimators=500, score=0.9321789321789322, total=   5.9s\n",
      "[CV] criterion=gini, max_depth=6, max_features=sqrt, n_estimators=500 \n",
      "[CV]  criterion=gini, max_depth=6, max_features=sqrt, n_estimators=500, score=0.9277456647398844, total=   5.9s\n",
      "[CV] criterion=gini, max_depth=6, max_features=sqrt, n_estimators=1000 \n",
      "[CV]  criterion=gini, max_depth=6, max_features=auto, n_estimators=1000, score=0.9215116279069767, total=  11.9s\n",
      "[CV] criterion=gini, max_depth=6, max_features=sqrt, n_estimators=1000 \n",
      "[CV]  criterion=gini, max_depth=6, max_features=sqrt, n_estimators=500, score=0.9247467438494935, total=   5.9s\n",
      "[CV] criterion=gini, max_depth=6, max_features=sqrt, n_estimators=1000 \n",
      "[CV]  criterion=gini, max_depth=6, max_features=sqrt, n_estimators=500, score=0.9156976744186046, total=   5.6s\n",
      "[CV] criterion=gini, max_depth=6, max_features=sqrt, n_estimators=1000 \n",
      "[CV]  criterion=gini, max_depth=6, max_features=sqrt, n_estimators=1000, score=0.9152298850574713, total=  11.3s\n",
      "[CV] criterion=gini, max_depth=6, max_features=sqrt, n_estimators=1000 \n",
      "[CV]  criterion=gini, max_depth=6, max_features=sqrt, n_estimators=1000, score=0.9336219336219336, total=  11.2s\n",
      "[CV] criterion=gini, max_depth=6, max_features=log2, n_estimators=100 \n",
      "[CV]  criterion=gini, max_depth=6, max_features=log2, n_estimators=100, score=0.8491379310344828, total=   0.8s\n",
      "[CV] criterion=gini, max_depth=6, max_features=log2, n_estimators=100 \n",
      "[CV]  criterion=gini, max_depth=6, max_features=log2, n_estimators=100, score=0.8831168831168831, total=   0.9s\n",
      "[CV] criterion=gini, max_depth=6, max_features=log2, n_estimators=100 \n",
      "[CV]  criterion=gini, max_depth=6, max_features=log2, n_estimators=100, score=0.8410404624277457, total=   0.8s\n",
      "[CV] criterion=gini, max_depth=6, max_features=log2, n_estimators=100 \n",
      "[CV]  criterion=gini, max_depth=6, max_features=log2, n_estimators=100, score=0.8393632416787264, total=   0.9s\n",
      "[CV] criterion=gini, max_depth=6, max_features=log2, n_estimators=100 \n",
      "[CV]  criterion=gini, max_depth=6, max_features=log2, n_estimators=100, score=0.8372093023255814, total=   1.0s\n",
      "[CV] criterion=gini, max_depth=6, max_features=log2, n_estimators=500 \n",
      "[CV]  criterion=gini, max_depth=6, max_features=sqrt, n_estimators=1000, score=0.9263005780346821, total=  11.8s\n",
      "[CV] criterion=gini, max_depth=6, max_features=log2, n_estimators=500 \n"
     ]
    },
    {
     "name": "stderr",
     "output_type": "stream",
     "text": [
      "[Parallel(n_jobs=-1)]: Done  77 tasks      | elapsed:  1.9min\n"
     ]
    },
    {
     "name": "stdout",
     "output_type": "stream",
     "text": [
      "[CV]  criterion=gini, max_depth=6, max_features=sqrt, n_estimators=1000, score=0.9276410998552822, total=  11.8s\n",
      "[CV] criterion=gini, max_depth=6, max_features=log2, n_estimators=500 \n",
      "[CV]  criterion=gini, max_depth=6, max_features=log2, n_estimators=500, score=0.8548850574712644, total=   4.3s\n",
      "[CV] criterion=gini, max_depth=6, max_features=log2, n_estimators=500 \n",
      "[CV]  criterion=gini, max_depth=6, max_features=log2, n_estimators=500, score=0.873015873015873, total=   4.4s\n",
      "[CV] criterion=gini, max_depth=6, max_features=log2, n_estimators=500 \n",
      "[CV]  criterion=gini, max_depth=6, max_features=log2, n_estimators=500, score=0.8453757225433526, total=   4.3s\n",
      "[CV] criterion=gini, max_depth=6, max_features=log2, n_estimators=1000 \n",
      "[CV]  criterion=gini, max_depth=6, max_features=sqrt, n_estimators=1000, score=0.9215116279069767, total=  11.7s\n",
      "[CV] criterion=gini, max_depth=6, max_features=log2, n_estimators=1000 \n",
      "[CV]  criterion=gini, max_depth=6, max_features=log2, n_estimators=500, score=0.8480463096960926, total=   4.3s\n",
      "[CV] criterion=gini, max_depth=6, max_features=log2, n_estimators=1000 \n",
      "[CV]  criterion=gini, max_depth=6, max_features=log2, n_estimators=500, score=0.8517441860465116, total=   4.2s\n",
      "[CV] criterion=gini, max_depth=6, max_features=log2, n_estimators=1000 \n",
      "[CV]  criterion=gini, max_depth=6, max_features=log2, n_estimators=1000, score=0.8505747126436781, total=   8.8s\n",
      "[CV] criterion=gini, max_depth=6, max_features=log2, n_estimators=1000 \n",
      "[CV]  criterion=gini, max_depth=6, max_features=log2, n_estimators=1000, score=0.8658008658008658, total=   8.6s\n",
      "[CV] criterion=entropy, max_depth=4, max_features=auto, n_estimators=100 \n",
      "[CV]  criterion=entropy, max_depth=4, max_features=auto, n_estimators=100, score=0.8735632183908046, total=   1.5s\n",
      "[CV] criterion=entropy, max_depth=4, max_features=auto, n_estimators=100 \n",
      "[CV]  criterion=gini, max_depth=6, max_features=log2, n_estimators=1000, score=0.8437047756874095, total=   8.6s\n",
      "[CV] criterion=entropy, max_depth=4, max_features=auto, n_estimators=100 \n",
      "[CV]  criterion=gini, max_depth=6, max_features=log2, n_estimators=1000, score=0.8554913294797688, total=   8.9s\n",
      "[CV] criterion=entropy, max_depth=4, max_features=auto, n_estimators=100 \n"
     ]
    },
    {
     "name": "stderr",
     "output_type": "stream",
     "text": [
      "[Parallel(n_jobs=-1)]: Done  90 tasks      | elapsed:  2.2min\n"
     ]
    },
    {
     "name": "stdout",
     "output_type": "stream",
     "text": [
      "[CV]  criterion=entropy, max_depth=4, max_features=auto, n_estimators=100, score=0.8975468975468975, total=   1.7s\n",
      "[CV] criterion=entropy, max_depth=4, max_features=auto, n_estimators=100 \n",
      "[CV]  criterion=entropy, max_depth=4, max_features=auto, n_estimators=100, score=0.8901734104046243, total=   1.5s\n",
      "[CV] criterion=entropy, max_depth=4, max_features=auto, n_estimators=500 \n",
      "[CV]  criterion=entropy, max_depth=4, max_features=auto, n_estimators=100, score=0.8769898697539797, total=   1.6s\n",
      "[CV] criterion=entropy, max_depth=4, max_features=auto, n_estimators=500 \n",
      "[CV]  criterion=entropy, max_depth=4, max_features=auto, n_estimators=100, score=0.8837209302325582, total=   1.5s\n",
      "[CV] criterion=entropy, max_depth=4, max_features=auto, n_estimators=500 \n",
      "[CV]  criterion=gini, max_depth=6, max_features=log2, n_estimators=1000, score=0.8459302325581395, total=   8.7s\n",
      "[CV] criterion=entropy, max_depth=4, max_features=auto, n_estimators=500 \n",
      "[CV]  criterion=entropy, max_depth=4, max_features=auto, n_estimators=500, score=0.8836206896551724, total=   7.4s\n",
      "[CV] criterion=entropy, max_depth=4, max_features=auto, n_estimators=500 \n",
      "[CV]  criterion=entropy, max_depth=4, max_features=auto, n_estimators=500, score=0.8975468975468975, total=   7.3s\n",
      "[CV] criterion=entropy, max_depth=4, max_features=auto, n_estimators=1000 \n",
      "[CV]  criterion=entropy, max_depth=4, max_features=auto, n_estimators=500, score=0.8872832369942196, total=   7.4s\n",
      "[CV] criterion=entropy, max_depth=4, max_features=auto, n_estimators=1000 \n",
      "[CV]  criterion=entropy, max_depth=4, max_features=auto, n_estimators=500, score=0.8885672937771346, total=   7.4s\n",
      "[CV] criterion=entropy, max_depth=4, max_features=auto, n_estimators=1000 \n",
      "[CV]  criterion=entropy, max_depth=4, max_features=auto, n_estimators=500, score=0.8880813953488372, total=   7.7s\n",
      "[CV] criterion=entropy, max_depth=4, max_features=auto, n_estimators=1000 \n",
      "[CV]  criterion=entropy, max_depth=4, max_features=auto, n_estimators=1000, score=0.8836206896551724, total=  15.1s\n",
      "[CV] criterion=entropy, max_depth=4, max_features=auto, n_estimators=1000 \n",
      "[CV]  criterion=entropy, max_depth=4, max_features=auto, n_estimators=1000, score=0.8975468975468975, total=  14.8s\n",
      "[CV] criterion=entropy, max_depth=4, max_features=sqrt, n_estimators=100 \n",
      "[CV]  criterion=entropy, max_depth=4, max_features=sqrt, n_estimators=100, score=0.8735632183908046, total=   1.4s\n",
      "[CV] criterion=entropy, max_depth=4, max_features=sqrt, n_estimators=100 \n",
      "[CV]  criterion=entropy, max_depth=4, max_features=auto, n_estimators=1000, score=0.8858381502890174, total=  15.1s\n",
      "[CV] criterion=entropy, max_depth=4, max_features=sqrt, n_estimators=100 \n",
      "[CV]  criterion=entropy, max_depth=4, max_features=sqrt, n_estimators=100, score=0.8975468975468975, total=   1.5s\n",
      "[CV] criterion=entropy, max_depth=4, max_features=sqrt, n_estimators=100 \n"
     ]
    },
    {
     "name": "stderr",
     "output_type": "stream",
     "text": [
      "[Parallel(n_jobs=-1)]: Done 105 tasks      | elapsed:  2.7min\n"
     ]
    },
    {
     "name": "stdout",
     "output_type": "stream",
     "text": [
      "[CV]  criterion=entropy, max_depth=4, max_features=sqrt, n_estimators=100, score=0.8901734104046243, total=   1.6s\n",
      "[CV] criterion=entropy, max_depth=4, max_features=sqrt, n_estimators=100 \n",
      "[CV]  criterion=entropy, max_depth=4, max_features=sqrt, n_estimators=100, score=0.8769898697539797, total=   1.6s\n",
      "[CV] criterion=entropy, max_depth=4, max_features=sqrt, n_estimators=500 \n",
      "[CV]  criterion=entropy, max_depth=4, max_features=sqrt, n_estimators=100, score=0.8837209302325582, total=   1.7s\n",
      "[CV] criterion=entropy, max_depth=4, max_features=sqrt, n_estimators=500 \n",
      "[CV]  criterion=entropy, max_depth=4, max_features=auto, n_estimators=1000, score=0.8871201157742402, total=  15.4s\n",
      "[CV] criterion=entropy, max_depth=4, max_features=sqrt, n_estimators=500 \n",
      "[CV]  criterion=entropy, max_depth=4, max_features=sqrt, n_estimators=500, score=0.8836206896551724, total=   9.9s\n",
      "[CV] criterion=entropy, max_depth=4, max_features=sqrt, n_estimators=500 \n",
      "[CV]  criterion=entropy, max_depth=4, max_features=sqrt, n_estimators=500, score=0.8975468975468975, total=  10.4s\n",
      "[CV] criterion=entropy, max_depth=4, max_features=sqrt, n_estimators=500 \n",
      "[CV]  criterion=entropy, max_depth=4, max_features=auto, n_estimators=1000, score=0.8866279069767442, total=  18.7s\n",
      "[CV] criterion=entropy, max_depth=4, max_features=sqrt, n_estimators=1000 \n",
      "[CV]  criterion=entropy, max_depth=4, max_features=sqrt, n_estimators=500, score=0.8872832369942196, total=  11.2s\n",
      "[CV] criterion=entropy, max_depth=4, max_features=sqrt, n_estimators=1000 \n",
      "[CV]  criterion=entropy, max_depth=4, max_features=sqrt, n_estimators=500, score=0.8885672937771346, total=   9.8s\n",
      "[CV] criterion=entropy, max_depth=4, max_features=sqrt, n_estimators=1000 \n",
      "[CV]  criterion=entropy, max_depth=4, max_features=sqrt, n_estimators=500, score=0.8880813953488372, total=   9.1s\n",
      "[CV] criterion=entropy, max_depth=4, max_features=sqrt, n_estimators=1000 \n",
      "[CV]  criterion=entropy, max_depth=4, max_features=sqrt, n_estimators=1000, score=0.8836206896551724, total=  15.8s\n",
      "[CV] criterion=entropy, max_depth=4, max_features=sqrt, n_estimators=1000 \n",
      "[CV]  criterion=entropy, max_depth=4, max_features=sqrt, n_estimators=1000, score=0.8975468975468975, total=  15.6s\n",
      "[CV] criterion=entropy, max_depth=4, max_features=log2, n_estimators=100 \n",
      "[CV]  criterion=entropy, max_depth=4, max_features=log2, n_estimators=100, score=0.8232758620689655, total=   1.1s\n",
      "[CV] criterion=entropy, max_depth=4, max_features=log2, n_estimators=100 \n",
      "[CV]  criterion=entropy, max_depth=4, max_features=log2, n_estimators=100, score=0.823953823953824, total=   1.1s\n",
      "[CV] criterion=entropy, max_depth=4, max_features=log2, n_estimators=100 \n",
      "[CV]  criterion=entropy, max_depth=4, max_features=log2, n_estimators=100, score=0.8265895953757225, total=   1.2s\n",
      "[CV] criterion=entropy, max_depth=4, max_features=log2, n_estimators=100 \n"
     ]
    },
    {
     "name": "stderr",
     "output_type": "stream",
     "text": [
      "[Parallel(n_jobs=-1)]: Done 120 tasks      | elapsed:  3.3min\n"
     ]
    },
    {
     "name": "stdout",
     "output_type": "stream",
     "text": [
      "[CV]  criterion=entropy, max_depth=4, max_features=log2, n_estimators=100, score=0.8118668596237337, total=   1.2s\n",
      "[CV] criterion=entropy, max_depth=4, max_features=log2, n_estimators=100 \n",
      "[CV]  criterion=entropy, max_depth=4, max_features=sqrt, n_estimators=1000, score=0.8858381502890174, total=  15.1s\n",
      "[CV] criterion=entropy, max_depth=4, max_features=log2, n_estimators=500 \n",
      "[CV]  criterion=entropy, max_depth=4, max_features=log2, n_estimators=100, score=0.8052325581395349, total=   1.4s\n",
      "[CV] criterion=entropy, max_depth=4, max_features=log2, n_estimators=500 \n",
      "[CV]  criterion=entropy, max_depth=4, max_features=sqrt, n_estimators=1000, score=0.8871201157742402, total=  15.4s\n",
      "[CV] criterion=entropy, max_depth=4, max_features=log2, n_estimators=500 \n",
      "[CV]  criterion=entropy, max_depth=4, max_features=log2, n_estimators=500, score=0.8290229885057471, total=   5.4s\n",
      "[CV] criterion=entropy, max_depth=4, max_features=log2, n_estimators=500 \n",
      "[CV]  criterion=entropy, max_depth=4, max_features=log2, n_estimators=500, score=0.8528138528138528, total=   5.1s\n",
      "[CV] criterion=entropy, max_depth=4, max_features=log2, n_estimators=500 \n",
      "[CV]  criterion=entropy, max_depth=4, max_features=log2, n_estimators=500, score=0.8367052023121387, total=   5.2s\n",
      "[CV] criterion=entropy, max_depth=4, max_features=log2, n_estimators=1000 \n",
      "[CV]  criterion=entropy, max_depth=4, max_features=sqrt, n_estimators=1000, score=0.8866279069767442, total=  15.9s\n",
      "[CV] criterion=entropy, max_depth=4, max_features=log2, n_estimators=1000 \n",
      "[CV]  criterion=entropy, max_depth=4, max_features=log2, n_estimators=500, score=0.808972503617945, total=   5.3s\n",
      "[CV] criterion=entropy, max_depth=4, max_features=log2, n_estimators=1000 \n",
      "[CV]  criterion=entropy, max_depth=4, max_features=log2, n_estimators=500, score=0.8197674418604651, total=   5.2s\n",
      "[CV] criterion=entropy, max_depth=4, max_features=log2, n_estimators=1000 \n",
      "[CV]  criterion=entropy, max_depth=4, max_features=log2, n_estimators=1000, score=0.8304597701149425, total=  10.9s\n",
      "[CV] criterion=entropy, max_depth=4, max_features=log2, n_estimators=1000 \n",
      "[CV]  criterion=entropy, max_depth=4, max_features=log2, n_estimators=1000, score=0.8528138528138528, total=  11.0s\n",
      "[CV] criterion=entropy, max_depth=6, max_features=auto, n_estimators=100 \n",
      "[CV]  criterion=entropy, max_depth=4, max_features=log2, n_estimators=1000, score=0.8338150289017341, total=  11.3s\n",
      "[CV] criterion=entropy, max_depth=6, max_features=auto, n_estimators=100 \n",
      "[CV]  criterion=entropy, max_depth=4, max_features=log2, n_estimators=1000, score=0.8162083936324168, total=  11.1s\n",
      "[CV] criterion=entropy, max_depth=6, max_features=auto, n_estimators=100 \n",
      "[CV]  criterion=entropy, max_depth=6, max_features=auto, n_estimators=100, score=0.9339080459770115, total=   2.5s\n",
      "[CV] criterion=entropy, max_depth=6, max_features=auto, n_estimators=100 \n",
      "[CV]  criterion=entropy, max_depth=6, max_features=auto, n_estimators=100, score=0.9466089466089466, total=   2.6s\n",
      "[CV] criterion=entropy, max_depth=6, max_features=auto, n_estimators=100 \n",
      "[CV]  criterion=entropy, max_depth=6, max_features=auto, n_estimators=100, score=0.9407514450867052, total=   2.1s\n",
      "[CV] criterion=entropy, max_depth=6, max_features=auto, n_estimators=500 \n"
     ]
    },
    {
     "name": "stderr",
     "output_type": "stream",
     "text": [
      "[Parallel(n_jobs=-1)]: Done 137 tasks      | elapsed:  3.8min\n"
     ]
    },
    {
     "name": "stdout",
     "output_type": "stream",
     "text": [
      "[CV]  criterion=entropy, max_depth=6, max_features=auto, n_estimators=100, score=0.9261939218523878, total=   2.1s\n",
      "[CV] criterion=entropy, max_depth=6, max_features=auto, n_estimators=500 \n",
      "[CV]  criterion=entropy, max_depth=6, max_features=auto, n_estimators=100, score=0.9302325581395349, total=   2.0s\n",
      "[CV] criterion=entropy, max_depth=6, max_features=auto, n_estimators=500 \n",
      "[CV]  criterion=entropy, max_depth=4, max_features=log2, n_estimators=1000, score=0.8212209302325582, total=  11.3s\n",
      "[CV] criterion=entropy, max_depth=6, max_features=auto, n_estimators=500 \n",
      "[CV]  criterion=entropy, max_depth=6, max_features=auto, n_estimators=500, score=0.9353448275862069, total=   9.9s\n",
      "[CV] criterion=entropy, max_depth=6, max_features=auto, n_estimators=500 \n",
      "[CV]  criterion=entropy, max_depth=6, max_features=auto, n_estimators=500, score=0.948051948051948, total=  10.0s\n",
      "[CV] criterion=entropy, max_depth=6, max_features=auto, n_estimators=1000 \n",
      "[CV]  criterion=entropy, max_depth=6, max_features=auto, n_estimators=500, score=0.9436416184971098, total=  10.4s\n",
      "[CV] criterion=entropy, max_depth=6, max_features=auto, n_estimators=1000 \n",
      "[CV]  criterion=entropy, max_depth=6, max_features=auto, n_estimators=500, score=0.9392185238784371, total=  10.4s\n",
      "[CV] criterion=entropy, max_depth=6, max_features=auto, n_estimators=1000 \n",
      "[CV]  criterion=entropy, max_depth=6, max_features=auto, n_estimators=500, score=0.936046511627907, total=  10.9s\n",
      "[CV] criterion=entropy, max_depth=6, max_features=auto, n_estimators=1000 \n",
      "[CV]  criterion=entropy, max_depth=6, max_features=auto, n_estimators=1000, score=0.9382183908045977, total=  21.0s\n",
      "[CV] criterion=entropy, max_depth=6, max_features=auto, n_estimators=1000 \n",
      "[CV]  criterion=entropy, max_depth=6, max_features=auto, n_estimators=1000, score=0.9437229437229437, total=  21.4s\n",
      "[CV] criterion=entropy, max_depth=6, max_features=sqrt, n_estimators=100 \n",
      "[CV]  criterion=entropy, max_depth=6, max_features=sqrt, n_estimators=100, score=0.9339080459770115, total=   2.0s\n",
      "[CV] criterion=entropy, max_depth=6, max_features=sqrt, n_estimators=100 \n",
      "[CV]  criterion=entropy, max_depth=6, max_features=auto, n_estimators=1000, score=0.9508670520231214, total=  21.1s\n",
      "[CV] criterion=entropy, max_depth=6, max_features=sqrt, n_estimators=100 \n",
      "[CV]  criterion=entropy, max_depth=6, max_features=sqrt, n_estimators=100, score=0.9466089466089466, total=   2.4s\n",
      "[CV] criterion=entropy, max_depth=6, max_features=sqrt, n_estimators=100 \n",
      "[CV]  criterion=entropy, max_depth=6, max_features=sqrt, n_estimators=100, score=0.9407514450867052, total=   2.5s\n",
      "[CV] criterion=entropy, max_depth=6, max_features=sqrt, n_estimators=100 \n",
      "[CV]  criterion=entropy, max_depth=6, max_features=sqrt, n_estimators=100, score=0.9261939218523878, total=   2.3s\n",
      "[CV] criterion=entropy, max_depth=6, max_features=sqrt, n_estimators=500 \n",
      "[CV]  criterion=entropy, max_depth=6, max_features=sqrt, n_estimators=100, score=0.9302325581395349, total=   2.2s\n",
      "[CV] criterion=entropy, max_depth=6, max_features=sqrt, n_estimators=500 \n",
      "[CV]  criterion=entropy, max_depth=6, max_features=auto, n_estimators=1000, score=0.9450072358900145, total=  21.7s\n",
      "[CV] criterion=entropy, max_depth=6, max_features=sqrt, n_estimators=500 \n"
     ]
    },
    {
     "name": "stderr",
     "output_type": "stream",
     "text": [
      "[Parallel(n_jobs=-1)]: Done 154 tasks      | elapsed:  4.5min\n"
     ]
    },
    {
     "name": "stdout",
     "output_type": "stream",
     "text": [
      "[CV]  criterion=entropy, max_depth=6, max_features=sqrt, n_estimators=500, score=0.9353448275862069, total=  10.5s\n",
      "[CV] criterion=entropy, max_depth=6, max_features=sqrt, n_estimators=500 \n",
      "[CV]  criterion=entropy, max_depth=6, max_features=sqrt, n_estimators=500, score=0.948051948051948, total=  10.8s\n",
      "[CV] criterion=entropy, max_depth=6, max_features=sqrt, n_estimators=500 \n",
      "[CV]  criterion=entropy, max_depth=6, max_features=sqrt, n_estimators=500, score=0.9436416184971098, total=  10.7s\n",
      "[CV] criterion=entropy, max_depth=6, max_features=sqrt, n_estimators=1000 \n",
      "[CV]  criterion=entropy, max_depth=6, max_features=auto, n_estimators=1000, score=0.9433139534883721, total=  21.5s\n",
      "[CV] criterion=entropy, max_depth=6, max_features=sqrt, n_estimators=1000 \n",
      "[CV]  criterion=entropy, max_depth=6, max_features=sqrt, n_estimators=500, score=0.9392185238784371, total=  10.4s\n",
      "[CV] criterion=entropy, max_depth=6, max_features=sqrt, n_estimators=1000 \n",
      "[CV]  criterion=entropy, max_depth=6, max_features=sqrt, n_estimators=500, score=0.936046511627907, total=  10.0s\n",
      "[CV] criterion=entropy, max_depth=6, max_features=sqrt, n_estimators=1000 \n",
      "[CV]  criterion=entropy, max_depth=6, max_features=sqrt, n_estimators=1000, score=0.9382183908045977, total=  19.0s\n",
      "[CV] criterion=entropy, max_depth=6, max_features=sqrt, n_estimators=1000 \n",
      "[CV]  criterion=entropy, max_depth=6, max_features=sqrt, n_estimators=1000, score=0.9437229437229437, total=  19.1s\n",
      "[CV] criterion=entropy, max_depth=6, max_features=log2, n_estimators=100 \n",
      "[CV]  criterion=entropy, max_depth=6, max_features=log2, n_estimators=100, score=0.867816091954023, total=   1.2s\n",
      "[CV] criterion=entropy, max_depth=6, max_features=log2, n_estimators=100 \n",
      "[CV]  criterion=entropy, max_depth=6, max_features=log2, n_estimators=100, score=0.8686868686868687, total=   1.3s\n",
      "[CV] criterion=entropy, max_depth=6, max_features=log2, n_estimators=100 \n",
      "[CV]  criterion=entropy, max_depth=6, max_features=log2, n_estimators=100, score=0.869942196531792, total=   1.3s\n",
      "[CV] criterion=entropy, max_depth=6, max_features=log2, n_estimators=100 \n",
      "[CV]  criterion=entropy, max_depth=6, max_features=log2, n_estimators=100, score=0.8610709117221418, total=   1.3s\n",
      "[CV] criterion=entropy, max_depth=6, max_features=log2, n_estimators=100 \n",
      "[CV]  criterion=entropy, max_depth=6, max_features=sqrt, n_estimators=1000, score=0.9508670520231214, total=  18.9s\n",
      "[CV]  criterion=entropy, max_depth=6, max_features=log2, n_estimators=100, score=0.8604651162790697, total=   1.4s\n",
      "[CV] criterion=entropy, max_depth=6, max_features=log2, n_estimators=500 \n",
      "[CV] criterion=entropy, max_depth=6, max_features=log2, n_estimators=500 \n",
      "[CV]  criterion=entropy, max_depth=6, max_features=sqrt, n_estimators=1000, score=0.9450072358900145, total=  19.1s\n",
      "[CV] criterion=entropy, max_depth=6, max_features=log2, n_estimators=500 \n",
      "[CV]  criterion=entropy, max_depth=6, max_features=log2, n_estimators=500, score=0.886002886002886, total=   6.3s\n",
      "[CV] criterion=entropy, max_depth=6, max_features=log2, n_estimators=500 \n",
      "[CV]  criterion=entropy, max_depth=6, max_features=log2, n_estimators=500, score=0.8735632183908046, total=   6.4s\n",
      "[CV] criterion=entropy, max_depth=6, max_features=log2, n_estimators=500 \n",
      "[CV]  criterion=entropy, max_depth=6, max_features=log2, n_estimators=500, score=0.8728323699421965, total=   6.7s\n",
      "[CV] criterion=entropy, max_depth=6, max_features=log2, n_estimators=1000 \n",
      "[CV]  criterion=entropy, max_depth=6, max_features=sqrt, n_estimators=1000, score=0.9433139534883721, total=  19.6s\n",
      "[CV] criterion=entropy, max_depth=6, max_features=log2, n_estimators=1000 \n"
     ]
    },
    {
     "name": "stderr",
     "output_type": "stream",
     "text": [
      "[Parallel(n_jobs=-1)]: Done 173 tasks      | elapsed:  5.4min\n"
     ]
    },
    {
     "name": "stdout",
     "output_type": "stream",
     "text": [
      "[CV]  criterion=entropy, max_depth=6, max_features=log2, n_estimators=500, score=0.8625180897250362, total=   6.5s\n",
      "[CV]  criterion=entropy, max_depth=6, max_features=log2, n_estimators=500, score=0.872093023255814, total=   6.4s\n",
      "[CV] criterion=entropy, max_depth=6, max_features=log2, n_estimators=1000 \n",
      "[CV] criterion=entropy, max_depth=6, max_features=log2, n_estimators=1000 \n",
      "[CV]  criterion=entropy, max_depth=6, max_features=log2, n_estimators=1000, score=0.8706896551724138, total=  12.6s\n",
      "[CV] criterion=entropy, max_depth=6, max_features=log2, n_estimators=1000 \n",
      "[CV]  criterion=entropy, max_depth=6, max_features=log2, n_estimators=1000, score=0.8845598845598845, total=  13.0s\n",
      "[CV]  criterion=entropy, max_depth=6, max_features=log2, n_estimators=1000, score=0.8786127167630058, total=  13.1s\n",
      "[CV]  criterion=entropy, max_depth=6, max_features=log2, n_estimators=1000, score=0.8668596237337193, total=  13.0s\n",
      "[CV]  criterion=entropy, max_depth=6, max_features=log2, n_estimators=1000, score=0.8691860465116279, total=  10.0s\n"
     ]
    },
    {
     "name": "stderr",
     "output_type": "stream",
     "text": [
      "[Parallel(n_jobs=-1)]: Done 180 out of 180 | elapsed:  5.7min finished\n"
     ]
    },
    {
     "name": "stdout",
     "output_type": "stream",
     "text": [
      "Fitting 5 folds for each of 36 candidates, totalling 180 fits\n"
     ]
    },
    {
     "name": "stderr",
     "output_type": "stream",
     "text": [
      "/Users/miljanstojiljkovic/anaconda3/lib/python3.6/site-packages/sklearn/model_selection/_split.py:605: Warning: The least populated class in y has only 2 members, which is too few. The minimum number of members in any class cannot be less than n_splits=5.\n",
      "  % (min_groups, self.n_splits)), Warning)\n"
     ]
    },
    {
     "name": "stdout",
     "output_type": "stream",
     "text": [
      "[CV] criterion=gini, max_depth=4, max_features=auto, n_estimators=100 \n",
      "[CV] criterion=gini, max_depth=4, max_features=auto, n_estimators=100 \n",
      "[CV] criterion=gini, max_depth=4, max_features=auto, n_estimators=100 \n",
      "[CV] criterion=gini, max_depth=4, max_features=auto, n_estimators=100 \n",
      "[CV]  criterion=gini, max_depth=4, max_features=auto, n_estimators=100, score=0.8958051420838972, total=   0.9s\n",
      "[CV] criterion=gini, max_depth=4, max_features=auto, n_estimators=100 \n",
      "[CV]  criterion=gini, max_depth=4, max_features=auto, n_estimators=100, score=0.8926630434782609, total=   1.0s\n",
      "[CV]  criterion=gini, max_depth=4, max_features=auto, n_estimators=100, score=0.8971583220568335, total=   1.0s\n",
      "[CV] criterion=gini, max_depth=4, max_features=auto, n_estimators=500 \n",
      "[CV] criterion=gini, max_depth=4, max_features=auto, n_estimators=500 \n",
      "[CV]  criterion=gini, max_depth=4, max_features=auto, n_estimators=100, score=0.8828337874659401, total=   1.0s\n",
      "[CV] criterion=gini, max_depth=4, max_features=auto, n_estimators=500 \n",
      "[CV]  criterion=gini, max_depth=4, max_features=auto, n_estimators=100, score=0.888283378746594, total=   0.9s\n",
      "[CV] criterion=gini, max_depth=4, max_features=auto, n_estimators=500 \n"
     ]
    },
    {
     "name": "stderr",
     "output_type": "stream",
     "text": [
      "[Parallel(n_jobs=-1)]: Done   5 tasks      | elapsed:    2.2s\n"
     ]
    },
    {
     "name": "stdout",
     "output_type": "stream",
     "text": [
      "[CV]  criterion=gini, max_depth=4, max_features=auto, n_estimators=500, score=0.8971583220568335, total=   4.9s\n",
      "[CV] criterion=gini, max_depth=4, max_features=auto, n_estimators=500 \n",
      "[CV]  criterion=gini, max_depth=4, max_features=auto, n_estimators=500, score=0.8836265223274695, total=   4.9s\n",
      "[CV] criterion=gini, max_depth=4, max_features=auto, n_estimators=1000 \n",
      "[CV]  criterion=gini, max_depth=4, max_features=auto, n_estimators=500, score=0.8940217391304348, total=   4.9s\n",
      "[CV] criterion=gini, max_depth=4, max_features=auto, n_estimators=1000 \n",
      "[CV]  criterion=gini, max_depth=4, max_features=auto, n_estimators=500, score=0.8705722070844687, total=   5.1s\n",
      "[CV] criterion=gini, max_depth=4, max_features=auto, n_estimators=1000 \n",
      "[CV]  criterion=gini, max_depth=4, max_features=auto, n_estimators=500, score=0.8841961852861036, total=   4.8s\n",
      "[CV] criterion=gini, max_depth=4, max_features=auto, n_estimators=1000 \n"
     ]
    },
    {
     "name": "stderr",
     "output_type": "stream",
     "text": [
      "[Parallel(n_jobs=-1)]: Done  10 tasks      | elapsed:   11.7s\n"
     ]
    },
    {
     "name": "stdout",
     "output_type": "stream",
     "text": [
      "[CV]  criterion=gini, max_depth=4, max_features=auto, n_estimators=1000, score=0.8890392422192152, total=   9.8s\n",
      "[CV] criterion=gini, max_depth=4, max_features=auto, n_estimators=1000 \n",
      "[CV]  criterion=gini, max_depth=4, max_features=auto, n_estimators=1000, score=0.8768606224627875, total=   9.9s\n",
      "[CV] criterion=gini, max_depth=4, max_features=sqrt, n_estimators=100 \n",
      "[CV]  criterion=gini, max_depth=4, max_features=auto, n_estimators=1000, score=0.8885869565217391, total=   9.9s\n",
      "[CV] criterion=gini, max_depth=4, max_features=sqrt, n_estimators=100 \n",
      "[CV]  criterion=gini, max_depth=4, max_features=sqrt, n_estimators=100, score=0.8958051420838972, total=   1.0s\n",
      "[CV] criterion=gini, max_depth=4, max_features=sqrt, n_estimators=100 \n",
      "[CV]  criterion=gini, max_depth=4, max_features=sqrt, n_estimators=100, score=0.8971583220568335, total=   0.9s\n",
      "[CV] criterion=gini, max_depth=4, max_features=sqrt, n_estimators=100 \n",
      "[CV]  criterion=gini, max_depth=4, max_features=sqrt, n_estimators=100, score=0.8926630434782609, total=   0.9s\n",
      "[CV] criterion=gini, max_depth=4, max_features=sqrt, n_estimators=100 \n",
      "[CV]  criterion=gini, max_depth=4, max_features=sqrt, n_estimators=100, score=0.8828337874659401, total=   1.1s\n",
      "[CV] criterion=gini, max_depth=4, max_features=sqrt, n_estimators=500 \n",
      "[CV]  criterion=gini, max_depth=4, max_features=sqrt, n_estimators=100, score=0.888283378746594, total=   1.1s\n",
      "[CV] criterion=gini, max_depth=4, max_features=sqrt, n_estimators=500 \n"
     ]
    },
    {
     "name": "stderr",
     "output_type": "stream",
     "text": [
      "[Parallel(n_jobs=-1)]: Done  17 tasks      | elapsed:   20.9s\n"
     ]
    },
    {
     "name": "stdout",
     "output_type": "stream",
     "text": [
      "[CV]  criterion=gini, max_depth=4, max_features=auto, n_estimators=1000, score=0.8678474114441417, total=   9.9s\n",
      "[CV] criterion=gini, max_depth=4, max_features=sqrt, n_estimators=500 \n",
      "[CV]  criterion=gini, max_depth=4, max_features=sqrt, n_estimators=500, score=0.8836265223274695, total=   5.4s\n",
      "[CV] criterion=gini, max_depth=4, max_features=sqrt, n_estimators=500 \n",
      "[CV]  criterion=gini, max_depth=4, max_features=sqrt, n_estimators=500, score=0.8971583220568335, total=   5.6s\n",
      "[CV] criterion=gini, max_depth=4, max_features=sqrt, n_estimators=500 \n",
      "[CV]  criterion=gini, max_depth=4, max_features=sqrt, n_estimators=500, score=0.8940217391304348, total=   5.7s\n",
      "[CV] criterion=gini, max_depth=4, max_features=sqrt, n_estimators=1000 \n",
      "[CV]  criterion=gini, max_depth=4, max_features=auto, n_estimators=1000, score=0.8787465940054496, total=  10.8s\n",
      "[CV] criterion=gini, max_depth=4, max_features=sqrt, n_estimators=1000 \n",
      "[CV]  criterion=gini, max_depth=4, max_features=sqrt, n_estimators=500, score=0.8705722070844687, total=   6.7s\n",
      "[CV] criterion=gini, max_depth=4, max_features=sqrt, n_estimators=1000 \n",
      "[CV]  criterion=gini, max_depth=4, max_features=sqrt, n_estimators=500, score=0.8841961852861036, total=   6.6s\n",
      "[CV] criterion=gini, max_depth=4, max_features=sqrt, n_estimators=1000 \n"
     ]
    },
    {
     "name": "stderr",
     "output_type": "stream",
     "text": [
      "[Parallel(n_jobs=-1)]: Done  24 tasks      | elapsed:   34.2s\n"
     ]
    },
    {
     "name": "stdout",
     "output_type": "stream",
     "text": [
      "[CV]  criterion=gini, max_depth=4, max_features=sqrt, n_estimators=1000, score=0.8890392422192152, total=  11.8s\n",
      "[CV] criterion=gini, max_depth=4, max_features=sqrt, n_estimators=1000 \n",
      "[CV]  criterion=gini, max_depth=4, max_features=sqrt, n_estimators=1000, score=0.8768606224627875, total=  11.9s\n",
      "[CV] criterion=gini, max_depth=4, max_features=log2, n_estimators=100 \n",
      "[CV]  criterion=gini, max_depth=4, max_features=log2, n_estimators=100, score=0.8173207036535859, total=   0.8s\n",
      "[CV] criterion=gini, max_depth=4, max_features=log2, n_estimators=100 \n",
      "[CV]  criterion=gini, max_depth=4, max_features=log2, n_estimators=100, score=0.8213802435723951, total=   0.8s\n",
      "[CV] criterion=gini, max_depth=4, max_features=log2, n_estimators=100 \n",
      "[CV]  criterion=gini, max_depth=4, max_features=log2, n_estimators=100, score=0.811141304347826, total=   1.2s\n",
      "[CV] criterion=gini, max_depth=4, max_features=log2, n_estimators=100 \n",
      "[CV]  criterion=gini, max_depth=4, max_features=sqrt, n_estimators=1000, score=0.8885869565217391, total=  11.4s\n",
      "[CV] criterion=gini, max_depth=4, max_features=log2, n_estimators=100 \n",
      "[CV]  criterion=gini, max_depth=4, max_features=log2, n_estimators=100, score=0.8065395095367848, total=   0.9s\n",
      "[CV] criterion=gini, max_depth=4, max_features=log2, n_estimators=500 \n",
      "[CV]  criterion=gini, max_depth=4, max_features=sqrt, n_estimators=1000, score=0.8678474114441417, total=  11.5s\n",
      "[CV] criterion=gini, max_depth=4, max_features=log2, n_estimators=500 \n"
     ]
    },
    {
     "name": "stderr",
     "output_type": "stream",
     "text": [
      "[Parallel(n_jobs=-1)]: Done  33 tasks      | elapsed:   46.8s\n"
     ]
    },
    {
     "name": "stdout",
     "output_type": "stream",
     "text": [
      "[CV]  criterion=gini, max_depth=4, max_features=log2, n_estimators=100, score=0.8242506811989101, total=   0.9s\n",
      "[CV] criterion=gini, max_depth=4, max_features=log2, n_estimators=500 \n",
      "[CV]  criterion=gini, max_depth=4, max_features=log2, n_estimators=500, score=0.8389715832205683, total=   3.9s\n",
      "[CV] criterion=gini, max_depth=4, max_features=log2, n_estimators=500 \n",
      "[CV]  criterion=gini, max_depth=4, max_features=log2, n_estimators=500, score=0.8349120433017592, total=   4.2s\n",
      "[CV] criterion=gini, max_depth=4, max_features=log2, n_estimators=500 \n",
      "[CV]  criterion=gini, max_depth=4, max_features=log2, n_estimators=500, score=0.8274456521739131, total=   4.0s\n",
      "[CV] criterion=gini, max_depth=4, max_features=log2, n_estimators=1000 \n",
      "[CV]  criterion=gini, max_depth=4, max_features=sqrt, n_estimators=1000, score=0.8787465940054496, total=  11.3s\n",
      "[CV] criterion=gini, max_depth=4, max_features=log2, n_estimators=1000 \n",
      "[CV]  criterion=gini, max_depth=4, max_features=log2, n_estimators=500, score=0.8228882833787466, total=   4.3s\n",
      "[CV] criterion=gini, max_depth=4, max_features=log2, n_estimators=1000 \n",
      "[CV]  criterion=gini, max_depth=4, max_features=log2, n_estimators=500, score=0.8337874659400545, total=   4.4s\n",
      "[CV] criterion=gini, max_depth=4, max_features=log2, n_estimators=1000 \n",
      "[CV]  criterion=gini, max_depth=4, max_features=log2, n_estimators=1000, score=0.8389715832205683, total=   8.1s\n",
      "[CV] criterion=gini, max_depth=4, max_features=log2, n_estimators=1000 \n",
      "[CV]  criterion=gini, max_depth=4, max_features=log2, n_estimators=1000, score=0.8403247631935047, total=   7.9s\n",
      "[CV] criterion=gini, max_depth=6, max_features=auto, n_estimators=100 \n"
     ]
    },
    {
     "name": "stderr",
     "output_type": "stream",
     "text": [
      "[Parallel(n_jobs=-1)]: Done  42 tasks      | elapsed:  1.1min\n"
     ]
    },
    {
     "name": "stdout",
     "output_type": "stream",
     "text": [
      "[CV]  criterion=gini, max_depth=6, max_features=auto, n_estimators=100, score=0.9350473612990527, total=   1.3s\n",
      "[CV] criterion=gini, max_depth=6, max_features=auto, n_estimators=100 \n",
      "[CV]  criterion=gini, max_depth=4, max_features=log2, n_estimators=1000, score=0.8274456521739131, total=   7.9s\n",
      "[CV] criterion=gini, max_depth=6, max_features=auto, n_estimators=100 \n",
      "[CV]  criterion=gini, max_depth=4, max_features=log2, n_estimators=1000, score=0.8228882833787466, total=   7.8s\n",
      "[CV] criterion=gini, max_depth=6, max_features=auto, n_estimators=100 \n",
      "[CV]  criterion=gini, max_depth=6, max_features=auto, n_estimators=100, score=0.9066305818673883, total=   1.7s\n",
      "[CV] criterion=gini, max_depth=6, max_features=auto, n_estimators=100 \n",
      "[CV]  criterion=gini, max_depth=6, max_features=auto, n_estimators=100, score=0.9334239130434783, total=   1.3s\n",
      "[CV] criterion=gini, max_depth=6, max_features=auto, n_estimators=500 \n",
      "[CV]  criterion=gini, max_depth=6, max_features=auto, n_estimators=100, score=0.9141689373297003, total=   1.3s\n",
      "[CV] criterion=gini, max_depth=6, max_features=auto, n_estimators=500 \n",
      "[CV]  criterion=gini, max_depth=6, max_features=auto, n_estimators=100, score=0.9114441416893733, total=   1.4s\n",
      "[CV] criterion=gini, max_depth=6, max_features=auto, n_estimators=500 \n",
      "[CV]  criterion=gini, max_depth=4, max_features=log2, n_estimators=1000, score=0.837874659400545, total=   8.5s\n",
      "[CV] criterion=gini, max_depth=6, max_features=auto, n_estimators=500 \n",
      "[CV]  criterion=gini, max_depth=6, max_features=auto, n_estimators=500, score=0.9296346414073072, total=   6.6s\n",
      "[CV] criterion=gini, max_depth=6, max_features=auto, n_estimators=500 \n",
      "[CV]  criterion=gini, max_depth=6, max_features=auto, n_estimators=500, score=0.9215155615696887, total=   6.6s\n",
      "[CV] criterion=gini, max_depth=6, max_features=auto, n_estimators=1000 \n",
      "[CV]  criterion=gini, max_depth=6, max_features=auto, n_estimators=500, score=0.938858695652174, total=   6.8s\n",
      "[CV] criterion=gini, max_depth=6, max_features=auto, n_estimators=1000 \n"
     ]
    },
    {
     "name": "stderr",
     "output_type": "stream",
     "text": [
      "[Parallel(n_jobs=-1)]: Done  53 tasks      | elapsed:  1.3min\n"
     ]
    },
    {
     "name": "stdout",
     "output_type": "stream",
     "text": [
      "[CV]  criterion=gini, max_depth=6, max_features=auto, n_estimators=500, score=0.9114441416893733, total=   6.8s\n",
      "[CV] criterion=gini, max_depth=6, max_features=auto, n_estimators=1000 \n",
      "[CV]  criterion=gini, max_depth=6, max_features=auto, n_estimators=500, score=0.9182561307901907, total=   6.4s\n",
      "[CV] criterion=gini, max_depth=6, max_features=auto, n_estimators=1000 \n",
      "[CV]  criterion=gini, max_depth=6, max_features=auto, n_estimators=1000, score=0.9282814614343707, total=  13.2s\n",
      "[CV] criterion=gini, max_depth=6, max_features=auto, n_estimators=1000 \n",
      "[CV]  criterion=gini, max_depth=6, max_features=auto, n_estimators=1000, score=0.9215155615696887, total=  13.4s\n",
      "[CV] criterion=gini, max_depth=6, max_features=sqrt, n_estimators=100 \n",
      "[CV]  criterion=gini, max_depth=6, max_features=sqrt, n_estimators=100, score=0.9350473612990527, total=   1.3s\n",
      "[CV] criterion=gini, max_depth=6, max_features=sqrt, n_estimators=100 \n",
      "[CV]  criterion=gini, max_depth=6, max_features=sqrt, n_estimators=100, score=0.9066305818673883, total=   1.2s\n",
      "[CV] criterion=gini, max_depth=6, max_features=sqrt, n_estimators=100 \n",
      "[CV]  criterion=gini, max_depth=6, max_features=auto, n_estimators=1000, score=0.936141304347826, total=  13.2s\n",
      "[CV] criterion=gini, max_depth=6, max_features=sqrt, n_estimators=100 \n",
      "[CV]  criterion=gini, max_depth=6, max_features=sqrt, n_estimators=100, score=0.9334239130434783, total=   1.3s\n",
      "[CV] criterion=gini, max_depth=6, max_features=sqrt, n_estimators=100 \n",
      "[CV]  criterion=gini, max_depth=6, max_features=sqrt, n_estimators=100, score=0.9141689373297003, total=   1.3s\n",
      "[CV] criterion=gini, max_depth=6, max_features=sqrt, n_estimators=500 \n",
      "[CV]  criterion=gini, max_depth=6, max_features=sqrt, n_estimators=100, score=0.9114441416893733, total=   1.2s\n",
      "[CV] criterion=gini, max_depth=6, max_features=sqrt, n_estimators=500 \n",
      "[CV]  criterion=gini, max_depth=6, max_features=auto, n_estimators=1000, score=0.9114441416893733, total=  13.6s\n",
      "[CV] criterion=gini, max_depth=6, max_features=sqrt, n_estimators=500 \n"
     ]
    },
    {
     "name": "stderr",
     "output_type": "stream",
     "text": [
      "[Parallel(n_jobs=-1)]: Done  64 tasks      | elapsed:  1.6min\n"
     ]
    },
    {
     "name": "stdout",
     "output_type": "stream",
     "text": [
      "[CV]  criterion=gini, max_depth=6, max_features=sqrt, n_estimators=500, score=0.9296346414073072, total=   6.1s\n",
      "[CV] criterion=gini, max_depth=6, max_features=sqrt, n_estimators=500 \n",
      "[CV]  criterion=gini, max_depth=6, max_features=sqrt, n_estimators=500, score=0.9215155615696887, total=   6.0s\n",
      "[CV] criterion=gini, max_depth=6, max_features=sqrt, n_estimators=500 \n",
      "[CV]  criterion=gini, max_depth=6, max_features=auto, n_estimators=1000, score=0.9182561307901907, total=  12.2s\n",
      "[CV] criterion=gini, max_depth=6, max_features=sqrt, n_estimators=1000 \n",
      "[CV]  criterion=gini, max_depth=6, max_features=sqrt, n_estimators=500, score=0.938858695652174, total=   6.1s\n",
      "[CV] criterion=gini, max_depth=6, max_features=sqrt, n_estimators=1000 \n",
      "[CV]  criterion=gini, max_depth=6, max_features=sqrt, n_estimators=500, score=0.9114441416893733, total=   7.2s\n",
      "[CV] criterion=gini, max_depth=6, max_features=sqrt, n_estimators=1000 \n",
      "[CV]  criterion=gini, max_depth=6, max_features=sqrt, n_estimators=500, score=0.9182561307901907, total=   7.4s\n",
      "[CV] criterion=gini, max_depth=6, max_features=sqrt, n_estimators=1000 \n",
      "[CV]  criterion=gini, max_depth=6, max_features=sqrt, n_estimators=1000, score=0.9282814614343707, total=  16.4s\n",
      "[CV] criterion=gini, max_depth=6, max_features=sqrt, n_estimators=1000 \n",
      "[CV]  criterion=gini, max_depth=6, max_features=sqrt, n_estimators=1000, score=0.9215155615696887, total=  16.5s\n",
      "[CV] criterion=gini, max_depth=6, max_features=log2, n_estimators=100 \n",
      "[CV]  criterion=gini, max_depth=6, max_features=log2, n_estimators=100, score=0.857916102841678, total=   1.5s\n",
      "[CV] criterion=gini, max_depth=6, max_features=log2, n_estimators=100 \n",
      "[CV]  criterion=gini, max_depth=6, max_features=log2, n_estimators=100, score=0.857916102841678, total=   1.9s\n",
      "[CV] criterion=gini, max_depth=6, max_features=log2, n_estimators=100 \n",
      "[CV]  criterion=gini, max_depth=6, max_features=log2, n_estimators=100, score=0.8519021739130435, total=   1.2s\n",
      "[CV] criterion=gini, max_depth=6, max_features=log2, n_estimators=100 \n",
      "[CV]  criterion=gini, max_depth=6, max_features=log2, n_estimators=100, score=0.8542234332425068, total=   0.8s\n",
      "[CV] criterion=gini, max_depth=6, max_features=log2, n_estimators=100 \n",
      "[CV]  criterion=gini, max_depth=6, max_features=sqrt, n_estimators=1000, score=0.936141304347826, total=  17.7s\n",
      "[CV] criterion=gini, max_depth=6, max_features=log2, n_estimators=500 \n",
      "[CV]  criterion=gini, max_depth=6, max_features=log2, n_estimators=100, score=0.8664850136239782, total=   0.8s\n",
      "[CV] criterion=gini, max_depth=6, max_features=log2, n_estimators=500 \n"
     ]
    },
    {
     "name": "stderr",
     "output_type": "stream",
     "text": [
      "[Parallel(n_jobs=-1)]: Done  77 tasks      | elapsed:  2.1min\n"
     ]
    },
    {
     "name": "stdout",
     "output_type": "stream",
     "text": [
      "[CV]  criterion=gini, max_depth=6, max_features=sqrt, n_estimators=1000, score=0.9114441416893733, total=  17.7s\n",
      "[CV] criterion=gini, max_depth=6, max_features=log2, n_estimators=500 \n",
      "[CV]  criterion=gini, max_depth=6, max_features=log2, n_estimators=500, score=0.8552097428958051, total=   4.2s\n",
      "[CV] criterion=gini, max_depth=6, max_features=log2, n_estimators=500 \n",
      "[CV]  criterion=gini, max_depth=6, max_features=log2, n_estimators=500, score=0.8741542625169147, total=   4.3s\n",
      "[CV] criterion=gini, max_depth=6, max_features=log2, n_estimators=500 \n",
      "[CV]  criterion=gini, max_depth=6, max_features=log2, n_estimators=500, score=0.8709239130434783, total=   4.4s\n",
      "[CV] criterion=gini, max_depth=6, max_features=log2, n_estimators=1000 \n",
      "[CV]  criterion=gini, max_depth=6, max_features=sqrt, n_estimators=1000, score=0.9182561307901907, total=  14.6s\n",
      "[CV] criterion=gini, max_depth=6, max_features=log2, n_estimators=1000 \n",
      "[CV]  criterion=gini, max_depth=6, max_features=log2, n_estimators=500, score=0.8542234332425068, total=   4.5s\n",
      "[CV] criterion=gini, max_depth=6, max_features=log2, n_estimators=1000 \n",
      "[CV]  criterion=gini, max_depth=6, max_features=log2, n_estimators=500, score=0.8651226158038147, total=   4.5s\n",
      "[CV] criterion=gini, max_depth=6, max_features=log2, n_estimators=1000 \n",
      "[CV]  criterion=gini, max_depth=6, max_features=log2, n_estimators=1000, score=0.871447902571042, total=   8.4s\n",
      "[CV] criterion=gini, max_depth=6, max_features=log2, n_estimators=1000 \n",
      "[CV]  criterion=gini, max_depth=6, max_features=log2, n_estimators=1000, score=0.8592692828146143, total=   8.7s\n",
      "[CV] criterion=entropy, max_depth=4, max_features=auto, n_estimators=100 \n",
      "[CV]  criterion=gini, max_depth=6, max_features=log2, n_estimators=1000, score=0.8668478260869565, total=   8.7s\n",
      "[CV] criterion=entropy, max_depth=4, max_features=auto, n_estimators=100 \n",
      "[CV]  criterion=entropy, max_depth=4, max_features=auto, n_estimators=100, score=0.912043301759134, total=   1.6s\n",
      "[CV] criterion=entropy, max_depth=4, max_features=auto, n_estimators=100 \n",
      "[CV]  criterion=gini, max_depth=6, max_features=log2, n_estimators=1000, score=0.8542234332425068, total=   8.6s\n",
      "[CV] criterion=entropy, max_depth=4, max_features=auto, n_estimators=100 \n"
     ]
    },
    {
     "name": "stderr",
     "output_type": "stream",
     "text": [
      "[Parallel(n_jobs=-1)]: Done  90 tasks      | elapsed:  2.4min\n"
     ]
    },
    {
     "name": "stdout",
     "output_type": "stream",
     "text": [
      "[CV]  criterion=entropy, max_depth=4, max_features=auto, n_estimators=100, score=0.9025710419485792, total=   1.6s\n",
      "[CV] criterion=entropy, max_depth=4, max_features=auto, n_estimators=100 \n",
      "[CV]  criterion=entropy, max_depth=4, max_features=auto, n_estimators=100, score=0.9089673913043478, total=   1.6s\n",
      "[CV] criterion=entropy, max_depth=4, max_features=auto, n_estimators=500 \n",
      "[CV]  criterion=entropy, max_depth=4, max_features=auto, n_estimators=100, score=0.8869209809264306, total=   1.7s\n",
      "[CV] criterion=entropy, max_depth=4, max_features=auto, n_estimators=500 \n",
      "[CV]  criterion=entropy, max_depth=4, max_features=auto, n_estimators=100, score=0.8950953678474114, total=   1.6s\n",
      "[CV] criterion=entropy, max_depth=4, max_features=auto, n_estimators=500 \n",
      "[CV]  criterion=gini, max_depth=6, max_features=log2, n_estimators=1000, score=0.8664850136239782, total=   8.9s\n",
      "[CV] criterion=entropy, max_depth=4, max_features=auto, n_estimators=500 \n",
      "[CV]  criterion=entropy, max_depth=4, max_features=auto, n_estimators=500, score=0.9052774018944519, total=   7.9s\n",
      "[CV] criterion=entropy, max_depth=4, max_features=auto, n_estimators=500 \n",
      "[CV]  criterion=entropy, max_depth=4, max_features=auto, n_estimators=500, score=0.8985115020297699, total=   7.9s\n",
      "[CV] criterion=entropy, max_depth=4, max_features=auto, n_estimators=1000 \n",
      "[CV]  criterion=entropy, max_depth=4, max_features=auto, n_estimators=500, score=0.907608695652174, total=   8.2s\n",
      "[CV] criterion=entropy, max_depth=4, max_features=auto, n_estimators=1000 \n",
      "[CV]  criterion=entropy, max_depth=4, max_features=auto, n_estimators=500, score=0.8828337874659401, total=   7.8s\n",
      "[CV] criterion=entropy, max_depth=4, max_features=auto, n_estimators=1000 \n",
      "[CV]  criterion=entropy, max_depth=4, max_features=auto, n_estimators=500, score=0.8978201634877384, total=   7.7s\n",
      "[CV] criterion=entropy, max_depth=4, max_features=auto, n_estimators=1000 \n",
      "[CV]  criterion=entropy, max_depth=4, max_features=auto, n_estimators=1000, score=0.9052774018944519, total=  14.8s\n",
      "[CV] criterion=entropy, max_depth=4, max_features=auto, n_estimators=1000 \n",
      "[CV]  criterion=entropy, max_depth=4, max_features=auto, n_estimators=1000, score=0.8971583220568335, total=  14.8s\n",
      "[CV] criterion=entropy, max_depth=4, max_features=sqrt, n_estimators=100 \n",
      "[CV]  criterion=entropy, max_depth=4, max_features=sqrt, n_estimators=100, score=0.912043301759134, total=   1.6s\n",
      "[CV] criterion=entropy, max_depth=4, max_features=sqrt, n_estimators=100 \n",
      "[CV]  criterion=entropy, max_depth=4, max_features=auto, n_estimators=1000, score=0.90625, total=  15.1s\n",
      "[CV] criterion=entropy, max_depth=4, max_features=sqrt, n_estimators=100 \n",
      "[CV]  criterion=entropy, max_depth=4, max_features=sqrt, n_estimators=100, score=0.9025710419485792, total=   1.5s\n",
      "[CV] criterion=entropy, max_depth=4, max_features=sqrt, n_estimators=100 \n"
     ]
    },
    {
     "name": "stderr",
     "output_type": "stream",
     "text": [
      "[Parallel(n_jobs=-1)]: Done 105 tasks      | elapsed:  3.0min\n"
     ]
    },
    {
     "name": "stdout",
     "output_type": "stream",
     "text": [
      "[CV]  criterion=entropy, max_depth=4, max_features=sqrt, n_estimators=100, score=0.9089673913043478, total=   1.6s\n",
      "[CV] criterion=entropy, max_depth=4, max_features=sqrt, n_estimators=100 \n",
      "[CV]  criterion=entropy, max_depth=4, max_features=sqrt, n_estimators=100, score=0.8869209809264306, total=   1.5s\n",
      "[CV] criterion=entropy, max_depth=4, max_features=sqrt, n_estimators=500 \n",
      "[CV]  criterion=entropy, max_depth=4, max_features=sqrt, n_estimators=100, score=0.8950953678474114, total=   1.6s\n",
      "[CV] criterion=entropy, max_depth=4, max_features=sqrt, n_estimators=500 \n",
      "[CV]  criterion=entropy, max_depth=4, max_features=auto, n_estimators=1000, score=0.8841961852861036, total=  15.4s\n",
      "[CV] criterion=entropy, max_depth=4, max_features=sqrt, n_estimators=500 \n",
      "[CV]  criterion=entropy, max_depth=4, max_features=sqrt, n_estimators=500, score=0.9052774018944519, total=   7.4s\n",
      "[CV] criterion=entropy, max_depth=4, max_features=sqrt, n_estimators=500 \n",
      "[CV]  criterion=entropy, max_depth=4, max_features=sqrt, n_estimators=500, score=0.8985115020297699, total=   7.4s\n",
      "[CV] criterion=entropy, max_depth=4, max_features=sqrt, n_estimators=500 \n",
      "[CV]  criterion=entropy, max_depth=4, max_features=auto, n_estimators=1000, score=0.8991825613079019, total=  15.3s\n",
      "[CV]  criterion=entropy, max_depth=4, max_features=sqrt, n_estimators=500, score=0.907608695652174, total=   7.4s\n",
      "[CV] criterion=entropy, max_depth=4, max_features=sqrt, n_estimators=1000 \n",
      "[CV] criterion=entropy, max_depth=4, max_features=sqrt, n_estimators=1000 \n",
      "[CV]  criterion=entropy, max_depth=4, max_features=sqrt, n_estimators=500, score=0.8828337874659401, total=   7.4s\n",
      "[CV] criterion=entropy, max_depth=4, max_features=sqrt, n_estimators=1000 \n",
      "[CV]  criterion=entropy, max_depth=4, max_features=sqrt, n_estimators=500, score=0.8978201634877384, total=   7.4s\n",
      "[CV] criterion=entropy, max_depth=4, max_features=sqrt, n_estimators=1000 \n",
      "[CV]  criterion=entropy, max_depth=4, max_features=sqrt, n_estimators=1000, score=0.8971583220568335, total=  14.5s\n",
      "[CV] criterion=entropy, max_depth=4, max_features=sqrt, n_estimators=1000 \n",
      "[CV]  criterion=entropy, max_depth=4, max_features=sqrt, n_estimators=1000, score=0.9052774018944519, total=  14.6s\n",
      "[CV] criterion=entropy, max_depth=4, max_features=log2, n_estimators=100 \n",
      "[CV]  criterion=entropy, max_depth=4, max_features=log2, n_estimators=100, score=0.8281461434370772, total=   1.1s\n",
      "[CV] criterion=entropy, max_depth=4, max_features=log2, n_estimators=100 \n",
      "[CV]  criterion=entropy, max_depth=4, max_features=log2, n_estimators=100, score=0.8294993234100135, total=   0.9s\n",
      "[CV] criterion=entropy, max_depth=4, max_features=log2, n_estimators=100 \n",
      "[CV]  criterion=entropy, max_depth=4, max_features=log2, n_estimators=100, score=0.8328804347826086, total=   1.1s\n",
      "[CV] criterion=entropy, max_depth=4, max_features=log2, n_estimators=100 \n"
     ]
    },
    {
     "name": "stderr",
     "output_type": "stream",
     "text": [
      "[Parallel(n_jobs=-1)]: Done 120 tasks      | elapsed:  3.5min\n"
     ]
    },
    {
     "name": "stdout",
     "output_type": "stream",
     "text": [
      "[CV]  criterion=entropy, max_depth=4, max_features=log2, n_estimators=100, score=0.8174386920980926, total=   1.1s\n",
      "[CV] criterion=entropy, max_depth=4, max_features=log2, n_estimators=100 \n",
      "[CV]  criterion=entropy, max_depth=4, max_features=log2, n_estimators=100, score=0.8242506811989101, total=   1.0s\n",
      "[CV] criterion=entropy, max_depth=4, max_features=log2, n_estimators=500 \n",
      "[CV]  criterion=entropy, max_depth=4, max_features=sqrt, n_estimators=1000, score=0.90625, total=  14.7s\n",
      "[CV] criterion=entropy, max_depth=4, max_features=log2, n_estimators=500 \n",
      "[CV]  criterion=entropy, max_depth=4, max_features=sqrt, n_estimators=1000, score=0.8841961852861036, total=  15.2s\n",
      "[CV] criterion=entropy, max_depth=4, max_features=log2, n_estimators=500 \n",
      "[CV]  criterion=entropy, max_depth=4, max_features=log2, n_estimators=500, score=0.8443843031123139, total=   5.1s\n",
      "[CV] criterion=entropy, max_depth=4, max_features=log2, n_estimators=500 \n",
      "[CV]  criterion=entropy, max_depth=4, max_features=log2, n_estimators=500, score=0.8484438430311232, total=   5.2s\n",
      "[CV] criterion=entropy, max_depth=4, max_features=log2, n_estimators=500 \n",
      "[CV]  criterion=entropy, max_depth=4, max_features=log2, n_estimators=500, score=0.8546195652173914, total=   5.9s\n",
      "[CV] criterion=entropy, max_depth=4, max_features=log2, n_estimators=1000 \n",
      "[CV]  criterion=entropy, max_depth=4, max_features=sqrt, n_estimators=1000, score=0.8991825613079019, total=  16.8s\n",
      "[CV] criterion=entropy, max_depth=4, max_features=log2, n_estimators=1000 \n",
      "[CV]  criterion=entropy, max_depth=4, max_features=log2, n_estimators=500, score=0.8310626702997275, total=   6.8s\n",
      "[CV] criterion=entropy, max_depth=4, max_features=log2, n_estimators=1000 \n",
      "[CV]  criterion=entropy, max_depth=4, max_features=log2, n_estimators=500, score=0.8501362397820164, total=   6.9s\n",
      "[CV] criterion=entropy, max_depth=4, max_features=log2, n_estimators=1000 \n",
      "[CV]  criterion=entropy, max_depth=4, max_features=log2, n_estimators=1000, score=0.851150202976996, total=  16.5s\n",
      "[CV] criterion=entropy, max_depth=4, max_features=log2, n_estimators=1000 \n",
      "[CV]  criterion=entropy, max_depth=4, max_features=log2, n_estimators=1000, score=0.8497970230040596, total=  16.0s\n",
      "[CV] criterion=entropy, max_depth=6, max_features=auto, n_estimators=100 \n",
      "[CV]  criterion=entropy, max_depth=4, max_features=log2, n_estimators=1000, score=0.8546195652173914, total=  15.7s\n",
      "[CV] criterion=entropy, max_depth=6, max_features=auto, n_estimators=100 \n",
      "[CV]  criterion=entropy, max_depth=4, max_features=log2, n_estimators=1000, score=0.840599455040872, total=  15.3s\n",
      "[CV] criterion=entropy, max_depth=6, max_features=auto, n_estimators=100 \n",
      "[CV]  criterion=entropy, max_depth=6, max_features=auto, n_estimators=100, score=0.9309878213802436, total=   2.2s\n",
      "[CV] criterion=entropy, max_depth=6, max_features=auto, n_estimators=100 \n",
      "[CV]  criterion=entropy, max_depth=6, max_features=auto, n_estimators=100, score=0.93234100135318, total=   2.1s\n",
      "[CV] criterion=entropy, max_depth=6, max_features=auto, n_estimators=100 \n",
      "[CV]  criterion=entropy, max_depth=6, max_features=auto, n_estimators=100, score=0.938858695652174, total=   2.1s\n",
      "[CV] criterion=entropy, max_depth=6, max_features=auto, n_estimators=500 \n"
     ]
    },
    {
     "name": "stderr",
     "output_type": "stream",
     "text": [
      "[Parallel(n_jobs=-1)]: Done 137 tasks      | elapsed:  4.0min\n"
     ]
    },
    {
     "name": "stdout",
     "output_type": "stream",
     "text": [
      "[CV]  criterion=entropy, max_depth=6, max_features=auto, n_estimators=100, score=0.9264305177111717, total=   2.1s\n",
      "[CV] criterion=entropy, max_depth=6, max_features=auto, n_estimators=500 \n",
      "[CV]  criterion=entropy, max_depth=6, max_features=auto, n_estimators=100, score=0.9196185286103542, total=   2.1s\n",
      "[CV] criterion=entropy, max_depth=6, max_features=auto, n_estimators=500 \n",
      "[CV]  criterion=entropy, max_depth=4, max_features=log2, n_estimators=1000, score=0.8501362397820164, total=  10.6s\n",
      "[CV] criterion=entropy, max_depth=6, max_features=auto, n_estimators=500 \n",
      "[CV]  criterion=entropy, max_depth=6, max_features=auto, n_estimators=500, score=0.9364005412719891, total=   9.4s\n",
      "[CV] criterion=entropy, max_depth=6, max_features=auto, n_estimators=500 \n",
      "[CV]  criterion=entropy, max_depth=6, max_features=auto, n_estimators=500, score=0.9350473612990527, total=   9.9s\n",
      "[CV] criterion=entropy, max_depth=6, max_features=auto, n_estimators=1000 \n",
      "[CV]  criterion=entropy, max_depth=6, max_features=auto, n_estimators=500, score=0.9470108695652174, total=  11.2s\n",
      "[CV] criterion=entropy, max_depth=6, max_features=auto, n_estimators=1000 \n",
      "[CV]  criterion=entropy, max_depth=6, max_features=auto, n_estimators=500, score=0.9237057220708447, total=  11.7s\n",
      "[CV] criterion=entropy, max_depth=6, max_features=auto, n_estimators=1000 \n",
      "[CV]  criterion=entropy, max_depth=6, max_features=auto, n_estimators=500, score=0.9305177111716622, total=  13.3s\n",
      "[CV] criterion=entropy, max_depth=6, max_features=auto, n_estimators=1000 \n",
      "[CV]  criterion=entropy, max_depth=6, max_features=auto, n_estimators=1000, score=0.9418132611637348, total=  28.0s\n",
      "[CV] criterion=entropy, max_depth=6, max_features=auto, n_estimators=1000 \n",
      "[CV]  criterion=entropy, max_depth=6, max_features=auto, n_estimators=1000, score=0.9404600811907984, total=  27.6s\n",
      "[CV] criterion=entropy, max_depth=6, max_features=sqrt, n_estimators=100 \n",
      "[CV]  criterion=entropy, max_depth=6, max_features=sqrt, n_estimators=100, score=0.9309878213802436, total=   2.1s\n",
      "[CV] criterion=entropy, max_depth=6, max_features=sqrt, n_estimators=100 \n",
      "[CV]  criterion=entropy, max_depth=6, max_features=auto, n_estimators=1000, score=0.9483695652173914, total=  27.0s\n",
      "[CV] criterion=entropy, max_depth=6, max_features=sqrt, n_estimators=100 \n",
      "[CV]  criterion=entropy, max_depth=6, max_features=sqrt, n_estimators=100, score=0.93234100135318, total=   2.5s\n",
      "[CV] criterion=entropy, max_depth=6, max_features=sqrt, n_estimators=100 \n",
      "[CV]  criterion=entropy, max_depth=6, max_features=sqrt, n_estimators=100, score=0.938858695652174, total=   3.1s\n",
      "[CV] criterion=entropy, max_depth=6, max_features=sqrt, n_estimators=100 \n",
      "[CV]  criterion=entropy, max_depth=6, max_features=sqrt, n_estimators=100, score=0.9264305177111717, total=   2.8s\n",
      "[CV] criterion=entropy, max_depth=6, max_features=sqrt, n_estimators=500 \n",
      "[CV]  criterion=entropy, max_depth=6, max_features=sqrt, n_estimators=100, score=0.9196185286103542, total=   2.3s\n",
      "[CV] criterion=entropy, max_depth=6, max_features=sqrt, n_estimators=500 \n",
      "[CV]  criterion=entropy, max_depth=6, max_features=auto, n_estimators=1000, score=0.9250681198910081, total=  28.0s\n",
      "[CV] criterion=entropy, max_depth=6, max_features=sqrt, n_estimators=500 \n"
     ]
    },
    {
     "name": "stderr",
     "output_type": "stream",
     "text": [
      "[Parallel(n_jobs=-1)]: Done 154 tasks      | elapsed:  4.9min\n"
     ]
    },
    {
     "name": "stdout",
     "output_type": "stream",
     "text": [
      "[CV]  criterion=entropy, max_depth=6, max_features=sqrt, n_estimators=500, score=0.9350473612990527, total=  14.9s\n",
      "[CV] criterion=entropy, max_depth=6, max_features=sqrt, n_estimators=500 \n",
      "[CV]  criterion=entropy, max_depth=6, max_features=sqrt, n_estimators=500, score=0.9364005412719891, total=  15.4s\n",
      "[CV] criterion=entropy, max_depth=6, max_features=sqrt, n_estimators=500 \n",
      "[CV]  criterion=entropy, max_depth=6, max_features=auto, n_estimators=1000, score=0.9291553133514986, total=  29.1s\n",
      "[CV] criterion=entropy, max_depth=6, max_features=sqrt, n_estimators=1000 \n",
      "[CV]  criterion=entropy, max_depth=6, max_features=sqrt, n_estimators=500, score=0.9470108695652174, total=  15.7s\n",
      "[CV] criterion=entropy, max_depth=6, max_features=sqrt, n_estimators=1000 \n",
      "[CV]  criterion=entropy, max_depth=6, max_features=sqrt, n_estimators=500, score=0.9237057220708447, total=  14.8s\n",
      "[CV] criterion=entropy, max_depth=6, max_features=sqrt, n_estimators=1000 \n",
      "[CV]  criterion=entropy, max_depth=6, max_features=sqrt, n_estimators=500, score=0.9305177111716622, total=  14.4s\n",
      "[CV] criterion=entropy, max_depth=6, max_features=sqrt, n_estimators=1000 \n",
      "[CV]  criterion=entropy, max_depth=6, max_features=sqrt, n_estimators=1000, score=0.9404600811907984, total=  22.1s\n",
      "[CV] criterion=entropy, max_depth=6, max_features=sqrt, n_estimators=1000 \n",
      "[CV]  criterion=entropy, max_depth=6, max_features=sqrt, n_estimators=1000, score=0.9418132611637348, total=  22.5s\n",
      "[CV] criterion=entropy, max_depth=6, max_features=log2, n_estimators=100 \n",
      "[CV]  criterion=entropy, max_depth=6, max_features=log2, n_estimators=100, score=0.8728010825439784, total=   1.4s\n",
      "[CV] criterion=entropy, max_depth=6, max_features=log2, n_estimators=100 \n",
      "[CV]  criterion=entropy, max_depth=6, max_features=log2, n_estimators=100, score=0.878213802435724, total=   1.2s\n",
      "[CV] criterion=entropy, max_depth=6, max_features=log2, n_estimators=100 \n",
      "[CV]  criterion=entropy, max_depth=6, max_features=log2, n_estimators=100, score=0.8831521739130435, total=   1.4s\n",
      "[CV] criterion=entropy, max_depth=6, max_features=log2, n_estimators=100 \n",
      "[CV]  criterion=entropy, max_depth=6, max_features=log2, n_estimators=100, score=0.8732970027247956, total=   1.3s\n",
      "[CV] criterion=entropy, max_depth=6, max_features=log2, n_estimators=100 \n",
      "[CV]  criterion=entropy, max_depth=6, max_features=log2, n_estimators=100, score=0.8705722070844687, total=   1.4s\n",
      "[CV] criterion=entropy, max_depth=6, max_features=log2, n_estimators=500 \n",
      "[CV]  criterion=entropy, max_depth=6, max_features=sqrt, n_estimators=1000, score=0.9483695652173914, total=  19.4s\n",
      "[CV] criterion=entropy, max_depth=6, max_features=log2, n_estimators=500 \n",
      "[CV]  criterion=entropy, max_depth=6, max_features=sqrt, n_estimators=1000, score=0.9250681198910081, total=  19.6s\n",
      "[CV] criterion=entropy, max_depth=6, max_features=log2, n_estimators=500 \n",
      "[CV]  criterion=entropy, max_depth=6, max_features=log2, n_estimators=500, score=0.878213802435724, total=   6.3s\n",
      "[CV] criterion=entropy, max_depth=6, max_features=log2, n_estimators=500 \n",
      "[CV]  criterion=entropy, max_depth=6, max_features=log2, n_estimators=500, score=0.8849797023004059, total=   6.5s\n",
      "[CV] criterion=entropy, max_depth=6, max_features=log2, n_estimators=500 \n",
      "[CV]  criterion=entropy, max_depth=6, max_features=log2, n_estimators=500, score=0.8872282608695652, total=   6.6s\n",
      "[CV] criterion=entropy, max_depth=6, max_features=log2, n_estimators=1000 \n",
      "[CV]  criterion=entropy, max_depth=6, max_features=sqrt, n_estimators=1000, score=0.9291553133514986, total=  19.6s\n",
      "[CV] criterion=entropy, max_depth=6, max_features=log2, n_estimators=1000 \n"
     ]
    },
    {
     "name": "stderr",
     "output_type": "stream",
     "text": [
      "[Parallel(n_jobs=-1)]: Done 173 tasks      | elapsed:  5.9min\n"
     ]
    },
    {
     "name": "stdout",
     "output_type": "stream",
     "text": [
      "[CV]  criterion=entropy, max_depth=6, max_features=log2, n_estimators=500, score=0.8705722070844687, total=   6.5s\n",
      "[CV] criterion=entropy, max_depth=6, max_features=log2, n_estimators=1000 \n",
      "[CV]  criterion=entropy, max_depth=6, max_features=log2, n_estimators=500, score=0.8787465940054496, total=   6.4s\n",
      "[CV] criterion=entropy, max_depth=6, max_features=log2, n_estimators=1000 \n",
      "[CV]  criterion=entropy, max_depth=6, max_features=log2, n_estimators=1000, score=0.878213802435724, total=  12.9s\n",
      "[CV] criterion=entropy, max_depth=6, max_features=log2, n_estimators=1000 \n",
      "[CV]  criterion=entropy, max_depth=6, max_features=log2, n_estimators=1000, score=0.8795669824086604, total=  12.8s\n",
      "[CV]  criterion=entropy, max_depth=6, max_features=log2, n_estimators=1000, score=0.8845108695652174, total=  13.0s\n",
      "[CV]  criterion=entropy, max_depth=6, max_features=log2, n_estimators=1000, score=0.8746594005449592, total=  12.9s\n",
      "[CV]  criterion=entropy, max_depth=6, max_features=log2, n_estimators=1000, score=0.888283378746594, total=   9.5s\n"
     ]
    },
    {
     "name": "stderr",
     "output_type": "stream",
     "text": [
      "[Parallel(n_jobs=-1)]: Done 180 out of 180 | elapsed:  6.3min finished\n"
     ]
    },
    {
     "data": {
      "text/plain": [
       "GridSearchCV(cv=5, error_score='raise',\n",
       "       estimator=RandomForestClassifier(bootstrap=True, class_weight=None, criterion='gini',\n",
       "            max_depth=None, max_features='auto', max_leaf_nodes=None,\n",
       "            min_impurity_decrease=0.0, min_impurity_split=None,\n",
       "            min_samples_leaf=1, min_samples_split=2,\n",
       "            min_weight_fraction_leaf=0.0, n_estimators=1000, n_jobs=1,\n",
       "            oob_score=False, random_state=0, verbose=0, warm_start=False),\n",
       "       fit_params=None, iid=True, n_jobs=-1,\n",
       "       param_grid={'n_estimators': [100, 500, 1000], 'max_features': ['auto', 'sqrt', 'log2'], 'max_depth': [4, 6], 'criterion': ['gini', 'entropy']},\n",
       "       pre_dispatch='2*n_jobs', refit=True, return_train_score='warn',\n",
       "       scoring='accuracy', verbose=10)"
      ]
     },
     "execution_count": 63,
     "metadata": {},
     "output_type": "execute_result"
    }
   ],
   "source": [
    "CV_rfc_random = model_selection.GridSearchCV(estimator=rfc_random, param_grid=param_grid, cv= 5, verbose=10, n_jobs=-1, scoring='accuracy')\n",
    "CV_rfc_random.fit(X_train_random, y_train_random)\n",
    "\n",
    "CV_rfc_biased = model_selection.GridSearchCV(estimator=rfc_biased, param_grid=param_grid, cv= 5, verbose=10, n_jobs=-1, scoring='accuracy')\n",
    "CV_rfc_biased.fit(X_train_biased, y_train_biased)"
   ]
  },
  {
   "cell_type": "code",
   "execution_count": 65,
   "metadata": {},
   "outputs": [
    {
     "data": {
      "text/plain": [
       "{'criterion': 'entropy',\n",
       " 'max_depth': 6,\n",
       " 'max_features': 'auto',\n",
       " 'n_estimators': 1000}"
      ]
     },
     "execution_count": 65,
     "metadata": {},
     "output_type": "execute_result"
    }
   ],
   "source": [
    "CV_rfc_random.best_params_"
   ]
  },
  {
   "cell_type": "code",
   "execution_count": 66,
   "metadata": {},
   "outputs": [
    {
     "data": {
      "text/plain": [
       "{'criterion': 'entropy',\n",
       " 'max_depth': 6,\n",
       " 'max_features': 'auto',\n",
       " 'n_estimators': 1000}"
      ]
     },
     "execution_count": 66,
     "metadata": {},
     "output_type": "execute_result"
    }
   ],
   "source": [
    "CV_rfc_biased.best_params_"
   ]
  },
  {
   "cell_type": "code",
   "execution_count": 67,
   "metadata": {},
   "outputs": [
    {
     "name": "stdout",
     "output_type": "stream",
     "text": [
      "Accuracy for Random Forest with random sampling on CV data:  94.6820809248555\n",
      "Accuracy for Random Forest with biased sampling on CV data:  66.09642301710731\n"
     ]
    }
   ],
   "source": [
    "print(\"Accuracy for Random Forest with random sampling on CV data: \", (CV_rfc_random.score(X_test_random, y_test_random))*100)\n",
    "print(\"Accuracy for Random Forest with biased sampling on CV data: \", (CV_rfc_biased.score(X_test_biased, y_test_biased))*100)"
   ]
  },
  {
   "cell_type": "code",
   "execution_count": 105,
   "metadata": {},
   "outputs": [],
   "source": [
    "y_pred_random = CV_rfc_random.predict(X_test_random)"
   ]
  },
  {
   "cell_type": "code",
   "execution_count": 106,
   "metadata": {},
   "outputs": [
    {
     "data": {
      "image/png": "[encoded data removed]",
      "text/plain": [
       "<matplotlib.figure.Figure at 0x1124de9b0>"
      ]
     },
     "metadata": {},
     "output_type": "display_data"
    }
   ],
   "source": [
    "def plot_confusion_matrix(cm, classes,\n",
    "                          normalize=False,\n",
    "                          title='Confusion matrix',\n",
    "                          cmap=plt.cm.Blues):\n",
    "    \"\"\"\n",
    "    This function prints and plots the confusion matrix.\n",
    "    Normalization can be applied by setting `normalize=True`.\n",
    "    \"\"\"\n",
    "\n",
    "    plt.imshow(cm, interpolation='nearest', cmap=cmap)\n",
    "    plt.title(title)\n",
    "    plt.colorbar()\n",
    "    tick_marks = np.arange(len(classes))\n",
    "    plt.xticks(tick_marks, classes, rotation=45)\n",
    "    plt.yticks(tick_marks, classes)\n",
    "\n",
    "    fmt = '.2f' if normalize else 'd'\n",
    "    thresh = cm.max() / 2.\n",
    "    for i, j in itertools.product(range(cm.shape[0]), range(cm.shape[1])):\n",
    "        plt.text(j, i, format(cm[i, j], fmt),\n",
    "                 horizontalalignment=\"center\",\n",
    "                 color=\"white\" if cm[i, j] > thresh else \"black\")\n",
    "\n",
    "    plt.tight_layout()\n",
    "    plt.ylabel('True label')\n",
    "    plt.xlabel('Predicted label')\n",
    "\n",
    "# Compute confusion matrix\n",
    "cnf_matrix = confusion_matrix(y_test_random, y_pred_random)\n",
    "np.set_printoptions(precision=2)\n",
    "\n",
    "# Plot non-normalized confusion matrix\n",
    "plt.figure(figsize=(10,7))\n",
    "plot_confusion_matrix(cnf_matrix, classes=class_names,\n",
    "                      title='Confusion matrix with RandomForest')"
   ]
  },
  {
   "cell_type": "markdown",
   "metadata": {},
   "source": [
    "## XGBoost"
   ]
  },
  {
   "cell_type": "code",
   "execution_count": 71,
   "metadata": {},
   "outputs": [],
   "source": [
    "import xgboost"
   ]
  },
  {
   "cell_type": "code",
   "execution_count": 72,
   "metadata": {},
   "outputs": [],
   "source": [
    "xgb_random = xgboost.XGBClassifier(random_state = 0, learning_rate = 0.01,\n",
    "                                   objective = 'multi:softprob', n_estimators = 1000)\n",
    "xgb_biased = xgboost.XGBClassifier(random_state = 0, learning_rate = 0.01, \n",
    "                                   objective = 'multi:softprob', n_estimators = 1000)"
   ]
  },
  {
   "cell_type": "code",
   "execution_count": 73,
   "metadata": {},
   "outputs": [],
   "source": [
    "parameters = {'min_child_weight': [1, 5],\n",
    "              'max_depth': [5, 7],\n",
    "              'gamma': [0.5, 2],\n",
    "              'subsample': [0.6, 0.8],\n",
    "              'colsample_bytree': [0.6, 0.8],\n",
    "             }"
   ]
  },
  {
   "cell_type": "code",
   "execution_count": 74,
   "metadata": {},
   "outputs": [
    {
     "name": "stdout",
     "output_type": "stream",
     "text": [
      "Fitting 5 folds for each of 32 candidates, totalling 160 fits\n"
     ]
    },
    {
     "name": "stderr",
     "output_type": "stream",
     "text": [
      "/Users/miljanstojiljkovic/anaconda3/lib/python3.6/site-packages/sklearn/model_selection/_split.py:605: Warning: The least populated class in y has only 2 members, which is too few. The minimum number of members in any class cannot be less than n_splits=5.\n",
      "  % (min_groups, self.n_splits)), Warning)\n"
     ]
    },
    {
     "name": "stdout",
     "output_type": "stream",
     "text": [
      "[CV] colsample_bytree=0.6, gamma=0.5, max_depth=5, min_child_weight=1, subsample=0.6 \n",
      "[CV] colsample_bytree=0.6, gamma=0.5, max_depth=5, min_child_weight=1, subsample=0.6 \n",
      "[CV] colsample_bytree=0.6, gamma=0.5, max_depth=5, min_child_weight=1, subsample=0.6 \n",
      "[CV] colsample_bytree=0.6, gamma=0.5, max_depth=5, min_child_weight=1, subsample=0.6 \n"
     ]
    },
    {
     "name": "stderr",
     "output_type": "stream",
     "text": [
      "/Users/miljanstojiljkovic/anaconda3/lib/python3.6/site-packages/sklearn/preprocessing/label.py:151: DeprecationWarning: The truth value of an empty array is ambiguous. Returning False, but in future this will result in an error. Use `array.size > 0` to check that an array is not empty.\n",
      "  if diff:\n",
      "/Users/miljanstojiljkovic/anaconda3/lib/python3.6/site-packages/sklearn/preprocessing/label.py:151: DeprecationWarning: The truth value of an empty array is ambiguous. Returning False, but in future this will result in an error. Use `array.size > 0` to check that an array is not empty.\n",
      "  if diff:\n",
      "/Users/miljanstojiljkovic/anaconda3/lib/python3.6/site-packages/sklearn/preprocessing/label.py:151: DeprecationWarning: The truth value of an empty array is ambiguous. Returning False, but in future this will result in an error. Use `array.size > 0` to check that an array is not empty.\n",
      "  if diff:\n",
      "/Users/miljanstojiljkovic/anaconda3/lib/python3.6/site-packages/sklearn/preprocessing/label.py:151: DeprecationWarning: The truth value of an empty array is ambiguous. Returning False, but in future this will result in an error. Use `array.size > 0` to check that an array is not empty.\n",
      "  if diff:\n",
      "/Users/miljanstojiljkovic/anaconda3/lib/python3.6/site-packages/sklearn/preprocessing/label.py:151: DeprecationWarning: The truth value of an empty array is ambiguous. Returning False, but in future this will result in an error. Use `array.size > 0` to check that an array is not empty.\n",
      "  if diff:\n"
     ]
    },
    {
     "name": "stdout",
     "output_type": "stream",
     "text": [
      "[CV]  colsample_bytree=0.6, gamma=0.5, max_depth=5, min_child_weight=1, subsample=0.6, score=0.9783549783549783, total= 2.2min\n",
      "[CV] colsample_bytree=0.6, gamma=0.5, max_depth=5, min_child_weight=1, subsample=0.6 \n"
     ]
    },
    {
     "name": "stderr",
     "output_type": "stream",
     "text": [
      "/Users/miljanstojiljkovic/anaconda3/lib/python3.6/site-packages/sklearn/preprocessing/label.py:151: DeprecationWarning: The truth value of an empty array is ambiguous. Returning False, but in future this will result in an error. Use `array.size > 0` to check that an array is not empty.\n",
      "  if diff:\n"
     ]
    },
    {
     "name": "stdout",
     "output_type": "stream",
     "text": [
      "[CV]  colsample_bytree=0.6, gamma=0.5, max_depth=5, min_child_weight=1, subsample=0.6, score=0.9827586206896551, total= 2.2min\n",
      "[CV] colsample_bytree=0.6, gamma=0.5, max_depth=5, min_child_weight=1, subsample=0.8 \n"
     ]
    },
    {
     "name": "stderr",
     "output_type": "stream",
     "text": [
      "/Users/miljanstojiljkovic/anaconda3/lib/python3.6/site-packages/sklearn/preprocessing/label.py:151: DeprecationWarning: The truth value of an empty array is ambiguous. Returning False, but in future this will result in an error. Use `array.size > 0` to check that an array is not empty.\n",
      "  if diff:\n"
     ]
    },
    {
     "name": "stdout",
     "output_type": "stream",
     "text": [
      "[CV]  colsample_bytree=0.6, gamma=0.5, max_depth=5, min_child_weight=1, subsample=0.6, score=0.9855282199710564, total= 2.3min\n",
      "[CV] colsample_bytree=0.6, gamma=0.5, max_depth=5, min_child_weight=1, subsample=0.8 \n"
     ]
    },
    {
     "name": "stderr",
     "output_type": "stream",
     "text": [
      "/Users/miljanstojiljkovic/anaconda3/lib/python3.6/site-packages/sklearn/preprocessing/label.py:151: DeprecationWarning: The truth value of an empty array is ambiguous. Returning False, but in future this will result in an error. Use `array.size > 0` to check that an array is not empty.\n",
      "  if diff:\n"
     ]
    },
    {
     "name": "stdout",
     "output_type": "stream",
     "text": [
      "[CV]  colsample_bytree=0.6, gamma=0.5, max_depth=5, min_child_weight=1, subsample=0.6, score=0.9942196531791907, total= 2.3min\n",
      "[CV] colsample_bytree=0.6, gamma=0.5, max_depth=5, min_child_weight=1, subsample=0.8 \n"
     ]
    },
    {
     "name": "stderr",
     "output_type": "stream",
     "text": [
      "/Users/miljanstojiljkovic/anaconda3/lib/python3.6/site-packages/sklearn/preprocessing/label.py:151: DeprecationWarning: The truth value of an empty array is ambiguous. Returning False, but in future this will result in an error. Use `array.size > 0` to check that an array is not empty.\n",
      "  if diff:\n",
      "/Users/miljanstojiljkovic/anaconda3/lib/python3.6/site-packages/sklearn/preprocessing/label.py:151: DeprecationWarning: The truth value of an empty array is ambiguous. Returning False, but in future this will result in an error. Use `array.size > 0` to check that an array is not empty.\n",
      "  if diff:\n"
     ]
    },
    {
     "name": "stdout",
     "output_type": "stream",
     "text": [
      "[CV]  colsample_bytree=0.6, gamma=0.5, max_depth=5, min_child_weight=1, subsample=0.6, score=0.9781976744186046, total= 2.1min\n",
      "[CV] colsample_bytree=0.6, gamma=0.5, max_depth=5, min_child_weight=1, subsample=0.8 \n"
     ]
    },
    {
     "name": "stderr",
     "output_type": "stream",
     "text": [
      "[Parallel(n_jobs=-1)]: Done   5 tasks      | elapsed:  4.4min\n",
      "/Users/miljanstojiljkovic/anaconda3/lib/python3.6/site-packages/sklearn/preprocessing/label.py:151: DeprecationWarning: The truth value of an empty array is ambiguous. Returning False, but in future this will result in an error. Use `array.size > 0` to check that an array is not empty.\n",
      "  if diff:\n",
      "/Users/miljanstojiljkovic/anaconda3/lib/python3.6/site-packages/sklearn/preprocessing/label.py:151: DeprecationWarning: The truth value of an empty array is ambiguous. Returning False, but in future this will result in an error. Use `array.size > 0` to check that an array is not empty.\n",
      "  if diff:\n",
      "/Users/miljanstojiljkovic/anaconda3/lib/python3.6/site-packages/sklearn/preprocessing/label.py:151: DeprecationWarning: The truth value of an empty array is ambiguous. Returning False, but in future this will result in an error. Use `array.size > 0` to check that an array is not empty.\n",
      "  if diff:\n"
     ]
    },
    {
     "name": "stdout",
     "output_type": "stream",
     "text": [
      "[CV]  colsample_bytree=0.6, gamma=0.5, max_depth=5, min_child_weight=1, subsample=0.8, score=0.9841954022988506, total= 2.3min\n",
      "[CV] colsample_bytree=0.6, gamma=0.5, max_depth=5, min_child_weight=1, subsample=0.8 \n"
     ]
    },
    {
     "name": "stderr",
     "output_type": "stream",
     "text": [
      "/Users/miljanstojiljkovic/anaconda3/lib/python3.6/site-packages/sklearn/preprocessing/label.py:151: DeprecationWarning: The truth value of an empty array is ambiguous. Returning False, but in future this will result in an error. Use `array.size > 0` to check that an array is not empty.\n",
      "  if diff:\n",
      "/Users/miljanstojiljkovic/anaconda3/lib/python3.6/site-packages/sklearn/preprocessing/label.py:151: DeprecationWarning: The truth value of an empty array is ambiguous. Returning False, but in future this will result in an error. Use `array.size > 0` to check that an array is not empty.\n",
      "  if diff:\n"
     ]
    },
    {
     "name": "stdout",
     "output_type": "stream",
     "text": [
      "[CV]  colsample_bytree=0.6, gamma=0.5, max_depth=5, min_child_weight=1, subsample=0.8, score=0.9783549783549783, total= 2.3min\n",
      "[CV] colsample_bytree=0.6, gamma=0.5, max_depth=5, min_child_weight=5, subsample=0.6 \n"
     ]
    },
    {
     "name": "stderr",
     "output_type": "stream",
     "text": [
      "/Users/miljanstojiljkovic/anaconda3/lib/python3.6/site-packages/sklearn/preprocessing/label.py:151: DeprecationWarning: The truth value of an empty array is ambiguous. Returning False, but in future this will result in an error. Use `array.size > 0` to check that an array is not empty.\n",
      "  if diff:\n"
     ]
    },
    {
     "name": "stdout",
     "output_type": "stream",
     "text": [
      "[CV]  colsample_bytree=0.6, gamma=0.5, max_depth=5, min_child_weight=1, subsample=0.8, score=0.9956647398843931, total= 2.3min\n",
      "[CV] colsample_bytree=0.6, gamma=0.5, max_depth=5, min_child_weight=5, subsample=0.6 \n"
     ]
    },
    {
     "name": "stderr",
     "output_type": "stream",
     "text": [
      "/Users/miljanstojiljkovic/anaconda3/lib/python3.6/site-packages/sklearn/preprocessing/label.py:151: DeprecationWarning: The truth value of an empty array is ambiguous. Returning False, but in future this will result in an error. Use `array.size > 0` to check that an array is not empty.\n",
      "  if diff:\n",
      "/Users/miljanstojiljkovic/anaconda3/lib/python3.6/site-packages/sklearn/preprocessing/label.py:151: DeprecationWarning: The truth value of an empty array is ambiguous. Returning False, but in future this will result in an error. Use `array.size > 0` to check that an array is not empty.\n",
      "  if diff:\n"
     ]
    },
    {
     "name": "stdout",
     "output_type": "stream",
     "text": [
      "[CV]  colsample_bytree=0.6, gamma=0.5, max_depth=5, min_child_weight=5, subsample=0.6, score=0.9813218390804598, total= 1.8min\n",
      "[CV] colsample_bytree=0.6, gamma=0.5, max_depth=5, min_child_weight=5, subsample=0.6 \n"
     ]
    },
    {
     "name": "stderr",
     "output_type": "stream",
     "text": [
      "/Users/miljanstojiljkovic/anaconda3/lib/python3.6/site-packages/sklearn/preprocessing/label.py:151: DeprecationWarning: The truth value of an empty array is ambiguous. Returning False, but in future this will result in an error. Use `array.size > 0` to check that an array is not empty.\n",
      "  if diff:\n",
      "/Users/miljanstojiljkovic/anaconda3/lib/python3.6/site-packages/sklearn/preprocessing/label.py:151: DeprecationWarning: The truth value of an empty array is ambiguous. Returning False, but in future this will result in an error. Use `array.size > 0` to check that an array is not empty.\n",
      "  if diff:\n"
     ]
    },
    {
     "name": "stdout",
     "output_type": "stream",
     "text": [
      "[CV]  colsample_bytree=0.6, gamma=0.5, max_depth=5, min_child_weight=5, subsample=0.6, score=0.9754689754689755, total= 1.8min\n",
      "[CV] colsample_bytree=0.6, gamma=0.5, max_depth=5, min_child_weight=5, subsample=0.6 \n"
     ]
    },
    {
     "name": "stderr",
     "output_type": "stream",
     "text": [
      "[Parallel(n_jobs=-1)]: Done  10 tasks      | elapsed:  6.5min\n",
      "/Users/miljanstojiljkovic/anaconda3/lib/python3.6/site-packages/sklearn/preprocessing/label.py:151: DeprecationWarning: The truth value of an empty array is ambiguous. Returning False, but in future this will result in an error. Use `array.size > 0` to check that an array is not empty.\n",
      "  if diff:\n",
      "/Users/miljanstojiljkovic/anaconda3/lib/python3.6/site-packages/sklearn/preprocessing/label.py:151: DeprecationWarning: The truth value of an empty array is ambiguous. Returning False, but in future this will result in an error. Use `array.size > 0` to check that an array is not empty.\n",
      "  if diff:\n"
     ]
    },
    {
     "name": "stdout",
     "output_type": "stream",
     "text": [
      "[CV]  colsample_bytree=0.6, gamma=0.5, max_depth=5, min_child_weight=1, subsample=0.8, score=0.984081041968162, total= 2.3min\n",
      "[CV] colsample_bytree=0.6, gamma=0.5, max_depth=5, min_child_weight=5, subsample=0.6 \n"
     ]
    },
    {
     "name": "stderr",
     "output_type": "stream",
     "text": [
      "/Users/miljanstojiljkovic/anaconda3/lib/python3.6/site-packages/sklearn/preprocessing/label.py:151: DeprecationWarning: The truth value of an empty array is ambiguous. Returning False, but in future this will result in an error. Use `array.size > 0` to check that an array is not empty.\n",
      "  if diff:\n",
      "/Users/miljanstojiljkovic/anaconda3/lib/python3.6/site-packages/sklearn/preprocessing/label.py:151: DeprecationWarning: The truth value of an empty array is ambiguous. Returning False, but in future this will result in an error. Use `array.size > 0` to check that an array is not empty.\n",
      "  if diff:\n"
     ]
    },
    {
     "name": "stdout",
     "output_type": "stream",
     "text": [
      "[CV]  colsample_bytree=0.6, gamma=0.5, max_depth=5, min_child_weight=1, subsample=0.8, score=0.9796511627906976, total= 2.3min\n",
      "[CV] colsample_bytree=0.6, gamma=0.5, max_depth=5, min_child_weight=5, subsample=0.8 \n"
     ]
    },
    {
     "name": "stderr",
     "output_type": "stream",
     "text": [
      "/Users/miljanstojiljkovic/anaconda3/lib/python3.6/site-packages/sklearn/preprocessing/label.py:151: DeprecationWarning: The truth value of an empty array is ambiguous. Returning False, but in future this will result in an error. Use `array.size > 0` to check that an array is not empty.\n",
      "  if diff:\n",
      "/Users/miljanstojiljkovic/anaconda3/lib/python3.6/site-packages/sklearn/preprocessing/label.py:151: DeprecationWarning: The truth value of an empty array is ambiguous. Returning False, but in future this will result in an error. Use `array.size > 0` to check that an array is not empty.\n",
      "  if diff:\n"
     ]
    },
    {
     "name": "stdout",
     "output_type": "stream",
     "text": [
      "[CV]  colsample_bytree=0.6, gamma=0.5, max_depth=5, min_child_weight=5, subsample=0.6, score=0.9942196531791907, total= 1.8min\n",
      "[CV] colsample_bytree=0.6, gamma=0.5, max_depth=5, min_child_weight=5, subsample=0.8 \n"
     ]
    },
    {
     "name": "stderr",
     "output_type": "stream",
     "text": [
      "/Users/miljanstojiljkovic/anaconda3/lib/python3.6/site-packages/sklearn/preprocessing/label.py:151: DeprecationWarning: The truth value of an empty array is ambiguous. Returning False, but in future this will result in an error. Use `array.size > 0` to check that an array is not empty.\n",
      "  if diff:\n",
      "/Users/miljanstojiljkovic/anaconda3/lib/python3.6/site-packages/sklearn/preprocessing/label.py:151: DeprecationWarning: The truth value of an empty array is ambiguous. Returning False, but in future this will result in an error. Use `array.size > 0` to check that an array is not empty.\n",
      "  if diff:\n"
     ]
    },
    {
     "name": "stdout",
     "output_type": "stream",
     "text": [
      "[CV]  colsample_bytree=0.6, gamma=0.5, max_depth=5, min_child_weight=5, subsample=0.6, score=0.9797395079594791, total= 1.8min\n",
      "[CV] colsample_bytree=0.6, gamma=0.5, max_depth=5, min_child_weight=5, subsample=0.8 \n"
     ]
    },
    {
     "name": "stderr",
     "output_type": "stream",
     "text": [
      "/Users/miljanstojiljkovic/anaconda3/lib/python3.6/site-packages/sklearn/preprocessing/label.py:151: DeprecationWarning: The truth value of an empty array is ambiguous. Returning False, but in future this will result in an error. Use `array.size > 0` to check that an array is not empty.\n",
      "  if diff:\n",
      "/Users/miljanstojiljkovic/anaconda3/lib/python3.6/site-packages/sklearn/preprocessing/label.py:151: DeprecationWarning: The truth value of an empty array is ambiguous. Returning False, but in future this will result in an error. Use `array.size > 0` to check that an array is not empty.\n",
      "  if diff:\n"
     ]
    },
    {
     "name": "stdout",
     "output_type": "stream",
     "text": [
      "[CV]  colsample_bytree=0.6, gamma=0.5, max_depth=5, min_child_weight=5, subsample=0.6, score=0.9738372093023255, total= 1.8min\n",
      "[CV] colsample_bytree=0.6, gamma=0.5, max_depth=5, min_child_weight=5, subsample=0.8 \n"
     ]
    },
    {
     "name": "stderr",
     "output_type": "stream",
     "text": [
      "/Users/miljanstojiljkovic/anaconda3/lib/python3.6/site-packages/sklearn/preprocessing/label.py:151: DeprecationWarning: The truth value of an empty array is ambiguous. Returning False, but in future this will result in an error. Use `array.size > 0` to check that an array is not empty.\n",
      "  if diff:\n",
      "/Users/miljanstojiljkovic/anaconda3/lib/python3.6/site-packages/sklearn/preprocessing/label.py:151: DeprecationWarning: The truth value of an empty array is ambiguous. Returning False, but in future this will result in an error. Use `array.size > 0` to check that an array is not empty.\n",
      "  if diff:\n"
     ]
    },
    {
     "name": "stdout",
     "output_type": "stream",
     "text": [
      "[CV]  colsample_bytree=0.6, gamma=0.5, max_depth=5, min_child_weight=5, subsample=0.8, score=0.9827586206896551, total= 1.9min\n",
      "[CV] colsample_bytree=0.6, gamma=0.5, max_depth=5, min_child_weight=5, subsample=0.8 \n"
     ]
    },
    {
     "name": "stderr",
     "output_type": "stream",
     "text": [
      "/Users/miljanstojiljkovic/anaconda3/lib/python3.6/site-packages/sklearn/preprocessing/label.py:151: DeprecationWarning: The truth value of an empty array is ambiguous. Returning False, but in future this will result in an error. Use `array.size > 0` to check that an array is not empty.\n",
      "  if diff:\n",
      "/Users/miljanstojiljkovic/anaconda3/lib/python3.6/site-packages/sklearn/preprocessing/label.py:151: DeprecationWarning: The truth value of an empty array is ambiguous. Returning False, but in future this will result in an error. Use `array.size > 0` to check that an array is not empty.\n",
      "  if diff:\n"
     ]
    },
    {
     "name": "stdout",
     "output_type": "stream",
     "text": [
      "[CV]  colsample_bytree=0.6, gamma=0.5, max_depth=5, min_child_weight=5, subsample=0.8, score=0.974025974025974, total= 1.9min\n",
      "[CV] colsample_bytree=0.6, gamma=0.5, max_depth=7, min_child_weight=1, subsample=0.6 \n"
     ]
    },
    {
     "name": "stderr",
     "output_type": "stream",
     "text": [
      "[Parallel(n_jobs=-1)]: Done  17 tasks      | elapsed: 10.1min\n",
      "/Users/miljanstojiljkovic/anaconda3/lib/python3.6/site-packages/sklearn/preprocessing/label.py:151: DeprecationWarning: The truth value of an empty array is ambiguous. Returning False, but in future this will result in an error. Use `array.size > 0` to check that an array is not empty.\n",
      "  if diff:\n",
      "/Users/miljanstojiljkovic/anaconda3/lib/python3.6/site-packages/sklearn/preprocessing/label.py:151: DeprecationWarning: The truth value of an empty array is ambiguous. Returning False, but in future this will result in an error. Use `array.size > 0` to check that an array is not empty.\n",
      "  if diff:\n"
     ]
    },
    {
     "name": "stdout",
     "output_type": "stream",
     "text": [
      "[CV]  colsample_bytree=0.6, gamma=0.5, max_depth=5, min_child_weight=5, subsample=0.8, score=0.9942196531791907, total= 2.0min\n",
      "[CV] colsample_bytree=0.6, gamma=0.5, max_depth=7, min_child_weight=1, subsample=0.6 \n"
     ]
    },
    {
     "name": "stderr",
     "output_type": "stream",
     "text": [
      "/Users/miljanstojiljkovic/anaconda3/lib/python3.6/site-packages/sklearn/preprocessing/label.py:151: DeprecationWarning: The truth value of an empty array is ambiguous. Returning False, but in future this will result in an error. Use `array.size > 0` to check that an array is not empty.\n",
      "  if diff:\n",
      "/Users/miljanstojiljkovic/anaconda3/lib/python3.6/site-packages/sklearn/preprocessing/label.py:151: DeprecationWarning: The truth value of an empty array is ambiguous. Returning False, but in future this will result in an error. Use `array.size > 0` to check that an array is not empty.\n",
      "  if diff:\n"
     ]
    },
    {
     "name": "stdout",
     "output_type": "stream",
     "text": [
      "[CV]  colsample_bytree=0.6, gamma=0.5, max_depth=5, min_child_weight=5, subsample=0.8, score=0.9811866859623734, total= 1.9min\n",
      "[CV] colsample_bytree=0.6, gamma=0.5, max_depth=7, min_child_weight=1, subsample=0.6 \n"
     ]
    },
    {
     "name": "stderr",
     "output_type": "stream",
     "text": [
      "/Users/miljanstojiljkovic/anaconda3/lib/python3.6/site-packages/sklearn/preprocessing/label.py:151: DeprecationWarning: The truth value of an empty array is ambiguous. Returning False, but in future this will result in an error. Use `array.size > 0` to check that an array is not empty.\n",
      "  if diff:\n",
      "/Users/miljanstojiljkovic/anaconda3/lib/python3.6/site-packages/sklearn/preprocessing/label.py:151: DeprecationWarning: The truth value of an empty array is ambiguous. Returning False, but in future this will result in an error. Use `array.size > 0` to check that an array is not empty.\n",
      "  if diff:\n"
     ]
    },
    {
     "name": "stdout",
     "output_type": "stream",
     "text": [
      "[CV]  colsample_bytree=0.6, gamma=0.5, max_depth=5, min_child_weight=5, subsample=0.8, score=0.9767441860465116, total= 2.0min\n",
      "[CV] colsample_bytree=0.6, gamma=0.5, max_depth=7, min_child_weight=1, subsample=0.6 \n"
     ]
    },
    {
     "name": "stderr",
     "output_type": "stream",
     "text": [
      "/Users/miljanstojiljkovic/anaconda3/lib/python3.6/site-packages/sklearn/preprocessing/label.py:151: DeprecationWarning: The truth value of an empty array is ambiguous. Returning False, but in future this will result in an error. Use `array.size > 0` to check that an array is not empty.\n",
      "  if diff:\n",
      "/Users/miljanstojiljkovic/anaconda3/lib/python3.6/site-packages/sklearn/preprocessing/label.py:151: DeprecationWarning: The truth value of an empty array is ambiguous. Returning False, but in future this will result in an error. Use `array.size > 0` to check that an array is not empty.\n",
      "  if diff:\n"
     ]
    },
    {
     "name": "stdout",
     "output_type": "stream",
     "text": [
      "[CV]  colsample_bytree=0.6, gamma=0.5, max_depth=7, min_child_weight=1, subsample=0.6, score=0.9827586206896551, total= 2.3min\n",
      "[CV] colsample_bytree=0.6, gamma=0.5, max_depth=7, min_child_weight=1, subsample=0.6 \n"
     ]
    },
    {
     "name": "stderr",
     "output_type": "stream",
     "text": [
      "/Users/miljanstojiljkovic/anaconda3/lib/python3.6/site-packages/sklearn/preprocessing/label.py:151: DeprecationWarning: The truth value of an empty array is ambiguous. Returning False, but in future this will result in an error. Use `array.size > 0` to check that an array is not empty.\n",
      "  if diff:\n",
      "/Users/miljanstojiljkovic/anaconda3/lib/python3.6/site-packages/sklearn/preprocessing/label.py:151: DeprecationWarning: The truth value of an empty array is ambiguous. Returning False, but in future this will result in an error. Use `array.size > 0` to check that an array is not empty.\n",
      "  if diff:\n"
     ]
    },
    {
     "name": "stdout",
     "output_type": "stream",
     "text": [
      "[CV]  colsample_bytree=0.6, gamma=0.5, max_depth=7, min_child_weight=1, subsample=0.6, score=0.9783549783549783, total= 2.3min\n",
      "[CV] colsample_bytree=0.6, gamma=0.5, max_depth=7, min_child_weight=1, subsample=0.8 \n"
     ]
    },
    {
     "name": "stderr",
     "output_type": "stream",
     "text": [
      "/Users/miljanstojiljkovic/anaconda3/lib/python3.6/site-packages/sklearn/preprocessing/label.py:151: DeprecationWarning: The truth value of an empty array is ambiguous. Returning False, but in future this will result in an error. Use `array.size > 0` to check that an array is not empty.\n",
      "  if diff:\n",
      "/Users/miljanstojiljkovic/anaconda3/lib/python3.6/site-packages/sklearn/preprocessing/label.py:151: DeprecationWarning: The truth value of an empty array is ambiguous. Returning False, but in future this will result in an error. Use `array.size > 0` to check that an array is not empty.\n",
      "  if diff:\n"
     ]
    },
    {
     "name": "stdout",
     "output_type": "stream",
     "text": [
      "[CV]  colsample_bytree=0.6, gamma=0.5, max_depth=7, min_child_weight=1, subsample=0.6, score=0.9956647398843931, total= 2.3min\n",
      "[CV] colsample_bytree=0.6, gamma=0.5, max_depth=7, min_child_weight=1, subsample=0.8 \n"
     ]
    },
    {
     "name": "stderr",
     "output_type": "stream",
     "text": [
      "/Users/miljanstojiljkovic/anaconda3/lib/python3.6/site-packages/sklearn/preprocessing/label.py:151: DeprecationWarning: The truth value of an empty array is ambiguous. Returning False, but in future this will result in an error. Use `array.size > 0` to check that an array is not empty.\n",
      "  if diff:\n",
      "/Users/miljanstojiljkovic/anaconda3/lib/python3.6/site-packages/sklearn/preprocessing/label.py:151: DeprecationWarning: The truth value of an empty array is ambiguous. Returning False, but in future this will result in an error. Use `array.size > 0` to check that an array is not empty.\n",
      "  if diff:\n"
     ]
    },
    {
     "name": "stdout",
     "output_type": "stream",
     "text": [
      "[CV]  colsample_bytree=0.6, gamma=0.5, max_depth=7, min_child_weight=1, subsample=0.6, score=0.9855282199710564, total= 2.3min\n",
      "[CV] colsample_bytree=0.6, gamma=0.5, max_depth=7, min_child_weight=1, subsample=0.8 \n"
     ]
    },
    {
     "name": "stderr",
     "output_type": "stream",
     "text": [
      "[Parallel(n_jobs=-1)]: Done  24 tasks      | elapsed: 13.2min\n",
      "/Users/miljanstojiljkovic/anaconda3/lib/python3.6/site-packages/sklearn/preprocessing/label.py:151: DeprecationWarning: The truth value of an empty array is ambiguous. Returning False, but in future this will result in an error. Use `array.size > 0` to check that an array is not empty.\n",
      "  if diff:\n",
      "/Users/miljanstojiljkovic/anaconda3/lib/python3.6/site-packages/sklearn/preprocessing/label.py:151: DeprecationWarning: The truth value of an empty array is ambiguous. Returning False, but in future this will result in an error. Use `array.size > 0` to check that an array is not empty.\n",
      "  if diff:\n"
     ]
    },
    {
     "name": "stdout",
     "output_type": "stream",
     "text": [
      "[CV]  colsample_bytree=0.6, gamma=0.5, max_depth=7, min_child_weight=1, subsample=0.6, score=0.9781976744186046, total= 2.3min\n",
      "[CV] colsample_bytree=0.6, gamma=0.5, max_depth=7, min_child_weight=1, subsample=0.8 \n"
     ]
    },
    {
     "name": "stderr",
     "output_type": "stream",
     "text": [
      "/Users/miljanstojiljkovic/anaconda3/lib/python3.6/site-packages/sklearn/preprocessing/label.py:151: DeprecationWarning: The truth value of an empty array is ambiguous. Returning False, but in future this will result in an error. Use `array.size > 0` to check that an array is not empty.\n",
      "  if diff:\n",
      "/Users/miljanstojiljkovic/anaconda3/lib/python3.6/site-packages/sklearn/preprocessing/label.py:151: DeprecationWarning: The truth value of an empty array is ambiguous. Returning False, but in future this will result in an error. Use `array.size > 0` to check that an array is not empty.\n",
      "  if diff:\n"
     ]
    },
    {
     "name": "stdout",
     "output_type": "stream",
     "text": [
      "[CV]  colsample_bytree=0.6, gamma=0.5, max_depth=7, min_child_weight=1, subsample=0.8, score=0.9841954022988506, total= 2.5min\n",
      "[CV] colsample_bytree=0.6, gamma=0.5, max_depth=7, min_child_weight=1, subsample=0.8 \n"
     ]
    },
    {
     "name": "stderr",
     "output_type": "stream",
     "text": [
      "/Users/miljanstojiljkovic/anaconda3/lib/python3.6/site-packages/sklearn/preprocessing/label.py:151: DeprecationWarning: The truth value of an empty array is ambiguous. Returning False, but in future this will result in an error. Use `array.size > 0` to check that an array is not empty.\n",
      "  if diff:\n",
      "/Users/miljanstojiljkovic/anaconda3/lib/python3.6/site-packages/sklearn/preprocessing/label.py:151: DeprecationWarning: The truth value of an empty array is ambiguous. Returning False, but in future this will result in an error. Use `array.size > 0` to check that an array is not empty.\n",
      "  if diff:\n"
     ]
    },
    {
     "name": "stdout",
     "output_type": "stream",
     "text": [
      "[CV]  colsample_bytree=0.6, gamma=0.5, max_depth=7, min_child_weight=1, subsample=0.8, score=0.9783549783549783, total= 2.5min\n",
      "[CV] colsample_bytree=0.6, gamma=0.5, max_depth=7, min_child_weight=5, subsample=0.6 \n"
     ]
    },
    {
     "name": "stderr",
     "output_type": "stream",
     "text": [
      "/Users/miljanstojiljkovic/anaconda3/lib/python3.6/site-packages/sklearn/preprocessing/label.py:151: DeprecationWarning: The truth value of an empty array is ambiguous. Returning False, but in future this will result in an error. Use `array.size > 0` to check that an array is not empty.\n",
      "  if diff:\n",
      "/Users/miljanstojiljkovic/anaconda3/lib/python3.6/site-packages/sklearn/preprocessing/label.py:151: DeprecationWarning: The truth value of an empty array is ambiguous. Returning False, but in future this will result in an error. Use `array.size > 0` to check that an array is not empty.\n",
      "  if diff:\n"
     ]
    },
    {
     "name": "stdout",
     "output_type": "stream",
     "text": [
      "[CV]  colsample_bytree=0.6, gamma=0.5, max_depth=7, min_child_weight=1, subsample=0.8, score=0.9971098265895953, total= 2.6min\n",
      "[CV] colsample_bytree=0.6, gamma=0.5, max_depth=7, min_child_weight=5, subsample=0.6 \n"
     ]
    },
    {
     "name": "stderr",
     "output_type": "stream",
     "text": [
      "/Users/miljanstojiljkovic/anaconda3/lib/python3.6/site-packages/sklearn/preprocessing/label.py:151: DeprecationWarning: The truth value of an empty array is ambiguous. Returning False, but in future this will result in an error. Use `array.size > 0` to check that an array is not empty.\n",
      "  if diff:\n",
      "/Users/miljanstojiljkovic/anaconda3/lib/python3.6/site-packages/sklearn/preprocessing/label.py:151: DeprecationWarning: The truth value of an empty array is ambiguous. Returning False, but in future this will result in an error. Use `array.size > 0` to check that an array is not empty.\n",
      "  if diff:\n"
     ]
    },
    {
     "name": "stdout",
     "output_type": "stream",
     "text": [
      "[CV]  colsample_bytree=0.6, gamma=0.5, max_depth=7, min_child_weight=5, subsample=0.6, score=0.9813218390804598, total= 1.9min\n",
      "[CV] colsample_bytree=0.6, gamma=0.5, max_depth=7, min_child_weight=5, subsample=0.6 \n"
     ]
    },
    {
     "name": "stderr",
     "output_type": "stream",
     "text": [
      "/Users/miljanstojiljkovic/anaconda3/lib/python3.6/site-packages/sklearn/preprocessing/label.py:151: DeprecationWarning: The truth value of an empty array is ambiguous. Returning False, but in future this will result in an error. Use `array.size > 0` to check that an array is not empty.\n",
      "  if diff:\n",
      "/Users/miljanstojiljkovic/anaconda3/lib/python3.6/site-packages/sklearn/preprocessing/label.py:151: DeprecationWarning: The truth value of an empty array is ambiguous. Returning False, but in future this will result in an error. Use `array.size > 0` to check that an array is not empty.\n",
      "  if diff:\n"
     ]
    },
    {
     "name": "stdout",
     "output_type": "stream",
     "text": [
      "[CV]  colsample_bytree=0.6, gamma=0.5, max_depth=7, min_child_weight=1, subsample=0.8, score=0.9855282199710564, total= 2.6min\n",
      "[CV] colsample_bytree=0.6, gamma=0.5, max_depth=7, min_child_weight=5, subsample=0.6 \n"
     ]
    },
    {
     "name": "stderr",
     "output_type": "stream",
     "text": [
      "/Users/miljanstojiljkovic/anaconda3/lib/python3.6/site-packages/sklearn/preprocessing/label.py:151: DeprecationWarning: The truth value of an empty array is ambiguous. Returning False, but in future this will result in an error. Use `array.size > 0` to check that an array is not empty.\n",
      "  if diff:\n",
      "/Users/miljanstojiljkovic/anaconda3/lib/python3.6/site-packages/sklearn/preprocessing/label.py:151: DeprecationWarning: The truth value of an empty array is ambiguous. Returning False, but in future this will result in an error. Use `array.size > 0` to check that an array is not empty.\n",
      "  if diff:\n"
     ]
    },
    {
     "name": "stdout",
     "output_type": "stream",
     "text": [
      "[CV]  colsample_bytree=0.6, gamma=0.5, max_depth=7, min_child_weight=5, subsample=0.6, score=0.9754689754689755, total= 1.9min\n",
      "[CV] colsample_bytree=0.6, gamma=0.5, max_depth=7, min_child_weight=5, subsample=0.6 \n"
     ]
    },
    {
     "name": "stderr",
     "output_type": "stream",
     "text": [
      "/Users/miljanstojiljkovic/anaconda3/lib/python3.6/site-packages/sklearn/preprocessing/label.py:151: DeprecationWarning: The truth value of an empty array is ambiguous. Returning False, but in future this will result in an error. Use `array.size > 0` to check that an array is not empty.\n",
      "  if diff:\n",
      "/Users/miljanstojiljkovic/anaconda3/lib/python3.6/site-packages/sklearn/preprocessing/label.py:151: DeprecationWarning: The truth value of an empty array is ambiguous. Returning False, but in future this will result in an error. Use `array.size > 0` to check that an array is not empty.\n",
      "  if diff:\n"
     ]
    },
    {
     "name": "stdout",
     "output_type": "stream",
     "text": [
      "[CV]  colsample_bytree=0.6, gamma=0.5, max_depth=7, min_child_weight=1, subsample=0.8, score=0.9811046511627907, total= 2.6min\n",
      "[CV] colsample_bytree=0.6, gamma=0.5, max_depth=7, min_child_weight=5, subsample=0.8 \n"
     ]
    },
    {
     "name": "stderr",
     "output_type": "stream",
     "text": [
      "/Users/miljanstojiljkovic/anaconda3/lib/python3.6/site-packages/sklearn/preprocessing/label.py:151: DeprecationWarning: The truth value of an empty array is ambiguous. Returning False, but in future this will result in an error. Use `array.size > 0` to check that an array is not empty.\n",
      "  if diff:\n",
      "/Users/miljanstojiljkovic/anaconda3/lib/python3.6/site-packages/sklearn/preprocessing/label.py:151: DeprecationWarning: The truth value of an empty array is ambiguous. Returning False, but in future this will result in an error. Use `array.size > 0` to check that an array is not empty.\n",
      "  if diff:\n"
     ]
    },
    {
     "name": "stdout",
     "output_type": "stream",
     "text": [
      "[CV]  colsample_bytree=0.6, gamma=0.5, max_depth=7, min_child_weight=5, subsample=0.6, score=0.9942196531791907, total= 1.9min\n",
      "[CV] colsample_bytree=0.6, gamma=0.5, max_depth=7, min_child_weight=5, subsample=0.8 \n"
     ]
    },
    {
     "name": "stderr",
     "output_type": "stream",
     "text": [
      "[Parallel(n_jobs=-1)]: Done  33 tasks      | elapsed: 19.2min\n",
      "/Users/miljanstojiljkovic/anaconda3/lib/python3.6/site-packages/sklearn/preprocessing/label.py:151: DeprecationWarning: The truth value of an empty array is ambiguous. Returning False, but in future this will result in an error. Use `array.size > 0` to check that an array is not empty.\n",
      "  if diff:\n",
      "/Users/miljanstojiljkovic/anaconda3/lib/python3.6/site-packages/sklearn/preprocessing/label.py:151: DeprecationWarning: The truth value of an empty array is ambiguous. Returning False, but in future this will result in an error. Use `array.size > 0` to check that an array is not empty.\n",
      "  if diff:\n"
     ]
    },
    {
     "name": "stdout",
     "output_type": "stream",
     "text": [
      "[CV]  colsample_bytree=0.6, gamma=0.5, max_depth=7, min_child_weight=5, subsample=0.6, score=0.9826338639652678, total= 1.9min\n",
      "[CV] colsample_bytree=0.6, gamma=0.5, max_depth=7, min_child_weight=5, subsample=0.8 \n"
     ]
    },
    {
     "name": "stderr",
     "output_type": "stream",
     "text": [
      "/Users/miljanstojiljkovic/anaconda3/lib/python3.6/site-packages/sklearn/preprocessing/label.py:151: DeprecationWarning: The truth value of an empty array is ambiguous. Returning False, but in future this will result in an error. Use `array.size > 0` to check that an array is not empty.\n",
      "  if diff:\n",
      "/Users/miljanstojiljkovic/anaconda3/lib/python3.6/site-packages/sklearn/preprocessing/label.py:151: DeprecationWarning: The truth value of an empty array is ambiguous. Returning False, but in future this will result in an error. Use `array.size > 0` to check that an array is not empty.\n",
      "  if diff:\n"
     ]
    },
    {
     "name": "stdout",
     "output_type": "stream",
     "text": [
      "[CV]  colsample_bytree=0.6, gamma=0.5, max_depth=7, min_child_weight=5, subsample=0.6, score=0.9752906976744186, total= 1.9min\n",
      "[CV] colsample_bytree=0.6, gamma=0.5, max_depth=7, min_child_weight=5, subsample=0.8 \n"
     ]
    },
    {
     "name": "stderr",
     "output_type": "stream",
     "text": [
      "/Users/miljanstojiljkovic/anaconda3/lib/python3.6/site-packages/sklearn/preprocessing/label.py:151: DeprecationWarning: The truth value of an empty array is ambiguous. Returning False, but in future this will result in an error. Use `array.size > 0` to check that an array is not empty.\n",
      "  if diff:\n",
      "/Users/miljanstojiljkovic/anaconda3/lib/python3.6/site-packages/sklearn/preprocessing/label.py:151: DeprecationWarning: The truth value of an empty array is ambiguous. Returning False, but in future this will result in an error. Use `array.size > 0` to check that an array is not empty.\n",
      "  if diff:\n"
     ]
    },
    {
     "name": "stdout",
     "output_type": "stream",
     "text": [
      "[CV]  colsample_bytree=0.6, gamma=0.5, max_depth=7, min_child_weight=5, subsample=0.8, score=0.9827586206896551, total= 2.1min\n",
      "[CV] colsample_bytree=0.6, gamma=0.5, max_depth=7, min_child_weight=5, subsample=0.8 \n"
     ]
    },
    {
     "name": "stderr",
     "output_type": "stream",
     "text": [
      "/Users/miljanstojiljkovic/anaconda3/lib/python3.6/site-packages/sklearn/preprocessing/label.py:151: DeprecationWarning: The truth value of an empty array is ambiguous. Returning False, but in future this will result in an error. Use `array.size > 0` to check that an array is not empty.\n",
      "  if diff:\n",
      "/Users/miljanstojiljkovic/anaconda3/lib/python3.6/site-packages/sklearn/preprocessing/label.py:151: DeprecationWarning: The truth value of an empty array is ambiguous. Returning False, but in future this will result in an error. Use `array.size > 0` to check that an array is not empty.\n",
      "  if diff:\n"
     ]
    },
    {
     "name": "stdout",
     "output_type": "stream",
     "text": [
      "[CV]  colsample_bytree=0.6, gamma=0.5, max_depth=7, min_child_weight=5, subsample=0.8, score=0.974025974025974, total= 2.1min\n",
      "[CV] colsample_bytree=0.6, gamma=2, max_depth=5, min_child_weight=1, subsample=0.6 \n"
     ]
    },
    {
     "name": "stderr",
     "output_type": "stream",
     "text": [
      "/Users/miljanstojiljkovic/anaconda3/lib/python3.6/site-packages/sklearn/preprocessing/label.py:151: DeprecationWarning: The truth value of an empty array is ambiguous. Returning False, but in future this will result in an error. Use `array.size > 0` to check that an array is not empty.\n",
      "  if diff:\n",
      "/Users/miljanstojiljkovic/anaconda3/lib/python3.6/site-packages/sklearn/preprocessing/label.py:151: DeprecationWarning: The truth value of an empty array is ambiguous. Returning False, but in future this will result in an error. Use `array.size > 0` to check that an array is not empty.\n",
      "  if diff:\n"
     ]
    },
    {
     "name": "stdout",
     "output_type": "stream",
     "text": [
      "[CV]  colsample_bytree=0.6, gamma=0.5, max_depth=7, min_child_weight=5, subsample=0.8, score=0.9942196531791907, total= 2.1min\n",
      "[CV] colsample_bytree=0.6, gamma=2, max_depth=5, min_child_weight=1, subsample=0.6 \n"
     ]
    },
    {
     "name": "stderr",
     "output_type": "stream",
     "text": [
      "/Users/miljanstojiljkovic/anaconda3/lib/python3.6/site-packages/sklearn/preprocessing/label.py:151: DeprecationWarning: The truth value of an empty array is ambiguous. Returning False, but in future this will result in an error. Use `array.size > 0` to check that an array is not empty.\n",
      "  if diff:\n",
      "/Users/miljanstojiljkovic/anaconda3/lib/python3.6/site-packages/sklearn/preprocessing/label.py:151: DeprecationWarning: The truth value of an empty array is ambiguous. Returning False, but in future this will result in an error. Use `array.size > 0` to check that an array is not empty.\n",
      "  if diff:\n"
     ]
    },
    {
     "name": "stdout",
     "output_type": "stream",
     "text": [
      "[CV]  colsample_bytree=0.6, gamma=0.5, max_depth=7, min_child_weight=5, subsample=0.8, score=0.9811866859623734, total= 2.1min\n",
      "[CV] colsample_bytree=0.6, gamma=2, max_depth=5, min_child_weight=1, subsample=0.6 \n"
     ]
    },
    {
     "name": "stderr",
     "output_type": "stream",
     "text": [
      "/Users/miljanstojiljkovic/anaconda3/lib/python3.6/site-packages/sklearn/preprocessing/label.py:151: DeprecationWarning: The truth value of an empty array is ambiguous. Returning False, but in future this will result in an error. Use `array.size > 0` to check that an array is not empty.\n",
      "  if diff:\n",
      "/Users/miljanstojiljkovic/anaconda3/lib/python3.6/site-packages/sklearn/preprocessing/label.py:151: DeprecationWarning: The truth value of an empty array is ambiguous. Returning False, but in future this will result in an error. Use `array.size > 0` to check that an array is not empty.\n",
      "  if diff:\n"
     ]
    },
    {
     "name": "stdout",
     "output_type": "stream",
     "text": [
      "[CV]  colsample_bytree=0.6, gamma=0.5, max_depth=7, min_child_weight=5, subsample=0.8, score=0.9781976744186046, total= 2.2min\n",
      "[CV] colsample_bytree=0.6, gamma=2, max_depth=5, min_child_weight=1, subsample=0.6 \n"
     ]
    },
    {
     "name": "stderr",
     "output_type": "stream",
     "text": [
      "/Users/miljanstojiljkovic/anaconda3/lib/python3.6/site-packages/sklearn/preprocessing/label.py:151: DeprecationWarning: The truth value of an empty array is ambiguous. Returning False, but in future this will result in an error. Use `array.size > 0` to check that an array is not empty.\n",
      "  if diff:\n",
      "/Users/miljanstojiljkovic/anaconda3/lib/python3.6/site-packages/sklearn/preprocessing/label.py:151: DeprecationWarning: The truth value of an empty array is ambiguous. Returning False, but in future this will result in an error. Use `array.size > 0` to check that an array is not empty.\n",
      "  if diff:\n"
     ]
    },
    {
     "name": "stdout",
     "output_type": "stream",
     "text": [
      "[CV]  colsample_bytree=0.6, gamma=2, max_depth=5, min_child_weight=1, subsample=0.6, score=0.978448275862069, total= 2.0min\n",
      "[CV] colsample_bytree=0.6, gamma=2, max_depth=5, min_child_weight=1, subsample=0.6 \n"
     ]
    },
    {
     "name": "stderr",
     "output_type": "stream",
     "text": [
      "/Users/miljanstojiljkovic/anaconda3/lib/python3.6/site-packages/sklearn/preprocessing/label.py:151: DeprecationWarning: The truth value of an empty array is ambiguous. Returning False, but in future this will result in an error. Use `array.size > 0` to check that an array is not empty.\n",
      "  if diff:\n",
      "/Users/miljanstojiljkovic/anaconda3/lib/python3.6/site-packages/sklearn/preprocessing/label.py:151: DeprecationWarning: The truth value of an empty array is ambiguous. Returning False, but in future this will result in an error. Use `array.size > 0` to check that an array is not empty.\n",
      "  if diff:\n"
     ]
    },
    {
     "name": "stdout",
     "output_type": "stream",
     "text": [
      "[CV]  colsample_bytree=0.6, gamma=2, max_depth=5, min_child_weight=1, subsample=0.6, score=0.974025974025974, total= 2.0min\n",
      "[CV] colsample_bytree=0.6, gamma=2, max_depth=5, min_child_weight=1, subsample=0.8 \n"
     ]
    },
    {
     "name": "stderr",
     "output_type": "stream",
     "text": [
      "[Parallel(n_jobs=-1)]: Done  42 tasks      | elapsed: 23.6min\n",
      "/Users/miljanstojiljkovic/anaconda3/lib/python3.6/site-packages/sklearn/preprocessing/label.py:151: DeprecationWarning: The truth value of an empty array is ambiguous. Returning False, but in future this will result in an error. Use `array.size > 0` to check that an array is not empty.\n",
      "  if diff:\n",
      "/Users/miljanstojiljkovic/anaconda3/lib/python3.6/site-packages/sklearn/preprocessing/label.py:151: DeprecationWarning: The truth value of an empty array is ambiguous. Returning False, but in future this will result in an error. Use `array.size > 0` to check that an array is not empty.\n",
      "  if diff:\n"
     ]
    },
    {
     "name": "stdout",
     "output_type": "stream",
     "text": [
      "[CV]  colsample_bytree=0.6, gamma=2, max_depth=5, min_child_weight=1, subsample=0.6, score=0.9927745664739884, total= 2.1min\n",
      "[CV] colsample_bytree=0.6, gamma=2, max_depth=5, min_child_weight=1, subsample=0.8 \n"
     ]
    },
    {
     "name": "stderr",
     "output_type": "stream",
     "text": [
      "/Users/miljanstojiljkovic/anaconda3/lib/python3.6/site-packages/sklearn/preprocessing/label.py:151: DeprecationWarning: The truth value of an empty array is ambiguous. Returning False, but in future this will result in an error. Use `array.size > 0` to check that an array is not empty.\n",
      "  if diff:\n",
      "/Users/miljanstojiljkovic/anaconda3/lib/python3.6/site-packages/sklearn/preprocessing/label.py:151: DeprecationWarning: The truth value of an empty array is ambiguous. Returning False, but in future this will result in an error. Use `array.size > 0` to check that an array is not empty.\n",
      "  if diff:\n"
     ]
    },
    {
     "name": "stdout",
     "output_type": "stream",
     "text": [
      "[CV]  colsample_bytree=0.6, gamma=2, max_depth=5, min_child_weight=1, subsample=0.6, score=0.9826338639652678, total= 2.1min\n",
      "[CV] colsample_bytree=0.6, gamma=2, max_depth=5, min_child_weight=1, subsample=0.8 \n"
     ]
    },
    {
     "name": "stderr",
     "output_type": "stream",
     "text": [
      "/Users/miljanstojiljkovic/anaconda3/lib/python3.6/site-packages/sklearn/preprocessing/label.py:151: DeprecationWarning: The truth value of an empty array is ambiguous. Returning False, but in future this will result in an error. Use `array.size > 0` to check that an array is not empty.\n",
      "  if diff:\n",
      "/Users/miljanstojiljkovic/anaconda3/lib/python3.6/site-packages/sklearn/preprocessing/label.py:151: DeprecationWarning: The truth value of an empty array is ambiguous. Returning False, but in future this will result in an error. Use `array.size > 0` to check that an array is not empty.\n",
      "  if diff:\n"
     ]
    },
    {
     "name": "stdout",
     "output_type": "stream",
     "text": [
      "[CV]  colsample_bytree=0.6, gamma=2, max_depth=5, min_child_weight=1, subsample=0.6, score=0.9781976744186046, total= 2.1min\n",
      "[CV] colsample_bytree=0.6, gamma=2, max_depth=5, min_child_weight=1, subsample=0.8 \n"
     ]
    },
    {
     "name": "stderr",
     "output_type": "stream",
     "text": [
      "/Users/miljanstojiljkovic/anaconda3/lib/python3.6/site-packages/sklearn/preprocessing/label.py:151: DeprecationWarning: The truth value of an empty array is ambiguous. Returning False, but in future this will result in an error. Use `array.size > 0` to check that an array is not empty.\n",
      "  if diff:\n",
      "/Users/miljanstojiljkovic/anaconda3/lib/python3.6/site-packages/sklearn/preprocessing/label.py:151: DeprecationWarning: The truth value of an empty array is ambiguous. Returning False, but in future this will result in an error. Use `array.size > 0` to check that an array is not empty.\n",
      "  if diff:\n"
     ]
    },
    {
     "name": "stdout",
     "output_type": "stream",
     "text": [
      "[CV]  colsample_bytree=0.6, gamma=2, max_depth=5, min_child_weight=1, subsample=0.8, score=0.978448275862069, total= 2.2min\n",
      "[CV] colsample_bytree=0.6, gamma=2, max_depth=5, min_child_weight=1, subsample=0.8 \n"
     ]
    },
    {
     "name": "stderr",
     "output_type": "stream",
     "text": [
      "/Users/miljanstojiljkovic/anaconda3/lib/python3.6/site-packages/sklearn/preprocessing/label.py:151: DeprecationWarning: The truth value of an empty array is ambiguous. Returning False, but in future this will result in an error. Use `array.size > 0` to check that an array is not empty.\n",
      "  if diff:\n",
      "/Users/miljanstojiljkovic/anaconda3/lib/python3.6/site-packages/sklearn/preprocessing/label.py:151: DeprecationWarning: The truth value of an empty array is ambiguous. Returning False, but in future this will result in an error. Use `array.size > 0` to check that an array is not empty.\n",
      "  if diff:\n"
     ]
    },
    {
     "name": "stdout",
     "output_type": "stream",
     "text": [
      "[CV]  colsample_bytree=0.6, gamma=2, max_depth=5, min_child_weight=1, subsample=0.8, score=0.974025974025974, total= 2.2min\n",
      "[CV] colsample_bytree=0.6, gamma=2, max_depth=5, min_child_weight=5, subsample=0.6 \n"
     ]
    },
    {
     "name": "stderr",
     "output_type": "stream",
     "text": [
      "/Users/miljanstojiljkovic/anaconda3/lib/python3.6/site-packages/sklearn/preprocessing/label.py:151: DeprecationWarning: The truth value of an empty array is ambiguous. Returning False, but in future this will result in an error. Use `array.size > 0` to check that an array is not empty.\n",
      "  if diff:\n",
      "/Users/miljanstojiljkovic/anaconda3/lib/python3.6/site-packages/sklearn/preprocessing/label.py:151: DeprecationWarning: The truth value of an empty array is ambiguous. Returning False, but in future this will result in an error. Use `array.size > 0` to check that an array is not empty.\n",
      "  if diff:\n"
     ]
    },
    {
     "name": "stdout",
     "output_type": "stream",
     "text": [
      "[CV]  colsample_bytree=0.6, gamma=2, max_depth=5, min_child_weight=1, subsample=0.8, score=0.9927745664739884, total= 2.3min\n",
      "[CV] colsample_bytree=0.6, gamma=2, max_depth=5, min_child_weight=5, subsample=0.6 \n"
     ]
    },
    {
     "name": "stderr",
     "output_type": "stream",
     "text": [
      "/Users/miljanstojiljkovic/anaconda3/lib/python3.6/site-packages/sklearn/preprocessing/label.py:151: DeprecationWarning: The truth value of an empty array is ambiguous. Returning False, but in future this will result in an error. Use `array.size > 0` to check that an array is not empty.\n",
      "  if diff:\n",
      "/Users/miljanstojiljkovic/anaconda3/lib/python3.6/site-packages/sklearn/preprocessing/label.py:151: DeprecationWarning: The truth value of an empty array is ambiguous. Returning False, but in future this will result in an error. Use `array.size > 0` to check that an array is not empty.\n",
      "  if diff:\n"
     ]
    },
    {
     "name": "stdout",
     "output_type": "stream",
     "text": [
      "[CV]  colsample_bytree=0.6, gamma=2, max_depth=5, min_child_weight=1, subsample=0.8, score=0.9826338639652678, total= 2.3min\n",
      "[CV] colsample_bytree=0.6, gamma=2, max_depth=5, min_child_weight=5, subsample=0.6 \n"
     ]
    },
    {
     "name": "stderr",
     "output_type": "stream",
     "text": [
      "/Users/miljanstojiljkovic/anaconda3/lib/python3.6/site-packages/sklearn/preprocessing/label.py:151: DeprecationWarning: The truth value of an empty array is ambiguous. Returning False, but in future this will result in an error. Use `array.size > 0` to check that an array is not empty.\n",
      "  if diff:\n",
      "/Users/miljanstojiljkovic/anaconda3/lib/python3.6/site-packages/sklearn/preprocessing/label.py:151: DeprecationWarning: The truth value of an empty array is ambiguous. Returning False, but in future this will result in an error. Use `array.size > 0` to check that an array is not empty.\n",
      "  if diff:\n"
     ]
    },
    {
     "name": "stdout",
     "output_type": "stream",
     "text": [
      "[CV]  colsample_bytree=0.6, gamma=2, max_depth=5, min_child_weight=5, subsample=0.6, score=0.978448275862069, total= 1.8min\n",
      "[CV] colsample_bytree=0.6, gamma=2, max_depth=5, min_child_weight=5, subsample=0.6 \n"
     ]
    },
    {
     "name": "stderr",
     "output_type": "stream",
     "text": [
      "/Users/miljanstojiljkovic/anaconda3/lib/python3.6/site-packages/sklearn/preprocessing/label.py:151: DeprecationWarning: The truth value of an empty array is ambiguous. Returning False, but in future this will result in an error. Use `array.size > 0` to check that an array is not empty.\n",
      "  if diff:\n",
      "/Users/miljanstojiljkovic/anaconda3/lib/python3.6/site-packages/sklearn/preprocessing/label.py:151: DeprecationWarning: The truth value of an empty array is ambiguous. Returning False, but in future this will result in an error. Use `array.size > 0` to check that an array is not empty.\n",
      "  if diff:\n"
     ]
    },
    {
     "name": "stdout",
     "output_type": "stream",
     "text": [
      "[CV]  colsample_bytree=0.6, gamma=2, max_depth=5, min_child_weight=1, subsample=0.8, score=0.9781976744186046, total= 2.3min\n",
      "[CV] colsample_bytree=0.6, gamma=2, max_depth=5, min_child_weight=5, subsample=0.6 \n"
     ]
    },
    {
     "name": "stderr",
     "output_type": "stream",
     "text": [
      "/Users/miljanstojiljkovic/anaconda3/lib/python3.6/site-packages/sklearn/preprocessing/label.py:151: DeprecationWarning: The truth value of an empty array is ambiguous. Returning False, but in future this will result in an error. Use `array.size > 0` to check that an array is not empty.\n",
      "  if diff:\n",
      "/Users/miljanstojiljkovic/anaconda3/lib/python3.6/site-packages/sklearn/preprocessing/label.py:151: DeprecationWarning: The truth value of an empty array is ambiguous. Returning False, but in future this will result in an error. Use `array.size > 0` to check that an array is not empty.\n",
      "  if diff:\n"
     ]
    },
    {
     "name": "stdout",
     "output_type": "stream",
     "text": [
      "[CV]  colsample_bytree=0.6, gamma=2, max_depth=5, min_child_weight=5, subsample=0.6, score=0.9754689754689755, total= 1.7min\n",
      "[CV] colsample_bytree=0.6, gamma=2, max_depth=5, min_child_weight=5, subsample=0.8 \n"
     ]
    },
    {
     "name": "stderr",
     "output_type": "stream",
     "text": [
      "/Users/miljanstojiljkovic/anaconda3/lib/python3.6/site-packages/sklearn/preprocessing/label.py:151: DeprecationWarning: The truth value of an empty array is ambiguous. Returning False, but in future this will result in an error. Use `array.size > 0` to check that an array is not empty.\n",
      "  if diff:\n",
      "/Users/miljanstojiljkovic/anaconda3/lib/python3.6/site-packages/sklearn/preprocessing/label.py:151: DeprecationWarning: The truth value of an empty array is ambiguous. Returning False, but in future this will result in an error. Use `array.size > 0` to check that an array is not empty.\n",
      "  if diff:\n"
     ]
    },
    {
     "name": "stdout",
     "output_type": "stream",
     "text": [
      "[CV]  colsample_bytree=0.6, gamma=2, max_depth=5, min_child_weight=5, subsample=0.6, score=0.9956647398843931, total= 1.8min\n",
      "[CV] colsample_bytree=0.6, gamma=2, max_depth=5, min_child_weight=5, subsample=0.8 \n"
     ]
    },
    {
     "name": "stderr",
     "output_type": "stream",
     "text": [
      "[Parallel(n_jobs=-1)]: Done  53 tasks      | elapsed: 29.5min\n",
      "/Users/miljanstojiljkovic/anaconda3/lib/python3.6/site-packages/sklearn/preprocessing/label.py:151: DeprecationWarning: The truth value of an empty array is ambiguous. Returning False, but in future this will result in an error. Use `array.size > 0` to check that an array is not empty.\n",
      "  if diff:\n",
      "/Users/miljanstojiljkovic/anaconda3/lib/python3.6/site-packages/sklearn/preprocessing/label.py:151: DeprecationWarning: The truth value of an empty array is ambiguous. Returning False, but in future this will result in an error. Use `array.size > 0` to check that an array is not empty.\n",
      "  if diff:\n"
     ]
    },
    {
     "name": "stdout",
     "output_type": "stream",
     "text": [
      "[CV]  colsample_bytree=0.6, gamma=2, max_depth=5, min_child_weight=5, subsample=0.6, score=0.9826338639652678, total= 1.8min\n",
      "[CV] colsample_bytree=0.6, gamma=2, max_depth=5, min_child_weight=5, subsample=0.8 \n"
     ]
    },
    {
     "name": "stderr",
     "output_type": "stream",
     "text": [
      "/Users/miljanstojiljkovic/anaconda3/lib/python3.6/site-packages/sklearn/preprocessing/label.py:151: DeprecationWarning: The truth value of an empty array is ambiguous. Returning False, but in future this will result in an error. Use `array.size > 0` to check that an array is not empty.\n",
      "  if diff:\n",
      "/Users/miljanstojiljkovic/anaconda3/lib/python3.6/site-packages/sklearn/preprocessing/label.py:151: DeprecationWarning: The truth value of an empty array is ambiguous. Returning False, but in future this will result in an error. Use `array.size > 0` to check that an array is not empty.\n",
      "  if diff:\n"
     ]
    },
    {
     "name": "stdout",
     "output_type": "stream",
     "text": [
      "[CV]  colsample_bytree=0.6, gamma=2, max_depth=5, min_child_weight=5, subsample=0.6, score=0.9723837209302325, total= 1.8min\n",
      "[CV] colsample_bytree=0.6, gamma=2, max_depth=5, min_child_weight=5, subsample=0.8 \n"
     ]
    },
    {
     "name": "stderr",
     "output_type": "stream",
     "text": [
      "/Users/miljanstojiljkovic/anaconda3/lib/python3.6/site-packages/sklearn/preprocessing/label.py:151: DeprecationWarning: The truth value of an empty array is ambiguous. Returning False, but in future this will result in an error. Use `array.size > 0` to check that an array is not empty.\n",
      "  if diff:\n",
      "/Users/miljanstojiljkovic/anaconda3/lib/python3.6/site-packages/sklearn/preprocessing/label.py:151: DeprecationWarning: The truth value of an empty array is ambiguous. Returning False, but in future this will result in an error. Use `array.size > 0` to check that an array is not empty.\n",
      "  if diff:\n"
     ]
    },
    {
     "name": "stdout",
     "output_type": "stream",
     "text": [
      "[CV]  colsample_bytree=0.6, gamma=2, max_depth=5, min_child_weight=5, subsample=0.8, score=0.9798850574712644, total= 2.0min\n",
      "[CV] colsample_bytree=0.6, gamma=2, max_depth=5, min_child_weight=5, subsample=0.8 \n"
     ]
    },
    {
     "name": "stderr",
     "output_type": "stream",
     "text": [
      "/Users/miljanstojiljkovic/anaconda3/lib/python3.6/site-packages/sklearn/preprocessing/label.py:151: DeprecationWarning: The truth value of an empty array is ambiguous. Returning False, but in future this will result in an error. Use `array.size > 0` to check that an array is not empty.\n",
      "  if diff:\n",
      "/Users/miljanstojiljkovic/anaconda3/lib/python3.6/site-packages/sklearn/preprocessing/label.py:151: DeprecationWarning: The truth value of an empty array is ambiguous. Returning False, but in future this will result in an error. Use `array.size > 0` to check that an array is not empty.\n",
      "  if diff:\n"
     ]
    },
    {
     "name": "stdout",
     "output_type": "stream",
     "text": [
      "[CV]  colsample_bytree=0.6, gamma=2, max_depth=5, min_child_weight=5, subsample=0.8, score=0.9754689754689755, total= 2.0min\n",
      "[CV] colsample_bytree=0.6, gamma=2, max_depth=7, min_child_weight=1, subsample=0.6 \n"
     ]
    },
    {
     "name": "stderr",
     "output_type": "stream",
     "text": [
      "/Users/miljanstojiljkovic/anaconda3/lib/python3.6/site-packages/sklearn/preprocessing/label.py:151: DeprecationWarning: The truth value of an empty array is ambiguous. Returning False, but in future this will result in an error. Use `array.size > 0` to check that an array is not empty.\n",
      "  if diff:\n",
      "/Users/miljanstojiljkovic/anaconda3/lib/python3.6/site-packages/sklearn/preprocessing/label.py:151: DeprecationWarning: The truth value of an empty array is ambiguous. Returning False, but in future this will result in an error. Use `array.size > 0` to check that an array is not empty.\n",
      "  if diff:\n"
     ]
    },
    {
     "name": "stdout",
     "output_type": "stream",
     "text": [
      "[CV]  colsample_bytree=0.6, gamma=2, max_depth=5, min_child_weight=5, subsample=0.8, score=0.9942196531791907, total= 2.1min\n",
      "[CV] colsample_bytree=0.6, gamma=2, max_depth=7, min_child_weight=1, subsample=0.6 \n"
     ]
    },
    {
     "name": "stderr",
     "output_type": "stream",
     "text": [
      "/Users/miljanstojiljkovic/anaconda3/lib/python3.6/site-packages/sklearn/preprocessing/label.py:151: DeprecationWarning: The truth value of an empty array is ambiguous. Returning False, but in future this will result in an error. Use `array.size > 0` to check that an array is not empty.\n",
      "  if diff:\n",
      "/Users/miljanstojiljkovic/anaconda3/lib/python3.6/site-packages/sklearn/preprocessing/label.py:151: DeprecationWarning: The truth value of an empty array is ambiguous. Returning False, but in future this will result in an error. Use `array.size > 0` to check that an array is not empty.\n",
      "  if diff:\n"
     ]
    },
    {
     "name": "stdout",
     "output_type": "stream",
     "text": [
      "[CV]  colsample_bytree=0.6, gamma=2, max_depth=5, min_child_weight=5, subsample=0.8, score=0.984081041968162, total= 2.1min\n",
      "[CV] colsample_bytree=0.6, gamma=2, max_depth=7, min_child_weight=1, subsample=0.6 \n"
     ]
    },
    {
     "name": "stderr",
     "output_type": "stream",
     "text": [
      "/Users/miljanstojiljkovic/anaconda3/lib/python3.6/site-packages/sklearn/preprocessing/label.py:151: DeprecationWarning: The truth value of an empty array is ambiguous. Returning False, but in future this will result in an error. Use `array.size > 0` to check that an array is not empty.\n",
      "  if diff:\n",
      "/Users/miljanstojiljkovic/anaconda3/lib/python3.6/site-packages/sklearn/preprocessing/label.py:151: DeprecationWarning: The truth value of an empty array is ambiguous. Returning False, but in future this will result in an error. Use `array.size > 0` to check that an array is not empty.\n",
      "  if diff:\n"
     ]
    },
    {
     "name": "stdout",
     "output_type": "stream",
     "text": [
      "[CV]  colsample_bytree=0.6, gamma=2, max_depth=5, min_child_weight=5, subsample=0.8, score=0.9781976744186046, total= 2.1min\n",
      "[CV] colsample_bytree=0.6, gamma=2, max_depth=7, min_child_weight=1, subsample=0.6 \n"
     ]
    },
    {
     "name": "stderr",
     "output_type": "stream",
     "text": [
      "/Users/miljanstojiljkovic/anaconda3/lib/python3.6/site-packages/sklearn/preprocessing/label.py:151: DeprecationWarning: The truth value of an empty array is ambiguous. Returning False, but in future this will result in an error. Use `array.size > 0` to check that an array is not empty.\n",
      "  if diff:\n",
      "/Users/miljanstojiljkovic/anaconda3/lib/python3.6/site-packages/sklearn/preprocessing/label.py:151: DeprecationWarning: The truth value of an empty array is ambiguous. Returning False, but in future this will result in an error. Use `array.size > 0` to check that an array is not empty.\n",
      "  if diff:\n"
     ]
    },
    {
     "name": "stdout",
     "output_type": "stream",
     "text": [
      "[CV]  colsample_bytree=0.6, gamma=2, max_depth=7, min_child_weight=1, subsample=0.6, score=0.9798850574712644, total= 2.4min\n",
      "[CV] colsample_bytree=0.6, gamma=2, max_depth=7, min_child_weight=1, subsample=0.6 \n"
     ]
    },
    {
     "name": "stderr",
     "output_type": "stream",
     "text": [
      "/Users/miljanstojiljkovic/anaconda3/lib/python3.6/site-packages/sklearn/preprocessing/label.py:151: DeprecationWarning: The truth value of an empty array is ambiguous. Returning False, but in future this will result in an error. Use `array.size > 0` to check that an array is not empty.\n",
      "  if diff:\n",
      "/Users/miljanstojiljkovic/anaconda3/lib/python3.6/site-packages/sklearn/preprocessing/label.py:151: DeprecationWarning: The truth value of an empty array is ambiguous. Returning False, but in future this will result in an error. Use `array.size > 0` to check that an array is not empty.\n",
      "  if diff:\n"
     ]
    },
    {
     "name": "stdout",
     "output_type": "stream",
     "text": [
      "[CV]  colsample_bytree=0.6, gamma=2, max_depth=7, min_child_weight=1, subsample=0.6, score=0.974025974025974, total= 2.4min\n",
      "[CV] colsample_bytree=0.6, gamma=2, max_depth=7, min_child_weight=1, subsample=0.8 \n"
     ]
    },
    {
     "name": "stderr",
     "output_type": "stream",
     "text": [
      "/Users/miljanstojiljkovic/anaconda3/lib/python3.6/site-packages/sklearn/preprocessing/label.py:151: DeprecationWarning: The truth value of an empty array is ambiguous. Returning False, but in future this will result in an error. Use `array.size > 0` to check that an array is not empty.\n",
      "  if diff:\n",
      "/Users/miljanstojiljkovic/anaconda3/lib/python3.6/site-packages/sklearn/preprocessing/label.py:151: DeprecationWarning: The truth value of an empty array is ambiguous. Returning False, but in future this will result in an error. Use `array.size > 0` to check that an array is not empty.\n",
      "  if diff:\n"
     ]
    },
    {
     "name": "stdout",
     "output_type": "stream",
     "text": [
      "[CV]  colsample_bytree=0.6, gamma=2, max_depth=7, min_child_weight=1, subsample=0.6, score=0.9942196531791907, total= 2.4min\n",
      "[CV] colsample_bytree=0.6, gamma=2, max_depth=7, min_child_weight=1, subsample=0.8 \n"
     ]
    },
    {
     "name": "stderr",
     "output_type": "stream",
     "text": [
      "/Users/miljanstojiljkovic/anaconda3/lib/python3.6/site-packages/sklearn/preprocessing/label.py:151: DeprecationWarning: The truth value of an empty array is ambiguous. Returning False, but in future this will result in an error. Use `array.size > 0` to check that an array is not empty.\n",
      "  if diff:\n",
      "/Users/miljanstojiljkovic/anaconda3/lib/python3.6/site-packages/sklearn/preprocessing/label.py:151: DeprecationWarning: The truth value of an empty array is ambiguous. Returning False, but in future this will result in an error. Use `array.size > 0` to check that an array is not empty.\n",
      "  if diff:\n"
     ]
    },
    {
     "name": "stdout",
     "output_type": "stream",
     "text": [
      "[CV]  colsample_bytree=0.6, gamma=2, max_depth=7, min_child_weight=1, subsample=0.6, score=0.984081041968162, total= 2.4min\n",
      "[CV] colsample_bytree=0.6, gamma=2, max_depth=7, min_child_weight=1, subsample=0.8 \n"
     ]
    },
    {
     "name": "stderr",
     "output_type": "stream",
     "text": [
      "[Parallel(n_jobs=-1)]: Done  64 tasks      | elapsed: 34.8min\n",
      "/Users/miljanstojiljkovic/anaconda3/lib/python3.6/site-packages/sklearn/preprocessing/label.py:151: DeprecationWarning: The truth value of an empty array is ambiguous. Returning False, but in future this will result in an error. Use `array.size > 0` to check that an array is not empty.\n",
      "  if diff:\n",
      "/Users/miljanstojiljkovic/anaconda3/lib/python3.6/site-packages/sklearn/preprocessing/label.py:151: DeprecationWarning: The truth value of an empty array is ambiguous. Returning False, but in future this will result in an error. Use `array.size > 0` to check that an array is not empty.\n",
      "  if diff:\n"
     ]
    },
    {
     "name": "stdout",
     "output_type": "stream",
     "text": [
      "[CV]  colsample_bytree=0.6, gamma=2, max_depth=7, min_child_weight=1, subsample=0.6, score=0.9781976744186046, total= 2.4min\n",
      "[CV] colsample_bytree=0.6, gamma=2, max_depth=7, min_child_weight=1, subsample=0.8 \n"
     ]
    },
    {
     "name": "stderr",
     "output_type": "stream",
     "text": [
      "/Users/miljanstojiljkovic/anaconda3/lib/python3.6/site-packages/sklearn/preprocessing/label.py:151: DeprecationWarning: The truth value of an empty array is ambiguous. Returning False, but in future this will result in an error. Use `array.size > 0` to check that an array is not empty.\n",
      "  if diff:\n",
      "/Users/miljanstojiljkovic/anaconda3/lib/python3.6/site-packages/sklearn/preprocessing/label.py:151: DeprecationWarning: The truth value of an empty array is ambiguous. Returning False, but in future this will result in an error. Use `array.size > 0` to check that an array is not empty.\n",
      "  if diff:\n"
     ]
    },
    {
     "name": "stdout",
     "output_type": "stream",
     "text": [
      "[CV]  colsample_bytree=0.6, gamma=2, max_depth=7, min_child_weight=1, subsample=0.8, score=0.9770114942528736, total= 2.6min\n",
      "[CV] colsample_bytree=0.6, gamma=2, max_depth=7, min_child_weight=1, subsample=0.8 \n"
     ]
    },
    {
     "name": "stderr",
     "output_type": "stream",
     "text": [
      "/Users/miljanstojiljkovic/anaconda3/lib/python3.6/site-packages/sklearn/preprocessing/label.py:151: DeprecationWarning: The truth value of an empty array is ambiguous. Returning False, but in future this will result in an error. Use `array.size > 0` to check that an array is not empty.\n",
      "  if diff:\n",
      "/Users/miljanstojiljkovic/anaconda3/lib/python3.6/site-packages/sklearn/preprocessing/label.py:151: DeprecationWarning: The truth value of an empty array is ambiguous. Returning False, but in future this will result in an error. Use `array.size > 0` to check that an array is not empty.\n",
      "  if diff:\n"
     ]
    },
    {
     "name": "stdout",
     "output_type": "stream",
     "text": [
      "[CV]  colsample_bytree=0.6, gamma=2, max_depth=7, min_child_weight=1, subsample=0.8, score=0.974025974025974, total= 2.6min\n",
      "[CV] colsample_bytree=0.6, gamma=2, max_depth=7, min_child_weight=5, subsample=0.6 \n"
     ]
    },
    {
     "name": "stderr",
     "output_type": "stream",
     "text": [
      "/Users/miljanstojiljkovic/anaconda3/lib/python3.6/site-packages/sklearn/preprocessing/label.py:151: DeprecationWarning: The truth value of an empty array is ambiguous. Returning False, but in future this will result in an error. Use `array.size > 0` to check that an array is not empty.\n",
      "  if diff:\n",
      "/Users/miljanstojiljkovic/anaconda3/lib/python3.6/site-packages/sklearn/preprocessing/label.py:151: DeprecationWarning: The truth value of an empty array is ambiguous. Returning False, but in future this will result in an error. Use `array.size > 0` to check that an array is not empty.\n",
      "  if diff:\n"
     ]
    },
    {
     "name": "stdout",
     "output_type": "stream",
     "text": [
      "[CV]  colsample_bytree=0.6, gamma=2, max_depth=7, min_child_weight=1, subsample=0.8, score=0.9927745664739884, total= 2.7min\n",
      "[CV] colsample_bytree=0.6, gamma=2, max_depth=7, min_child_weight=5, subsample=0.6 \n"
     ]
    },
    {
     "name": "stderr",
     "output_type": "stream",
     "text": [
      "/Users/miljanstojiljkovic/anaconda3/lib/python3.6/site-packages/sklearn/preprocessing/label.py:151: DeprecationWarning: The truth value of an empty array is ambiguous. Returning False, but in future this will result in an error. Use `array.size > 0` to check that an array is not empty.\n",
      "  if diff:\n",
      "/Users/miljanstojiljkovic/anaconda3/lib/python3.6/site-packages/sklearn/preprocessing/label.py:151: DeprecationWarning: The truth value of an empty array is ambiguous. Returning False, but in future this will result in an error. Use `array.size > 0` to check that an array is not empty.\n",
      "  if diff:\n"
     ]
    },
    {
     "name": "stdout",
     "output_type": "stream",
     "text": [
      "[CV]  colsample_bytree=0.6, gamma=2, max_depth=7, min_child_weight=5, subsample=0.6, score=0.978448275862069, total= 1.9min\n",
      "[CV] colsample_bytree=0.6, gamma=2, max_depth=7, min_child_weight=5, subsample=0.6 \n"
     ]
    },
    {
     "name": "stderr",
     "output_type": "stream",
     "text": [
      "/Users/miljanstojiljkovic/anaconda3/lib/python3.6/site-packages/sklearn/preprocessing/label.py:151: DeprecationWarning: The truth value of an empty array is ambiguous. Returning False, but in future this will result in an error. Use `array.size > 0` to check that an array is not empty.\n",
      "  if diff:\n",
      "/Users/miljanstojiljkovic/anaconda3/lib/python3.6/site-packages/sklearn/preprocessing/label.py:151: DeprecationWarning: The truth value of an empty array is ambiguous. Returning False, but in future this will result in an error. Use `array.size > 0` to check that an array is not empty.\n",
      "  if diff:\n"
     ]
    },
    {
     "name": "stdout",
     "output_type": "stream",
     "text": [
      "[CV]  colsample_bytree=0.6, gamma=2, max_depth=7, min_child_weight=1, subsample=0.8, score=0.984081041968162, total= 2.7min\n",
      "[CV] colsample_bytree=0.6, gamma=2, max_depth=7, min_child_weight=5, subsample=0.6 \n"
     ]
    },
    {
     "name": "stderr",
     "output_type": "stream",
     "text": [
      "/Users/miljanstojiljkovic/anaconda3/lib/python3.6/site-packages/sklearn/preprocessing/label.py:151: DeprecationWarning: The truth value of an empty array is ambiguous. Returning False, but in future this will result in an error. Use `array.size > 0` to check that an array is not empty.\n",
      "  if diff:\n",
      "/Users/miljanstojiljkovic/anaconda3/lib/python3.6/site-packages/sklearn/preprocessing/label.py:151: DeprecationWarning: The truth value of an empty array is ambiguous. Returning False, but in future this will result in an error. Use `array.size > 0` to check that an array is not empty.\n",
      "  if diff:\n"
     ]
    },
    {
     "name": "stdout",
     "output_type": "stream",
     "text": [
      "[CV]  colsample_bytree=0.6, gamma=2, max_depth=7, min_child_weight=5, subsample=0.6, score=0.9754689754689755, total= 1.9min\n",
      "[CV] colsample_bytree=0.6, gamma=2, max_depth=7, min_child_weight=5, subsample=0.6 \n"
     ]
    },
    {
     "name": "stderr",
     "output_type": "stream",
     "text": [
      "/Users/miljanstojiljkovic/anaconda3/lib/python3.6/site-packages/sklearn/preprocessing/label.py:151: DeprecationWarning: The truth value of an empty array is ambiguous. Returning False, but in future this will result in an error. Use `array.size > 0` to check that an array is not empty.\n",
      "  if diff:\n",
      "/Users/miljanstojiljkovic/anaconda3/lib/python3.6/site-packages/sklearn/preprocessing/label.py:151: DeprecationWarning: The truth value of an empty array is ambiguous. Returning False, but in future this will result in an error. Use `array.size > 0` to check that an array is not empty.\n",
      "  if diff:\n"
     ]
    },
    {
     "name": "stdout",
     "output_type": "stream",
     "text": [
      "[CV]  colsample_bytree=0.6, gamma=2, max_depth=7, min_child_weight=1, subsample=0.8, score=0.9767441860465116, total= 2.7min\n",
      "[CV] colsample_bytree=0.6, gamma=2, max_depth=7, min_child_weight=5, subsample=0.8 \n"
     ]
    },
    {
     "name": "stderr",
     "output_type": "stream",
     "text": [
      "/Users/miljanstojiljkovic/anaconda3/lib/python3.6/site-packages/sklearn/preprocessing/label.py:151: DeprecationWarning: The truth value of an empty array is ambiguous. Returning False, but in future this will result in an error. Use `array.size > 0` to check that an array is not empty.\n",
      "  if diff:\n",
      "/Users/miljanstojiljkovic/anaconda3/lib/python3.6/site-packages/sklearn/preprocessing/label.py:151: DeprecationWarning: The truth value of an empty array is ambiguous. Returning False, but in future this will result in an error. Use `array.size > 0` to check that an array is not empty.\n",
      "  if diff:\n",
      "/Users/miljanstojiljkovic/anaconda3/lib/python3.6/site-packages/sklearn/preprocessing/label.py:151: DeprecationWarning: The truth value of an empty array is ambiguous. Returning False, but in future this will result in an error. Use `array.size > 0` to check that an array is not empty.\n",
      "  if diff:\n"
     ]
    },
    {
     "name": "stdout",
     "output_type": "stream",
     "text": [
      "[CV]  colsample_bytree=0.6, gamma=2, max_depth=7, min_child_weight=5, subsample=0.6, score=0.9956647398843931, total= 2.0min\n",
      "[CV] colsample_bytree=0.6, gamma=2, max_depth=7, min_child_weight=5, subsample=0.8 \n"
     ]
    },
    {
     "name": "stderr",
     "output_type": "stream",
     "text": [
      "/Users/miljanstojiljkovic/anaconda3/lib/python3.6/site-packages/sklearn/preprocessing/label.py:151: DeprecationWarning: The truth value of an empty array is ambiguous. Returning False, but in future this will result in an error. Use `array.size > 0` to check that an array is not empty.\n",
      "  if diff:\n"
     ]
    },
    {
     "name": "stdout",
     "output_type": "stream",
     "text": [
      "[CV]  colsample_bytree=0.6, gamma=2, max_depth=7, min_child_weight=5, subsample=0.6, score=0.9826338639652678, total= 2.0min\n",
      "[CV] colsample_bytree=0.6, gamma=2, max_depth=7, min_child_weight=5, subsample=0.8 \n"
     ]
    },
    {
     "name": "stderr",
     "output_type": "stream",
     "text": [
      "/Users/miljanstojiljkovic/anaconda3/lib/python3.6/site-packages/sklearn/preprocessing/label.py:151: DeprecationWarning: The truth value of an empty array is ambiguous. Returning False, but in future this will result in an error. Use `array.size > 0` to check that an array is not empty.\n",
      "  if diff:\n",
      "/Users/miljanstojiljkovic/anaconda3/lib/python3.6/site-packages/sklearn/preprocessing/label.py:151: DeprecationWarning: The truth value of an empty array is ambiguous. Returning False, but in future this will result in an error. Use `array.size > 0` to check that an array is not empty.\n",
      "  if diff:\n"
     ]
    },
    {
     "name": "stdout",
     "output_type": "stream",
     "text": [
      "[CV]  colsample_bytree=0.6, gamma=2, max_depth=7, min_child_weight=5, subsample=0.6, score=0.9738372093023255, total= 2.0min\n",
      "[CV] colsample_bytree=0.6, gamma=2, max_depth=7, min_child_weight=5, subsample=0.8 \n"
     ]
    },
    {
     "name": "stderr",
     "output_type": "stream",
     "text": [
      "/Users/miljanstojiljkovic/anaconda3/lib/python3.6/site-packages/sklearn/preprocessing/label.py:151: DeprecationWarning: The truth value of an empty array is ambiguous. Returning False, but in future this will result in an error. Use `array.size > 0` to check that an array is not empty.\n",
      "  if diff:\n",
      "/Users/miljanstojiljkovic/anaconda3/lib/python3.6/site-packages/sklearn/preprocessing/label.py:151: DeprecationWarning: The truth value of an empty array is ambiguous. Returning False, but in future this will result in an error. Use `array.size > 0` to check that an array is not empty.\n",
      "  if diff:\n"
     ]
    },
    {
     "name": "stdout",
     "output_type": "stream",
     "text": [
      "[CV]  colsample_bytree=0.6, gamma=2, max_depth=7, min_child_weight=5, subsample=0.8, score=0.978448275862069, total= 2.2min\n",
      "[CV] colsample_bytree=0.6, gamma=2, max_depth=7, min_child_weight=5, subsample=0.8 \n"
     ]
    },
    {
     "name": "stderr",
     "output_type": "stream",
     "text": [
      "/Users/miljanstojiljkovic/anaconda3/lib/python3.6/site-packages/sklearn/preprocessing/label.py:151: DeprecationWarning: The truth value of an empty array is ambiguous. Returning False, but in future this will result in an error. Use `array.size > 0` to check that an array is not empty.\n",
      "  if diff:\n",
      "/Users/miljanstojiljkovic/anaconda3/lib/python3.6/site-packages/sklearn/preprocessing/label.py:151: DeprecationWarning: The truth value of an empty array is ambiguous. Returning False, but in future this will result in an error. Use `array.size > 0` to check that an array is not empty.\n",
      "  if diff:\n"
     ]
    },
    {
     "name": "stdout",
     "output_type": "stream",
     "text": [
      "[CV]  colsample_bytree=0.6, gamma=2, max_depth=7, min_child_weight=5, subsample=0.8, score=0.974025974025974, total= 2.2min\n",
      "[CV] colsample_bytree=0.8, gamma=0.5, max_depth=5, min_child_weight=1, subsample=0.6 \n"
     ]
    },
    {
     "name": "stderr",
     "output_type": "stream",
     "text": [
      "[Parallel(n_jobs=-1)]: Done  77 tasks      | elapsed: 43.2min\n",
      "/Users/miljanstojiljkovic/anaconda3/lib/python3.6/site-packages/sklearn/preprocessing/label.py:151: DeprecationWarning: The truth value of an empty array is ambiguous. Returning False, but in future this will result in an error. Use `array.size > 0` to check that an array is not empty.\n",
      "  if diff:\n",
      "/Users/miljanstojiljkovic/anaconda3/lib/python3.6/site-packages/sklearn/preprocessing/label.py:151: DeprecationWarning: The truth value of an empty array is ambiguous. Returning False, but in future this will result in an error. Use `array.size > 0` to check that an array is not empty.\n",
      "  if diff:\n"
     ]
    },
    {
     "name": "stdout",
     "output_type": "stream",
     "text": [
      "[CV]  colsample_bytree=0.6, gamma=2, max_depth=7, min_child_weight=5, subsample=0.8, score=0.9942196531791907, total= 2.2min\n",
      "[CV] colsample_bytree=0.8, gamma=0.5, max_depth=5, min_child_weight=1, subsample=0.6 \n"
     ]
    },
    {
     "name": "stderr",
     "output_type": "stream",
     "text": [
      "/Users/miljanstojiljkovic/anaconda3/lib/python3.6/site-packages/sklearn/preprocessing/label.py:151: DeprecationWarning: The truth value of an empty array is ambiguous. Returning False, but in future this will result in an error. Use `array.size > 0` to check that an array is not empty.\n",
      "  if diff:\n",
      "/Users/miljanstojiljkovic/anaconda3/lib/python3.6/site-packages/sklearn/preprocessing/label.py:151: DeprecationWarning: The truth value of an empty array is ambiguous. Returning False, but in future this will result in an error. Use `array.size > 0` to check that an array is not empty.\n",
      "  if diff:\n"
     ]
    },
    {
     "name": "stdout",
     "output_type": "stream",
     "text": [
      "[CV]  colsample_bytree=0.6, gamma=2, max_depth=7, min_child_weight=5, subsample=0.8, score=0.984081041968162, total= 2.2min\n",
      "[CV] colsample_bytree=0.8, gamma=0.5, max_depth=5, min_child_weight=1, subsample=0.6 \n"
     ]
    },
    {
     "name": "stderr",
     "output_type": "stream",
     "text": [
      "/Users/miljanstojiljkovic/anaconda3/lib/python3.6/site-packages/sklearn/preprocessing/label.py:151: DeprecationWarning: The truth value of an empty array is ambiguous. Returning False, but in future this will result in an error. Use `array.size > 0` to check that an array is not empty.\n",
      "  if diff:\n",
      "/Users/miljanstojiljkovic/anaconda3/lib/python3.6/site-packages/sklearn/preprocessing/label.py:151: DeprecationWarning: The truth value of an empty array is ambiguous. Returning False, but in future this will result in an error. Use `array.size > 0` to check that an array is not empty.\n",
      "  if diff:\n"
     ]
    },
    {
     "name": "stdout",
     "output_type": "stream",
     "text": [
      "[CV]  colsample_bytree=0.6, gamma=2, max_depth=7, min_child_weight=5, subsample=0.8, score=0.9767441860465116, total= 2.2min\n",
      "[CV] colsample_bytree=0.8, gamma=0.5, max_depth=5, min_child_weight=1, subsample=0.6 \n"
     ]
    },
    {
     "name": "stderr",
     "output_type": "stream",
     "text": [
      "/Users/miljanstojiljkovic/anaconda3/lib/python3.6/site-packages/sklearn/preprocessing/label.py:151: DeprecationWarning: The truth value of an empty array is ambiguous. Returning False, but in future this will result in an error. Use `array.size > 0` to check that an array is not empty.\n",
      "  if diff:\n",
      "/Users/miljanstojiljkovic/anaconda3/lib/python3.6/site-packages/sklearn/preprocessing/label.py:151: DeprecationWarning: The truth value of an empty array is ambiguous. Returning False, but in future this will result in an error. Use `array.size > 0` to check that an array is not empty.\n",
      "  if diff:\n"
     ]
    },
    {
     "name": "stdout",
     "output_type": "stream",
     "text": [
      "[CV]  colsample_bytree=0.8, gamma=0.5, max_depth=5, min_child_weight=1, subsample=0.6, score=0.9827586206896551, total= 2.4min\n",
      "[CV] colsample_bytree=0.8, gamma=0.5, max_depth=5, min_child_weight=1, subsample=0.6 \n"
     ]
    },
    {
     "name": "stderr",
     "output_type": "stream",
     "text": [
      "/Users/miljanstojiljkovic/anaconda3/lib/python3.6/site-packages/sklearn/preprocessing/label.py:151: DeprecationWarning: The truth value of an empty array is ambiguous. Returning False, but in future this will result in an error. Use `array.size > 0` to check that an array is not empty.\n",
      "  if diff:\n",
      "/Users/miljanstojiljkovic/anaconda3/lib/python3.6/site-packages/sklearn/preprocessing/label.py:151: DeprecationWarning: The truth value of an empty array is ambiguous. Returning False, but in future this will result in an error. Use `array.size > 0` to check that an array is not empty.\n",
      "  if diff:\n"
     ]
    },
    {
     "name": "stdout",
     "output_type": "stream",
     "text": [
      "[CV]  colsample_bytree=0.8, gamma=0.5, max_depth=5, min_child_weight=1, subsample=0.6, score=0.976911976911977, total= 2.4min\n",
      "[CV] colsample_bytree=0.8, gamma=0.5, max_depth=5, min_child_weight=1, subsample=0.8 \n"
     ]
    },
    {
     "name": "stderr",
     "output_type": "stream",
     "text": [
      "/Users/miljanstojiljkovic/anaconda3/lib/python3.6/site-packages/sklearn/preprocessing/label.py:151: DeprecationWarning: The truth value of an empty array is ambiguous. Returning False, but in future this will result in an error. Use `array.size > 0` to check that an array is not empty.\n",
      "  if diff:\n",
      "/Users/miljanstojiljkovic/anaconda3/lib/python3.6/site-packages/sklearn/preprocessing/label.py:151: DeprecationWarning: The truth value of an empty array is ambiguous. Returning False, but in future this will result in an error. Use `array.size > 0` to check that an array is not empty.\n",
      "  if diff:\n"
     ]
    },
    {
     "name": "stdout",
     "output_type": "stream",
     "text": [
      "[CV]  colsample_bytree=0.8, gamma=0.5, max_depth=5, min_child_weight=1, subsample=0.6, score=0.9942196531791907, total= 2.5min\n",
      "[CV] colsample_bytree=0.8, gamma=0.5, max_depth=5, min_child_weight=1, subsample=0.8 \n"
     ]
    },
    {
     "name": "stderr",
     "output_type": "stream",
     "text": [
      "/Users/miljanstojiljkovic/anaconda3/lib/python3.6/site-packages/sklearn/preprocessing/label.py:151: DeprecationWarning: The truth value of an empty array is ambiguous. Returning False, but in future this will result in an error. Use `array.size > 0` to check that an array is not empty.\n",
      "  if diff:\n",
      "/Users/miljanstojiljkovic/anaconda3/lib/python3.6/site-packages/sklearn/preprocessing/label.py:151: DeprecationWarning: The truth value of an empty array is ambiguous. Returning False, but in future this will result in an error. Use `array.size > 0` to check that an array is not empty.\n",
      "  if diff:\n"
     ]
    },
    {
     "name": "stdout",
     "output_type": "stream",
     "text": [
      "[CV]  colsample_bytree=0.8, gamma=0.5, max_depth=5, min_child_weight=1, subsample=0.6, score=0.9855282199710564, total= 2.5min\n",
      "[CV] colsample_bytree=0.8, gamma=0.5, max_depth=5, min_child_weight=1, subsample=0.8 \n"
     ]
    },
    {
     "name": "stderr",
     "output_type": "stream",
     "text": [
      "/Users/miljanstojiljkovic/anaconda3/lib/python3.6/site-packages/sklearn/preprocessing/label.py:151: DeprecationWarning: The truth value of an empty array is ambiguous. Returning False, but in future this will result in an error. Use `array.size > 0` to check that an array is not empty.\n",
      "  if diff:\n",
      "/Users/miljanstojiljkovic/anaconda3/lib/python3.6/site-packages/sklearn/preprocessing/label.py:151: DeprecationWarning: The truth value of an empty array is ambiguous. Returning False, but in future this will result in an error. Use `array.size > 0` to check that an array is not empty.\n",
      "  if diff:\n"
     ]
    },
    {
     "name": "stdout",
     "output_type": "stream",
     "text": [
      "[CV]  colsample_bytree=0.8, gamma=0.5, max_depth=5, min_child_weight=1, subsample=0.6, score=0.9781976744186046, total= 2.5min\n",
      "[CV] colsample_bytree=0.8, gamma=0.5, max_depth=5, min_child_weight=1, subsample=0.8 \n"
     ]
    },
    {
     "name": "stderr",
     "output_type": "stream",
     "text": [
      "/Users/miljanstojiljkovic/anaconda3/lib/python3.6/site-packages/sklearn/preprocessing/label.py:151: DeprecationWarning: The truth value of an empty array is ambiguous. Returning False, but in future this will result in an error. Use `array.size > 0` to check that an array is not empty.\n",
      "  if diff:\n",
      "/Users/miljanstojiljkovic/anaconda3/lib/python3.6/site-packages/sklearn/preprocessing/label.py:151: DeprecationWarning: The truth value of an empty array is ambiguous. Returning False, but in future this will result in an error. Use `array.size > 0` to check that an array is not empty.\n",
      "  if diff:\n"
     ]
    },
    {
     "name": "stdout",
     "output_type": "stream",
     "text": [
      "[CV]  colsample_bytree=0.8, gamma=0.5, max_depth=5, min_child_weight=1, subsample=0.8, score=0.9827586206896551, total= 2.7min\n",
      "[CV] colsample_bytree=0.8, gamma=0.5, max_depth=5, min_child_weight=1, subsample=0.8 \n"
     ]
    },
    {
     "name": "stderr",
     "output_type": "stream",
     "text": [
      "/Users/miljanstojiljkovic/anaconda3/lib/python3.6/site-packages/sklearn/preprocessing/label.py:151: DeprecationWarning: The truth value of an empty array is ambiguous. Returning False, but in future this will result in an error. Use `array.size > 0` to check that an array is not empty.\n",
      "  if diff:\n",
      "/Users/miljanstojiljkovic/anaconda3/lib/python3.6/site-packages/sklearn/preprocessing/label.py:151: DeprecationWarning: The truth value of an empty array is ambiguous. Returning False, but in future this will result in an error. Use `array.size > 0` to check that an array is not empty.\n",
      "  if diff:\n"
     ]
    },
    {
     "name": "stdout",
     "output_type": "stream",
     "text": [
      "[CV]  colsample_bytree=0.8, gamma=0.5, max_depth=5, min_child_weight=1, subsample=0.8, score=0.9783549783549783, total= 2.7min\n",
      "[CV] colsample_bytree=0.8, gamma=0.5, max_depth=5, min_child_weight=5, subsample=0.6 \n"
     ]
    },
    {
     "name": "stderr",
     "output_type": "stream",
     "text": [
      "/Users/miljanstojiljkovic/anaconda3/lib/python3.6/site-packages/sklearn/preprocessing/label.py:151: DeprecationWarning: The truth value of an empty array is ambiguous. Returning False, but in future this will result in an error. Use `array.size > 0` to check that an array is not empty.\n",
      "  if diff:\n",
      "/Users/miljanstojiljkovic/anaconda3/lib/python3.6/site-packages/sklearn/preprocessing/label.py:151: DeprecationWarning: The truth value of an empty array is ambiguous. Returning False, but in future this will result in an error. Use `array.size > 0` to check that an array is not empty.\n",
      "  if diff:\n"
     ]
    },
    {
     "name": "stdout",
     "output_type": "stream",
     "text": [
      "[CV]  colsample_bytree=0.8, gamma=0.5, max_depth=5, min_child_weight=1, subsample=0.8, score=0.9956647398843931, total= 2.7min\n",
      "[CV] colsample_bytree=0.8, gamma=0.5, max_depth=5, min_child_weight=5, subsample=0.6 \n"
     ]
    },
    {
     "name": "stderr",
     "output_type": "stream",
     "text": [
      "/Users/miljanstojiljkovic/anaconda3/lib/python3.6/site-packages/sklearn/preprocessing/label.py:151: DeprecationWarning: The truth value of an empty array is ambiguous. Returning False, but in future this will result in an error. Use `array.size > 0` to check that an array is not empty.\n",
      "  if diff:\n",
      "/Users/miljanstojiljkovic/anaconda3/lib/python3.6/site-packages/sklearn/preprocessing/label.py:151: DeprecationWarning: The truth value of an empty array is ambiguous. Returning False, but in future this will result in an error. Use `array.size > 0` to check that an array is not empty.\n",
      "  if diff:\n",
      "/Users/miljanstojiljkovic/anaconda3/lib/python3.6/site-packages/sklearn/preprocessing/label.py:151: DeprecationWarning: The truth value of an empty array is ambiguous. Returning False, but in future this will result in an error. Use `array.size > 0` to check that an array is not empty.\n",
      "  if diff:\n"
     ]
    },
    {
     "name": "stdout",
     "output_type": "stream",
     "text": [
      "[CV]  colsample_bytree=0.8, gamma=0.5, max_depth=5, min_child_weight=5, subsample=0.6, score=0.9798850574712644, total= 2.1min\n",
      "[CV] colsample_bytree=0.8, gamma=0.5, max_depth=5, min_child_weight=5, subsample=0.6 \n"
     ]
    },
    {
     "name": "stderr",
     "output_type": "stream",
     "text": [
      "/Users/miljanstojiljkovic/anaconda3/lib/python3.6/site-packages/sklearn/preprocessing/label.py:151: DeprecationWarning: The truth value of an empty array is ambiguous. Returning False, but in future this will result in an error. Use `array.size > 0` to check that an array is not empty.\n",
      "  if diff:\n"
     ]
    },
    {
     "name": "stdout",
     "output_type": "stream",
     "text": [
      "[CV]  colsample_bytree=0.8, gamma=0.5, max_depth=5, min_child_weight=1, subsample=0.8, score=0.984081041968162, total= 2.7min\n",
      "[CV] colsample_bytree=0.8, gamma=0.5, max_depth=5, min_child_weight=5, subsample=0.6 \n"
     ]
    },
    {
     "name": "stderr",
     "output_type": "stream",
     "text": [
      "[Parallel(n_jobs=-1)]: Done  90 tasks      | elapsed: 51.0min\n",
      "/Users/miljanstojiljkovic/anaconda3/lib/python3.6/site-packages/sklearn/preprocessing/label.py:151: DeprecationWarning: The truth value of an empty array is ambiguous. Returning False, but in future this will result in an error. Use `array.size > 0` to check that an array is not empty.\n",
      "  if diff:\n",
      "/Users/miljanstojiljkovic/anaconda3/lib/python3.6/site-packages/sklearn/preprocessing/label.py:151: DeprecationWarning: The truth value of an empty array is ambiguous. Returning False, but in future this will result in an error. Use `array.size > 0` to check that an array is not empty.\n",
      "  if diff:\n"
     ]
    },
    {
     "name": "stdout",
     "output_type": "stream",
     "text": [
      "[CV]  colsample_bytree=0.8, gamma=0.5, max_depth=5, min_child_weight=1, subsample=0.8, score=0.9796511627906976, total= 2.7min\n",
      "[CV] colsample_bytree=0.8, gamma=0.5, max_depth=5, min_child_weight=5, subsample=0.6 \n"
     ]
    },
    {
     "name": "stderr",
     "output_type": "stream",
     "text": [
      "/Users/miljanstojiljkovic/anaconda3/lib/python3.6/site-packages/sklearn/preprocessing/label.py:151: DeprecationWarning: The truth value of an empty array is ambiguous. Returning False, but in future this will result in an error. Use `array.size > 0` to check that an array is not empty.\n",
      "  if diff:\n",
      "/Users/miljanstojiljkovic/anaconda3/lib/python3.6/site-packages/sklearn/preprocessing/label.py:151: DeprecationWarning: The truth value of an empty array is ambiguous. Returning False, but in future this will result in an error. Use `array.size > 0` to check that an array is not empty.\n",
      "  if diff:\n"
     ]
    },
    {
     "name": "stdout",
     "output_type": "stream",
     "text": [
      "[CV]  colsample_bytree=0.8, gamma=0.5, max_depth=5, min_child_weight=5, subsample=0.6, score=0.974025974025974, total= 2.1min\n",
      "[CV] colsample_bytree=0.8, gamma=0.5, max_depth=5, min_child_weight=5, subsample=0.8 \n"
     ]
    },
    {
     "name": "stderr",
     "output_type": "stream",
     "text": [
      "/Users/miljanstojiljkovic/anaconda3/lib/python3.6/site-packages/sklearn/preprocessing/label.py:151: DeprecationWarning: The truth value of an empty array is ambiguous. Returning False, but in future this will result in an error. Use `array.size > 0` to check that an array is not empty.\n",
      "  if diff:\n",
      "/Users/miljanstojiljkovic/anaconda3/lib/python3.6/site-packages/sklearn/preprocessing/label.py:151: DeprecationWarning: The truth value of an empty array is ambiguous. Returning False, but in future this will result in an error. Use `array.size > 0` to check that an array is not empty.\n",
      "  if diff:\n",
      "/Users/miljanstojiljkovic/anaconda3/lib/python3.6/site-packages/sklearn/preprocessing/label.py:151: DeprecationWarning: The truth value of an empty array is ambiguous. Returning False, but in future this will result in an error. Use `array.size > 0` to check that an array is not empty.\n",
      "  if diff:\n"
     ]
    },
    {
     "name": "stdout",
     "output_type": "stream",
     "text": [
      "[CV]  colsample_bytree=0.8, gamma=0.5, max_depth=5, min_child_weight=5, subsample=0.6, score=0.9811866859623734, total= 2.1min\n",
      "[CV] colsample_bytree=0.8, gamma=0.5, max_depth=5, min_child_weight=5, subsample=0.8 \n"
     ]
    },
    {
     "name": "stderr",
     "output_type": "stream",
     "text": [
      "/Users/miljanstojiljkovic/anaconda3/lib/python3.6/site-packages/sklearn/preprocessing/label.py:151: DeprecationWarning: The truth value of an empty array is ambiguous. Returning False, but in future this will result in an error. Use `array.size > 0` to check that an array is not empty.\n",
      "  if diff:\n"
     ]
    },
    {
     "name": "stdout",
     "output_type": "stream",
     "text": [
      "[CV]  colsample_bytree=0.8, gamma=0.5, max_depth=5, min_child_weight=5, subsample=0.6, score=0.9927745664739884, total= 2.1min\n",
      "[CV] colsample_bytree=0.8, gamma=0.5, max_depth=5, min_child_weight=5, subsample=0.8 \n"
     ]
    },
    {
     "name": "stderr",
     "output_type": "stream",
     "text": [
      "/Users/miljanstojiljkovic/anaconda3/lib/python3.6/site-packages/sklearn/preprocessing/label.py:151: DeprecationWarning: The truth value of an empty array is ambiguous. Returning False, but in future this will result in an error. Use `array.size > 0` to check that an array is not empty.\n",
      "  if diff:\n",
      "/Users/miljanstojiljkovic/anaconda3/lib/python3.6/site-packages/sklearn/preprocessing/label.py:151: DeprecationWarning: The truth value of an empty array is ambiguous. Returning False, but in future this will result in an error. Use `array.size > 0` to check that an array is not empty.\n",
      "  if diff:\n"
     ]
    },
    {
     "name": "stdout",
     "output_type": "stream",
     "text": [
      "[CV]  colsample_bytree=0.8, gamma=0.5, max_depth=5, min_child_weight=5, subsample=0.6, score=0.9752906976744186, total= 2.1min\n",
      "[CV] colsample_bytree=0.8, gamma=0.5, max_depth=5, min_child_weight=5, subsample=0.8 \n"
     ]
    },
    {
     "name": "stderr",
     "output_type": "stream",
     "text": [
      "/Users/miljanstojiljkovic/anaconda3/lib/python3.6/site-packages/sklearn/preprocessing/label.py:151: DeprecationWarning: The truth value of an empty array is ambiguous. Returning False, but in future this will result in an error. Use `array.size > 0` to check that an array is not empty.\n",
      "  if diff:\n",
      "/Users/miljanstojiljkovic/anaconda3/lib/python3.6/site-packages/sklearn/preprocessing/label.py:151: DeprecationWarning: The truth value of an empty array is ambiguous. Returning False, but in future this will result in an error. Use `array.size > 0` to check that an array is not empty.\n",
      "  if diff:\n"
     ]
    },
    {
     "name": "stdout",
     "output_type": "stream",
     "text": [
      "[CV]  colsample_bytree=0.8, gamma=0.5, max_depth=5, min_child_weight=5, subsample=0.8, score=0.9798850574712644, total= 2.3min\n",
      "[CV] colsample_bytree=0.8, gamma=0.5, max_depth=5, min_child_weight=5, subsample=0.8 \n"
     ]
    },
    {
     "name": "stderr",
     "output_type": "stream",
     "text": [
      "/Users/miljanstojiljkovic/anaconda3/lib/python3.6/site-packages/sklearn/preprocessing/label.py:151: DeprecationWarning: The truth value of an empty array is ambiguous. Returning False, but in future this will result in an error. Use `array.size > 0` to check that an array is not empty.\n",
      "  if diff:\n",
      "/Users/miljanstojiljkovic/anaconda3/lib/python3.6/site-packages/sklearn/preprocessing/label.py:151: DeprecationWarning: The truth value of an empty array is ambiguous. Returning False, but in future this will result in an error. Use `array.size > 0` to check that an array is not empty.\n",
      "  if diff:\n"
     ]
    },
    {
     "name": "stdout",
     "output_type": "stream",
     "text": [
      "[CV]  colsample_bytree=0.8, gamma=0.5, max_depth=5, min_child_weight=5, subsample=0.8, score=0.974025974025974, total= 2.3min\n",
      "[CV] colsample_bytree=0.8, gamma=0.5, max_depth=7, min_child_weight=1, subsample=0.6 \n"
     ]
    },
    {
     "name": "stderr",
     "output_type": "stream",
     "text": [
      "/Users/miljanstojiljkovic/anaconda3/lib/python3.6/site-packages/sklearn/preprocessing/label.py:151: DeprecationWarning: The truth value of an empty array is ambiguous. Returning False, but in future this will result in an error. Use `array.size > 0` to check that an array is not empty.\n",
      "  if diff:\n",
      "/Users/miljanstojiljkovic/anaconda3/lib/python3.6/site-packages/sklearn/preprocessing/label.py:151: DeprecationWarning: The truth value of an empty array is ambiguous. Returning False, but in future this will result in an error. Use `array.size > 0` to check that an array is not empty.\n",
      "  if diff:\n"
     ]
    },
    {
     "name": "stdout",
     "output_type": "stream",
     "text": [
      "[CV]  colsample_bytree=0.8, gamma=0.5, max_depth=5, min_child_weight=5, subsample=0.8, score=0.9942196531791907, total= 2.3min\n",
      "[CV] colsample_bytree=0.8, gamma=0.5, max_depth=7, min_child_weight=1, subsample=0.6 \n"
     ]
    },
    {
     "name": "stderr",
     "output_type": "stream",
     "text": [
      "/Users/miljanstojiljkovic/anaconda3/lib/python3.6/site-packages/sklearn/preprocessing/label.py:151: DeprecationWarning: The truth value of an empty array is ambiguous. Returning False, but in future this will result in an error. Use `array.size > 0` to check that an array is not empty.\n",
      "  if diff:\n",
      "/Users/miljanstojiljkovic/anaconda3/lib/python3.6/site-packages/sklearn/preprocessing/label.py:151: DeprecationWarning: The truth value of an empty array is ambiguous. Returning False, but in future this will result in an error. Use `array.size > 0` to check that an array is not empty.\n",
      "  if diff:\n"
     ]
    },
    {
     "name": "stdout",
     "output_type": "stream",
     "text": [
      "[CV]  colsample_bytree=0.8, gamma=0.5, max_depth=5, min_child_weight=5, subsample=0.8, score=0.9826338639652678, total= 2.3min\n",
      "[CV] colsample_bytree=0.8, gamma=0.5, max_depth=7, min_child_weight=1, subsample=0.6 \n"
     ]
    },
    {
     "name": "stderr",
     "output_type": "stream",
     "text": [
      "/Users/miljanstojiljkovic/anaconda3/lib/python3.6/site-packages/sklearn/preprocessing/label.py:151: DeprecationWarning: The truth value of an empty array is ambiguous. Returning False, but in future this will result in an error. Use `array.size > 0` to check that an array is not empty.\n",
      "  if diff:\n",
      "/Users/miljanstojiljkovic/anaconda3/lib/python3.6/site-packages/sklearn/preprocessing/label.py:151: DeprecationWarning: The truth value of an empty array is ambiguous. Returning False, but in future this will result in an error. Use `array.size > 0` to check that an array is not empty.\n",
      "  if diff:\n"
     ]
    },
    {
     "name": "stdout",
     "output_type": "stream",
     "text": [
      "[CV]  colsample_bytree=0.8, gamma=0.5, max_depth=5, min_child_weight=5, subsample=0.8, score=0.9781976744186046, total= 2.3min\n",
      "[CV] colsample_bytree=0.8, gamma=0.5, max_depth=7, min_child_weight=1, subsample=0.6 \n"
     ]
    },
    {
     "name": "stderr",
     "output_type": "stream",
     "text": [
      "/Users/miljanstojiljkovic/anaconda3/lib/python3.6/site-packages/sklearn/preprocessing/label.py:151: DeprecationWarning: The truth value of an empty array is ambiguous. Returning False, but in future this will result in an error. Use `array.size > 0` to check that an array is not empty.\n",
      "  if diff:\n",
      "/Users/miljanstojiljkovic/anaconda3/lib/python3.6/site-packages/sklearn/preprocessing/label.py:151: DeprecationWarning: The truth value of an empty array is ambiguous. Returning False, but in future this will result in an error. Use `array.size > 0` to check that an array is not empty.\n",
      "  if diff:\n"
     ]
    },
    {
     "name": "stdout",
     "output_type": "stream",
     "text": [
      "[CV]  colsample_bytree=0.8, gamma=0.5, max_depth=7, min_child_weight=1, subsample=0.6, score=0.9827586206896551, total= 2.7min\n",
      "[CV] colsample_bytree=0.8, gamma=0.5, max_depth=7, min_child_weight=1, subsample=0.6 \n"
     ]
    },
    {
     "name": "stderr",
     "output_type": "stream",
     "text": [
      "/Users/miljanstojiljkovic/anaconda3/lib/python3.6/site-packages/sklearn/preprocessing/label.py:151: DeprecationWarning: The truth value of an empty array is ambiguous. Returning False, but in future this will result in an error. Use `array.size > 0` to check that an array is not empty.\n",
      "  if diff:\n",
      "/Users/miljanstojiljkovic/anaconda3/lib/python3.6/site-packages/sklearn/preprocessing/label.py:151: DeprecationWarning: The truth value of an empty array is ambiguous. Returning False, but in future this will result in an error. Use `array.size > 0` to check that an array is not empty.\n",
      "  if diff:\n"
     ]
    },
    {
     "name": "stdout",
     "output_type": "stream",
     "text": [
      "[CV]  colsample_bytree=0.8, gamma=0.5, max_depth=7, min_child_weight=1, subsample=0.6, score=0.976911976911977, total= 2.7min\n",
      "[CV] colsample_bytree=0.8, gamma=0.5, max_depth=7, min_child_weight=1, subsample=0.8 \n"
     ]
    },
    {
     "name": "stderr",
     "output_type": "stream",
     "text": [
      "/Users/miljanstojiljkovic/anaconda3/lib/python3.6/site-packages/sklearn/preprocessing/label.py:151: DeprecationWarning: The truth value of an empty array is ambiguous. Returning False, but in future this will result in an error. Use `array.size > 0` to check that an array is not empty.\n",
      "  if diff:\n",
      "/Users/miljanstojiljkovic/anaconda3/lib/python3.6/site-packages/sklearn/preprocessing/label.py:151: DeprecationWarning: The truth value of an empty array is ambiguous. Returning False, but in future this will result in an error. Use `array.size > 0` to check that an array is not empty.\n",
      "  if diff:\n"
     ]
    },
    {
     "name": "stdout",
     "output_type": "stream",
     "text": [
      "[CV]  colsample_bytree=0.8, gamma=0.5, max_depth=7, min_child_weight=1, subsample=0.6, score=0.9956647398843931, total= 2.7min\n",
      "[CV] colsample_bytree=0.8, gamma=0.5, max_depth=7, min_child_weight=1, subsample=0.8 \n"
     ]
    },
    {
     "name": "stderr",
     "output_type": "stream",
     "text": [
      "/Users/miljanstojiljkovic/anaconda3/lib/python3.6/site-packages/sklearn/preprocessing/label.py:151: DeprecationWarning: The truth value of an empty array is ambiguous. Returning False, but in future this will result in an error. Use `array.size > 0` to check that an array is not empty.\n",
      "  if diff:\n",
      "/Users/miljanstojiljkovic/anaconda3/lib/python3.6/site-packages/sklearn/preprocessing/label.py:151: DeprecationWarning: The truth value of an empty array is ambiguous. Returning False, but in future this will result in an error. Use `array.size > 0` to check that an array is not empty.\n",
      "  if diff:\n"
     ]
    },
    {
     "name": "stdout",
     "output_type": "stream",
     "text": [
      "[CV]  colsample_bytree=0.8, gamma=0.5, max_depth=7, min_child_weight=1, subsample=0.6, score=0.9855282199710564, total= 2.7min\n",
      "[CV] colsample_bytree=0.8, gamma=0.5, max_depth=7, min_child_weight=1, subsample=0.8 \n"
     ]
    },
    {
     "name": "stderr",
     "output_type": "stream",
     "text": [
      "/Users/miljanstojiljkovic/anaconda3/lib/python3.6/site-packages/sklearn/preprocessing/label.py:151: DeprecationWarning: The truth value of an empty array is ambiguous. Returning False, but in future this will result in an error. Use `array.size > 0` to check that an array is not empty.\n",
      "  if diff:\n",
      "/Users/miljanstojiljkovic/anaconda3/lib/python3.6/site-packages/sklearn/preprocessing/label.py:151: DeprecationWarning: The truth value of an empty array is ambiguous. Returning False, but in future this will result in an error. Use `array.size > 0` to check that an array is not empty.\n",
      "  if diff:\n"
     ]
    },
    {
     "name": "stdout",
     "output_type": "stream",
     "text": [
      "[CV]  colsample_bytree=0.8, gamma=0.5, max_depth=7, min_child_weight=1, subsample=0.6, score=0.9796511627906976, total= 2.7min\n",
      "[CV] colsample_bytree=0.8, gamma=0.5, max_depth=7, min_child_weight=1, subsample=0.8 \n"
     ]
    },
    {
     "name": "stderr",
     "output_type": "stream",
     "text": [
      "[Parallel(n_jobs=-1)]: Done 105 tasks      | elapsed: 60.9min\n",
      "/Users/miljanstojiljkovic/anaconda3/lib/python3.6/site-packages/sklearn/preprocessing/label.py:151: DeprecationWarning: The truth value of an empty array is ambiguous. Returning False, but in future this will result in an error. Use `array.size > 0` to check that an array is not empty.\n",
      "  if diff:\n",
      "/Users/miljanstojiljkovic/anaconda3/lib/python3.6/site-packages/sklearn/preprocessing/label.py:151: DeprecationWarning: The truth value of an empty array is ambiguous. Returning False, but in future this will result in an error. Use `array.size > 0` to check that an array is not empty.\n",
      "  if diff:\n"
     ]
    },
    {
     "name": "stdout",
     "output_type": "stream",
     "text": [
      "[CV]  colsample_bytree=0.8, gamma=0.5, max_depth=7, min_child_weight=1, subsample=0.8, score=0.9827586206896551, total= 3.0min\n",
      "[CV] colsample_bytree=0.8, gamma=0.5, max_depth=7, min_child_weight=1, subsample=0.8 \n"
     ]
    },
    {
     "name": "stderr",
     "output_type": "stream",
     "text": [
      "/Users/miljanstojiljkovic/anaconda3/lib/python3.6/site-packages/sklearn/preprocessing/label.py:151: DeprecationWarning: The truth value of an empty array is ambiguous. Returning False, but in future this will result in an error. Use `array.size > 0` to check that an array is not empty.\n",
      "  if diff:\n",
      "/Users/miljanstojiljkovic/anaconda3/lib/python3.6/site-packages/sklearn/preprocessing/label.py:151: DeprecationWarning: The truth value of an empty array is ambiguous. Returning False, but in future this will result in an error. Use `array.size > 0` to check that an array is not empty.\n",
      "  if diff:\n"
     ]
    },
    {
     "name": "stdout",
     "output_type": "stream",
     "text": [
      "[CV]  colsample_bytree=0.8, gamma=0.5, max_depth=7, min_child_weight=1, subsample=0.8, score=0.9797979797979798, total= 3.0min\n",
      "[CV] colsample_bytree=0.8, gamma=0.5, max_depth=7, min_child_weight=5, subsample=0.6 \n"
     ]
    },
    {
     "name": "stderr",
     "output_type": "stream",
     "text": [
      "/Users/miljanstojiljkovic/anaconda3/lib/python3.6/site-packages/sklearn/preprocessing/label.py:151: DeprecationWarning: The truth value of an empty array is ambiguous. Returning False, but in future this will result in an error. Use `array.size > 0` to check that an array is not empty.\n",
      "  if diff:\n",
      "/Users/miljanstojiljkovic/anaconda3/lib/python3.6/site-packages/sklearn/preprocessing/label.py:151: DeprecationWarning: The truth value of an empty array is ambiguous. Returning False, but in future this will result in an error. Use `array.size > 0` to check that an array is not empty.\n",
      "  if diff:\n"
     ]
    },
    {
     "name": "stdout",
     "output_type": "stream",
     "text": [
      "[CV]  colsample_bytree=0.8, gamma=0.5, max_depth=7, min_child_weight=1, subsample=0.8, score=0.9971098265895953, total= 3.1min\n",
      "[CV] colsample_bytree=0.8, gamma=0.5, max_depth=7, min_child_weight=5, subsample=0.6 \n"
     ]
    },
    {
     "name": "stderr",
     "output_type": "stream",
     "text": [
      "/Users/miljanstojiljkovic/anaconda3/lib/python3.6/site-packages/sklearn/preprocessing/label.py:151: DeprecationWarning: The truth value of an empty array is ambiguous. Returning False, but in future this will result in an error. Use `array.size > 0` to check that an array is not empty.\n",
      "  if diff:\n",
      "/Users/miljanstojiljkovic/anaconda3/lib/python3.6/site-packages/sklearn/preprocessing/label.py:151: DeprecationWarning: The truth value of an empty array is ambiguous. Returning False, but in future this will result in an error. Use `array.size > 0` to check that an array is not empty.\n",
      "  if diff:\n"
     ]
    },
    {
     "name": "stdout",
     "output_type": "stream",
     "text": [
      "[CV]  colsample_bytree=0.8, gamma=0.5, max_depth=7, min_child_weight=5, subsample=0.6, score=0.9798850574712644, total= 2.2min\n",
      "[CV] colsample_bytree=0.8, gamma=0.5, max_depth=7, min_child_weight=5, subsample=0.6 \n"
     ]
    },
    {
     "name": "stderr",
     "output_type": "stream",
     "text": [
      "/Users/miljanstojiljkovic/anaconda3/lib/python3.6/site-packages/sklearn/preprocessing/label.py:151: DeprecationWarning: The truth value of an empty array is ambiguous. Returning False, but in future this will result in an error. Use `array.size > 0` to check that an array is not empty.\n",
      "  if diff:\n",
      "/Users/miljanstojiljkovic/anaconda3/lib/python3.6/site-packages/sklearn/preprocessing/label.py:151: DeprecationWarning: The truth value of an empty array is ambiguous. Returning False, but in future this will result in an error. Use `array.size > 0` to check that an array is not empty.\n",
      "  if diff:\n"
     ]
    },
    {
     "name": "stdout",
     "output_type": "stream",
     "text": [
      "[CV]  colsample_bytree=0.8, gamma=0.5, max_depth=7, min_child_weight=1, subsample=0.8, score=0.9869753979739508, total= 3.0min\n",
      "[CV] colsample_bytree=0.8, gamma=0.5, max_depth=7, min_child_weight=5, subsample=0.6 \n"
     ]
    },
    {
     "name": "stderr",
     "output_type": "stream",
     "text": [
      "/Users/miljanstojiljkovic/anaconda3/lib/python3.6/site-packages/sklearn/preprocessing/label.py:151: DeprecationWarning: The truth value of an empty array is ambiguous. Returning False, but in future this will result in an error. Use `array.size > 0` to check that an array is not empty.\n",
      "  if diff:\n",
      "/Users/miljanstojiljkovic/anaconda3/lib/python3.6/site-packages/sklearn/preprocessing/label.py:151: DeprecationWarning: The truth value of an empty array is ambiguous. Returning False, but in future this will result in an error. Use `array.size > 0` to check that an array is not empty.\n",
      "  if diff:\n"
     ]
    },
    {
     "name": "stdout",
     "output_type": "stream",
     "text": [
      "[CV]  colsample_bytree=0.8, gamma=0.5, max_depth=7, min_child_weight=5, subsample=0.6, score=0.974025974025974, total= 2.2min\n",
      "[CV] colsample_bytree=0.8, gamma=0.5, max_depth=7, min_child_weight=5, subsample=0.6 \n"
     ]
    },
    {
     "name": "stderr",
     "output_type": "stream",
     "text": [
      "/Users/miljanstojiljkovic/anaconda3/lib/python3.6/site-packages/sklearn/preprocessing/label.py:151: DeprecationWarning: The truth value of an empty array is ambiguous. Returning False, but in future this will result in an error. Use `array.size > 0` to check that an array is not empty.\n",
      "  if diff:\n",
      "/Users/miljanstojiljkovic/anaconda3/lib/python3.6/site-packages/sklearn/preprocessing/label.py:151: DeprecationWarning: The truth value of an empty array is ambiguous. Returning False, but in future this will result in an error. Use `array.size > 0` to check that an array is not empty.\n",
      "  if diff:\n"
     ]
    },
    {
     "name": "stdout",
     "output_type": "stream",
     "text": [
      "[CV]  colsample_bytree=0.8, gamma=0.5, max_depth=7, min_child_weight=1, subsample=0.8, score=0.9781976744186046, total= 3.1min\n",
      "[CV] colsample_bytree=0.8, gamma=0.5, max_depth=7, min_child_weight=5, subsample=0.8 \n"
     ]
    },
    {
     "name": "stderr",
     "output_type": "stream",
     "text": [
      "/Users/miljanstojiljkovic/anaconda3/lib/python3.6/site-packages/sklearn/preprocessing/label.py:151: DeprecationWarning: The truth value of an empty array is ambiguous. Returning False, but in future this will result in an error. Use `array.size > 0` to check that an array is not empty.\n",
      "  if diff:\n",
      "/Users/miljanstojiljkovic/anaconda3/lib/python3.6/site-packages/sklearn/preprocessing/label.py:151: DeprecationWarning: The truth value of an empty array is ambiguous. Returning False, but in future this will result in an error. Use `array.size > 0` to check that an array is not empty.\n",
      "  if diff:\n"
     ]
    },
    {
     "name": "stdout",
     "output_type": "stream",
     "text": [
      "[CV]  colsample_bytree=0.8, gamma=0.5, max_depth=7, min_child_weight=5, subsample=0.6, score=0.9927745664739884, total= 2.2min\n",
      "[CV] colsample_bytree=0.8, gamma=0.5, max_depth=7, min_child_weight=5, subsample=0.8 \n"
     ]
    },
    {
     "name": "stderr",
     "output_type": "stream",
     "text": [
      "/Users/miljanstojiljkovic/anaconda3/lib/python3.6/site-packages/sklearn/preprocessing/label.py:151: DeprecationWarning: The truth value of an empty array is ambiguous. Returning False, but in future this will result in an error. Use `array.size > 0` to check that an array is not empty.\n",
      "  if diff:\n",
      "/Users/miljanstojiljkovic/anaconda3/lib/python3.6/site-packages/sklearn/preprocessing/label.py:151: DeprecationWarning: The truth value of an empty array is ambiguous. Returning False, but in future this will result in an error. Use `array.size > 0` to check that an array is not empty.\n",
      "  if diff:\n"
     ]
    },
    {
     "name": "stdout",
     "output_type": "stream",
     "text": [
      "[CV]  colsample_bytree=0.8, gamma=0.5, max_depth=7, min_child_weight=5, subsample=0.6, score=0.9826338639652678, total= 2.2min\n",
      "[CV] colsample_bytree=0.8, gamma=0.5, max_depth=7, min_child_weight=5, subsample=0.8 \n"
     ]
    },
    {
     "name": "stderr",
     "output_type": "stream",
     "text": [
      "/Users/miljanstojiljkovic/anaconda3/lib/python3.6/site-packages/sklearn/preprocessing/label.py:151: DeprecationWarning: The truth value of an empty array is ambiguous. Returning False, but in future this will result in an error. Use `array.size > 0` to check that an array is not empty.\n",
      "  if diff:\n",
      "/Users/miljanstojiljkovic/anaconda3/lib/python3.6/site-packages/sklearn/preprocessing/label.py:151: DeprecationWarning: The truth value of an empty array is ambiguous. Returning False, but in future this will result in an error. Use `array.size > 0` to check that an array is not empty.\n",
      "  if diff:\n"
     ]
    },
    {
     "name": "stdout",
     "output_type": "stream",
     "text": [
      "[CV]  colsample_bytree=0.8, gamma=0.5, max_depth=7, min_child_weight=5, subsample=0.6, score=0.9738372093023255, total= 2.2min\n",
      "[CV] colsample_bytree=0.8, gamma=0.5, max_depth=7, min_child_weight=5, subsample=0.8 \n"
     ]
    },
    {
     "name": "stderr",
     "output_type": "stream",
     "text": [
      "/Users/miljanstojiljkovic/anaconda3/lib/python3.6/site-packages/sklearn/preprocessing/label.py:151: DeprecationWarning: The truth value of an empty array is ambiguous. Returning False, but in future this will result in an error. Use `array.size > 0` to check that an array is not empty.\n",
      "  if diff:\n",
      "/Users/miljanstojiljkovic/anaconda3/lib/python3.6/site-packages/sklearn/preprocessing/label.py:151: DeprecationWarning: The truth value of an empty array is ambiguous. Returning False, but in future this will result in an error. Use `array.size > 0` to check that an array is not empty.\n",
      "  if diff:\n"
     ]
    },
    {
     "name": "stdout",
     "output_type": "stream",
     "text": [
      "[CV]  colsample_bytree=0.8, gamma=0.5, max_depth=7, min_child_weight=5, subsample=0.8, score=0.9798850574712644, total= 2.5min\n",
      "[CV] colsample_bytree=0.8, gamma=0.5, max_depth=7, min_child_weight=5, subsample=0.8 \n"
     ]
    },
    {
     "name": "stderr",
     "output_type": "stream",
     "text": [
      "/Users/miljanstojiljkovic/anaconda3/lib/python3.6/site-packages/sklearn/preprocessing/label.py:151: DeprecationWarning: The truth value of an empty array is ambiguous. Returning False, but in future this will result in an error. Use `array.size > 0` to check that an array is not empty.\n",
      "  if diff:\n",
      "/Users/miljanstojiljkovic/anaconda3/lib/python3.6/site-packages/sklearn/preprocessing/label.py:151: DeprecationWarning: The truth value of an empty array is ambiguous. Returning False, but in future this will result in an error. Use `array.size > 0` to check that an array is not empty.\n",
      "  if diff:\n"
     ]
    },
    {
     "name": "stdout",
     "output_type": "stream",
     "text": [
      "[CV]  colsample_bytree=0.8, gamma=0.5, max_depth=7, min_child_weight=5, subsample=0.8, score=0.974025974025974, total= 2.5min\n",
      "[CV] colsample_bytree=0.8, gamma=2, max_depth=5, min_child_weight=1, subsample=0.6 \n"
     ]
    },
    {
     "name": "stderr",
     "output_type": "stream",
     "text": [
      "/Users/miljanstojiljkovic/anaconda3/lib/python3.6/site-packages/sklearn/preprocessing/label.py:151: DeprecationWarning: The truth value of an empty array is ambiguous. Returning False, but in future this will result in an error. Use `array.size > 0` to check that an array is not empty.\n",
      "  if diff:\n",
      "/Users/miljanstojiljkovic/anaconda3/lib/python3.6/site-packages/sklearn/preprocessing/label.py:151: DeprecationWarning: The truth value of an empty array is ambiguous. Returning False, but in future this will result in an error. Use `array.size > 0` to check that an array is not empty.\n",
      "  if diff:\n"
     ]
    },
    {
     "name": "stdout",
     "output_type": "stream",
     "text": [
      "[CV]  colsample_bytree=0.8, gamma=0.5, max_depth=7, min_child_weight=5, subsample=0.8, score=0.9942196531791907, total= 2.5min\n",
      "[CV] colsample_bytree=0.8, gamma=2, max_depth=5, min_child_weight=1, subsample=0.6 \n"
     ]
    },
    {
     "name": "stderr",
     "output_type": "stream",
     "text": [
      "/Users/miljanstojiljkovic/anaconda3/lib/python3.6/site-packages/sklearn/preprocessing/label.py:151: DeprecationWarning: The truth value of an empty array is ambiguous. Returning False, but in future this will result in an error. Use `array.size > 0` to check that an array is not empty.\n",
      "  if diff:\n",
      "/Users/miljanstojiljkovic/anaconda3/lib/python3.6/site-packages/sklearn/preprocessing/label.py:151: DeprecationWarning: The truth value of an empty array is ambiguous. Returning False, but in future this will result in an error. Use `array.size > 0` to check that an array is not empty.\n",
      "  if diff:\n"
     ]
    },
    {
     "name": "stdout",
     "output_type": "stream",
     "text": [
      "[CV]  colsample_bytree=0.8, gamma=0.5, max_depth=7, min_child_weight=5, subsample=0.8, score=0.984081041968162, total= 2.5min\n",
      "[CV] colsample_bytree=0.8, gamma=2, max_depth=5, min_child_weight=1, subsample=0.6 \n"
     ]
    },
    {
     "name": "stderr",
     "output_type": "stream",
     "text": [
      "/Users/miljanstojiljkovic/anaconda3/lib/python3.6/site-packages/sklearn/preprocessing/label.py:151: DeprecationWarning: The truth value of an empty array is ambiguous. Returning False, but in future this will result in an error. Use `array.size > 0` to check that an array is not empty.\n",
      "  if diff:\n",
      "/Users/miljanstojiljkovic/anaconda3/lib/python3.6/site-packages/sklearn/preprocessing/label.py:151: DeprecationWarning: The truth value of an empty array is ambiguous. Returning False, but in future this will result in an error. Use `array.size > 0` to check that an array is not empty.\n",
      "  if diff:\n"
     ]
    },
    {
     "name": "stdout",
     "output_type": "stream",
     "text": [
      "[CV]  colsample_bytree=0.8, gamma=0.5, max_depth=7, min_child_weight=5, subsample=0.8, score=0.9796511627906976, total= 2.5min\n",
      "[CV] colsample_bytree=0.8, gamma=2, max_depth=5, min_child_weight=1, subsample=0.6 \n"
     ]
    },
    {
     "name": "stderr",
     "output_type": "stream",
     "text": [
      "[Parallel(n_jobs=-1)]: Done 120 tasks      | elapsed: 69.4min\n",
      "/Users/miljanstojiljkovic/anaconda3/lib/python3.6/site-packages/sklearn/preprocessing/label.py:151: DeprecationWarning: The truth value of an empty array is ambiguous. Returning False, but in future this will result in an error. Use `array.size > 0` to check that an array is not empty.\n",
      "  if diff:\n",
      "/Users/miljanstojiljkovic/anaconda3/lib/python3.6/site-packages/sklearn/preprocessing/label.py:151: DeprecationWarning: The truth value of an empty array is ambiguous. Returning False, but in future this will result in an error. Use `array.size > 0` to check that an array is not empty.\n",
      "  if diff:\n"
     ]
    },
    {
     "name": "stdout",
     "output_type": "stream",
     "text": [
      "[CV]  colsample_bytree=0.8, gamma=2, max_depth=5, min_child_weight=1, subsample=0.6, score=0.9770114942528736, total= 2.5min\n",
      "[CV] colsample_bytree=0.8, gamma=2, max_depth=5, min_child_weight=1, subsample=0.6 \n"
     ]
    },
    {
     "name": "stderr",
     "output_type": "stream",
     "text": [
      "/Users/miljanstojiljkovic/anaconda3/lib/python3.6/site-packages/sklearn/preprocessing/label.py:151: DeprecationWarning: The truth value of an empty array is ambiguous. Returning False, but in future this will result in an error. Use `array.size > 0` to check that an array is not empty.\n",
      "  if diff:\n",
      "/Users/miljanstojiljkovic/anaconda3/lib/python3.6/site-packages/sklearn/preprocessing/label.py:151: DeprecationWarning: The truth value of an empty array is ambiguous. Returning False, but in future this will result in an error. Use `array.size > 0` to check that an array is not empty.\n",
      "  if diff:\n"
     ]
    },
    {
     "name": "stdout",
     "output_type": "stream",
     "text": [
      "[CV]  colsample_bytree=0.8, gamma=2, max_depth=5, min_child_weight=1, subsample=0.6, score=0.9754689754689755, total= 2.5min\n",
      "[CV] colsample_bytree=0.8, gamma=2, max_depth=5, min_child_weight=1, subsample=0.8 \n"
     ]
    },
    {
     "name": "stderr",
     "output_type": "stream",
     "text": [
      "/Users/miljanstojiljkovic/anaconda3/lib/python3.6/site-packages/sklearn/preprocessing/label.py:151: DeprecationWarning: The truth value of an empty array is ambiguous. Returning False, but in future this will result in an error. Use `array.size > 0` to check that an array is not empty.\n",
      "  if diff:\n",
      "/Users/miljanstojiljkovic/anaconda3/lib/python3.6/site-packages/sklearn/preprocessing/label.py:151: DeprecationWarning: The truth value of an empty array is ambiguous. Returning False, but in future this will result in an error. Use `array.size > 0` to check that an array is not empty.\n",
      "  if diff:\n"
     ]
    },
    {
     "name": "stdout",
     "output_type": "stream",
     "text": [
      "[CV]  colsample_bytree=0.8, gamma=2, max_depth=5, min_child_weight=1, subsample=0.6, score=0.9927745664739884, total= 2.6min\n",
      "[CV] colsample_bytree=0.8, gamma=2, max_depth=5, min_child_weight=1, subsample=0.8 \n"
     ]
    },
    {
     "name": "stderr",
     "output_type": "stream",
     "text": [
      "/Users/miljanstojiljkovic/anaconda3/lib/python3.6/site-packages/sklearn/preprocessing/label.py:151: DeprecationWarning: The truth value of an empty array is ambiguous. Returning False, but in future this will result in an error. Use `array.size > 0` to check that an array is not empty.\n",
      "  if diff:\n",
      "/Users/miljanstojiljkovic/anaconda3/lib/python3.6/site-packages/sklearn/preprocessing/label.py:151: DeprecationWarning: The truth value of an empty array is ambiguous. Returning False, but in future this will result in an error. Use `array.size > 0` to check that an array is not empty.\n",
      "  if diff:\n"
     ]
    },
    {
     "name": "stdout",
     "output_type": "stream",
     "text": [
      "[CV]  colsample_bytree=0.8, gamma=2, max_depth=5, min_child_weight=1, subsample=0.6, score=0.9826338639652678, total= 2.6min\n",
      "[CV] colsample_bytree=0.8, gamma=2, max_depth=5, min_child_weight=1, subsample=0.8 \n"
     ]
    },
    {
     "name": "stderr",
     "output_type": "stream",
     "text": [
      "/Users/miljanstojiljkovic/anaconda3/lib/python3.6/site-packages/sklearn/preprocessing/label.py:151: DeprecationWarning: The truth value of an empty array is ambiguous. Returning False, but in future this will result in an error. Use `array.size > 0` to check that an array is not empty.\n",
      "  if diff:\n",
      "/Users/miljanstojiljkovic/anaconda3/lib/python3.6/site-packages/sklearn/preprocessing/label.py:151: DeprecationWarning: The truth value of an empty array is ambiguous. Returning False, but in future this will result in an error. Use `array.size > 0` to check that an array is not empty.\n",
      "  if diff:\n"
     ]
    },
    {
     "name": "stdout",
     "output_type": "stream",
     "text": [
      "[CV]  colsample_bytree=0.8, gamma=2, max_depth=5, min_child_weight=1, subsample=0.6, score=0.9767441860465116, total= 2.5min\n",
      "[CV] colsample_bytree=0.8, gamma=2, max_depth=5, min_child_weight=1, subsample=0.8 \n"
     ]
    },
    {
     "name": "stderr",
     "output_type": "stream",
     "text": [
      "/Users/miljanstojiljkovic/anaconda3/lib/python3.6/site-packages/sklearn/preprocessing/label.py:151: DeprecationWarning: The truth value of an empty array is ambiguous. Returning False, but in future this will result in an error. Use `array.size > 0` to check that an array is not empty.\n",
      "  if diff:\n",
      "/Users/miljanstojiljkovic/anaconda3/lib/python3.6/site-packages/sklearn/preprocessing/label.py:151: DeprecationWarning: The truth value of an empty array is ambiguous. Returning False, but in future this will result in an error. Use `array.size > 0` to check that an array is not empty.\n",
      "  if diff:\n"
     ]
    },
    {
     "name": "stdout",
     "output_type": "stream",
     "text": [
      "[CV]  colsample_bytree=0.8, gamma=2, max_depth=5, min_child_weight=1, subsample=0.8, score=0.9798850574712644, total= 2.8min\n",
      "[CV] colsample_bytree=0.8, gamma=2, max_depth=5, min_child_weight=1, subsample=0.8 \n"
     ]
    },
    {
     "name": "stderr",
     "output_type": "stream",
     "text": [
      "/Users/miljanstojiljkovic/anaconda3/lib/python3.6/site-packages/sklearn/preprocessing/label.py:151: DeprecationWarning: The truth value of an empty array is ambiguous. Returning False, but in future this will result in an error. Use `array.size > 0` to check that an array is not empty.\n",
      "  if diff:\n",
      "/Users/miljanstojiljkovic/anaconda3/lib/python3.6/site-packages/sklearn/preprocessing/label.py:151: DeprecationWarning: The truth value of an empty array is ambiguous. Returning False, but in future this will result in an error. Use `array.size > 0` to check that an array is not empty.\n",
      "  if diff:\n"
     ]
    },
    {
     "name": "stdout",
     "output_type": "stream",
     "text": [
      "[CV]  colsample_bytree=0.8, gamma=2, max_depth=5, min_child_weight=1, subsample=0.8, score=0.9754689754689755, total= 2.8min\n",
      "[CV] colsample_bytree=0.8, gamma=2, max_depth=5, min_child_weight=5, subsample=0.6 \n"
     ]
    },
    {
     "name": "stderr",
     "output_type": "stream",
     "text": [
      "/Users/miljanstojiljkovic/anaconda3/lib/python3.6/site-packages/sklearn/preprocessing/label.py:151: DeprecationWarning: The truth value of an empty array is ambiguous. Returning False, but in future this will result in an error. Use `array.size > 0` to check that an array is not empty.\n",
      "  if diff:\n",
      "/Users/miljanstojiljkovic/anaconda3/lib/python3.6/site-packages/sklearn/preprocessing/label.py:151: DeprecationWarning: The truth value of an empty array is ambiguous. Returning False, but in future this will result in an error. Use `array.size > 0` to check that an array is not empty.\n",
      "  if diff:\n"
     ]
    },
    {
     "name": "stdout",
     "output_type": "stream",
     "text": [
      "[CV]  colsample_bytree=0.8, gamma=2, max_depth=5, min_child_weight=1, subsample=0.8, score=0.9927745664739884, total= 2.8min\n",
      "[CV] colsample_bytree=0.8, gamma=2, max_depth=5, min_child_weight=5, subsample=0.6 \n"
     ]
    },
    {
     "name": "stderr",
     "output_type": "stream",
     "text": [
      "/Users/miljanstojiljkovic/anaconda3/lib/python3.6/site-packages/sklearn/preprocessing/label.py:151: DeprecationWarning: The truth value of an empty array is ambiguous. Returning False, but in future this will result in an error. Use `array.size > 0` to check that an array is not empty.\n",
      "  if diff:\n",
      "/Users/miljanstojiljkovic/anaconda3/lib/python3.6/site-packages/sklearn/preprocessing/label.py:151: DeprecationWarning: The truth value of an empty array is ambiguous. Returning False, but in future this will result in an error. Use `array.size > 0` to check that an array is not empty.\n",
      "  if diff:\n"
     ]
    },
    {
     "name": "stdout",
     "output_type": "stream",
     "text": [
      "[CV]  colsample_bytree=0.8, gamma=2, max_depth=5, min_child_weight=1, subsample=0.8, score=0.9826338639652678, total= 2.8min\n",
      "[CV] colsample_bytree=0.8, gamma=2, max_depth=5, min_child_weight=5, subsample=0.6 \n"
     ]
    },
    {
     "name": "stderr",
     "output_type": "stream",
     "text": [
      "/Users/miljanstojiljkovic/anaconda3/lib/python3.6/site-packages/sklearn/preprocessing/label.py:151: DeprecationWarning: The truth value of an empty array is ambiguous. Returning False, but in future this will result in an error. Use `array.size > 0` to check that an array is not empty.\n",
      "  if diff:\n",
      "/Users/miljanstojiljkovic/anaconda3/lib/python3.6/site-packages/sklearn/preprocessing/label.py:151: DeprecationWarning: The truth value of an empty array is ambiguous. Returning False, but in future this will result in an error. Use `array.size > 0` to check that an array is not empty.\n",
      "  if diff:\n"
     ]
    },
    {
     "name": "stdout",
     "output_type": "stream",
     "text": [
      "[CV]  colsample_bytree=0.8, gamma=2, max_depth=5, min_child_weight=5, subsample=0.6, score=0.9770114942528736, total= 2.1min\n",
      "[CV] colsample_bytree=0.8, gamma=2, max_depth=5, min_child_weight=5, subsample=0.6 \n"
     ]
    },
    {
     "name": "stderr",
     "output_type": "stream",
     "text": [
      "/Users/miljanstojiljkovic/anaconda3/lib/python3.6/site-packages/sklearn/preprocessing/label.py:151: DeprecationWarning: The truth value of an empty array is ambiguous. Returning False, but in future this will result in an error. Use `array.size > 0` to check that an array is not empty.\n",
      "  if diff:\n",
      "/Users/miljanstojiljkovic/anaconda3/lib/python3.6/site-packages/sklearn/preprocessing/label.py:151: DeprecationWarning: The truth value of an empty array is ambiguous. Returning False, but in future this will result in an error. Use `array.size > 0` to check that an array is not empty.\n",
      "  if diff:\n"
     ]
    },
    {
     "name": "stdout",
     "output_type": "stream",
     "text": [
      "[CV]  colsample_bytree=0.8, gamma=2, max_depth=5, min_child_weight=1, subsample=0.8, score=0.9796511627906976, total= 2.8min\n",
      "[CV] colsample_bytree=0.8, gamma=2, max_depth=5, min_child_weight=5, subsample=0.6 \n"
     ]
    },
    {
     "name": "stderr",
     "output_type": "stream",
     "text": [
      "/Users/miljanstojiljkovic/anaconda3/lib/python3.6/site-packages/sklearn/preprocessing/label.py:151: DeprecationWarning: The truth value of an empty array is ambiguous. Returning False, but in future this will result in an error. Use `array.size > 0` to check that an array is not empty.\n",
      "  if diff:\n",
      "/Users/miljanstojiljkovic/anaconda3/lib/python3.6/site-packages/sklearn/preprocessing/label.py:151: DeprecationWarning: The truth value of an empty array is ambiguous. Returning False, but in future this will result in an error. Use `array.size > 0` to check that an array is not empty.\n",
      "  if diff:\n"
     ]
    },
    {
     "name": "stdout",
     "output_type": "stream",
     "text": [
      "[CV]  colsample_bytree=0.8, gamma=2, max_depth=5, min_child_weight=5, subsample=0.6, score=0.9754689754689755, total= 2.1min\n",
      "[CV] colsample_bytree=0.8, gamma=2, max_depth=5, min_child_weight=5, subsample=0.8 \n"
     ]
    },
    {
     "name": "stderr",
     "output_type": "stream",
     "text": [
      "/Users/miljanstojiljkovic/anaconda3/lib/python3.6/site-packages/sklearn/preprocessing/label.py:151: DeprecationWarning: The truth value of an empty array is ambiguous. Returning False, but in future this will result in an error. Use `array.size > 0` to check that an array is not empty.\n",
      "  if diff:\n",
      "/Users/miljanstojiljkovic/anaconda3/lib/python3.6/site-packages/sklearn/preprocessing/label.py:151: DeprecationWarning: The truth value of an empty array is ambiguous. Returning False, but in future this will result in an error. Use `array.size > 0` to check that an array is not empty.\n",
      "  if diff:\n"
     ]
    },
    {
     "name": "stdout",
     "output_type": "stream",
     "text": [
      "[CV]  colsample_bytree=0.8, gamma=2, max_depth=5, min_child_weight=5, subsample=0.6, score=0.9942196531791907, total= 2.2min\n",
      "[CV] colsample_bytree=0.8, gamma=2, max_depth=5, min_child_weight=5, subsample=0.8 \n"
     ]
    },
    {
     "name": "stderr",
     "output_type": "stream",
     "text": [
      "/Users/miljanstojiljkovic/anaconda3/lib/python3.6/site-packages/sklearn/preprocessing/label.py:151: DeprecationWarning: The truth value of an empty array is ambiguous. Returning False, but in future this will result in an error. Use `array.size > 0` to check that an array is not empty.\n",
      "  if diff:\n",
      "/Users/miljanstojiljkovic/anaconda3/lib/python3.6/site-packages/sklearn/preprocessing/label.py:151: DeprecationWarning: The truth value of an empty array is ambiguous. Returning False, but in future this will result in an error. Use `array.size > 0` to check that an array is not empty.\n",
      "  if diff:\n"
     ]
    },
    {
     "name": "stdout",
     "output_type": "stream",
     "text": [
      "[CV]  colsample_bytree=0.8, gamma=2, max_depth=5, min_child_weight=5, subsample=0.6, score=0.9826338639652678, total= 2.2min\n",
      "[CV] colsample_bytree=0.8, gamma=2, max_depth=5, min_child_weight=5, subsample=0.8 \n"
     ]
    },
    {
     "name": "stderr",
     "output_type": "stream",
     "text": [
      "/Users/miljanstojiljkovic/anaconda3/lib/python3.6/site-packages/sklearn/preprocessing/label.py:151: DeprecationWarning: The truth value of an empty array is ambiguous. Returning False, but in future this will result in an error. Use `array.size > 0` to check that an array is not empty.\n",
      "  if diff:\n",
      "/Users/miljanstojiljkovic/anaconda3/lib/python3.6/site-packages/sklearn/preprocessing/label.py:151: DeprecationWarning: The truth value of an empty array is ambiguous. Returning False, but in future this will result in an error. Use `array.size > 0` to check that an array is not empty.\n",
      "  if diff:\n"
     ]
    },
    {
     "name": "stdout",
     "output_type": "stream",
     "text": [
      "[CV]  colsample_bytree=0.8, gamma=2, max_depth=5, min_child_weight=5, subsample=0.6, score=0.9723837209302325, total= 2.2min\n",
      "[CV] colsample_bytree=0.8, gamma=2, max_depth=5, min_child_weight=5, subsample=0.8 \n"
     ]
    },
    {
     "name": "stderr",
     "output_type": "stream",
     "text": [
      "/Users/miljanstojiljkovic/anaconda3/lib/python3.6/site-packages/sklearn/preprocessing/label.py:151: DeprecationWarning: The truth value of an empty array is ambiguous. Returning False, but in future this will result in an error. Use `array.size > 0` to check that an array is not empty.\n",
      "  if diff:\n",
      "/Users/miljanstojiljkovic/anaconda3/lib/python3.6/site-packages/sklearn/preprocessing/label.py:151: DeprecationWarning: The truth value of an empty array is ambiguous. Returning False, but in future this will result in an error. Use `array.size > 0` to check that an array is not empty.\n",
      "  if diff:\n"
     ]
    },
    {
     "name": "stdout",
     "output_type": "stream",
     "text": [
      "[CV]  colsample_bytree=0.8, gamma=2, max_depth=5, min_child_weight=5, subsample=0.8, score=0.9755747126436781, total= 2.4min\n",
      "[CV] colsample_bytree=0.8, gamma=2, max_depth=5, min_child_weight=5, subsample=0.8 \n"
     ]
    },
    {
     "name": "stderr",
     "output_type": "stream",
     "text": [
      "/Users/miljanstojiljkovic/anaconda3/lib/python3.6/site-packages/sklearn/preprocessing/label.py:151: DeprecationWarning: The truth value of an empty array is ambiguous. Returning False, but in future this will result in an error. Use `array.size > 0` to check that an array is not empty.\n",
      "  if diff:\n",
      "/Users/miljanstojiljkovic/anaconda3/lib/python3.6/site-packages/sklearn/preprocessing/label.py:151: DeprecationWarning: The truth value of an empty array is ambiguous. Returning False, but in future this will result in an error. Use `array.size > 0` to check that an array is not empty.\n",
      "  if diff:\n"
     ]
    },
    {
     "name": "stdout",
     "output_type": "stream",
     "text": [
      "[CV]  colsample_bytree=0.8, gamma=2, max_depth=5, min_child_weight=5, subsample=0.8, score=0.9754689754689755, total= 2.4min\n",
      "[CV] colsample_bytree=0.8, gamma=2, max_depth=7, min_child_weight=1, subsample=0.6 \n"
     ]
    },
    {
     "name": "stderr",
     "output_type": "stream",
     "text": [
      "[Parallel(n_jobs=-1)]: Done 137 tasks      | elapsed: 81.0min\n",
      "/Users/miljanstojiljkovic/anaconda3/lib/python3.6/site-packages/sklearn/preprocessing/label.py:151: DeprecationWarning: The truth value of an empty array is ambiguous. Returning False, but in future this will result in an error. Use `array.size > 0` to check that an array is not empty.\n",
      "  if diff:\n",
      "/Users/miljanstojiljkovic/anaconda3/lib/python3.6/site-packages/sklearn/preprocessing/label.py:151: DeprecationWarning: The truth value of an empty array is ambiguous. Returning False, but in future this will result in an error. Use `array.size > 0` to check that an array is not empty.\n",
      "  if diff:\n"
     ]
    },
    {
     "name": "stdout",
     "output_type": "stream",
     "text": [
      "[CV]  colsample_bytree=0.8, gamma=2, max_depth=5, min_child_weight=5, subsample=0.8, score=0.9942196531791907, total= 2.4min\n",
      "[CV] colsample_bytree=0.8, gamma=2, max_depth=7, min_child_weight=1, subsample=0.6 \n"
     ]
    },
    {
     "name": "stderr",
     "output_type": "stream",
     "text": [
      "/Users/miljanstojiljkovic/anaconda3/lib/python3.6/site-packages/sklearn/preprocessing/label.py:151: DeprecationWarning: The truth value of an empty array is ambiguous. Returning False, but in future this will result in an error. Use `array.size > 0` to check that an array is not empty.\n",
      "  if diff:\n",
      "/Users/miljanstojiljkovic/anaconda3/lib/python3.6/site-packages/sklearn/preprocessing/label.py:151: DeprecationWarning: The truth value of an empty array is ambiguous. Returning False, but in future this will result in an error. Use `array.size > 0` to check that an array is not empty.\n",
      "  if diff:\n"
     ]
    },
    {
     "name": "stdout",
     "output_type": "stream",
     "text": [
      "[CV]  colsample_bytree=0.8, gamma=2, max_depth=5, min_child_weight=5, subsample=0.8, score=0.984081041968162, total= 2.4min\n",
      "[CV] colsample_bytree=0.8, gamma=2, max_depth=7, min_child_weight=1, subsample=0.6 \n"
     ]
    },
    {
     "name": "stderr",
     "output_type": "stream",
     "text": [
      "/Users/miljanstojiljkovic/anaconda3/lib/python3.6/site-packages/sklearn/preprocessing/label.py:151: DeprecationWarning: The truth value of an empty array is ambiguous. Returning False, but in future this will result in an error. Use `array.size > 0` to check that an array is not empty.\n",
      "  if diff:\n",
      "/Users/miljanstojiljkovic/anaconda3/lib/python3.6/site-packages/sklearn/preprocessing/label.py:151: DeprecationWarning: The truth value of an empty array is ambiguous. Returning False, but in future this will result in an error. Use `array.size > 0` to check that an array is not empty.\n",
      "  if diff:\n"
     ]
    },
    {
     "name": "stdout",
     "output_type": "stream",
     "text": [
      "[CV]  colsample_bytree=0.8, gamma=2, max_depth=5, min_child_weight=5, subsample=0.8, score=0.9767441860465116, total= 2.4min\n",
      "[CV] colsample_bytree=0.8, gamma=2, max_depth=7, min_child_weight=1, subsample=0.6 \n"
     ]
    },
    {
     "name": "stderr",
     "output_type": "stream",
     "text": [
      "/Users/miljanstojiljkovic/anaconda3/lib/python3.6/site-packages/sklearn/preprocessing/label.py:151: DeprecationWarning: The truth value of an empty array is ambiguous. Returning False, but in future this will result in an error. Use `array.size > 0` to check that an array is not empty.\n",
      "  if diff:\n",
      "/Users/miljanstojiljkovic/anaconda3/lib/python3.6/site-packages/sklearn/preprocessing/label.py:151: DeprecationWarning: The truth value of an empty array is ambiguous. Returning False, but in future this will result in an error. Use `array.size > 0` to check that an array is not empty.\n",
      "  if diff:\n"
     ]
    },
    {
     "name": "stdout",
     "output_type": "stream",
     "text": [
      "[CV]  colsample_bytree=0.8, gamma=2, max_depth=7, min_child_weight=1, subsample=0.6, score=0.9798850574712644, total= 2.9min\n",
      "[CV] colsample_bytree=0.8, gamma=2, max_depth=7, min_child_weight=1, subsample=0.6 \n"
     ]
    },
    {
     "name": "stderr",
     "output_type": "stream",
     "text": [
      "/Users/miljanstojiljkovic/anaconda3/lib/python3.6/site-packages/sklearn/preprocessing/label.py:151: DeprecationWarning: The truth value of an empty array is ambiguous. Returning False, but in future this will result in an error. Use `array.size > 0` to check that an array is not empty.\n",
      "  if diff:\n",
      "/Users/miljanstojiljkovic/anaconda3/lib/python3.6/site-packages/sklearn/preprocessing/label.py:151: DeprecationWarning: The truth value of an empty array is ambiguous. Returning False, but in future this will result in an error. Use `array.size > 0` to check that an array is not empty.\n",
      "  if diff:\n"
     ]
    },
    {
     "name": "stdout",
     "output_type": "stream",
     "text": [
      "[CV]  colsample_bytree=0.8, gamma=2, max_depth=7, min_child_weight=1, subsample=0.6, score=0.9725829725829725, total= 2.8min\n",
      "[CV] colsample_bytree=0.8, gamma=2, max_depth=7, min_child_weight=1, subsample=0.8 \n"
     ]
    },
    {
     "name": "stderr",
     "output_type": "stream",
     "text": [
      "/Users/miljanstojiljkovic/anaconda3/lib/python3.6/site-packages/sklearn/preprocessing/label.py:151: DeprecationWarning: The truth value of an empty array is ambiguous. Returning False, but in future this will result in an error. Use `array.size > 0` to check that an array is not empty.\n",
      "  if diff:\n",
      "/Users/miljanstojiljkovic/anaconda3/lib/python3.6/site-packages/sklearn/preprocessing/label.py:151: DeprecationWarning: The truth value of an empty array is ambiguous. Returning False, but in future this will result in an error. Use `array.size > 0` to check that an array is not empty.\n",
      "  if diff:\n"
     ]
    },
    {
     "name": "stdout",
     "output_type": "stream",
     "text": [
      "[CV]  colsample_bytree=0.8, gamma=2, max_depth=7, min_child_weight=1, subsample=0.6, score=0.9927745664739884, total= 2.9min\n",
      "[CV] colsample_bytree=0.8, gamma=2, max_depth=7, min_child_weight=1, subsample=0.8 \n"
     ]
    },
    {
     "name": "stderr",
     "output_type": "stream",
     "text": [
      "/Users/miljanstojiljkovic/anaconda3/lib/python3.6/site-packages/sklearn/preprocessing/label.py:151: DeprecationWarning: The truth value of an empty array is ambiguous. Returning False, but in future this will result in an error. Use `array.size > 0` to check that an array is not empty.\n",
      "  if diff:\n",
      "/Users/miljanstojiljkovic/anaconda3/lib/python3.6/site-packages/sklearn/preprocessing/label.py:151: DeprecationWarning: The truth value of an empty array is ambiguous. Returning False, but in future this will result in an error. Use `array.size > 0` to check that an array is not empty.\n",
      "  if diff:\n"
     ]
    },
    {
     "name": "stdout",
     "output_type": "stream",
     "text": [
      "[CV]  colsample_bytree=0.8, gamma=2, max_depth=7, min_child_weight=1, subsample=0.6, score=0.984081041968162, total= 2.9min\n",
      "[CV] colsample_bytree=0.8, gamma=2, max_depth=7, min_child_weight=1, subsample=0.8 \n"
     ]
    },
    {
     "name": "stderr",
     "output_type": "stream",
     "text": [
      "/Users/miljanstojiljkovic/anaconda3/lib/python3.6/site-packages/sklearn/preprocessing/label.py:151: DeprecationWarning: The truth value of an empty array is ambiguous. Returning False, but in future this will result in an error. Use `array.size > 0` to check that an array is not empty.\n",
      "  if diff:\n",
      "/Users/miljanstojiljkovic/anaconda3/lib/python3.6/site-packages/sklearn/preprocessing/label.py:151: DeprecationWarning: The truth value of an empty array is ambiguous. Returning False, but in future this will result in an error. Use `array.size > 0` to check that an array is not empty.\n",
      "  if diff:\n"
     ]
    },
    {
     "name": "stdout",
     "output_type": "stream",
     "text": [
      "[CV]  colsample_bytree=0.8, gamma=2, max_depth=7, min_child_weight=1, subsample=0.6, score=0.9781976744186046, total= 2.9min\n",
      "[CV] colsample_bytree=0.8, gamma=2, max_depth=7, min_child_weight=1, subsample=0.8 \n"
     ]
    },
    {
     "name": "stderr",
     "output_type": "stream",
     "text": [
      "/Users/miljanstojiljkovic/anaconda3/lib/python3.6/site-packages/sklearn/preprocessing/label.py:151: DeprecationWarning: The truth value of an empty array is ambiguous. Returning False, but in future this will result in an error. Use `array.size > 0` to check that an array is not empty.\n",
      "  if diff:\n",
      "/Users/miljanstojiljkovic/anaconda3/lib/python3.6/site-packages/sklearn/preprocessing/label.py:151: DeprecationWarning: The truth value of an empty array is ambiguous. Returning False, but in future this will result in an error. Use `array.size > 0` to check that an array is not empty.\n",
      "  if diff:\n"
     ]
    },
    {
     "name": "stdout",
     "output_type": "stream",
     "text": [
      "[CV]  colsample_bytree=0.8, gamma=2, max_depth=7, min_child_weight=1, subsample=0.8, score=0.9813218390804598, total= 3.2min\n",
      "[CV] colsample_bytree=0.8, gamma=2, max_depth=7, min_child_weight=1, subsample=0.8 \n"
     ]
    },
    {
     "name": "stderr",
     "output_type": "stream",
     "text": [
      "/Users/miljanstojiljkovic/anaconda3/lib/python3.6/site-packages/sklearn/preprocessing/label.py:151: DeprecationWarning: The truth value of an empty array is ambiguous. Returning False, but in future this will result in an error. Use `array.size > 0` to check that an array is not empty.\n",
      "  if diff:\n",
      "/Users/miljanstojiljkovic/anaconda3/lib/python3.6/site-packages/sklearn/preprocessing/label.py:151: DeprecationWarning: The truth value of an empty array is ambiguous. Returning False, but in future this will result in an error. Use `array.size > 0` to check that an array is not empty.\n",
      "  if diff:\n"
     ]
    },
    {
     "name": "stdout",
     "output_type": "stream",
     "text": [
      "[CV]  colsample_bytree=0.8, gamma=2, max_depth=7, min_child_weight=1, subsample=0.8, score=0.9754689754689755, total= 3.2min\n",
      "[CV] colsample_bytree=0.8, gamma=2, max_depth=7, min_child_weight=5, subsample=0.6 \n"
     ]
    },
    {
     "name": "stderr",
     "output_type": "stream",
     "text": [
      "/Users/miljanstojiljkovic/anaconda3/lib/python3.6/site-packages/sklearn/preprocessing/label.py:151: DeprecationWarning: The truth value of an empty array is ambiguous. Returning False, but in future this will result in an error. Use `array.size > 0` to check that an array is not empty.\n",
      "  if diff:\n",
      "/Users/miljanstojiljkovic/anaconda3/lib/python3.6/site-packages/sklearn/preprocessing/label.py:151: DeprecationWarning: The truth value of an empty array is ambiguous. Returning False, but in future this will result in an error. Use `array.size > 0` to check that an array is not empty.\n",
      "  if diff:\n"
     ]
    },
    {
     "name": "stdout",
     "output_type": "stream",
     "text": [
      "[CV]  colsample_bytree=0.8, gamma=2, max_depth=7, min_child_weight=1, subsample=0.8, score=0.9927745664739884, total= 3.2min\n",
      "[CV] colsample_bytree=0.8, gamma=2, max_depth=7, min_child_weight=5, subsample=0.6 \n"
     ]
    },
    {
     "name": "stderr",
     "output_type": "stream",
     "text": [
      "/Users/miljanstojiljkovic/anaconda3/lib/python3.6/site-packages/sklearn/preprocessing/label.py:151: DeprecationWarning: The truth value of an empty array is ambiguous. Returning False, but in future this will result in an error. Use `array.size > 0` to check that an array is not empty.\n",
      "  if diff:\n",
      "/Users/miljanstojiljkovic/anaconda3/lib/python3.6/site-packages/sklearn/preprocessing/label.py:151: DeprecationWarning: The truth value of an empty array is ambiguous. Returning False, but in future this will result in an error. Use `array.size > 0` to check that an array is not empty.\n",
      "  if diff:\n"
     ]
    },
    {
     "name": "stdout",
     "output_type": "stream",
     "text": [
      "[CV]  colsample_bytree=0.8, gamma=2, max_depth=7, min_child_weight=5, subsample=0.6, score=0.9755747126436781, total= 2.3min\n",
      "[CV] colsample_bytree=0.8, gamma=2, max_depth=7, min_child_weight=5, subsample=0.6 \n"
     ]
    },
    {
     "name": "stderr",
     "output_type": "stream",
     "text": [
      "/Users/miljanstojiljkovic/anaconda3/lib/python3.6/site-packages/sklearn/preprocessing/label.py:151: DeprecationWarning: The truth value of an empty array is ambiguous. Returning False, but in future this will result in an error. Use `array.size > 0` to check that an array is not empty.\n",
      "  if diff:\n",
      "/Users/miljanstojiljkovic/anaconda3/lib/python3.6/site-packages/sklearn/preprocessing/label.py:151: DeprecationWarning: The truth value of an empty array is ambiguous. Returning False, but in future this will result in an error. Use `array.size > 0` to check that an array is not empty.\n",
      "  if diff:\n"
     ]
    },
    {
     "name": "stdout",
     "output_type": "stream",
     "text": [
      "[CV]  colsample_bytree=0.8, gamma=2, max_depth=7, min_child_weight=1, subsample=0.8, score=0.984081041968162, total= 3.2min\n",
      "[CV] colsample_bytree=0.8, gamma=2, max_depth=7, min_child_weight=5, subsample=0.6 \n"
     ]
    },
    {
     "name": "stderr",
     "output_type": "stream",
     "text": [
      "/Users/miljanstojiljkovic/anaconda3/lib/python3.6/site-packages/sklearn/preprocessing/label.py:151: DeprecationWarning: The truth value of an empty array is ambiguous. Returning False, but in future this will result in an error. Use `array.size > 0` to check that an array is not empty.\n",
      "  if diff:\n",
      "/Users/miljanstojiljkovic/anaconda3/lib/python3.6/site-packages/sklearn/preprocessing/label.py:151: DeprecationWarning: The truth value of an empty array is ambiguous. Returning False, but in future this will result in an error. Use `array.size > 0` to check that an array is not empty.\n",
      "  if diff:\n"
     ]
    },
    {
     "name": "stdout",
     "output_type": "stream",
     "text": [
      "[CV]  colsample_bytree=0.8, gamma=2, max_depth=7, min_child_weight=5, subsample=0.6, score=0.9754689754689755, total= 2.3min\n",
      "[CV] colsample_bytree=0.8, gamma=2, max_depth=7, min_child_weight=5, subsample=0.6 \n"
     ]
    },
    {
     "name": "stderr",
     "output_type": "stream",
     "text": [
      "/Users/miljanstojiljkovic/anaconda3/lib/python3.6/site-packages/sklearn/preprocessing/label.py:151: DeprecationWarning: The truth value of an empty array is ambiguous. Returning False, but in future this will result in an error. Use `array.size > 0` to check that an array is not empty.\n",
      "  if diff:\n",
      "/Users/miljanstojiljkovic/anaconda3/lib/python3.6/site-packages/sklearn/preprocessing/label.py:151: DeprecationWarning: The truth value of an empty array is ambiguous. Returning False, but in future this will result in an error. Use `array.size > 0` to check that an array is not empty.\n",
      "  if diff:\n"
     ]
    },
    {
     "name": "stdout",
     "output_type": "stream",
     "text": [
      "[CV]  colsample_bytree=0.8, gamma=2, max_depth=7, min_child_weight=1, subsample=0.8, score=0.9781976744186046, total= 3.2min\n",
      "[CV] colsample_bytree=0.8, gamma=2, max_depth=7, min_child_weight=5, subsample=0.8 \n"
     ]
    },
    {
     "name": "stderr",
     "output_type": "stream",
     "text": [
      "/Users/miljanstojiljkovic/anaconda3/lib/python3.6/site-packages/sklearn/preprocessing/label.py:151: DeprecationWarning: The truth value of an empty array is ambiguous. Returning False, but in future this will result in an error. Use `array.size > 0` to check that an array is not empty.\n",
      "  if diff:\n",
      "/Users/miljanstojiljkovic/anaconda3/lib/python3.6/site-packages/sklearn/preprocessing/label.py:151: DeprecationWarning: The truth value of an empty array is ambiguous. Returning False, but in future this will result in an error. Use `array.size > 0` to check that an array is not empty.\n",
      "  if diff:\n"
     ]
    },
    {
     "name": "stdout",
     "output_type": "stream",
     "text": [
      "[CV]  colsample_bytree=0.8, gamma=2, max_depth=7, min_child_weight=5, subsample=0.6, score=0.9942196531791907, total= 2.4min\n",
      "[CV] colsample_bytree=0.8, gamma=2, max_depth=7, min_child_weight=5, subsample=0.8 \n"
     ]
    },
    {
     "name": "stderr",
     "output_type": "stream",
     "text": [
      "/Users/miljanstojiljkovic/anaconda3/lib/python3.6/site-packages/sklearn/preprocessing/label.py:151: DeprecationWarning: The truth value of an empty array is ambiguous. Returning False, but in future this will result in an error. Use `array.size > 0` to check that an array is not empty.\n",
      "  if diff:\n",
      "/Users/miljanstojiljkovic/anaconda3/lib/python3.6/site-packages/sklearn/preprocessing/label.py:151: DeprecationWarning: The truth value of an empty array is ambiguous. Returning False, but in future this will result in an error. Use `array.size > 0` to check that an array is not empty.\n",
      "  if diff:\n"
     ]
    },
    {
     "name": "stdout",
     "output_type": "stream",
     "text": [
      "[CV]  colsample_bytree=0.8, gamma=2, max_depth=7, min_child_weight=5, subsample=0.6, score=0.984081041968162, total= 2.4min\n",
      "[CV] colsample_bytree=0.8, gamma=2, max_depth=7, min_child_weight=5, subsample=0.8 \n"
     ]
    },
    {
     "name": "stderr",
     "output_type": "stream",
     "text": [
      "/Users/miljanstojiljkovic/anaconda3/lib/python3.6/site-packages/sklearn/preprocessing/label.py:151: DeprecationWarning: The truth value of an empty array is ambiguous. Returning False, but in future this will result in an error. Use `array.size > 0` to check that an array is not empty.\n",
      "  if diff:\n",
      "/Users/miljanstojiljkovic/anaconda3/lib/python3.6/site-packages/sklearn/preprocessing/label.py:151: DeprecationWarning: The truth value of an empty array is ambiguous. Returning False, but in future this will result in an error. Use `array.size > 0` to check that an array is not empty.\n",
      "  if diff:\n"
     ]
    },
    {
     "name": "stdout",
     "output_type": "stream",
     "text": [
      "[CV]  colsample_bytree=0.8, gamma=2, max_depth=7, min_child_weight=5, subsample=0.6, score=0.9752906976744186, total= 2.4min\n",
      "[CV] colsample_bytree=0.8, gamma=2, max_depth=7, min_child_weight=5, subsample=0.8 \n"
     ]
    },
    {
     "name": "stderr",
     "output_type": "stream",
     "text": [
      "/Users/miljanstojiljkovic/anaconda3/lib/python3.6/site-packages/sklearn/preprocessing/label.py:151: DeprecationWarning: The truth value of an empty array is ambiguous. Returning False, but in future this will result in an error. Use `array.size > 0` to check that an array is not empty.\n",
      "  if diff:\n",
      "/Users/miljanstojiljkovic/anaconda3/lib/python3.6/site-packages/sklearn/preprocessing/label.py:151: DeprecationWarning: The truth value of an empty array is ambiguous. Returning False, but in future this will result in an error. Use `array.size > 0` to check that an array is not empty.\n",
      "  if diff:\n"
     ]
    },
    {
     "name": "stdout",
     "output_type": "stream",
     "text": [
      "[CV]  colsample_bytree=0.8, gamma=2, max_depth=7, min_child_weight=5, subsample=0.8, score=0.9770114942528736, total= 2.7min\n",
      "[CV] colsample_bytree=0.8, gamma=2, max_depth=7, min_child_weight=5, subsample=0.8 \n"
     ]
    },
    {
     "name": "stderr",
     "output_type": "stream",
     "text": [
      "/Users/miljanstojiljkovic/anaconda3/lib/python3.6/site-packages/sklearn/preprocessing/label.py:151: DeprecationWarning: The truth value of an empty array is ambiguous. Returning False, but in future this will result in an error. Use `array.size > 0` to check that an array is not empty.\n",
      "  if diff:\n",
      "/Users/miljanstojiljkovic/anaconda3/lib/python3.6/site-packages/sklearn/preprocessing/label.py:151: DeprecationWarning: The truth value of an empty array is ambiguous. Returning False, but in future this will result in an error. Use `array.size > 0` to check that an array is not empty.\n",
      "  if diff:\n"
     ]
    },
    {
     "name": "stdout",
     "output_type": "stream",
     "text": [
      "[CV]  colsample_bytree=0.8, gamma=2, max_depth=7, min_child_weight=5, subsample=0.8, score=0.976911976911977, total= 2.6min\n"
     ]
    },
    {
     "name": "stderr",
     "output_type": "stream",
     "text": [
      "/Users/miljanstojiljkovic/anaconda3/lib/python3.6/site-packages/sklearn/preprocessing/label.py:151: DeprecationWarning: The truth value of an empty array is ambiguous. Returning False, but in future this will result in an error. Use `array.size > 0` to check that an array is not empty.\n",
      "  if diff:\n",
      "/Users/miljanstojiljkovic/anaconda3/lib/python3.6/site-packages/sklearn/preprocessing/label.py:151: DeprecationWarning: The truth value of an empty array is ambiguous. Returning False, but in future this will result in an error. Use `array.size > 0` to check that an array is not empty.\n",
      "  if diff:\n"
     ]
    },
    {
     "name": "stdout",
     "output_type": "stream",
     "text": [
      "[CV]  colsample_bytree=0.8, gamma=2, max_depth=7, min_child_weight=5, subsample=0.8, score=0.9942196531791907, total= 2.6min\n"
     ]
    },
    {
     "name": "stderr",
     "output_type": "stream",
     "text": [
      "/Users/miljanstojiljkovic/anaconda3/lib/python3.6/site-packages/sklearn/preprocessing/label.py:151: DeprecationWarning: The truth value of an empty array is ambiguous. Returning False, but in future this will result in an error. Use `array.size > 0` to check that an array is not empty.\n",
      "  if diff:\n",
      "/Users/miljanstojiljkovic/anaconda3/lib/python3.6/site-packages/sklearn/preprocessing/label.py:151: DeprecationWarning: The truth value of an empty array is ambiguous. Returning False, but in future this will result in an error. Use `array.size > 0` to check that an array is not empty.\n",
      "  if diff:\n"
     ]
    },
    {
     "name": "stdout",
     "output_type": "stream",
     "text": [
      "[CV]  colsample_bytree=0.8, gamma=2, max_depth=7, min_child_weight=5, subsample=0.8, score=0.984081041968162, total= 2.5min\n"
     ]
    },
    {
     "name": "stderr",
     "output_type": "stream",
     "text": [
      "/Users/miljanstojiljkovic/anaconda3/lib/python3.6/site-packages/sklearn/preprocessing/label.py:151: DeprecationWarning: The truth value of an empty array is ambiguous. Returning False, but in future this will result in an error. Use `array.size > 0` to check that an array is not empty.\n",
      "  if diff:\n",
      "/Users/miljanstojiljkovic/anaconda3/lib/python3.6/site-packages/sklearn/preprocessing/label.py:151: DeprecationWarning: The truth value of an empty array is ambiguous. Returning False, but in future this will result in an error. Use `array.size > 0` to check that an array is not empty.\n",
      "  if diff:\n"
     ]
    },
    {
     "name": "stdout",
     "output_type": "stream",
     "text": [
      "[CV]  colsample_bytree=0.8, gamma=2, max_depth=7, min_child_weight=5, subsample=0.8, score=0.9781976744186046, total= 2.3min\n"
     ]
    },
    {
     "name": "stderr",
     "output_type": "stream",
     "text": [
      "[Parallel(n_jobs=-1)]: Done 160 out of 160 | elapsed: 95.5min finished\n"
     ]
    },
    {
     "name": "stdout",
     "output_type": "stream",
     "text": [
      "Fitting 5 folds for each of 32 candidates, totalling 160 fits\n"
     ]
    },
    {
     "name": "stderr",
     "output_type": "stream",
     "text": [
      "/Users/miljanstojiljkovic/anaconda3/lib/python3.6/site-packages/sklearn/model_selection/_split.py:605: Warning: The least populated class in y has only 2 members, which is too few. The minimum number of members in any class cannot be less than n_splits=5.\n",
      "  % (min_groups, self.n_splits)), Warning)\n"
     ]
    },
    {
     "name": "stdout",
     "output_type": "stream",
     "text": [
      "[CV] colsample_bytree=0.6, gamma=0.5, max_depth=5, min_child_weight=1, subsample=0.6 \n",
      "[CV] colsample_bytree=0.6, gamma=0.5, max_depth=5, min_child_weight=1, subsample=0.6 \n",
      "[CV] colsample_bytree=0.6, gamma=0.5, max_depth=5, min_child_weight=1, subsample=0.6 \n",
      "[CV] colsample_bytree=0.6, gamma=0.5, max_depth=5, min_child_weight=1, subsample=0.6 \n"
     ]
    },
    {
     "name": "stderr",
     "output_type": "stream",
     "text": [
      "/Users/miljanstojiljkovic/anaconda3/lib/python3.6/site-packages/sklearn/preprocessing/label.py:151: DeprecationWarning: The truth value of an empty array is ambiguous. Returning False, but in future this will result in an error. Use `array.size > 0` to check that an array is not empty.\n",
      "  if diff:\n",
      "/Users/miljanstojiljkovic/anaconda3/lib/python3.6/site-packages/sklearn/preprocessing/label.py:151: DeprecationWarning: The truth value of an empty array is ambiguous. Returning False, but in future this will result in an error. Use `array.size > 0` to check that an array is not empty.\n",
      "  if diff:\n",
      "/Users/miljanstojiljkovic/anaconda3/lib/python3.6/site-packages/sklearn/preprocessing/label.py:151: DeprecationWarning: The truth value of an empty array is ambiguous. Returning False, but in future this will result in an error. Use `array.size > 0` to check that an array is not empty.\n",
      "  if diff:\n",
      "/Users/miljanstojiljkovic/anaconda3/lib/python3.6/site-packages/sklearn/preprocessing/label.py:151: DeprecationWarning: The truth value of an empty array is ambiguous. Returning False, but in future this will result in an error. Use `array.size > 0` to check that an array is not empty.\n",
      "  if diff:\n"
     ]
    },
    {
     "name": "stdout",
     "output_type": "stream",
     "text": [
      "[CV]  colsample_bytree=0.6, gamma=0.5, max_depth=5, min_child_weight=1, subsample=0.6, score=0.9742895805142084, total= 2.0min\n",
      "[CV] colsample_bytree=0.6, gamma=0.5, max_depth=5, min_child_weight=1, subsample=0.6 \n"
     ]
    },
    {
     "name": "stderr",
     "output_type": "stream",
     "text": [
      "/Users/miljanstojiljkovic/anaconda3/lib/python3.6/site-packages/sklearn/preprocessing/label.py:151: DeprecationWarning: The truth value of an empty array is ambiguous. Returning False, but in future this will result in an error. Use `array.size > 0` to check that an array is not empty.\n",
      "  if diff:\n",
      "/Users/miljanstojiljkovic/anaconda3/lib/python3.6/site-packages/sklearn/preprocessing/label.py:151: DeprecationWarning: The truth value of an empty array is ambiguous. Returning False, but in future this will result in an error. Use `array.size > 0` to check that an array is not empty.\n",
      "  if diff:\n"
     ]
    },
    {
     "name": "stdout",
     "output_type": "stream",
     "text": [
      "[CV]  colsample_bytree=0.6, gamma=0.5, max_depth=5, min_child_weight=1, subsample=0.6, score=0.9878213802435724, total= 2.0min\n",
      "[CV] colsample_bytree=0.6, gamma=0.5, max_depth=5, min_child_weight=1, subsample=0.8 \n"
     ]
    },
    {
     "name": "stderr",
     "output_type": "stream",
     "text": [
      "/Users/miljanstojiljkovic/anaconda3/lib/python3.6/site-packages/sklearn/preprocessing/label.py:151: DeprecationWarning: The truth value of an empty array is ambiguous. Returning False, but in future this will result in an error. Use `array.size > 0` to check that an array is not empty.\n",
      "  if diff:\n"
     ]
    },
    {
     "name": "stdout",
     "output_type": "stream",
     "text": [
      "[CV]  colsample_bytree=0.6, gamma=0.5, max_depth=5, min_child_weight=1, subsample=0.6, score=0.9782016348773842, total= 2.1min\n",
      "[CV] colsample_bytree=0.6, gamma=0.5, max_depth=5, min_child_weight=1, subsample=0.8 \n"
     ]
    },
    {
     "name": "stderr",
     "output_type": "stream",
     "text": [
      "/Users/miljanstojiljkovic/anaconda3/lib/python3.6/site-packages/sklearn/preprocessing/label.py:151: DeprecationWarning: The truth value of an empty array is ambiguous. Returning False, but in future this will result in an error. Use `array.size > 0` to check that an array is not empty.\n",
      "  if diff:\n"
     ]
    },
    {
     "name": "stdout",
     "output_type": "stream",
     "text": [
      "[CV]  colsample_bytree=0.6, gamma=0.5, max_depth=5, min_child_weight=1, subsample=0.6, score=0.9877717391304348, total= 2.1min\n",
      "[CV] colsample_bytree=0.6, gamma=0.5, max_depth=5, min_child_weight=1, subsample=0.8 \n"
     ]
    },
    {
     "name": "stderr",
     "output_type": "stream",
     "text": [
      "/Users/miljanstojiljkovic/anaconda3/lib/python3.6/site-packages/sklearn/preprocessing/label.py:151: DeprecationWarning: The truth value of an empty array is ambiguous. Returning False, but in future this will result in an error. Use `array.size > 0` to check that an array is not empty.\n",
      "  if diff:\n",
      "/Users/miljanstojiljkovic/anaconda3/lib/python3.6/site-packages/sklearn/preprocessing/label.py:151: DeprecationWarning: The truth value of an empty array is ambiguous. Returning False, but in future this will result in an error. Use `array.size > 0` to check that an array is not empty.\n",
      "  if diff:\n"
     ]
    },
    {
     "name": "stdout",
     "output_type": "stream",
     "text": [
      "[CV]  colsample_bytree=0.6, gamma=0.5, max_depth=5, min_child_weight=1, subsample=0.6, score=0.9918256130790191, total= 2.1min\n",
      "[CV] colsample_bytree=0.6, gamma=0.5, max_depth=5, min_child_weight=1, subsample=0.8 \n"
     ]
    },
    {
     "name": "stderr",
     "output_type": "stream",
     "text": [
      "[Parallel(n_jobs=-1)]: Done   5 tasks      | elapsed:  4.2min\n",
      "/Users/miljanstojiljkovic/anaconda3/lib/python3.6/site-packages/sklearn/preprocessing/label.py:151: DeprecationWarning: The truth value of an empty array is ambiguous. Returning False, but in future this will result in an error. Use `array.size > 0` to check that an array is not empty.\n",
      "  if diff:\n",
      "/Users/miljanstojiljkovic/anaconda3/lib/python3.6/site-packages/sklearn/preprocessing/label.py:151: DeprecationWarning: The truth value of an empty array is ambiguous. Returning False, but in future this will result in an error. Use `array.size > 0` to check that an array is not empty.\n",
      "  if diff:\n",
      "/Users/miljanstojiljkovic/anaconda3/lib/python3.6/site-packages/sklearn/preprocessing/label.py:151: DeprecationWarning: The truth value of an empty array is ambiguous. Returning False, but in future this will result in an error. Use `array.size > 0` to check that an array is not empty.\n",
      "  if diff:\n"
     ]
    },
    {
     "name": "stdout",
     "output_type": "stream",
     "text": [
      "[CV]  colsample_bytree=0.6, gamma=0.5, max_depth=5, min_child_weight=1, subsample=0.8, score=0.986468200270636, total= 2.3min\n",
      "[CV] colsample_bytree=0.6, gamma=0.5, max_depth=5, min_child_weight=1, subsample=0.8 \n"
     ]
    },
    {
     "name": "stderr",
     "output_type": "stream",
     "text": [
      "/Users/miljanstojiljkovic/anaconda3/lib/python3.6/site-packages/sklearn/preprocessing/label.py:151: DeprecationWarning: The truth value of an empty array is ambiguous. Returning False, but in future this will result in an error. Use `array.size > 0` to check that an array is not empty.\n",
      "  if diff:\n"
     ]
    },
    {
     "name": "stdout",
     "output_type": "stream",
     "text": [
      "[CV]  colsample_bytree=0.6, gamma=0.5, max_depth=5, min_child_weight=1, subsample=0.8, score=0.972936400541272, total= 2.3min\n",
      "[CV] colsample_bytree=0.6, gamma=0.5, max_depth=5, min_child_weight=5, subsample=0.6 \n"
     ]
    },
    {
     "name": "stderr",
     "output_type": "stream",
     "text": [
      "/Users/miljanstojiljkovic/anaconda3/lib/python3.6/site-packages/sklearn/preprocessing/label.py:151: DeprecationWarning: The truth value of an empty array is ambiguous. Returning False, but in future this will result in an error. Use `array.size > 0` to check that an array is not empty.\n",
      "  if diff:\n",
      "/Users/miljanstojiljkovic/anaconda3/lib/python3.6/site-packages/sklearn/preprocessing/label.py:151: DeprecationWarning: The truth value of an empty array is ambiguous. Returning False, but in future this will result in an error. Use `array.size > 0` to check that an array is not empty.\n",
      "  if diff:\n"
     ]
    },
    {
     "name": "stdout",
     "output_type": "stream",
     "text": [
      "[CV]  colsample_bytree=0.6, gamma=0.5, max_depth=5, min_child_weight=1, subsample=0.8, score=0.9891304347826086, total= 2.3min\n",
      "[CV] colsample_bytree=0.6, gamma=0.5, max_depth=5, min_child_weight=5, subsample=0.6 \n"
     ]
    },
    {
     "name": "stderr",
     "output_type": "stream",
     "text": [
      "/Users/miljanstojiljkovic/anaconda3/lib/python3.6/site-packages/sklearn/preprocessing/label.py:151: DeprecationWarning: The truth value of an empty array is ambiguous. Returning False, but in future this will result in an error. Use `array.size > 0` to check that an array is not empty.\n",
      "  if diff:\n",
      "/Users/miljanstojiljkovic/anaconda3/lib/python3.6/site-packages/sklearn/preprocessing/label.py:151: DeprecationWarning: The truth value of an empty array is ambiguous. Returning False, but in future this will result in an error. Use `array.size > 0` to check that an array is not empty.\n",
      "  if diff:\n",
      "/Users/miljanstojiljkovic/anaconda3/lib/python3.6/site-packages/sklearn/preprocessing/label.py:151: DeprecationWarning: The truth value of an empty array is ambiguous. Returning False, but in future this will result in an error. Use `array.size > 0` to check that an array is not empty.\n",
      "  if diff:\n"
     ]
    },
    {
     "name": "stdout",
     "output_type": "stream",
     "text": [
      "[CV]  colsample_bytree=0.6, gamma=0.5, max_depth=5, min_child_weight=5, subsample=0.6, score=0.9851150202976996, total= 1.8min\n",
      "[CV] colsample_bytree=0.6, gamma=0.5, max_depth=5, min_child_weight=5, subsample=0.6 \n"
     ]
    },
    {
     "name": "stderr",
     "output_type": "stream",
     "text": [
      "/Users/miljanstojiljkovic/anaconda3/lib/python3.6/site-packages/sklearn/preprocessing/label.py:151: DeprecationWarning: The truth value of an empty array is ambiguous. Returning False, but in future this will result in an error. Use `array.size > 0` to check that an array is not empty.\n",
      "  if diff:\n"
     ]
    },
    {
     "name": "stdout",
     "output_type": "stream",
     "text": [
      "[CV]  colsample_bytree=0.6, gamma=0.5, max_depth=5, min_child_weight=5, subsample=0.6, score=0.9756427604871448, total= 1.8min\n",
      "[CV] colsample_bytree=0.6, gamma=0.5, max_depth=5, min_child_weight=5, subsample=0.6 \n"
     ]
    },
    {
     "name": "stderr",
     "output_type": "stream",
     "text": [
      "[Parallel(n_jobs=-1)]: Done  10 tasks      | elapsed:  6.3min\n",
      "/Users/miljanstojiljkovic/anaconda3/lib/python3.6/site-packages/sklearn/preprocessing/label.py:151: DeprecationWarning: The truth value of an empty array is ambiguous. Returning False, but in future this will result in an error. Use `array.size > 0` to check that an array is not empty.\n",
      "  if diff:\n",
      "/Users/miljanstojiljkovic/anaconda3/lib/python3.6/site-packages/sklearn/preprocessing/label.py:151: DeprecationWarning: The truth value of an empty array is ambiguous. Returning False, but in future this will result in an error. Use `array.size > 0` to check that an array is not empty.\n",
      "  if diff:\n"
     ]
    },
    {
     "name": "stdout",
     "output_type": "stream",
     "text": [
      "[CV]  colsample_bytree=0.6, gamma=0.5, max_depth=5, min_child_weight=1, subsample=0.8, score=0.9782016348773842, total= 2.3min\n",
      "[CV] colsample_bytree=0.6, gamma=0.5, max_depth=5, min_child_weight=5, subsample=0.6 \n"
     ]
    },
    {
     "name": "stderr",
     "output_type": "stream",
     "text": [
      "/Users/miljanstojiljkovic/anaconda3/lib/python3.6/site-packages/sklearn/preprocessing/label.py:151: DeprecationWarning: The truth value of an empty array is ambiguous. Returning False, but in future this will result in an error. Use `array.size > 0` to check that an array is not empty.\n",
      "  if diff:\n",
      "/Users/miljanstojiljkovic/anaconda3/lib/python3.6/site-packages/sklearn/preprocessing/label.py:151: DeprecationWarning: The truth value of an empty array is ambiguous. Returning False, but in future this will result in an error. Use `array.size > 0` to check that an array is not empty.\n",
      "  if diff:\n"
     ]
    },
    {
     "name": "stdout",
     "output_type": "stream",
     "text": [
      "[CV]  colsample_bytree=0.6, gamma=0.5, max_depth=5, min_child_weight=1, subsample=0.8, score=0.9918256130790191, total= 2.3min\n",
      "[CV] colsample_bytree=0.6, gamma=0.5, max_depth=5, min_child_weight=5, subsample=0.8 \n"
     ]
    },
    {
     "name": "stderr",
     "output_type": "stream",
     "text": [
      "/Users/miljanstojiljkovic/anaconda3/lib/python3.6/site-packages/sklearn/preprocessing/label.py:151: DeprecationWarning: The truth value of an empty array is ambiguous. Returning False, but in future this will result in an error. Use `array.size > 0` to check that an array is not empty.\n",
      "  if diff:\n",
      "/Users/miljanstojiljkovic/anaconda3/lib/python3.6/site-packages/sklearn/preprocessing/label.py:151: DeprecationWarning: The truth value of an empty array is ambiguous. Returning False, but in future this will result in an error. Use `array.size > 0` to check that an array is not empty.\n",
      "  if diff:\n",
      "/Users/miljanstojiljkovic/anaconda3/lib/python3.6/site-packages/sklearn/preprocessing/label.py:151: DeprecationWarning: The truth value of an empty array is ambiguous. Returning False, but in future this will result in an error. Use `array.size > 0` to check that an array is not empty.\n",
      "  if diff:\n"
     ]
    },
    {
     "name": "stdout",
     "output_type": "stream",
     "text": [
      "[CV]  colsample_bytree=0.6, gamma=0.5, max_depth=5, min_child_weight=5, subsample=0.6, score=0.9836956521739131, total= 1.8min\n",
      "[CV] colsample_bytree=0.6, gamma=0.5, max_depth=5, min_child_weight=5, subsample=0.8 \n"
     ]
    },
    {
     "name": "stderr",
     "output_type": "stream",
     "text": [
      "/Users/miljanstojiljkovic/anaconda3/lib/python3.6/site-packages/sklearn/preprocessing/label.py:151: DeprecationWarning: The truth value of an empty array is ambiguous. Returning False, but in future this will result in an error. Use `array.size > 0` to check that an array is not empty.\n",
      "  if diff:\n"
     ]
    },
    {
     "name": "stdout",
     "output_type": "stream",
     "text": [
      "[CV]  colsample_bytree=0.6, gamma=0.5, max_depth=5, min_child_weight=5, subsample=0.6, score=0.9741144414168937, total= 1.8min\n",
      "[CV] colsample_bytree=0.6, gamma=0.5, max_depth=5, min_child_weight=5, subsample=0.8 \n"
     ]
    },
    {
     "name": "stderr",
     "output_type": "stream",
     "text": [
      "/Users/miljanstojiljkovic/anaconda3/lib/python3.6/site-packages/sklearn/preprocessing/label.py:151: DeprecationWarning: The truth value of an empty array is ambiguous. Returning False, but in future this will result in an error. Use `array.size > 0` to check that an array is not empty.\n",
      "  if diff:\n",
      "/Users/miljanstojiljkovic/anaconda3/lib/python3.6/site-packages/sklearn/preprocessing/label.py:151: DeprecationWarning: The truth value of an empty array is ambiguous. Returning False, but in future this will result in an error. Use `array.size > 0` to check that an array is not empty.\n",
      "  if diff:\n"
     ]
    },
    {
     "name": "stdout",
     "output_type": "stream",
     "text": [
      "[CV]  colsample_bytree=0.6, gamma=0.5, max_depth=5, min_child_weight=5, subsample=0.6, score=0.9918256130790191, total= 1.8min\n",
      "[CV] colsample_bytree=0.6, gamma=0.5, max_depth=5, min_child_weight=5, subsample=0.8 \n"
     ]
    },
    {
     "name": "stderr",
     "output_type": "stream",
     "text": [
      "/Users/miljanstojiljkovic/anaconda3/lib/python3.6/site-packages/sklearn/preprocessing/label.py:151: DeprecationWarning: The truth value of an empty array is ambiguous. Returning False, but in future this will result in an error. Use `array.size > 0` to check that an array is not empty.\n",
      "  if diff:\n",
      "/Users/miljanstojiljkovic/anaconda3/lib/python3.6/site-packages/sklearn/preprocessing/label.py:151: DeprecationWarning: The truth value of an empty array is ambiguous. Returning False, but in future this will result in an error. Use `array.size > 0` to check that an array is not empty.\n",
      "  if diff:\n"
     ]
    },
    {
     "name": "stdout",
     "output_type": "stream",
     "text": [
      "[CV]  colsample_bytree=0.6, gamma=0.5, max_depth=5, min_child_weight=5, subsample=0.8, score=0.9851150202976996, total= 2.0min\n",
      "[CV] colsample_bytree=0.6, gamma=0.5, max_depth=5, min_child_weight=5, subsample=0.8 \n"
     ]
    },
    {
     "name": "stderr",
     "output_type": "stream",
     "text": [
      "/Users/miljanstojiljkovic/anaconda3/lib/python3.6/site-packages/sklearn/preprocessing/label.py:151: DeprecationWarning: The truth value of an empty array is ambiguous. Returning False, but in future this will result in an error. Use `array.size > 0` to check that an array is not empty.\n",
      "  if diff:\n",
      "/Users/miljanstojiljkovic/anaconda3/lib/python3.6/site-packages/sklearn/preprocessing/label.py:151: DeprecationWarning: The truth value of an empty array is ambiguous. Returning False, but in future this will result in an error. Use `array.size > 0` to check that an array is not empty.\n",
      "  if diff:\n"
     ]
    },
    {
     "name": "stdout",
     "output_type": "stream",
     "text": [
      "[CV]  colsample_bytree=0.6, gamma=0.5, max_depth=5, min_child_weight=5, subsample=0.8, score=0.9769959404600812, total= 2.0min\n",
      "[CV] colsample_bytree=0.6, gamma=0.5, max_depth=7, min_child_weight=1, subsample=0.6 \n"
     ]
    },
    {
     "name": "stderr",
     "output_type": "stream",
     "text": [
      "[Parallel(n_jobs=-1)]: Done  17 tasks      | elapsed: 10.1min\n",
      "/Users/miljanstojiljkovic/anaconda3/lib/python3.6/site-packages/sklearn/preprocessing/label.py:151: DeprecationWarning: The truth value of an empty array is ambiguous. Returning False, but in future this will result in an error. Use `array.size > 0` to check that an array is not empty.\n",
      "  if diff:\n",
      "/Users/miljanstojiljkovic/anaconda3/lib/python3.6/site-packages/sklearn/preprocessing/label.py:151: DeprecationWarning: The truth value of an empty array is ambiguous. Returning False, but in future this will result in an error. Use `array.size > 0` to check that an array is not empty.\n",
      "  if diff:\n"
     ]
    },
    {
     "name": "stdout",
     "output_type": "stream",
     "text": [
      "[CV]  colsample_bytree=0.6, gamma=0.5, max_depth=5, min_child_weight=5, subsample=0.8, score=0.9836956521739131, total= 2.0min\n",
      "[CV] colsample_bytree=0.6, gamma=0.5, max_depth=7, min_child_weight=1, subsample=0.6 \n"
     ]
    },
    {
     "name": "stderr",
     "output_type": "stream",
     "text": [
      "/Users/miljanstojiljkovic/anaconda3/lib/python3.6/site-packages/sklearn/preprocessing/label.py:151: DeprecationWarning: The truth value of an empty array is ambiguous. Returning False, but in future this will result in an error. Use `array.size > 0` to check that an array is not empty.\n",
      "  if diff:\n",
      "/Users/miljanstojiljkovic/anaconda3/lib/python3.6/site-packages/sklearn/preprocessing/label.py:151: DeprecationWarning: The truth value of an empty array is ambiguous. Returning False, but in future this will result in an error. Use `array.size > 0` to check that an array is not empty.\n",
      "  if diff:\n"
     ]
    },
    {
     "name": "stdout",
     "output_type": "stream",
     "text": [
      "[CV]  colsample_bytree=0.6, gamma=0.5, max_depth=5, min_child_weight=5, subsample=0.8, score=0.9782016348773842, total= 2.0min\n",
      "[CV] colsample_bytree=0.6, gamma=0.5, max_depth=7, min_child_weight=1, subsample=0.6 \n"
     ]
    },
    {
     "name": "stderr",
     "output_type": "stream",
     "text": [
      "/Users/miljanstojiljkovic/anaconda3/lib/python3.6/site-packages/sklearn/preprocessing/label.py:151: DeprecationWarning: The truth value of an empty array is ambiguous. Returning False, but in future this will result in an error. Use `array.size > 0` to check that an array is not empty.\n",
      "  if diff:\n",
      "/Users/miljanstojiljkovic/anaconda3/lib/python3.6/site-packages/sklearn/preprocessing/label.py:151: DeprecationWarning: The truth value of an empty array is ambiguous. Returning False, but in future this will result in an error. Use `array.size > 0` to check that an array is not empty.\n",
      "  if diff:\n"
     ]
    },
    {
     "name": "stdout",
     "output_type": "stream",
     "text": [
      "[CV]  colsample_bytree=0.6, gamma=0.5, max_depth=5, min_child_weight=5, subsample=0.8, score=0.9918256130790191, total= 2.0min\n",
      "[CV] colsample_bytree=0.6, gamma=0.5, max_depth=7, min_child_weight=1, subsample=0.6 \n"
     ]
    },
    {
     "name": "stderr",
     "output_type": "stream",
     "text": [
      "/Users/miljanstojiljkovic/anaconda3/lib/python3.6/site-packages/sklearn/preprocessing/label.py:151: DeprecationWarning: The truth value of an empty array is ambiguous. Returning False, but in future this will result in an error. Use `array.size > 0` to check that an array is not empty.\n",
      "  if diff:\n",
      "/Users/miljanstojiljkovic/anaconda3/lib/python3.6/site-packages/sklearn/preprocessing/label.py:151: DeprecationWarning: The truth value of an empty array is ambiguous. Returning False, but in future this will result in an error. Use `array.size > 0` to check that an array is not empty.\n",
      "  if diff:\n",
      "/Users/miljanstojiljkovic/anaconda3/lib/python3.6/site-packages/sklearn/preprocessing/label.py:151: DeprecationWarning: The truth value of an empty array is ambiguous. Returning False, but in future this will result in an error. Use `array.size > 0` to check that an array is not empty.\n",
      "  if diff:\n"
     ]
    },
    {
     "name": "stdout",
     "output_type": "stream",
     "text": [
      "[CV]  colsample_bytree=0.6, gamma=0.5, max_depth=7, min_child_weight=1, subsample=0.6, score=0.9891745602165088, total= 2.3min\n",
      "[CV] colsample_bytree=0.6, gamma=0.5, max_depth=7, min_child_weight=1, subsample=0.6 \n"
     ]
    },
    {
     "name": "stderr",
     "output_type": "stream",
     "text": [
      "/Users/miljanstojiljkovic/anaconda3/lib/python3.6/site-packages/sklearn/preprocessing/label.py:151: DeprecationWarning: The truth value of an empty array is ambiguous. Returning False, but in future this will result in an error. Use `array.size > 0` to check that an array is not empty.\n",
      "  if diff:\n"
     ]
    },
    {
     "name": "stdout",
     "output_type": "stream",
     "text": [
      "[CV]  colsample_bytree=0.6, gamma=0.5, max_depth=7, min_child_weight=1, subsample=0.6, score=0.9756427604871448, total= 2.3min\n",
      "[CV] colsample_bytree=0.6, gamma=0.5, max_depth=7, min_child_weight=1, subsample=0.8 \n"
     ]
    },
    {
     "name": "stderr",
     "output_type": "stream",
     "text": [
      "/Users/miljanstojiljkovic/anaconda3/lib/python3.6/site-packages/sklearn/preprocessing/label.py:151: DeprecationWarning: The truth value of an empty array is ambiguous. Returning False, but in future this will result in an error. Use `array.size > 0` to check that an array is not empty.\n",
      "  if diff:\n",
      "/Users/miljanstojiljkovic/anaconda3/lib/python3.6/site-packages/sklearn/preprocessing/label.py:151: DeprecationWarning: The truth value of an empty array is ambiguous. Returning False, but in future this will result in an error. Use `array.size > 0` to check that an array is not empty.\n",
      "  if diff:\n"
     ]
    },
    {
     "name": "stdout",
     "output_type": "stream",
     "text": [
      "[CV]  colsample_bytree=0.6, gamma=0.5, max_depth=7, min_child_weight=1, subsample=0.6, score=0.9891304347826086, total= 2.4min\n",
      "[CV] colsample_bytree=0.6, gamma=0.5, max_depth=7, min_child_weight=1, subsample=0.8 \n"
     ]
    },
    {
     "name": "stderr",
     "output_type": "stream",
     "text": [
      "/Users/miljanstojiljkovic/anaconda3/lib/python3.6/site-packages/sklearn/preprocessing/label.py:151: DeprecationWarning: The truth value of an empty array is ambiguous. Returning False, but in future this will result in an error. Use `array.size > 0` to check that an array is not empty.\n",
      "  if diff:\n",
      "/Users/miljanstojiljkovic/anaconda3/lib/python3.6/site-packages/sklearn/preprocessing/label.py:151: DeprecationWarning: The truth value of an empty array is ambiguous. Returning False, but in future this will result in an error. Use `array.size > 0` to check that an array is not empty.\n",
      "  if diff:\n"
     ]
    },
    {
     "name": "stdout",
     "output_type": "stream",
     "text": [
      "[CV]  colsample_bytree=0.6, gamma=0.5, max_depth=7, min_child_weight=1, subsample=0.6, score=0.9795640326975477, total= 2.3min\n",
      "[CV] colsample_bytree=0.6, gamma=0.5, max_depth=7, min_child_weight=1, subsample=0.8 \n"
     ]
    },
    {
     "name": "stderr",
     "output_type": "stream",
     "text": [
      "[Parallel(n_jobs=-1)]: Done  24 tasks      | elapsed: 13.1min\n",
      "/Users/miljanstojiljkovic/anaconda3/lib/python3.6/site-packages/sklearn/preprocessing/label.py:151: DeprecationWarning: The truth value of an empty array is ambiguous. Returning False, but in future this will result in an error. Use `array.size > 0` to check that an array is not empty.\n",
      "  if diff:\n",
      "/Users/miljanstojiljkovic/anaconda3/lib/python3.6/site-packages/sklearn/preprocessing/label.py:151: DeprecationWarning: The truth value of an empty array is ambiguous. Returning False, but in future this will result in an error. Use `array.size > 0` to check that an array is not empty.\n",
      "  if diff:\n"
     ]
    },
    {
     "name": "stdout",
     "output_type": "stream",
     "text": [
      "[CV]  colsample_bytree=0.6, gamma=0.5, max_depth=7, min_child_weight=1, subsample=0.6, score=0.9918256130790191, total= 2.3min\n",
      "[CV] colsample_bytree=0.6, gamma=0.5, max_depth=7, min_child_weight=1, subsample=0.8 \n"
     ]
    },
    {
     "name": "stderr",
     "output_type": "stream",
     "text": [
      "/Users/miljanstojiljkovic/anaconda3/lib/python3.6/site-packages/sklearn/preprocessing/label.py:151: DeprecationWarning: The truth value of an empty array is ambiguous. Returning False, but in future this will result in an error. Use `array.size > 0` to check that an array is not empty.\n",
      "  if diff:\n",
      "/Users/miljanstojiljkovic/anaconda3/lib/python3.6/site-packages/sklearn/preprocessing/label.py:151: DeprecationWarning: The truth value of an empty array is ambiguous. Returning False, but in future this will result in an error. Use `array.size > 0` to check that an array is not empty.\n",
      "  if diff:\n"
     ]
    },
    {
     "name": "stdout",
     "output_type": "stream",
     "text": [
      "[CV]  colsample_bytree=0.6, gamma=0.5, max_depth=7, min_child_weight=1, subsample=0.8, score=0.986468200270636, total= 2.6min\n",
      "[CV] colsample_bytree=0.6, gamma=0.5, max_depth=7, min_child_weight=1, subsample=0.8 \n"
     ]
    },
    {
     "name": "stderr",
     "output_type": "stream",
     "text": [
      "/Users/miljanstojiljkovic/anaconda3/lib/python3.6/site-packages/sklearn/preprocessing/label.py:151: DeprecationWarning: The truth value of an empty array is ambiguous. Returning False, but in future this will result in an error. Use `array.size > 0` to check that an array is not empty.\n",
      "  if diff:\n",
      "/Users/miljanstojiljkovic/anaconda3/lib/python3.6/site-packages/sklearn/preprocessing/label.py:151: DeprecationWarning: The truth value of an empty array is ambiguous. Returning False, but in future this will result in an error. Use `array.size > 0` to check that an array is not empty.\n",
      "  if diff:\n"
     ]
    },
    {
     "name": "stdout",
     "output_type": "stream",
     "text": [
      "[CV]  colsample_bytree=0.6, gamma=0.5, max_depth=7, min_child_weight=1, subsample=0.8, score=0.972936400541272, total= 2.6min\n",
      "[CV] colsample_bytree=0.6, gamma=0.5, max_depth=7, min_child_weight=5, subsample=0.6 \n"
     ]
    },
    {
     "name": "stderr",
     "output_type": "stream",
     "text": [
      "/Users/miljanstojiljkovic/anaconda3/lib/python3.6/site-packages/sklearn/preprocessing/label.py:151: DeprecationWarning: The truth value of an empty array is ambiguous. Returning False, but in future this will result in an error. Use `array.size > 0` to check that an array is not empty.\n",
      "  if diff:\n",
      "/Users/miljanstojiljkovic/anaconda3/lib/python3.6/site-packages/sklearn/preprocessing/label.py:151: DeprecationWarning: The truth value of an empty array is ambiguous. Returning False, but in future this will result in an error. Use `array.size > 0` to check that an array is not empty.\n",
      "  if diff:\n"
     ]
    },
    {
     "name": "stdout",
     "output_type": "stream",
     "text": [
      "[CV]  colsample_bytree=0.6, gamma=0.5, max_depth=7, min_child_weight=1, subsample=0.8, score=0.9877717391304348, total= 2.6min\n",
      "[CV] colsample_bytree=0.6, gamma=0.5, max_depth=7, min_child_weight=5, subsample=0.6 \n"
     ]
    },
    {
     "name": "stderr",
     "output_type": "stream",
     "text": [
      "/Users/miljanstojiljkovic/anaconda3/lib/python3.6/site-packages/sklearn/preprocessing/label.py:151: DeprecationWarning: The truth value of an empty array is ambiguous. Returning False, but in future this will result in an error. Use `array.size > 0` to check that an array is not empty.\n",
      "  if diff:\n",
      "/Users/miljanstojiljkovic/anaconda3/lib/python3.6/site-packages/sklearn/preprocessing/label.py:151: DeprecationWarning: The truth value of an empty array is ambiguous. Returning False, but in future this will result in an error. Use `array.size > 0` to check that an array is not empty.\n",
      "  if diff:\n"
     ]
    },
    {
     "name": "stdout",
     "output_type": "stream",
     "text": [
      "[CV]  colsample_bytree=0.6, gamma=0.5, max_depth=7, min_child_weight=5, subsample=0.6, score=0.9851150202976996, total= 1.9min\n",
      "[CV] colsample_bytree=0.6, gamma=0.5, max_depth=7, min_child_weight=5, subsample=0.6 \n"
     ]
    },
    {
     "name": "stderr",
     "output_type": "stream",
     "text": [
      "/Users/miljanstojiljkovic/anaconda3/lib/python3.6/site-packages/sklearn/preprocessing/label.py:151: DeprecationWarning: The truth value of an empty array is ambiguous. Returning False, but in future this will result in an error. Use `array.size > 0` to check that an array is not empty.\n",
      "  if diff:\n",
      "/Users/miljanstojiljkovic/anaconda3/lib/python3.6/site-packages/sklearn/preprocessing/label.py:151: DeprecationWarning: The truth value of an empty array is ambiguous. Returning False, but in future this will result in an error. Use `array.size > 0` to check that an array is not empty.\n",
      "  if diff:\n"
     ]
    },
    {
     "name": "stdout",
     "output_type": "stream",
     "text": [
      "[CV]  colsample_bytree=0.6, gamma=0.5, max_depth=7, min_child_weight=1, subsample=0.8, score=0.9795640326975477, total= 2.6min\n",
      "[CV] colsample_bytree=0.6, gamma=0.5, max_depth=7, min_child_weight=5, subsample=0.6 \n"
     ]
    },
    {
     "name": "stderr",
     "output_type": "stream",
     "text": [
      "/Users/miljanstojiljkovic/anaconda3/lib/python3.6/site-packages/sklearn/preprocessing/label.py:151: DeprecationWarning: The truth value of an empty array is ambiguous. Returning False, but in future this will result in an error. Use `array.size > 0` to check that an array is not empty.\n",
      "  if diff:\n",
      "/Users/miljanstojiljkovic/anaconda3/lib/python3.6/site-packages/sklearn/preprocessing/label.py:151: DeprecationWarning: The truth value of an empty array is ambiguous. Returning False, but in future this will result in an error. Use `array.size > 0` to check that an array is not empty.\n",
      "  if diff:\n"
     ]
    },
    {
     "name": "stdout",
     "output_type": "stream",
     "text": [
      "[CV]  colsample_bytree=0.6, gamma=0.5, max_depth=7, min_child_weight=5, subsample=0.6, score=0.9756427604871448, total= 1.9min\n",
      "[CV] colsample_bytree=0.6, gamma=0.5, max_depth=7, min_child_weight=5, subsample=0.6 \n"
     ]
    },
    {
     "name": "stderr",
     "output_type": "stream",
     "text": [
      "/Users/miljanstojiljkovic/anaconda3/lib/python3.6/site-packages/sklearn/preprocessing/label.py:151: DeprecationWarning: The truth value of an empty array is ambiguous. Returning False, but in future this will result in an error. Use `array.size > 0` to check that an array is not empty.\n",
      "  if diff:\n",
      "/Users/miljanstojiljkovic/anaconda3/lib/python3.6/site-packages/sklearn/preprocessing/label.py:151: DeprecationWarning: The truth value of an empty array is ambiguous. Returning False, but in future this will result in an error. Use `array.size > 0` to check that an array is not empty.\n",
      "  if diff:\n"
     ]
    },
    {
     "name": "stdout",
     "output_type": "stream",
     "text": [
      "[CV]  colsample_bytree=0.6, gamma=0.5, max_depth=7, min_child_weight=1, subsample=0.8, score=0.9918256130790191, total= 2.6min\n",
      "[CV] colsample_bytree=0.6, gamma=0.5, max_depth=7, min_child_weight=5, subsample=0.8 \n"
     ]
    },
    {
     "name": "stderr",
     "output_type": "stream",
     "text": [
      "/Users/miljanstojiljkovic/anaconda3/lib/python3.6/site-packages/sklearn/preprocessing/label.py:151: DeprecationWarning: The truth value of an empty array is ambiguous. Returning False, but in future this will result in an error. Use `array.size > 0` to check that an array is not empty.\n",
      "  if diff:\n",
      "/Users/miljanstojiljkovic/anaconda3/lib/python3.6/site-packages/sklearn/preprocessing/label.py:151: DeprecationWarning: The truth value of an empty array is ambiguous. Returning False, but in future this will result in an error. Use `array.size > 0` to check that an array is not empty.\n",
      "  if diff:\n"
     ]
    },
    {
     "name": "stdout",
     "output_type": "stream",
     "text": [
      "[CV]  colsample_bytree=0.6, gamma=0.5, max_depth=7, min_child_weight=5, subsample=0.6, score=0.9850543478260869, total= 2.0min\n",
      "[CV] colsample_bytree=0.6, gamma=0.5, max_depth=7, min_child_weight=5, subsample=0.8 \n"
     ]
    },
    {
     "name": "stderr",
     "output_type": "stream",
     "text": [
      "[Parallel(n_jobs=-1)]: Done  33 tasks      | elapsed: 19.3min\n",
      "/Users/miljanstojiljkovic/anaconda3/lib/python3.6/site-packages/sklearn/preprocessing/label.py:151: DeprecationWarning: The truth value of an empty array is ambiguous. Returning False, but in future this will result in an error. Use `array.size > 0` to check that an array is not empty.\n",
      "  if diff:\n",
      "/Users/miljanstojiljkovic/anaconda3/lib/python3.6/site-packages/sklearn/preprocessing/label.py:151: DeprecationWarning: The truth value of an empty array is ambiguous. Returning False, but in future this will result in an error. Use `array.size > 0` to check that an array is not empty.\n",
      "  if diff:\n"
     ]
    },
    {
     "name": "stdout",
     "output_type": "stream",
     "text": [
      "[CV]  colsample_bytree=0.6, gamma=0.5, max_depth=7, min_child_weight=5, subsample=0.6, score=0.9741144414168937, total= 1.9min\n",
      "[CV] colsample_bytree=0.6, gamma=0.5, max_depth=7, min_child_weight=5, subsample=0.8 \n"
     ]
    },
    {
     "name": "stderr",
     "output_type": "stream",
     "text": [
      "/Users/miljanstojiljkovic/anaconda3/lib/python3.6/site-packages/sklearn/preprocessing/label.py:151: DeprecationWarning: The truth value of an empty array is ambiguous. Returning False, but in future this will result in an error. Use `array.size > 0` to check that an array is not empty.\n",
      "  if diff:\n",
      "/Users/miljanstojiljkovic/anaconda3/lib/python3.6/site-packages/sklearn/preprocessing/label.py:151: DeprecationWarning: The truth value of an empty array is ambiguous. Returning False, but in future this will result in an error. Use `array.size > 0` to check that an array is not empty.\n",
      "  if diff:\n"
     ]
    },
    {
     "name": "stdout",
     "output_type": "stream",
     "text": [
      "[CV]  colsample_bytree=0.6, gamma=0.5, max_depth=7, min_child_weight=5, subsample=0.6, score=0.9918256130790191, total= 2.0min\n",
      "[CV] colsample_bytree=0.6, gamma=0.5, max_depth=7, min_child_weight=5, subsample=0.8 \n"
     ]
    },
    {
     "name": "stderr",
     "output_type": "stream",
     "text": [
      "/Users/miljanstojiljkovic/anaconda3/lib/python3.6/site-packages/sklearn/preprocessing/label.py:151: DeprecationWarning: The truth value of an empty array is ambiguous. Returning False, but in future this will result in an error. Use `array.size > 0` to check that an array is not empty.\n",
      "  if diff:\n",
      "/Users/miljanstojiljkovic/anaconda3/lib/python3.6/site-packages/sklearn/preprocessing/label.py:151: DeprecationWarning: The truth value of an empty array is ambiguous. Returning False, but in future this will result in an error. Use `array.size > 0` to check that an array is not empty.\n",
      "  if diff:\n"
     ]
    },
    {
     "name": "stdout",
     "output_type": "stream",
     "text": [
      "[CV]  colsample_bytree=0.6, gamma=0.5, max_depth=7, min_child_weight=5, subsample=0.8, score=0.9851150202976996, total= 2.2min\n",
      "[CV] colsample_bytree=0.6, gamma=0.5, max_depth=7, min_child_weight=5, subsample=0.8 \n"
     ]
    },
    {
     "name": "stderr",
     "output_type": "stream",
     "text": [
      "/Users/miljanstojiljkovic/anaconda3/lib/python3.6/site-packages/sklearn/preprocessing/label.py:151: DeprecationWarning: The truth value of an empty array is ambiguous. Returning False, but in future this will result in an error. Use `array.size > 0` to check that an array is not empty.\n",
      "  if diff:\n",
      "/Users/miljanstojiljkovic/anaconda3/lib/python3.6/site-packages/sklearn/preprocessing/label.py:151: DeprecationWarning: The truth value of an empty array is ambiguous. Returning False, but in future this will result in an error. Use `array.size > 0` to check that an array is not empty.\n",
      "  if diff:\n"
     ]
    },
    {
     "name": "stdout",
     "output_type": "stream",
     "text": [
      "[CV]  colsample_bytree=0.6, gamma=0.5, max_depth=7, min_child_weight=5, subsample=0.8, score=0.9783491204330176, total= 2.2min\n",
      "[CV] colsample_bytree=0.6, gamma=2, max_depth=5, min_child_weight=1, subsample=0.6 \n"
     ]
    },
    {
     "name": "stderr",
     "output_type": "stream",
     "text": [
      "/Users/miljanstojiljkovic/anaconda3/lib/python3.6/site-packages/sklearn/preprocessing/label.py:151: DeprecationWarning: The truth value of an empty array is ambiguous. Returning False, but in future this will result in an error. Use `array.size > 0` to check that an array is not empty.\n",
      "  if diff:\n",
      "/Users/miljanstojiljkovic/anaconda3/lib/python3.6/site-packages/sklearn/preprocessing/label.py:151: DeprecationWarning: The truth value of an empty array is ambiguous. Returning False, but in future this will result in an error. Use `array.size > 0` to check that an array is not empty.\n",
      "  if diff:\n"
     ]
    },
    {
     "name": "stdout",
     "output_type": "stream",
     "text": [
      "[CV]  colsample_bytree=0.6, gamma=0.5, max_depth=7, min_child_weight=5, subsample=0.8, score=0.9864130434782609, total= 2.2min\n",
      "[CV] colsample_bytree=0.6, gamma=2, max_depth=5, min_child_weight=1, subsample=0.6 \n"
     ]
    },
    {
     "name": "stderr",
     "output_type": "stream",
     "text": [
      "/Users/miljanstojiljkovic/anaconda3/lib/python3.6/site-packages/sklearn/preprocessing/label.py:151: DeprecationWarning: The truth value of an empty array is ambiguous. Returning False, but in future this will result in an error. Use `array.size > 0` to check that an array is not empty.\n",
      "  if diff:\n",
      "/Users/miljanstojiljkovic/anaconda3/lib/python3.6/site-packages/sklearn/preprocessing/label.py:151: DeprecationWarning: The truth value of an empty array is ambiguous. Returning False, but in future this will result in an error. Use `array.size > 0` to check that an array is not empty.\n",
      "  if diff:\n"
     ]
    },
    {
     "name": "stdout",
     "output_type": "stream",
     "text": [
      "[CV]  colsample_bytree=0.6, gamma=0.5, max_depth=7, min_child_weight=5, subsample=0.8, score=0.9768392370572208, total= 2.2min\n",
      "[CV] colsample_bytree=0.6, gamma=2, max_depth=5, min_child_weight=1, subsample=0.6 \n"
     ]
    },
    {
     "name": "stderr",
     "output_type": "stream",
     "text": [
      "/Users/miljanstojiljkovic/anaconda3/lib/python3.6/site-packages/sklearn/preprocessing/label.py:151: DeprecationWarning: The truth value of an empty array is ambiguous. Returning False, but in future this will result in an error. Use `array.size > 0` to check that an array is not empty.\n",
      "  if diff:\n",
      "/Users/miljanstojiljkovic/anaconda3/lib/python3.6/site-packages/sklearn/preprocessing/label.py:151: DeprecationWarning: The truth value of an empty array is ambiguous. Returning False, but in future this will result in an error. Use `array.size > 0` to check that an array is not empty.\n",
      "  if diff:\n"
     ]
    },
    {
     "name": "stdout",
     "output_type": "stream",
     "text": [
      "[CV]  colsample_bytree=0.6, gamma=0.5, max_depth=7, min_child_weight=5, subsample=0.8, score=0.9918256130790191, total= 2.2min\n",
      "[CV] colsample_bytree=0.6, gamma=2, max_depth=5, min_child_weight=1, subsample=0.6 \n"
     ]
    },
    {
     "name": "stderr",
     "output_type": "stream",
     "text": [
      "/Users/miljanstojiljkovic/anaconda3/lib/python3.6/site-packages/sklearn/preprocessing/label.py:151: DeprecationWarning: The truth value of an empty array is ambiguous. Returning False, but in future this will result in an error. Use `array.size > 0` to check that an array is not empty.\n",
      "  if diff:\n",
      "/Users/miljanstojiljkovic/anaconda3/lib/python3.6/site-packages/sklearn/preprocessing/label.py:151: DeprecationWarning: The truth value of an empty array is ambiguous. Returning False, but in future this will result in an error. Use `array.size > 0` to check that an array is not empty.\n",
      "  if diff:\n"
     ]
    },
    {
     "name": "stdout",
     "output_type": "stream",
     "text": [
      "[CV]  colsample_bytree=0.6, gamma=2, max_depth=5, min_child_weight=1, subsample=0.6, score=0.9851150202976996, total= 2.1min\n",
      "[CV] colsample_bytree=0.6, gamma=2, max_depth=5, min_child_weight=1, subsample=0.6 \n"
     ]
    },
    {
     "name": "stderr",
     "output_type": "stream",
     "text": [
      "/Users/miljanstojiljkovic/anaconda3/lib/python3.6/site-packages/sklearn/preprocessing/label.py:151: DeprecationWarning: The truth value of an empty array is ambiguous. Returning False, but in future this will result in an error. Use `array.size > 0` to check that an array is not empty.\n",
      "  if diff:\n",
      "/Users/miljanstojiljkovic/anaconda3/lib/python3.6/site-packages/sklearn/preprocessing/label.py:151: DeprecationWarning: The truth value of an empty array is ambiguous. Returning False, but in future this will result in an error. Use `array.size > 0` to check that an array is not empty.\n",
      "  if diff:\n"
     ]
    },
    {
     "name": "stdout",
     "output_type": "stream",
     "text": [
      "[CV]  colsample_bytree=0.6, gamma=2, max_depth=5, min_child_weight=1, subsample=0.6, score=0.9756427604871448, total= 2.1min\n",
      "[CV] colsample_bytree=0.6, gamma=2, max_depth=5, min_child_weight=1, subsample=0.8 \n"
     ]
    },
    {
     "name": "stderr",
     "output_type": "stream",
     "text": [
      "[Parallel(n_jobs=-1)]: Done  42 tasks      | elapsed: 23.8min\n",
      "/Users/miljanstojiljkovic/anaconda3/lib/python3.6/site-packages/sklearn/preprocessing/label.py:151: DeprecationWarning: The truth value of an empty array is ambiguous. Returning False, but in future this will result in an error. Use `array.size > 0` to check that an array is not empty.\n",
      "  if diff:\n",
      "/Users/miljanstojiljkovic/anaconda3/lib/python3.6/site-packages/sklearn/preprocessing/label.py:151: DeprecationWarning: The truth value of an empty array is ambiguous. Returning False, but in future this will result in an error. Use `array.size > 0` to check that an array is not empty.\n",
      "  if diff:\n"
     ]
    },
    {
     "name": "stdout",
     "output_type": "stream",
     "text": [
      "[CV]  colsample_bytree=0.6, gamma=2, max_depth=5, min_child_weight=1, subsample=0.6, score=0.9864130434782609, total= 2.2min\n",
      "[CV] colsample_bytree=0.6, gamma=2, max_depth=5, min_child_weight=1, subsample=0.8 \n"
     ]
    },
    {
     "name": "stderr",
     "output_type": "stream",
     "text": [
      "/Users/miljanstojiljkovic/anaconda3/lib/python3.6/site-packages/sklearn/preprocessing/label.py:151: DeprecationWarning: The truth value of an empty array is ambiguous. Returning False, but in future this will result in an error. Use `array.size > 0` to check that an array is not empty.\n",
      "  if diff:\n",
      "/Users/miljanstojiljkovic/anaconda3/lib/python3.6/site-packages/sklearn/preprocessing/label.py:151: DeprecationWarning: The truth value of an empty array is ambiguous. Returning False, but in future this will result in an error. Use `array.size > 0` to check that an array is not empty.\n",
      "  if diff:\n"
     ]
    },
    {
     "name": "stdout",
     "output_type": "stream",
     "text": [
      "[CV]  colsample_bytree=0.6, gamma=2, max_depth=5, min_child_weight=1, subsample=0.6, score=0.9754768392370572, total= 2.2min\n",
      "[CV] colsample_bytree=0.6, gamma=2, max_depth=5, min_child_weight=1, subsample=0.8 \n"
     ]
    },
    {
     "name": "stderr",
     "output_type": "stream",
     "text": [
      "/Users/miljanstojiljkovic/anaconda3/lib/python3.6/site-packages/sklearn/preprocessing/label.py:151: DeprecationWarning: The truth value of an empty array is ambiguous. Returning False, but in future this will result in an error. Use `array.size > 0` to check that an array is not empty.\n",
      "  if diff:\n",
      "/Users/miljanstojiljkovic/anaconda3/lib/python3.6/site-packages/sklearn/preprocessing/label.py:151: DeprecationWarning: The truth value of an empty array is ambiguous. Returning False, but in future this will result in an error. Use `array.size > 0` to check that an array is not empty.\n",
      "  if diff:\n"
     ]
    },
    {
     "name": "stdout",
     "output_type": "stream",
     "text": [
      "[CV]  colsample_bytree=0.6, gamma=2, max_depth=5, min_child_weight=1, subsample=0.6, score=0.9918256130790191, total= 2.1min\n",
      "[CV] colsample_bytree=0.6, gamma=2, max_depth=5, min_child_weight=1, subsample=0.8 \n"
     ]
    },
    {
     "name": "stderr",
     "output_type": "stream",
     "text": [
      "/Users/miljanstojiljkovic/anaconda3/lib/python3.6/site-packages/sklearn/preprocessing/label.py:151: DeprecationWarning: The truth value of an empty array is ambiguous. Returning False, but in future this will result in an error. Use `array.size > 0` to check that an array is not empty.\n",
      "  if diff:\n",
      "/Users/miljanstojiljkovic/anaconda3/lib/python3.6/site-packages/sklearn/preprocessing/label.py:151: DeprecationWarning: The truth value of an empty array is ambiguous. Returning False, but in future this will result in an error. Use `array.size > 0` to check that an array is not empty.\n",
      "  if diff:\n"
     ]
    },
    {
     "name": "stdout",
     "output_type": "stream",
     "text": [
      "[CV]  colsample_bytree=0.6, gamma=2, max_depth=5, min_child_weight=1, subsample=0.8, score=0.9824086603518268, total= 2.3min\n",
      "[CV] colsample_bytree=0.6, gamma=2, max_depth=5, min_child_weight=1, subsample=0.8 \n"
     ]
    },
    {
     "name": "stderr",
     "output_type": "stream",
     "text": [
      "/Users/miljanstojiljkovic/anaconda3/lib/python3.6/site-packages/sklearn/preprocessing/label.py:151: DeprecationWarning: The truth value of an empty array is ambiguous. Returning False, but in future this will result in an error. Use `array.size > 0` to check that an array is not empty.\n",
      "  if diff:\n",
      "/Users/miljanstojiljkovic/anaconda3/lib/python3.6/site-packages/sklearn/preprocessing/label.py:151: DeprecationWarning: The truth value of an empty array is ambiguous. Returning False, but in future this will result in an error. Use `array.size > 0` to check that an array is not empty.\n",
      "  if diff:\n"
     ]
    },
    {
     "name": "stdout",
     "output_type": "stream",
     "text": [
      "[CV]  colsample_bytree=0.6, gamma=2, max_depth=5, min_child_weight=1, subsample=0.8, score=0.9756427604871448, total= 2.3min\n",
      "[CV] colsample_bytree=0.6, gamma=2, max_depth=5, min_child_weight=5, subsample=0.6 \n"
     ]
    },
    {
     "name": "stderr",
     "output_type": "stream",
     "text": [
      "/Users/miljanstojiljkovic/anaconda3/lib/python3.6/site-packages/sklearn/preprocessing/label.py:151: DeprecationWarning: The truth value of an empty array is ambiguous. Returning False, but in future this will result in an error. Use `array.size > 0` to check that an array is not empty.\n",
      "  if diff:\n",
      "/Users/miljanstojiljkovic/anaconda3/lib/python3.6/site-packages/sklearn/preprocessing/label.py:151: DeprecationWarning: The truth value of an empty array is ambiguous. Returning False, but in future this will result in an error. Use `array.size > 0` to check that an array is not empty.\n",
      "  if diff:\n"
     ]
    },
    {
     "name": "stdout",
     "output_type": "stream",
     "text": [
      "[CV]  colsample_bytree=0.6, gamma=2, max_depth=5, min_child_weight=1, subsample=0.8, score=0.9877717391304348, total= 2.3min\n",
      "[CV] colsample_bytree=0.6, gamma=2, max_depth=5, min_child_weight=5, subsample=0.6 \n"
     ]
    },
    {
     "name": "stderr",
     "output_type": "stream",
     "text": [
      "/Users/miljanstojiljkovic/anaconda3/lib/python3.6/site-packages/sklearn/preprocessing/label.py:151: DeprecationWarning: The truth value of an empty array is ambiguous. Returning False, but in future this will result in an error. Use `array.size > 0` to check that an array is not empty.\n",
      "  if diff:\n",
      "/Users/miljanstojiljkovic/anaconda3/lib/python3.6/site-packages/sklearn/preprocessing/label.py:151: DeprecationWarning: The truth value of an empty array is ambiguous. Returning False, but in future this will result in an error. Use `array.size > 0` to check that an array is not empty.\n",
      "  if diff:\n"
     ]
    },
    {
     "name": "stdout",
     "output_type": "stream",
     "text": [
      "[CV]  colsample_bytree=0.6, gamma=2, max_depth=5, min_child_weight=1, subsample=0.8, score=0.9782016348773842, total= 2.3min\n",
      "[CV] colsample_bytree=0.6, gamma=2, max_depth=5, min_child_weight=5, subsample=0.6 \n"
     ]
    },
    {
     "name": "stderr",
     "output_type": "stream",
     "text": [
      "/Users/miljanstojiljkovic/anaconda3/lib/python3.6/site-packages/sklearn/preprocessing/label.py:151: DeprecationWarning: The truth value of an empty array is ambiguous. Returning False, but in future this will result in an error. Use `array.size > 0` to check that an array is not empty.\n",
      "  if diff:\n",
      "/Users/miljanstojiljkovic/anaconda3/lib/python3.6/site-packages/sklearn/preprocessing/label.py:151: DeprecationWarning: The truth value of an empty array is ambiguous. Returning False, but in future this will result in an error. Use `array.size > 0` to check that an array is not empty.\n",
      "  if diff:\n"
     ]
    },
    {
     "name": "stdout",
     "output_type": "stream",
     "text": [
      "[CV]  colsample_bytree=0.6, gamma=2, max_depth=5, min_child_weight=5, subsample=0.6, score=0.986468200270636, total= 1.8min\n",
      "[CV] colsample_bytree=0.6, gamma=2, max_depth=5, min_child_weight=5, subsample=0.6 \n"
     ]
    },
    {
     "name": "stderr",
     "output_type": "stream",
     "text": [
      "/Users/miljanstojiljkovic/anaconda3/lib/python3.6/site-packages/sklearn/preprocessing/label.py:151: DeprecationWarning: The truth value of an empty array is ambiguous. Returning False, but in future this will result in an error. Use `array.size > 0` to check that an array is not empty.\n",
      "  if diff:\n",
      "/Users/miljanstojiljkovic/anaconda3/lib/python3.6/site-packages/sklearn/preprocessing/label.py:151: DeprecationWarning: The truth value of an empty array is ambiguous. Returning False, but in future this will result in an error. Use `array.size > 0` to check that an array is not empty.\n",
      "  if diff:\n",
      "/Users/miljanstojiljkovic/anaconda3/lib/python3.6/site-packages/sklearn/preprocessing/label.py:151: DeprecationWarning: The truth value of an empty array is ambiguous. Returning False, but in future this will result in an error. Use `array.size > 0` to check that an array is not empty.\n",
      "  if diff:\n"
     ]
    },
    {
     "name": "stdout",
     "output_type": "stream",
     "text": [
      "[CV]  colsample_bytree=0.6, gamma=2, max_depth=5, min_child_weight=1, subsample=0.8, score=0.9918256130790191, total= 2.3min\n",
      "[CV] colsample_bytree=0.6, gamma=2, max_depth=5, min_child_weight=5, subsample=0.6 \n"
     ]
    },
    {
     "name": "stderr",
     "output_type": "stream",
     "text": [
      "/Users/miljanstojiljkovic/anaconda3/lib/python3.6/site-packages/sklearn/preprocessing/label.py:151: DeprecationWarning: The truth value of an empty array is ambiguous. Returning False, but in future this will result in an error. Use `array.size > 0` to check that an array is not empty.\n",
      "  if diff:\n"
     ]
    },
    {
     "name": "stdout",
     "output_type": "stream",
     "text": [
      "[CV]  colsample_bytree=0.6, gamma=2, max_depth=5, min_child_weight=5, subsample=0.6, score=0.9756427604871448, total= 1.8min\n",
      "[CV] colsample_bytree=0.6, gamma=2, max_depth=5, min_child_weight=5, subsample=0.8 \n"
     ]
    },
    {
     "name": "stderr",
     "output_type": "stream",
     "text": [
      "/Users/miljanstojiljkovic/anaconda3/lib/python3.6/site-packages/sklearn/preprocessing/label.py:151: DeprecationWarning: The truth value of an empty array is ambiguous. Returning False, but in future this will result in an error. Use `array.size > 0` to check that an array is not empty.\n",
      "  if diff:\n",
      "/Users/miljanstojiljkovic/anaconda3/lib/python3.6/site-packages/sklearn/preprocessing/label.py:151: DeprecationWarning: The truth value of an empty array is ambiguous. Returning False, but in future this will result in an error. Use `array.size > 0` to check that an array is not empty.\n",
      "  if diff:\n"
     ]
    },
    {
     "name": "stdout",
     "output_type": "stream",
     "text": [
      "[CV]  colsample_bytree=0.6, gamma=2, max_depth=5, min_child_weight=5, subsample=0.6, score=0.9850543478260869, total= 1.8min\n",
      "[CV] colsample_bytree=0.6, gamma=2, max_depth=5, min_child_weight=5, subsample=0.8 \n"
     ]
    },
    {
     "name": "stderr",
     "output_type": "stream",
     "text": [
      "[Parallel(n_jobs=-1)]: Done  53 tasks      | elapsed: 30.0min\n",
      "/Users/miljanstojiljkovic/anaconda3/lib/python3.6/site-packages/sklearn/preprocessing/label.py:151: DeprecationWarning: The truth value of an empty array is ambiguous. Returning False, but in future this will result in an error. Use `array.size > 0` to check that an array is not empty.\n",
      "  if diff:\n",
      "/Users/miljanstojiljkovic/anaconda3/lib/python3.6/site-packages/sklearn/preprocessing/label.py:151: DeprecationWarning: The truth value of an empty array is ambiguous. Returning False, but in future this will result in an error. Use `array.size > 0` to check that an array is not empty.\n",
      "  if diff:\n"
     ]
    },
    {
     "name": "stdout",
     "output_type": "stream",
     "text": [
      "[CV]  colsample_bytree=0.6, gamma=2, max_depth=5, min_child_weight=5, subsample=0.6, score=0.9741144414168937, total= 1.8min\n",
      "[CV] colsample_bytree=0.6, gamma=2, max_depth=5, min_child_weight=5, subsample=0.8 \n"
     ]
    },
    {
     "name": "stderr",
     "output_type": "stream",
     "text": [
      "/Users/miljanstojiljkovic/anaconda3/lib/python3.6/site-packages/sklearn/preprocessing/label.py:151: DeprecationWarning: The truth value of an empty array is ambiguous. Returning False, but in future this will result in an error. Use `array.size > 0` to check that an array is not empty.\n",
      "  if diff:\n",
      "/Users/miljanstojiljkovic/anaconda3/lib/python3.6/site-packages/sklearn/preprocessing/label.py:151: DeprecationWarning: The truth value of an empty array is ambiguous. Returning False, but in future this will result in an error. Use `array.size > 0` to check that an array is not empty.\n",
      "  if diff:\n"
     ]
    },
    {
     "name": "stdout",
     "output_type": "stream",
     "text": [
      "[CV]  colsample_bytree=0.6, gamma=2, max_depth=5, min_child_weight=5, subsample=0.6, score=0.9904632152588556, total= 1.8min\n",
      "[CV] colsample_bytree=0.6, gamma=2, max_depth=5, min_child_weight=5, subsample=0.8 \n"
     ]
    },
    {
     "name": "stderr",
     "output_type": "stream",
     "text": [
      "/Users/miljanstojiljkovic/anaconda3/lib/python3.6/site-packages/sklearn/preprocessing/label.py:151: DeprecationWarning: The truth value of an empty array is ambiguous. Returning False, but in future this will result in an error. Use `array.size > 0` to check that an array is not empty.\n",
      "  if diff:\n",
      "/Users/miljanstojiljkovic/anaconda3/lib/python3.6/site-packages/sklearn/preprocessing/label.py:151: DeprecationWarning: The truth value of an empty array is ambiguous. Returning False, but in future this will result in an error. Use `array.size > 0` to check that an array is not empty.\n",
      "  if diff:\n"
     ]
    },
    {
     "name": "stdout",
     "output_type": "stream",
     "text": [
      "[CV]  colsample_bytree=0.6, gamma=2, max_depth=5, min_child_weight=5, subsample=0.8, score=0.9837618403247632, total= 2.0min\n",
      "[CV] colsample_bytree=0.6, gamma=2, max_depth=5, min_child_weight=5, subsample=0.8 \n"
     ]
    },
    {
     "name": "stderr",
     "output_type": "stream",
     "text": [
      "/Users/miljanstojiljkovic/anaconda3/lib/python3.6/site-packages/sklearn/preprocessing/label.py:151: DeprecationWarning: The truth value of an empty array is ambiguous. Returning False, but in future this will result in an error. Use `array.size > 0` to check that an array is not empty.\n",
      "  if diff:\n",
      "/Users/miljanstojiljkovic/anaconda3/lib/python3.6/site-packages/sklearn/preprocessing/label.py:151: DeprecationWarning: The truth value of an empty array is ambiguous. Returning False, but in future this will result in an error. Use `array.size > 0` to check that an array is not empty.\n",
      "  if diff:\n"
     ]
    },
    {
     "name": "stdout",
     "output_type": "stream",
     "text": [
      "[CV]  colsample_bytree=0.6, gamma=2, max_depth=5, min_child_weight=5, subsample=0.8, score=0.9769959404600812, total= 2.0min\n",
      "[CV] colsample_bytree=0.6, gamma=2, max_depth=7, min_child_weight=1, subsample=0.6 \n"
     ]
    },
    {
     "name": "stderr",
     "output_type": "stream",
     "text": [
      "/Users/miljanstojiljkovic/anaconda3/lib/python3.6/site-packages/sklearn/preprocessing/label.py:151: DeprecationWarning: The truth value of an empty array is ambiguous. Returning False, but in future this will result in an error. Use `array.size > 0` to check that an array is not empty.\n",
      "  if diff:\n",
      "/Users/miljanstojiljkovic/anaconda3/lib/python3.6/site-packages/sklearn/preprocessing/label.py:151: DeprecationWarning: The truth value of an empty array is ambiguous. Returning False, but in future this will result in an error. Use `array.size > 0` to check that an array is not empty.\n",
      "  if diff:\n"
     ]
    },
    {
     "name": "stdout",
     "output_type": "stream",
     "text": [
      "[CV]  colsample_bytree=0.6, gamma=2, max_depth=5, min_child_weight=5, subsample=0.8, score=0.9850543478260869, total= 2.0min\n",
      "[CV] colsample_bytree=0.6, gamma=2, max_depth=7, min_child_weight=1, subsample=0.6 \n"
     ]
    },
    {
     "name": "stderr",
     "output_type": "stream",
     "text": [
      "/Users/miljanstojiljkovic/anaconda3/lib/python3.6/site-packages/sklearn/preprocessing/label.py:151: DeprecationWarning: The truth value of an empty array is ambiguous. Returning False, but in future this will result in an error. Use `array.size > 0` to check that an array is not empty.\n",
      "  if diff:\n",
      "/Users/miljanstojiljkovic/anaconda3/lib/python3.6/site-packages/sklearn/preprocessing/label.py:151: DeprecationWarning: The truth value of an empty array is ambiguous. Returning False, but in future this will result in an error. Use `array.size > 0` to check that an array is not empty.\n",
      "  if diff:\n"
     ]
    },
    {
     "name": "stdout",
     "output_type": "stream",
     "text": [
      "[CV]  colsample_bytree=0.6, gamma=2, max_depth=5, min_child_weight=5, subsample=0.8, score=0.9768392370572208, total= 2.0min\n",
      "[CV] colsample_bytree=0.6, gamma=2, max_depth=7, min_child_weight=1, subsample=0.6 \n"
     ]
    },
    {
     "name": "stderr",
     "output_type": "stream",
     "text": [
      "/Users/miljanstojiljkovic/anaconda3/lib/python3.6/site-packages/sklearn/preprocessing/label.py:151: DeprecationWarning: The truth value of an empty array is ambiguous. Returning False, but in future this will result in an error. Use `array.size > 0` to check that an array is not empty.\n",
      "  if diff:\n",
      "/Users/miljanstojiljkovic/anaconda3/lib/python3.6/site-packages/sklearn/preprocessing/label.py:151: DeprecationWarning: The truth value of an empty array is ambiguous. Returning False, but in future this will result in an error. Use `array.size > 0` to check that an array is not empty.\n",
      "  if diff:\n"
     ]
    },
    {
     "name": "stdout",
     "output_type": "stream",
     "text": [
      "[CV]  colsample_bytree=0.6, gamma=2, max_depth=5, min_child_weight=5, subsample=0.8, score=0.9918256130790191, total= 2.0min\n",
      "[CV] colsample_bytree=0.6, gamma=2, max_depth=7, min_child_weight=1, subsample=0.6 \n"
     ]
    },
    {
     "name": "stderr",
     "output_type": "stream",
     "text": [
      "/Users/miljanstojiljkovic/anaconda3/lib/python3.6/site-packages/sklearn/preprocessing/label.py:151: DeprecationWarning: The truth value of an empty array is ambiguous. Returning False, but in future this will result in an error. Use `array.size > 0` to check that an array is not empty.\n",
      "  if diff:\n",
      "/Users/miljanstojiljkovic/anaconda3/lib/python3.6/site-packages/sklearn/preprocessing/label.py:151: DeprecationWarning: The truth value of an empty array is ambiguous. Returning False, but in future this will result in an error. Use `array.size > 0` to check that an array is not empty.\n",
      "  if diff:\n",
      "/Users/miljanstojiljkovic/anaconda3/lib/python3.6/site-packages/sklearn/preprocessing/label.py:151: DeprecationWarning: The truth value of an empty array is ambiguous. Returning False, but in future this will result in an error. Use `array.size > 0` to check that an array is not empty.\n",
      "  if diff:\n"
     ]
    },
    {
     "name": "stdout",
     "output_type": "stream",
     "text": [
      "[CV]  colsample_bytree=0.6, gamma=2, max_depth=7, min_child_weight=1, subsample=0.6, score=0.9851150202976996, total= 2.5min\n",
      "[CV] colsample_bytree=0.6, gamma=2, max_depth=7, min_child_weight=1, subsample=0.6 \n"
     ]
    },
    {
     "name": "stderr",
     "output_type": "stream",
     "text": [
      "/Users/miljanstojiljkovic/anaconda3/lib/python3.6/site-packages/sklearn/preprocessing/label.py:151: DeprecationWarning: The truth value of an empty array is ambiguous. Returning False, but in future this will result in an error. Use `array.size > 0` to check that an array is not empty.\n",
      "  if diff:\n"
     ]
    },
    {
     "name": "stdout",
     "output_type": "stream",
     "text": [
      "[CV]  colsample_bytree=0.6, gamma=2, max_depth=7, min_child_weight=1, subsample=0.6, score=0.9756427604871448, total= 2.4min\n",
      "[CV] colsample_bytree=0.6, gamma=2, max_depth=7, min_child_weight=1, subsample=0.8 \n"
     ]
    },
    {
     "name": "stderr",
     "output_type": "stream",
     "text": [
      "/Users/miljanstojiljkovic/anaconda3/lib/python3.6/site-packages/sklearn/preprocessing/label.py:151: DeprecationWarning: The truth value of an empty array is ambiguous. Returning False, but in future this will result in an error. Use `array.size > 0` to check that an array is not empty.\n",
      "  if diff:\n",
      "/Users/miljanstojiljkovic/anaconda3/lib/python3.6/site-packages/sklearn/preprocessing/label.py:151: DeprecationWarning: The truth value of an empty array is ambiguous. Returning False, but in future this will result in an error. Use `array.size > 0` to check that an array is not empty.\n",
      "  if diff:\n"
     ]
    },
    {
     "name": "stdout",
     "output_type": "stream",
     "text": [
      "[CV]  colsample_bytree=0.6, gamma=2, max_depth=7, min_child_weight=1, subsample=0.6, score=0.9850543478260869, total= 2.5min\n",
      "[CV] colsample_bytree=0.6, gamma=2, max_depth=7, min_child_weight=1, subsample=0.8 \n"
     ]
    },
    {
     "name": "stderr",
     "output_type": "stream",
     "text": [
      "/Users/miljanstojiljkovic/anaconda3/lib/python3.6/site-packages/sklearn/preprocessing/label.py:151: DeprecationWarning: The truth value of an empty array is ambiguous. Returning False, but in future this will result in an error. Use `array.size > 0` to check that an array is not empty.\n",
      "  if diff:\n",
      "/Users/miljanstojiljkovic/anaconda3/lib/python3.6/site-packages/sklearn/preprocessing/label.py:151: DeprecationWarning: The truth value of an empty array is ambiguous. Returning False, but in future this will result in an error. Use `array.size > 0` to check that an array is not empty.\n",
      "  if diff:\n"
     ]
    },
    {
     "name": "stdout",
     "output_type": "stream",
     "text": [
      "[CV]  colsample_bytree=0.6, gamma=2, max_depth=7, min_child_weight=1, subsample=0.6, score=0.9754768392370572, total= 2.4min\n",
      "[CV] colsample_bytree=0.6, gamma=2, max_depth=7, min_child_weight=1, subsample=0.8 \n"
     ]
    },
    {
     "name": "stderr",
     "output_type": "stream",
     "text": [
      "[Parallel(n_jobs=-1)]: Done  64 tasks      | elapsed: 35.0min\n",
      "/Users/miljanstojiljkovic/anaconda3/lib/python3.6/site-packages/sklearn/preprocessing/label.py:151: DeprecationWarning: The truth value of an empty array is ambiguous. Returning False, but in future this will result in an error. Use `array.size > 0` to check that an array is not empty.\n",
      "  if diff:\n",
      "/Users/miljanstojiljkovic/anaconda3/lib/python3.6/site-packages/sklearn/preprocessing/label.py:151: DeprecationWarning: The truth value of an empty array is ambiguous. Returning False, but in future this will result in an error. Use `array.size > 0` to check that an array is not empty.\n",
      "  if diff:\n"
     ]
    },
    {
     "name": "stdout",
     "output_type": "stream",
     "text": [
      "[CV]  colsample_bytree=0.6, gamma=2, max_depth=7, min_child_weight=1, subsample=0.6, score=0.9918256130790191, total= 2.4min\n",
      "[CV] colsample_bytree=0.6, gamma=2, max_depth=7, min_child_weight=1, subsample=0.8 \n"
     ]
    },
    {
     "name": "stderr",
     "output_type": "stream",
     "text": [
      "/Users/miljanstojiljkovic/anaconda3/lib/python3.6/site-packages/sklearn/preprocessing/label.py:151: DeprecationWarning: The truth value of an empty array is ambiguous. Returning False, but in future this will result in an error. Use `array.size > 0` to check that an array is not empty.\n",
      "  if diff:\n",
      "/Users/miljanstojiljkovic/anaconda3/lib/python3.6/site-packages/sklearn/preprocessing/label.py:151: DeprecationWarning: The truth value of an empty array is ambiguous. Returning False, but in future this will result in an error. Use `array.size > 0` to check that an array is not empty.\n",
      "  if diff:\n"
     ]
    },
    {
     "name": "stdout",
     "output_type": "stream",
     "text": [
      "[CV]  colsample_bytree=0.6, gamma=2, max_depth=7, min_child_weight=1, subsample=0.8, score=0.9837618403247632, total= 2.7min\n",
      "[CV] colsample_bytree=0.6, gamma=2, max_depth=7, min_child_weight=1, subsample=0.8 \n"
     ]
    },
    {
     "name": "stderr",
     "output_type": "stream",
     "text": [
      "/Users/miljanstojiljkovic/anaconda3/lib/python3.6/site-packages/sklearn/preprocessing/label.py:151: DeprecationWarning: The truth value of an empty array is ambiguous. Returning False, but in future this will result in an error. Use `array.size > 0` to check that an array is not empty.\n",
      "  if diff:\n",
      "/Users/miljanstojiljkovic/anaconda3/lib/python3.6/site-packages/sklearn/preprocessing/label.py:151: DeprecationWarning: The truth value of an empty array is ambiguous. Returning False, but in future this will result in an error. Use `array.size > 0` to check that an array is not empty.\n",
      "  if diff:\n"
     ]
    },
    {
     "name": "stdout",
     "output_type": "stream",
     "text": [
      "[CV]  colsample_bytree=0.6, gamma=2, max_depth=7, min_child_weight=1, subsample=0.8, score=0.9756427604871448, total= 2.7min\n",
      "[CV] colsample_bytree=0.6, gamma=2, max_depth=7, min_child_weight=5, subsample=0.6 \n"
     ]
    },
    {
     "name": "stderr",
     "output_type": "stream",
     "text": [
      "/Users/miljanstojiljkovic/anaconda3/lib/python3.6/site-packages/sklearn/preprocessing/label.py:151: DeprecationWarning: The truth value of an empty array is ambiguous. Returning False, but in future this will result in an error. Use `array.size > 0` to check that an array is not empty.\n",
      "  if diff:\n",
      "/Users/miljanstojiljkovic/anaconda3/lib/python3.6/site-packages/sklearn/preprocessing/label.py:151: DeprecationWarning: The truth value of an empty array is ambiguous. Returning False, but in future this will result in an error. Use `array.size > 0` to check that an array is not empty.\n",
      "  if diff:\n"
     ]
    },
    {
     "name": "stdout",
     "output_type": "stream",
     "text": [
      "[CV]  colsample_bytree=0.6, gamma=2, max_depth=7, min_child_weight=1, subsample=0.8, score=0.9877717391304348, total= 2.7min\n",
      "[CV] colsample_bytree=0.6, gamma=2, max_depth=7, min_child_weight=5, subsample=0.6 \n"
     ]
    },
    {
     "name": "stderr",
     "output_type": "stream",
     "text": [
      "/Users/miljanstojiljkovic/anaconda3/lib/python3.6/site-packages/sklearn/preprocessing/label.py:151: DeprecationWarning: The truth value of an empty array is ambiguous. Returning False, but in future this will result in an error. Use `array.size > 0` to check that an array is not empty.\n",
      "  if diff:\n",
      "/Users/miljanstojiljkovic/anaconda3/lib/python3.6/site-packages/sklearn/preprocessing/label.py:151: DeprecationWarning: The truth value of an empty array is ambiguous. Returning False, but in future this will result in an error. Use `array.size > 0` to check that an array is not empty.\n",
      "  if diff:\n"
     ]
    },
    {
     "name": "stdout",
     "output_type": "stream",
     "text": [
      "[CV]  colsample_bytree=0.6, gamma=2, max_depth=7, min_child_weight=5, subsample=0.6, score=0.986468200270636, total= 2.0min\n",
      "[CV] colsample_bytree=0.6, gamma=2, max_depth=7, min_child_weight=5, subsample=0.6 \n"
     ]
    },
    {
     "name": "stderr",
     "output_type": "stream",
     "text": [
      "/Users/miljanstojiljkovic/anaconda3/lib/python3.6/site-packages/sklearn/preprocessing/label.py:151: DeprecationWarning: The truth value of an empty array is ambiguous. Returning False, but in future this will result in an error. Use `array.size > 0` to check that an array is not empty.\n",
      "  if diff:\n",
      "/Users/miljanstojiljkovic/anaconda3/lib/python3.6/site-packages/sklearn/preprocessing/label.py:151: DeprecationWarning: The truth value of an empty array is ambiguous. Returning False, but in future this will result in an error. Use `array.size > 0` to check that an array is not empty.\n",
      "  if diff:\n"
     ]
    },
    {
     "name": "stdout",
     "output_type": "stream",
     "text": [
      "[CV]  colsample_bytree=0.6, gamma=2, max_depth=7, min_child_weight=1, subsample=0.8, score=0.9795640326975477, total= 2.7min\n",
      "[CV] colsample_bytree=0.6, gamma=2, max_depth=7, min_child_weight=5, subsample=0.6 \n"
     ]
    },
    {
     "name": "stderr",
     "output_type": "stream",
     "text": [
      "/Users/miljanstojiljkovic/anaconda3/lib/python3.6/site-packages/sklearn/preprocessing/label.py:151: DeprecationWarning: The truth value of an empty array is ambiguous. Returning False, but in future this will result in an error. Use `array.size > 0` to check that an array is not empty.\n",
      "  if diff:\n",
      "/Users/miljanstojiljkovic/anaconda3/lib/python3.6/site-packages/sklearn/preprocessing/label.py:151: DeprecationWarning: The truth value of an empty array is ambiguous. Returning False, but in future this will result in an error. Use `array.size > 0` to check that an array is not empty.\n",
      "  if diff:\n"
     ]
    },
    {
     "name": "stdout",
     "output_type": "stream",
     "text": [
      "[CV]  colsample_bytree=0.6, gamma=2, max_depth=7, min_child_weight=5, subsample=0.6, score=0.9756427604871448, total= 2.0min\n",
      "[CV] colsample_bytree=0.6, gamma=2, max_depth=7, min_child_weight=5, subsample=0.6 \n"
     ]
    },
    {
     "name": "stderr",
     "output_type": "stream",
     "text": [
      "/Users/miljanstojiljkovic/anaconda3/lib/python3.6/site-packages/sklearn/preprocessing/label.py:151: DeprecationWarning: The truth value of an empty array is ambiguous. Returning False, but in future this will result in an error. Use `array.size > 0` to check that an array is not empty.\n",
      "  if diff:\n",
      "/Users/miljanstojiljkovic/anaconda3/lib/python3.6/site-packages/sklearn/preprocessing/label.py:151: DeprecationWarning: The truth value of an empty array is ambiguous. Returning False, but in future this will result in an error. Use `array.size > 0` to check that an array is not empty.\n",
      "  if diff:\n"
     ]
    },
    {
     "name": "stdout",
     "output_type": "stream",
     "text": [
      "[CV]  colsample_bytree=0.6, gamma=2, max_depth=7, min_child_weight=1, subsample=0.8, score=0.9918256130790191, total= 2.7min\n",
      "[CV] colsample_bytree=0.6, gamma=2, max_depth=7, min_child_weight=5, subsample=0.8 \n"
     ]
    },
    {
     "name": "stderr",
     "output_type": "stream",
     "text": [
      "/Users/miljanstojiljkovic/anaconda3/lib/python3.6/site-packages/sklearn/preprocessing/label.py:151: DeprecationWarning: The truth value of an empty array is ambiguous. Returning False, but in future this will result in an error. Use `array.size > 0` to check that an array is not empty.\n",
      "  if diff:\n",
      "/Users/miljanstojiljkovic/anaconda3/lib/python3.6/site-packages/sklearn/preprocessing/label.py:151: DeprecationWarning: The truth value of an empty array is ambiguous. Returning False, but in future this will result in an error. Use `array.size > 0` to check that an array is not empty.\n",
      "  if diff:\n"
     ]
    },
    {
     "name": "stdout",
     "output_type": "stream",
     "text": [
      "[CV]  colsample_bytree=0.6, gamma=2, max_depth=7, min_child_weight=5, subsample=0.6, score=0.9850543478260869, total= 2.0min\n",
      "[CV] colsample_bytree=0.6, gamma=2, max_depth=7, min_child_weight=5, subsample=0.8 \n"
     ]
    },
    {
     "name": "stderr",
     "output_type": "stream",
     "text": [
      "/Users/miljanstojiljkovic/anaconda3/lib/python3.6/site-packages/sklearn/preprocessing/label.py:151: DeprecationWarning: The truth value of an empty array is ambiguous. Returning False, but in future this will result in an error. Use `array.size > 0` to check that an array is not empty.\n",
      "  if diff:\n",
      "/Users/miljanstojiljkovic/anaconda3/lib/python3.6/site-packages/sklearn/preprocessing/label.py:151: DeprecationWarning: The truth value of an empty array is ambiguous. Returning False, but in future this will result in an error. Use `array.size > 0` to check that an array is not empty.\n",
      "  if diff:\n"
     ]
    },
    {
     "name": "stdout",
     "output_type": "stream",
     "text": [
      "[CV]  colsample_bytree=0.6, gamma=2, max_depth=7, min_child_weight=5, subsample=0.6, score=0.9741144414168937, total= 2.0min\n",
      "[CV] colsample_bytree=0.6, gamma=2, max_depth=7, min_child_weight=5, subsample=0.8 \n"
     ]
    },
    {
     "name": "stderr",
     "output_type": "stream",
     "text": [
      "/Users/miljanstojiljkovic/anaconda3/lib/python3.6/site-packages/sklearn/preprocessing/label.py:151: DeprecationWarning: The truth value of an empty array is ambiguous. Returning False, but in future this will result in an error. Use `array.size > 0` to check that an array is not empty.\n",
      "  if diff:\n",
      "/Users/miljanstojiljkovic/anaconda3/lib/python3.6/site-packages/sklearn/preprocessing/label.py:151: DeprecationWarning: The truth value of an empty array is ambiguous. Returning False, but in future this will result in an error. Use `array.size > 0` to check that an array is not empty.\n",
      "  if diff:\n"
     ]
    },
    {
     "name": "stdout",
     "output_type": "stream",
     "text": [
      "[CV]  colsample_bytree=0.6, gamma=2, max_depth=7, min_child_weight=5, subsample=0.6, score=0.9904632152588556, total= 2.0min\n",
      "[CV] colsample_bytree=0.6, gamma=2, max_depth=7, min_child_weight=5, subsample=0.8 \n"
     ]
    },
    {
     "name": "stderr",
     "output_type": "stream",
     "text": [
      "/Users/miljanstojiljkovic/anaconda3/lib/python3.6/site-packages/sklearn/preprocessing/label.py:151: DeprecationWarning: The truth value of an empty array is ambiguous. Returning False, but in future this will result in an error. Use `array.size > 0` to check that an array is not empty.\n",
      "  if diff:\n",
      "/Users/miljanstojiljkovic/anaconda3/lib/python3.6/site-packages/sklearn/preprocessing/label.py:151: DeprecationWarning: The truth value of an empty array is ambiguous. Returning False, but in future this will result in an error. Use `array.size > 0` to check that an array is not empty.\n",
      "  if diff:\n"
     ]
    },
    {
     "name": "stdout",
     "output_type": "stream",
     "text": [
      "[CV]  colsample_bytree=0.6, gamma=2, max_depth=7, min_child_weight=5, subsample=0.8, score=0.9851150202976996, total= 2.2min\n",
      "[CV] colsample_bytree=0.6, gamma=2, max_depth=7, min_child_weight=5, subsample=0.8 \n"
     ]
    },
    {
     "name": "stderr",
     "output_type": "stream",
     "text": [
      "/Users/miljanstojiljkovic/anaconda3/lib/python3.6/site-packages/sklearn/preprocessing/label.py:151: DeprecationWarning: The truth value of an empty array is ambiguous. Returning False, but in future this will result in an error. Use `array.size > 0` to check that an array is not empty.\n",
      "  if diff:\n",
      "/Users/miljanstojiljkovic/anaconda3/lib/python3.6/site-packages/sklearn/preprocessing/label.py:151: DeprecationWarning: The truth value of an empty array is ambiguous. Returning False, but in future this will result in an error. Use `array.size > 0` to check that an array is not empty.\n",
      "  if diff:\n"
     ]
    },
    {
     "name": "stdout",
     "output_type": "stream",
     "text": [
      "[CV]  colsample_bytree=0.6, gamma=2, max_depth=7, min_child_weight=5, subsample=0.8, score=0.9769959404600812, total= 2.2min\n",
      "[CV] colsample_bytree=0.8, gamma=0.5, max_depth=5, min_child_weight=1, subsample=0.6 \n"
     ]
    },
    {
     "name": "stderr",
     "output_type": "stream",
     "text": [
      "[Parallel(n_jobs=-1)]: Done  77 tasks      | elapsed: 43.9min\n",
      "/Users/miljanstojiljkovic/anaconda3/lib/python3.6/site-packages/sklearn/preprocessing/label.py:151: DeprecationWarning: The truth value of an empty array is ambiguous. Returning False, but in future this will result in an error. Use `array.size > 0` to check that an array is not empty.\n",
      "  if diff:\n",
      "/Users/miljanstojiljkovic/anaconda3/lib/python3.6/site-packages/sklearn/preprocessing/label.py:151: DeprecationWarning: The truth value of an empty array is ambiguous. Returning False, but in future this will result in an error. Use `array.size > 0` to check that an array is not empty.\n",
      "  if diff:\n"
     ]
    },
    {
     "name": "stdout",
     "output_type": "stream",
     "text": [
      "[CV]  colsample_bytree=0.6, gamma=2, max_depth=7, min_child_weight=5, subsample=0.8, score=0.9850543478260869, total= 2.3min\n",
      "[CV] colsample_bytree=0.8, gamma=0.5, max_depth=5, min_child_weight=1, subsample=0.6 \n"
     ]
    },
    {
     "name": "stderr",
     "output_type": "stream",
     "text": [
      "/Users/miljanstojiljkovic/anaconda3/lib/python3.6/site-packages/sklearn/preprocessing/label.py:151: DeprecationWarning: The truth value of an empty array is ambiguous. Returning False, but in future this will result in an error. Use `array.size > 0` to check that an array is not empty.\n",
      "  if diff:\n",
      "/Users/miljanstojiljkovic/anaconda3/lib/python3.6/site-packages/sklearn/preprocessing/label.py:151: DeprecationWarning: The truth value of an empty array is ambiguous. Returning False, but in future this will result in an error. Use `array.size > 0` to check that an array is not empty.\n",
      "  if diff:\n"
     ]
    },
    {
     "name": "stdout",
     "output_type": "stream",
     "text": [
      "[CV]  colsample_bytree=0.6, gamma=2, max_depth=7, min_child_weight=5, subsample=0.8, score=0.9782016348773842, total= 2.2min\n",
      "[CV] colsample_bytree=0.8, gamma=0.5, max_depth=5, min_child_weight=1, subsample=0.6 \n"
     ]
    },
    {
     "name": "stderr",
     "output_type": "stream",
     "text": [
      "/Users/miljanstojiljkovic/anaconda3/lib/python3.6/site-packages/sklearn/preprocessing/label.py:151: DeprecationWarning: The truth value of an empty array is ambiguous. Returning False, but in future this will result in an error. Use `array.size > 0` to check that an array is not empty.\n",
      "  if diff:\n",
      "/Users/miljanstojiljkovic/anaconda3/lib/python3.6/site-packages/sklearn/preprocessing/label.py:151: DeprecationWarning: The truth value of an empty array is ambiguous. Returning False, but in future this will result in an error. Use `array.size > 0` to check that an array is not empty.\n",
      "  if diff:\n"
     ]
    },
    {
     "name": "stdout",
     "output_type": "stream",
     "text": [
      "[CV]  colsample_bytree=0.6, gamma=2, max_depth=7, min_child_weight=5, subsample=0.8, score=0.9918256130790191, total= 2.2min\n",
      "[CV] colsample_bytree=0.8, gamma=0.5, max_depth=5, min_child_weight=1, subsample=0.6 \n"
     ]
    },
    {
     "name": "stderr",
     "output_type": "stream",
     "text": [
      "/Users/miljanstojiljkovic/anaconda3/lib/python3.6/site-packages/sklearn/preprocessing/label.py:151: DeprecationWarning: The truth value of an empty array is ambiguous. Returning False, but in future this will result in an error. Use `array.size > 0` to check that an array is not empty.\n",
      "  if diff:\n",
      "/Users/miljanstojiljkovic/anaconda3/lib/python3.6/site-packages/sklearn/preprocessing/label.py:151: DeprecationWarning: The truth value of an empty array is ambiguous. Returning False, but in future this will result in an error. Use `array.size > 0` to check that an array is not empty.\n",
      "  if diff:\n"
     ]
    },
    {
     "name": "stdout",
     "output_type": "stream",
     "text": [
      "[CV]  colsample_bytree=0.8, gamma=0.5, max_depth=5, min_child_weight=1, subsample=0.6, score=0.986468200270636, total= 2.5min\n",
      "[CV] colsample_bytree=0.8, gamma=0.5, max_depth=5, min_child_weight=1, subsample=0.6 \n"
     ]
    },
    {
     "name": "stderr",
     "output_type": "stream",
     "text": [
      "/Users/miljanstojiljkovic/anaconda3/lib/python3.6/site-packages/sklearn/preprocessing/label.py:151: DeprecationWarning: The truth value of an empty array is ambiguous. Returning False, but in future this will result in an error. Use `array.size > 0` to check that an array is not empty.\n",
      "  if diff:\n",
      "/Users/miljanstojiljkovic/anaconda3/lib/python3.6/site-packages/sklearn/preprocessing/label.py:151: DeprecationWarning: The truth value of an empty array is ambiguous. Returning False, but in future this will result in an error. Use `array.size > 0` to check that an array is not empty.\n",
      "  if diff:\n"
     ]
    },
    {
     "name": "stdout",
     "output_type": "stream",
     "text": [
      "[CV]  colsample_bytree=0.8, gamma=0.5, max_depth=5, min_child_weight=1, subsample=0.6, score=0.9756427604871448, total= 2.5min\n",
      "[CV] colsample_bytree=0.8, gamma=0.5, max_depth=5, min_child_weight=1, subsample=0.8 \n"
     ]
    },
    {
     "name": "stderr",
     "output_type": "stream",
     "text": [
      "/Users/miljanstojiljkovic/anaconda3/lib/python3.6/site-packages/sklearn/preprocessing/label.py:151: DeprecationWarning: The truth value of an empty array is ambiguous. Returning False, but in future this will result in an error. Use `array.size > 0` to check that an array is not empty.\n",
      "  if diff:\n",
      "/Users/miljanstojiljkovic/anaconda3/lib/python3.6/site-packages/sklearn/preprocessing/label.py:151: DeprecationWarning: The truth value of an empty array is ambiguous. Returning False, but in future this will result in an error. Use `array.size > 0` to check that an array is not empty.\n",
      "  if diff:\n"
     ]
    },
    {
     "name": "stdout",
     "output_type": "stream",
     "text": [
      "[CV]  colsample_bytree=0.8, gamma=0.5, max_depth=5, min_child_weight=1, subsample=0.6, score=0.9877717391304348, total= 2.6min\n",
      "[CV] colsample_bytree=0.8, gamma=0.5, max_depth=5, min_child_weight=1, subsample=0.8 \n"
     ]
    },
    {
     "name": "stderr",
     "output_type": "stream",
     "text": [
      "/Users/miljanstojiljkovic/anaconda3/lib/python3.6/site-packages/sklearn/preprocessing/label.py:151: DeprecationWarning: The truth value of an empty array is ambiguous. Returning False, but in future this will result in an error. Use `array.size > 0` to check that an array is not empty.\n",
      "  if diff:\n",
      "/Users/miljanstojiljkovic/anaconda3/lib/python3.6/site-packages/sklearn/preprocessing/label.py:151: DeprecationWarning: The truth value of an empty array is ambiguous. Returning False, but in future this will result in an error. Use `array.size > 0` to check that an array is not empty.\n",
      "  if diff:\n"
     ]
    },
    {
     "name": "stdout",
     "output_type": "stream",
     "text": [
      "[CV]  colsample_bytree=0.8, gamma=0.5, max_depth=5, min_child_weight=1, subsample=0.6, score=0.9782016348773842, total= 2.5min\n",
      "[CV] colsample_bytree=0.8, gamma=0.5, max_depth=5, min_child_weight=1, subsample=0.8 \n"
     ]
    },
    {
     "name": "stderr",
     "output_type": "stream",
     "text": [
      "/Users/miljanstojiljkovic/anaconda3/lib/python3.6/site-packages/sklearn/preprocessing/label.py:151: DeprecationWarning: The truth value of an empty array is ambiguous. Returning False, but in future this will result in an error. Use `array.size > 0` to check that an array is not empty.\n",
      "  if diff:\n",
      "/Users/miljanstojiljkovic/anaconda3/lib/python3.6/site-packages/sklearn/preprocessing/label.py:151: DeprecationWarning: The truth value of an empty array is ambiguous. Returning False, but in future this will result in an error. Use `array.size > 0` to check that an array is not empty.\n",
      "  if diff:\n"
     ]
    },
    {
     "name": "stdout",
     "output_type": "stream",
     "text": [
      "[CV]  colsample_bytree=0.8, gamma=0.5, max_depth=5, min_child_weight=1, subsample=0.6, score=0.9918256130790191, total= 2.5min\n",
      "[CV] colsample_bytree=0.8, gamma=0.5, max_depth=5, min_child_weight=1, subsample=0.8 \n"
     ]
    },
    {
     "name": "stderr",
     "output_type": "stream",
     "text": [
      "/Users/miljanstojiljkovic/anaconda3/lib/python3.6/site-packages/sklearn/preprocessing/label.py:151: DeprecationWarning: The truth value of an empty array is ambiguous. Returning False, but in future this will result in an error. Use `array.size > 0` to check that an array is not empty.\n",
      "  if diff:\n",
      "/Users/miljanstojiljkovic/anaconda3/lib/python3.6/site-packages/sklearn/preprocessing/label.py:151: DeprecationWarning: The truth value of an empty array is ambiguous. Returning False, but in future this will result in an error. Use `array.size > 0` to check that an array is not empty.\n",
      "  if diff:\n"
     ]
    },
    {
     "name": "stdout",
     "output_type": "stream",
     "text": [
      "[CV]  colsample_bytree=0.8, gamma=0.5, max_depth=5, min_child_weight=1, subsample=0.8, score=0.9851150202976996, total= 2.8min\n",
      "[CV] colsample_bytree=0.8, gamma=0.5, max_depth=5, min_child_weight=1, subsample=0.8 \n"
     ]
    },
    {
     "name": "stderr",
     "output_type": "stream",
     "text": [
      "/Users/miljanstojiljkovic/anaconda3/lib/python3.6/site-packages/sklearn/preprocessing/label.py:151: DeprecationWarning: The truth value of an empty array is ambiguous. Returning False, but in future this will result in an error. Use `array.size > 0` to check that an array is not empty.\n",
      "  if diff:\n",
      "/Users/miljanstojiljkovic/anaconda3/lib/python3.6/site-packages/sklearn/preprocessing/label.py:151: DeprecationWarning: The truth value of an empty array is ambiguous. Returning False, but in future this will result in an error. Use `array.size > 0` to check that an array is not empty.\n",
      "  if diff:\n"
     ]
    },
    {
     "name": "stdout",
     "output_type": "stream",
     "text": [
      "[CV]  colsample_bytree=0.8, gamma=0.5, max_depth=5, min_child_weight=1, subsample=0.8, score=0.972936400541272, total= 2.8min\n",
      "[CV] colsample_bytree=0.8, gamma=0.5, max_depth=5, min_child_weight=5, subsample=0.6 \n"
     ]
    },
    {
     "name": "stderr",
     "output_type": "stream",
     "text": [
      "/Users/miljanstojiljkovic/anaconda3/lib/python3.6/site-packages/sklearn/preprocessing/label.py:151: DeprecationWarning: The truth value of an empty array is ambiguous. Returning False, but in future this will result in an error. Use `array.size > 0` to check that an array is not empty.\n",
      "  if diff:\n",
      "/Users/miljanstojiljkovic/anaconda3/lib/python3.6/site-packages/sklearn/preprocessing/label.py:151: DeprecationWarning: The truth value of an empty array is ambiguous. Returning False, but in future this will result in an error. Use `array.size > 0` to check that an array is not empty.\n",
      "  if diff:\n"
     ]
    },
    {
     "name": "stdout",
     "output_type": "stream",
     "text": [
      "[CV]  colsample_bytree=0.8, gamma=0.5, max_depth=5, min_child_weight=1, subsample=0.8, score=0.9891304347826086, total= 2.8min\n",
      "[CV] colsample_bytree=0.8, gamma=0.5, max_depth=5, min_child_weight=5, subsample=0.6 \n"
     ]
    },
    {
     "name": "stderr",
     "output_type": "stream",
     "text": [
      "/Users/miljanstojiljkovic/anaconda3/lib/python3.6/site-packages/sklearn/preprocessing/label.py:151: DeprecationWarning: The truth value of an empty array is ambiguous. Returning False, but in future this will result in an error. Use `array.size > 0` to check that an array is not empty.\n",
      "  if diff:\n",
      "/Users/miljanstojiljkovic/anaconda3/lib/python3.6/site-packages/sklearn/preprocessing/label.py:151: DeprecationWarning: The truth value of an empty array is ambiguous. Returning False, but in future this will result in an error. Use `array.size > 0` to check that an array is not empty.\n",
      "  if diff:\n"
     ]
    },
    {
     "name": "stdout",
     "output_type": "stream",
     "text": [
      "[CV]  colsample_bytree=0.8, gamma=0.5, max_depth=5, min_child_weight=5, subsample=0.6, score=0.9851150202976996, total= 2.1min\n",
      "[CV] colsample_bytree=0.8, gamma=0.5, max_depth=5, min_child_weight=5, subsample=0.6 \n"
     ]
    },
    {
     "name": "stderr",
     "output_type": "stream",
     "text": [
      "/Users/miljanstojiljkovic/anaconda3/lib/python3.6/site-packages/sklearn/preprocessing/label.py:151: DeprecationWarning: The truth value of an empty array is ambiguous. Returning False, but in future this will result in an error. Use `array.size > 0` to check that an array is not empty.\n",
      "  if diff:\n",
      "/Users/miljanstojiljkovic/anaconda3/lib/python3.6/site-packages/sklearn/preprocessing/label.py:151: DeprecationWarning: The truth value of an empty array is ambiguous. Returning False, but in future this will result in an error. Use `array.size > 0` to check that an array is not empty.\n",
      "  if diff:\n"
     ]
    },
    {
     "name": "stdout",
     "output_type": "stream",
     "text": [
      "[CV]  colsample_bytree=0.8, gamma=0.5, max_depth=5, min_child_weight=1, subsample=0.8, score=0.9782016348773842, total= 2.8min\n",
      "[CV] colsample_bytree=0.8, gamma=0.5, max_depth=5, min_child_weight=5, subsample=0.6 \n"
     ]
    },
    {
     "name": "stderr",
     "output_type": "stream",
     "text": [
      "[Parallel(n_jobs=-1)]: Done  90 tasks      | elapsed: 51.8min\n",
      "/Users/miljanstojiljkovic/anaconda3/lib/python3.6/site-packages/sklearn/preprocessing/label.py:151: DeprecationWarning: The truth value of an empty array is ambiguous. Returning False, but in future this will result in an error. Use `array.size > 0` to check that an array is not empty.\n",
      "  if diff:\n",
      "/Users/miljanstojiljkovic/anaconda3/lib/python3.6/site-packages/sklearn/preprocessing/label.py:151: DeprecationWarning: The truth value of an empty array is ambiguous. Returning False, but in future this will result in an error. Use `array.size > 0` to check that an array is not empty.\n",
      "  if diff:\n"
     ]
    },
    {
     "name": "stdout",
     "output_type": "stream",
     "text": [
      "[CV]  colsample_bytree=0.8, gamma=0.5, max_depth=5, min_child_weight=5, subsample=0.6, score=0.9769959404600812, total= 2.1min\n",
      "[CV] colsample_bytree=0.8, gamma=0.5, max_depth=5, min_child_weight=5, subsample=0.6 \n"
     ]
    },
    {
     "name": "stderr",
     "output_type": "stream",
     "text": [
      "/Users/miljanstojiljkovic/anaconda3/lib/python3.6/site-packages/sklearn/preprocessing/label.py:151: DeprecationWarning: The truth value of an empty array is ambiguous. Returning False, but in future this will result in an error. Use `array.size > 0` to check that an array is not empty.\n",
      "  if diff:\n",
      "/Users/miljanstojiljkovic/anaconda3/lib/python3.6/site-packages/sklearn/preprocessing/label.py:151: DeprecationWarning: The truth value of an empty array is ambiguous. Returning False, but in future this will result in an error. Use `array.size > 0` to check that an array is not empty.\n",
      "  if diff:\n"
     ]
    },
    {
     "name": "stdout",
     "output_type": "stream",
     "text": [
      "[CV]  colsample_bytree=0.8, gamma=0.5, max_depth=5, min_child_weight=1, subsample=0.8, score=0.9918256130790191, total= 2.8min\n",
      "[CV] colsample_bytree=0.8, gamma=0.5, max_depth=5, min_child_weight=5, subsample=0.8 \n"
     ]
    },
    {
     "name": "stderr",
     "output_type": "stream",
     "text": [
      "/Users/miljanstojiljkovic/anaconda3/lib/python3.6/site-packages/sklearn/preprocessing/label.py:151: DeprecationWarning: The truth value of an empty array is ambiguous. Returning False, but in future this will result in an error. Use `array.size > 0` to check that an array is not empty.\n",
      "  if diff:\n",
      "/Users/miljanstojiljkovic/anaconda3/lib/python3.6/site-packages/sklearn/preprocessing/label.py:151: DeprecationWarning: The truth value of an empty array is ambiguous. Returning False, but in future this will result in an error. Use `array.size > 0` to check that an array is not empty.\n",
      "  if diff:\n"
     ]
    },
    {
     "name": "stdout",
     "output_type": "stream",
     "text": [
      "[CV]  colsample_bytree=0.8, gamma=0.5, max_depth=5, min_child_weight=5, subsample=0.6, score=0.9836956521739131, total= 2.2min\n",
      "[CV] colsample_bytree=0.8, gamma=0.5, max_depth=5, min_child_weight=5, subsample=0.8 \n"
     ]
    },
    {
     "name": "stderr",
     "output_type": "stream",
     "text": [
      "/Users/miljanstojiljkovic/anaconda3/lib/python3.6/site-packages/sklearn/preprocessing/label.py:151: DeprecationWarning: The truth value of an empty array is ambiguous. Returning False, but in future this will result in an error. Use `array.size > 0` to check that an array is not empty.\n",
      "  if diff:\n",
      "/Users/miljanstojiljkovic/anaconda3/lib/python3.6/site-packages/sklearn/preprocessing/label.py:151: DeprecationWarning: The truth value of an empty array is ambiguous. Returning False, but in future this will result in an error. Use `array.size > 0` to check that an array is not empty.\n",
      "  if diff:\n"
     ]
    },
    {
     "name": "stdout",
     "output_type": "stream",
     "text": [
      "[CV]  colsample_bytree=0.8, gamma=0.5, max_depth=5, min_child_weight=5, subsample=0.6, score=0.9741144414168937, total= 2.2min\n",
      "[CV] colsample_bytree=0.8, gamma=0.5, max_depth=5, min_child_weight=5, subsample=0.8 \n"
     ]
    },
    {
     "name": "stderr",
     "output_type": "stream",
     "text": [
      "/Users/miljanstojiljkovic/anaconda3/lib/python3.6/site-packages/sklearn/preprocessing/label.py:151: DeprecationWarning: The truth value of an empty array is ambiguous. Returning False, but in future this will result in an error. Use `array.size > 0` to check that an array is not empty.\n",
      "  if diff:\n",
      "/Users/miljanstojiljkovic/anaconda3/lib/python3.6/site-packages/sklearn/preprocessing/label.py:151: DeprecationWarning: The truth value of an empty array is ambiguous. Returning False, but in future this will result in an error. Use `array.size > 0` to check that an array is not empty.\n",
      "  if diff:\n"
     ]
    },
    {
     "name": "stdout",
     "output_type": "stream",
     "text": [
      "[CV]  colsample_bytree=0.8, gamma=0.5, max_depth=5, min_child_weight=5, subsample=0.6, score=0.989100817438692, total= 2.2min\n",
      "[CV] colsample_bytree=0.8, gamma=0.5, max_depth=5, min_child_weight=5, subsample=0.8 \n"
     ]
    },
    {
     "name": "stderr",
     "output_type": "stream",
     "text": [
      "/Users/miljanstojiljkovic/anaconda3/lib/python3.6/site-packages/sklearn/preprocessing/label.py:151: DeprecationWarning: The truth value of an empty array is ambiguous. Returning False, but in future this will result in an error. Use `array.size > 0` to check that an array is not empty.\n",
      "  if diff:\n",
      "/Users/miljanstojiljkovic/anaconda3/lib/python3.6/site-packages/sklearn/preprocessing/label.py:151: DeprecationWarning: The truth value of an empty array is ambiguous. Returning False, but in future this will result in an error. Use `array.size > 0` to check that an array is not empty.\n",
      "  if diff:\n"
     ]
    },
    {
     "name": "stdout",
     "output_type": "stream",
     "text": [
      "[CV]  colsample_bytree=0.8, gamma=0.5, max_depth=5, min_child_weight=5, subsample=0.8, score=0.9837618403247632, total= 2.4min\n",
      "[CV] colsample_bytree=0.8, gamma=0.5, max_depth=5, min_child_weight=5, subsample=0.8 \n"
     ]
    },
    {
     "name": "stderr",
     "output_type": "stream",
     "text": [
      "/Users/miljanstojiljkovic/anaconda3/lib/python3.6/site-packages/sklearn/preprocessing/label.py:151: DeprecationWarning: The truth value of an empty array is ambiguous. Returning False, but in future this will result in an error. Use `array.size > 0` to check that an array is not empty.\n",
      "  if diff:\n",
      "/Users/miljanstojiljkovic/anaconda3/lib/python3.6/site-packages/sklearn/preprocessing/label.py:151: DeprecationWarning: The truth value of an empty array is ambiguous. Returning False, but in future this will result in an error. Use `array.size > 0` to check that an array is not empty.\n",
      "  if diff:\n"
     ]
    },
    {
     "name": "stdout",
     "output_type": "stream",
     "text": [
      "[CV]  colsample_bytree=0.8, gamma=0.5, max_depth=5, min_child_weight=5, subsample=0.8, score=0.9769959404600812, total= 2.4min\n",
      "[CV] colsample_bytree=0.8, gamma=0.5, max_depth=7, min_child_weight=1, subsample=0.6 \n"
     ]
    },
    {
     "name": "stderr",
     "output_type": "stream",
     "text": [
      "/Users/miljanstojiljkovic/anaconda3/lib/python3.6/site-packages/sklearn/preprocessing/label.py:151: DeprecationWarning: The truth value of an empty array is ambiguous. Returning False, but in future this will result in an error. Use `array.size > 0` to check that an array is not empty.\n",
      "  if diff:\n",
      "/Users/miljanstojiljkovic/anaconda3/lib/python3.6/site-packages/sklearn/preprocessing/label.py:151: DeprecationWarning: The truth value of an empty array is ambiguous. Returning False, but in future this will result in an error. Use `array.size > 0` to check that an array is not empty.\n",
      "  if diff:\n"
     ]
    },
    {
     "name": "stdout",
     "output_type": "stream",
     "text": [
      "[CV]  colsample_bytree=0.8, gamma=0.5, max_depth=5, min_child_weight=5, subsample=0.8, score=0.9864130434782609, total= 2.4min\n",
      "[CV] colsample_bytree=0.8, gamma=0.5, max_depth=7, min_child_weight=1, subsample=0.6 \n"
     ]
    },
    {
     "name": "stderr",
     "output_type": "stream",
     "text": [
      "/Users/miljanstojiljkovic/anaconda3/lib/python3.6/site-packages/sklearn/preprocessing/label.py:151: DeprecationWarning: The truth value of an empty array is ambiguous. Returning False, but in future this will result in an error. Use `array.size > 0` to check that an array is not empty.\n",
      "  if diff:\n",
      "/Users/miljanstojiljkovic/anaconda3/lib/python3.6/site-packages/sklearn/preprocessing/label.py:151: DeprecationWarning: The truth value of an empty array is ambiguous. Returning False, but in future this will result in an error. Use `array.size > 0` to check that an array is not empty.\n",
      "  if diff:\n"
     ]
    },
    {
     "name": "stdout",
     "output_type": "stream",
     "text": [
      "[CV]  colsample_bytree=0.8, gamma=0.5, max_depth=5, min_child_weight=5, subsample=0.8, score=0.9768392370572208, total= 2.4min\n",
      "[CV] colsample_bytree=0.8, gamma=0.5, max_depth=7, min_child_weight=1, subsample=0.6 \n"
     ]
    },
    {
     "name": "stderr",
     "output_type": "stream",
     "text": [
      "/Users/miljanstojiljkovic/anaconda3/lib/python3.6/site-packages/sklearn/preprocessing/label.py:151: DeprecationWarning: The truth value of an empty array is ambiguous. Returning False, but in future this will result in an error. Use `array.size > 0` to check that an array is not empty.\n",
      "  if diff:\n",
      "/Users/miljanstojiljkovic/anaconda3/lib/python3.6/site-packages/sklearn/preprocessing/label.py:151: DeprecationWarning: The truth value of an empty array is ambiguous. Returning False, but in future this will result in an error. Use `array.size > 0` to check that an array is not empty.\n",
      "  if diff:\n"
     ]
    },
    {
     "name": "stdout",
     "output_type": "stream",
     "text": [
      "[CV]  colsample_bytree=0.8, gamma=0.5, max_depth=5, min_child_weight=5, subsample=0.8, score=0.989100817438692, total= 2.4min\n",
      "[CV] colsample_bytree=0.8, gamma=0.5, max_depth=7, min_child_weight=1, subsample=0.6 \n"
     ]
    },
    {
     "name": "stderr",
     "output_type": "stream",
     "text": [
      "/Users/miljanstojiljkovic/anaconda3/lib/python3.6/site-packages/sklearn/preprocessing/label.py:151: DeprecationWarning: The truth value of an empty array is ambiguous. Returning False, but in future this will result in an error. Use `array.size > 0` to check that an array is not empty.\n",
      "  if diff:\n",
      "/Users/miljanstojiljkovic/anaconda3/lib/python3.6/site-packages/sklearn/preprocessing/label.py:151: DeprecationWarning: The truth value of an empty array is ambiguous. Returning False, but in future this will result in an error. Use `array.size > 0` to check that an array is not empty.\n",
      "  if diff:\n"
     ]
    },
    {
     "name": "stdout",
     "output_type": "stream",
     "text": [
      "[CV]  colsample_bytree=0.8, gamma=0.5, max_depth=7, min_child_weight=1, subsample=0.6, score=0.986468200270636, total= 2.8min\n",
      "[CV] colsample_bytree=0.8, gamma=0.5, max_depth=7, min_child_weight=1, subsample=0.6 \n"
     ]
    },
    {
     "name": "stderr",
     "output_type": "stream",
     "text": [
      "/Users/miljanstojiljkovic/anaconda3/lib/python3.6/site-packages/sklearn/preprocessing/label.py:151: DeprecationWarning: The truth value of an empty array is ambiguous. Returning False, but in future this will result in an error. Use `array.size > 0` to check that an array is not empty.\n",
      "  if diff:\n",
      "/Users/miljanstojiljkovic/anaconda3/lib/python3.6/site-packages/sklearn/preprocessing/label.py:151: DeprecationWarning: The truth value of an empty array is ambiguous. Returning False, but in future this will result in an error. Use `array.size > 0` to check that an array is not empty.\n",
      "  if diff:\n"
     ]
    },
    {
     "name": "stdout",
     "output_type": "stream",
     "text": [
      "[CV]  colsample_bytree=0.8, gamma=0.5, max_depth=7, min_child_weight=1, subsample=0.6, score=0.9769959404600812, total= 2.8min\n",
      "[CV] colsample_bytree=0.8, gamma=0.5, max_depth=7, min_child_weight=1, subsample=0.8 \n"
     ]
    },
    {
     "name": "stderr",
     "output_type": "stream",
     "text": [
      "/Users/miljanstojiljkovic/anaconda3/lib/python3.6/site-packages/sklearn/preprocessing/label.py:151: DeprecationWarning: The truth value of an empty array is ambiguous. Returning False, but in future this will result in an error. Use `array.size > 0` to check that an array is not empty.\n",
      "  if diff:\n",
      "/Users/miljanstojiljkovic/anaconda3/lib/python3.6/site-packages/sklearn/preprocessing/label.py:151: DeprecationWarning: The truth value of an empty array is ambiguous. Returning False, but in future this will result in an error. Use `array.size > 0` to check that an array is not empty.\n",
      "  if diff:\n"
     ]
    },
    {
     "name": "stdout",
     "output_type": "stream",
     "text": [
      "[CV]  colsample_bytree=0.8, gamma=0.5, max_depth=7, min_child_weight=1, subsample=0.6, score=0.9904891304347826, total= 2.9min\n",
      "[CV] colsample_bytree=0.8, gamma=0.5, max_depth=7, min_child_weight=1, subsample=0.8 \n"
     ]
    },
    {
     "name": "stderr",
     "output_type": "stream",
     "text": [
      "/Users/miljanstojiljkovic/anaconda3/lib/python3.6/site-packages/sklearn/preprocessing/label.py:151: DeprecationWarning: The truth value of an empty array is ambiguous. Returning False, but in future this will result in an error. Use `array.size > 0` to check that an array is not empty.\n",
      "  if diff:\n",
      "/Users/miljanstojiljkovic/anaconda3/lib/python3.6/site-packages/sklearn/preprocessing/label.py:151: DeprecationWarning: The truth value of an empty array is ambiguous. Returning False, but in future this will result in an error. Use `array.size > 0` to check that an array is not empty.\n",
      "  if diff:\n"
     ]
    },
    {
     "name": "stdout",
     "output_type": "stream",
     "text": [
      "[CV]  colsample_bytree=0.8, gamma=0.5, max_depth=7, min_child_weight=1, subsample=0.6, score=0.9782016348773842, total= 2.8min\n",
      "[CV] colsample_bytree=0.8, gamma=0.5, max_depth=7, min_child_weight=1, subsample=0.8 \n"
     ]
    },
    {
     "name": "stderr",
     "output_type": "stream",
     "text": [
      "/Users/miljanstojiljkovic/anaconda3/lib/python3.6/site-packages/sklearn/preprocessing/label.py:151: DeprecationWarning: The truth value of an empty array is ambiguous. Returning False, but in future this will result in an error. Use `array.size > 0` to check that an array is not empty.\n",
      "  if diff:\n",
      "/Users/miljanstojiljkovic/anaconda3/lib/python3.6/site-packages/sklearn/preprocessing/label.py:151: DeprecationWarning: The truth value of an empty array is ambiguous. Returning False, but in future this will result in an error. Use `array.size > 0` to check that an array is not empty.\n",
      "  if diff:\n"
     ]
    },
    {
     "name": "stdout",
     "output_type": "stream",
     "text": [
      "[CV]  colsample_bytree=0.8, gamma=0.5, max_depth=7, min_child_weight=1, subsample=0.6, score=0.9918256130790191, total= 2.8min\n",
      "[CV] colsample_bytree=0.8, gamma=0.5, max_depth=7, min_child_weight=1, subsample=0.8 \n"
     ]
    },
    {
     "name": "stderr",
     "output_type": "stream",
     "text": [
      "[Parallel(n_jobs=-1)]: Done 105 tasks      | elapsed: 61.9min\n",
      "/Users/miljanstojiljkovic/anaconda3/lib/python3.6/site-packages/sklearn/preprocessing/label.py:151: DeprecationWarning: The truth value of an empty array is ambiguous. Returning False, but in future this will result in an error. Use `array.size > 0` to check that an array is not empty.\n",
      "  if diff:\n",
      "/Users/miljanstojiljkovic/anaconda3/lib/python3.6/site-packages/sklearn/preprocessing/label.py:151: DeprecationWarning: The truth value of an empty array is ambiguous. Returning False, but in future this will result in an error. Use `array.size > 0` to check that an array is not empty.\n",
      "  if diff:\n"
     ]
    },
    {
     "name": "stdout",
     "output_type": "stream",
     "text": [
      "[CV]  colsample_bytree=0.8, gamma=0.5, max_depth=7, min_child_weight=1, subsample=0.8, score=0.9837618403247632, total= 3.1min\n",
      "[CV] colsample_bytree=0.8, gamma=0.5, max_depth=7, min_child_weight=1, subsample=0.8 \n"
     ]
    },
    {
     "name": "stderr",
     "output_type": "stream",
     "text": [
      "/Users/miljanstojiljkovic/anaconda3/lib/python3.6/site-packages/sklearn/preprocessing/label.py:151: DeprecationWarning: The truth value of an empty array is ambiguous. Returning False, but in future this will result in an error. Use `array.size > 0` to check that an array is not empty.\n",
      "  if diff:\n",
      "/Users/miljanstojiljkovic/anaconda3/lib/python3.6/site-packages/sklearn/preprocessing/label.py:151: DeprecationWarning: The truth value of an empty array is ambiguous. Returning False, but in future this will result in an error. Use `array.size > 0` to check that an array is not empty.\n",
      "  if diff:\n"
     ]
    },
    {
     "name": "stdout",
     "output_type": "stream",
     "text": [
      "[CV]  colsample_bytree=0.8, gamma=0.5, max_depth=7, min_child_weight=1, subsample=0.8, score=0.9742895805142084, total= 3.1min\n",
      "[CV] colsample_bytree=0.8, gamma=0.5, max_depth=7, min_child_weight=5, subsample=0.6 \n"
     ]
    },
    {
     "name": "stderr",
     "output_type": "stream",
     "text": [
      "/Users/miljanstojiljkovic/anaconda3/lib/python3.6/site-packages/sklearn/preprocessing/label.py:151: DeprecationWarning: The truth value of an empty array is ambiguous. Returning False, but in future this will result in an error. Use `array.size > 0` to check that an array is not empty.\n",
      "  if diff:\n",
      "/Users/miljanstojiljkovic/anaconda3/lib/python3.6/site-packages/sklearn/preprocessing/label.py:151: DeprecationWarning: The truth value of an empty array is ambiguous. Returning False, but in future this will result in an error. Use `array.size > 0` to check that an array is not empty.\n",
      "  if diff:\n"
     ]
    },
    {
     "name": "stdout",
     "output_type": "stream",
     "text": [
      "[CV]  colsample_bytree=0.8, gamma=0.5, max_depth=7, min_child_weight=1, subsample=0.8, score=0.9891304347826086, total= 3.2min\n",
      "[CV] colsample_bytree=0.8, gamma=0.5, max_depth=7, min_child_weight=5, subsample=0.6 \n"
     ]
    },
    {
     "name": "stderr",
     "output_type": "stream",
     "text": [
      "/Users/miljanstojiljkovic/anaconda3/lib/python3.6/site-packages/sklearn/preprocessing/label.py:151: DeprecationWarning: The truth value of an empty array is ambiguous. Returning False, but in future this will result in an error. Use `array.size > 0` to check that an array is not empty.\n",
      "  if diff:\n",
      "/Users/miljanstojiljkovic/anaconda3/lib/python3.6/site-packages/sklearn/preprocessing/label.py:151: DeprecationWarning: The truth value of an empty array is ambiguous. Returning False, but in future this will result in an error. Use `array.size > 0` to check that an array is not empty.\n",
      "  if diff:\n"
     ]
    },
    {
     "name": "stdout",
     "output_type": "stream",
     "text": [
      "[CV]  colsample_bytree=0.8, gamma=0.5, max_depth=7, min_child_weight=5, subsample=0.6, score=0.9851150202976996, total= 2.3min\n",
      "[CV] colsample_bytree=0.8, gamma=0.5, max_depth=7, min_child_weight=5, subsample=0.6 \n"
     ]
    },
    {
     "name": "stderr",
     "output_type": "stream",
     "text": [
      "/Users/miljanstojiljkovic/anaconda3/lib/python3.6/site-packages/sklearn/preprocessing/label.py:151: DeprecationWarning: The truth value of an empty array is ambiguous. Returning False, but in future this will result in an error. Use `array.size > 0` to check that an array is not empty.\n",
      "  if diff:\n",
      "/Users/miljanstojiljkovic/anaconda3/lib/python3.6/site-packages/sklearn/preprocessing/label.py:151: DeprecationWarning: The truth value of an empty array is ambiguous. Returning False, but in future this will result in an error. Use `array.size > 0` to check that an array is not empty.\n",
      "  if diff:\n"
     ]
    },
    {
     "name": "stdout",
     "output_type": "stream",
     "text": [
      "[CV]  colsample_bytree=0.8, gamma=0.5, max_depth=7, min_child_weight=1, subsample=0.8, score=0.9795640326975477, total= 3.1min\n",
      "[CV] colsample_bytree=0.8, gamma=0.5, max_depth=7, min_child_weight=5, subsample=0.6 \n"
     ]
    },
    {
     "name": "stderr",
     "output_type": "stream",
     "text": [
      "/Users/miljanstojiljkovic/anaconda3/lib/python3.6/site-packages/sklearn/preprocessing/label.py:151: DeprecationWarning: The truth value of an empty array is ambiguous. Returning False, but in future this will result in an error. Use `array.size > 0` to check that an array is not empty.\n",
      "  if diff:\n",
      "/Users/miljanstojiljkovic/anaconda3/lib/python3.6/site-packages/sklearn/preprocessing/label.py:151: DeprecationWarning: The truth value of an empty array is ambiguous. Returning False, but in future this will result in an error. Use `array.size > 0` to check that an array is not empty.\n",
      "  if diff:\n"
     ]
    },
    {
     "name": "stdout",
     "output_type": "stream",
     "text": [
      "[CV]  colsample_bytree=0.8, gamma=0.5, max_depth=7, min_child_weight=5, subsample=0.6, score=0.9769959404600812, total= 2.3min\n",
      "[CV] colsample_bytree=0.8, gamma=0.5, max_depth=7, min_child_weight=5, subsample=0.6 \n"
     ]
    },
    {
     "name": "stderr",
     "output_type": "stream",
     "text": [
      "/Users/miljanstojiljkovic/anaconda3/lib/python3.6/site-packages/sklearn/preprocessing/label.py:151: DeprecationWarning: The truth value of an empty array is ambiguous. Returning False, but in future this will result in an error. Use `array.size > 0` to check that an array is not empty.\n",
      "  if diff:\n",
      "/Users/miljanstojiljkovic/anaconda3/lib/python3.6/site-packages/sklearn/preprocessing/label.py:151: DeprecationWarning: The truth value of an empty array is ambiguous. Returning False, but in future this will result in an error. Use `array.size > 0` to check that an array is not empty.\n",
      "  if diff:\n"
     ]
    },
    {
     "name": "stdout",
     "output_type": "stream",
     "text": [
      "[CV]  colsample_bytree=0.8, gamma=0.5, max_depth=7, min_child_weight=1, subsample=0.8, score=0.9918256130790191, total= 3.1min\n",
      "[CV] colsample_bytree=0.8, gamma=0.5, max_depth=7, min_child_weight=5, subsample=0.8 \n"
     ]
    },
    {
     "name": "stderr",
     "output_type": "stream",
     "text": [
      "/Users/miljanstojiljkovic/anaconda3/lib/python3.6/site-packages/sklearn/preprocessing/label.py:151: DeprecationWarning: The truth value of an empty array is ambiguous. Returning False, but in future this will result in an error. Use `array.size > 0` to check that an array is not empty.\n",
      "  if diff:\n",
      "/Users/miljanstojiljkovic/anaconda3/lib/python3.6/site-packages/sklearn/preprocessing/label.py:151: DeprecationWarning: The truth value of an empty array is ambiguous. Returning False, but in future this will result in an error. Use `array.size > 0` to check that an array is not empty.\n",
      "  if diff:\n"
     ]
    },
    {
     "name": "stdout",
     "output_type": "stream",
     "text": [
      "[CV]  colsample_bytree=0.8, gamma=0.5, max_depth=7, min_child_weight=5, subsample=0.6, score=0.9836956521739131, total= 2.3min\n",
      "[CV] colsample_bytree=0.8, gamma=0.5, max_depth=7, min_child_weight=5, subsample=0.8 \n"
     ]
    },
    {
     "name": "stderr",
     "output_type": "stream",
     "text": [
      "/Users/miljanstojiljkovic/anaconda3/lib/python3.6/site-packages/sklearn/preprocessing/label.py:151: DeprecationWarning: The truth value of an empty array is ambiguous. Returning False, but in future this will result in an error. Use `array.size > 0` to check that an array is not empty.\n",
      "  if diff:\n",
      "/Users/miljanstojiljkovic/anaconda3/lib/python3.6/site-packages/sklearn/preprocessing/label.py:151: DeprecationWarning: The truth value of an empty array is ambiguous. Returning False, but in future this will result in an error. Use `array.size > 0` to check that an array is not empty.\n",
      "  if diff:\n"
     ]
    },
    {
     "name": "stdout",
     "output_type": "stream",
     "text": [
      "[CV]  colsample_bytree=0.8, gamma=0.5, max_depth=7, min_child_weight=5, subsample=0.6, score=0.9754768392370572, total= 2.3min\n",
      "[CV] colsample_bytree=0.8, gamma=0.5, max_depth=7, min_child_weight=5, subsample=0.8 \n"
     ]
    },
    {
     "name": "stderr",
     "output_type": "stream",
     "text": [
      "/Users/miljanstojiljkovic/anaconda3/lib/python3.6/site-packages/sklearn/preprocessing/label.py:151: DeprecationWarning: The truth value of an empty array is ambiguous. Returning False, but in future this will result in an error. Use `array.size > 0` to check that an array is not empty.\n",
      "  if diff:\n",
      "/Users/miljanstojiljkovic/anaconda3/lib/python3.6/site-packages/sklearn/preprocessing/label.py:151: DeprecationWarning: The truth value of an empty array is ambiguous. Returning False, but in future this will result in an error. Use `array.size > 0` to check that an array is not empty.\n",
      "  if diff:\n"
     ]
    },
    {
     "name": "stdout",
     "output_type": "stream",
     "text": [
      "[CV]  colsample_bytree=0.8, gamma=0.5, max_depth=7, min_child_weight=5, subsample=0.6, score=0.9877384196185286, total= 2.3min\n",
      "[CV] colsample_bytree=0.8, gamma=0.5, max_depth=7, min_child_weight=5, subsample=0.8 \n"
     ]
    },
    {
     "name": "stderr",
     "output_type": "stream",
     "text": [
      "/Users/miljanstojiljkovic/anaconda3/lib/python3.6/site-packages/sklearn/preprocessing/label.py:151: DeprecationWarning: The truth value of an empty array is ambiguous. Returning False, but in future this will result in an error. Use `array.size > 0` to check that an array is not empty.\n",
      "  if diff:\n",
      "/Users/miljanstojiljkovic/anaconda3/lib/python3.6/site-packages/sklearn/preprocessing/label.py:151: DeprecationWarning: The truth value of an empty array is ambiguous. Returning False, but in future this will result in an error. Use `array.size > 0` to check that an array is not empty.\n",
      "  if diff:\n"
     ]
    },
    {
     "name": "stdout",
     "output_type": "stream",
     "text": [
      "[CV]  colsample_bytree=0.8, gamma=0.5, max_depth=7, min_child_weight=5, subsample=0.8, score=0.9837618403247632, total= 2.5min\n",
      "[CV] colsample_bytree=0.8, gamma=0.5, max_depth=7, min_child_weight=5, subsample=0.8 \n"
     ]
    },
    {
     "name": "stderr",
     "output_type": "stream",
     "text": [
      "/Users/miljanstojiljkovic/anaconda3/lib/python3.6/site-packages/sklearn/preprocessing/label.py:151: DeprecationWarning: The truth value of an empty array is ambiguous. Returning False, but in future this will result in an error. Use `array.size > 0` to check that an array is not empty.\n",
      "  if diff:\n",
      "/Users/miljanstojiljkovic/anaconda3/lib/python3.6/site-packages/sklearn/preprocessing/label.py:151: DeprecationWarning: The truth value of an empty array is ambiguous. Returning False, but in future this will result in an error. Use `array.size > 0` to check that an array is not empty.\n",
      "  if diff:\n"
     ]
    },
    {
     "name": "stdout",
     "output_type": "stream",
     "text": [
      "[CV]  colsample_bytree=0.8, gamma=0.5, max_depth=7, min_child_weight=5, subsample=0.8, score=0.9769959404600812, total= 2.5min\n",
      "[CV] colsample_bytree=0.8, gamma=2, max_depth=5, min_child_weight=1, subsample=0.6 \n"
     ]
    },
    {
     "name": "stderr",
     "output_type": "stream",
     "text": [
      "/Users/miljanstojiljkovic/anaconda3/lib/python3.6/site-packages/sklearn/preprocessing/label.py:151: DeprecationWarning: The truth value of an empty array is ambiguous. Returning False, but in future this will result in an error. Use `array.size > 0` to check that an array is not empty.\n",
      "  if diff:\n",
      "/Users/miljanstojiljkovic/anaconda3/lib/python3.6/site-packages/sklearn/preprocessing/label.py:151: DeprecationWarning: The truth value of an empty array is ambiguous. Returning False, but in future this will result in an error. Use `array.size > 0` to check that an array is not empty.\n",
      "  if diff:\n"
     ]
    },
    {
     "name": "stdout",
     "output_type": "stream",
     "text": [
      "[CV]  colsample_bytree=0.8, gamma=0.5, max_depth=7, min_child_weight=5, subsample=0.8, score=0.9864130434782609, total= 2.6min\n",
      "[CV] colsample_bytree=0.8, gamma=2, max_depth=5, min_child_weight=1, subsample=0.6 \n"
     ]
    },
    {
     "name": "stderr",
     "output_type": "stream",
     "text": [
      "/Users/miljanstojiljkovic/anaconda3/lib/python3.6/site-packages/sklearn/preprocessing/label.py:151: DeprecationWarning: The truth value of an empty array is ambiguous. Returning False, but in future this will result in an error. Use `array.size > 0` to check that an array is not empty.\n",
      "  if diff:\n",
      "/Users/miljanstojiljkovic/anaconda3/lib/python3.6/site-packages/sklearn/preprocessing/label.py:151: DeprecationWarning: The truth value of an empty array is ambiguous. Returning False, but in future this will result in an error. Use `array.size > 0` to check that an array is not empty.\n",
      "  if diff:\n"
     ]
    },
    {
     "name": "stdout",
     "output_type": "stream",
     "text": [
      "[CV]  colsample_bytree=0.8, gamma=0.5, max_depth=7, min_child_weight=5, subsample=0.8, score=0.9782016348773842, total= 2.5min\n",
      "[CV] colsample_bytree=0.8, gamma=2, max_depth=5, min_child_weight=1, subsample=0.6 \n"
     ]
    },
    {
     "name": "stderr",
     "output_type": "stream",
     "text": [
      "/Users/miljanstojiljkovic/anaconda3/lib/python3.6/site-packages/sklearn/preprocessing/label.py:151: DeprecationWarning: The truth value of an empty array is ambiguous. Returning False, but in future this will result in an error. Use `array.size > 0` to check that an array is not empty.\n",
      "  if diff:\n",
      "/Users/miljanstojiljkovic/anaconda3/lib/python3.6/site-packages/sklearn/preprocessing/label.py:151: DeprecationWarning: The truth value of an empty array is ambiguous. Returning False, but in future this will result in an error. Use `array.size > 0` to check that an array is not empty.\n",
      "  if diff:\n"
     ]
    },
    {
     "name": "stdout",
     "output_type": "stream",
     "text": [
      "[CV]  colsample_bytree=0.8, gamma=0.5, max_depth=7, min_child_weight=5, subsample=0.8, score=0.989100817438692, total= 2.6min\n",
      "[CV] colsample_bytree=0.8, gamma=2, max_depth=5, min_child_weight=1, subsample=0.6 \n"
     ]
    },
    {
     "name": "stderr",
     "output_type": "stream",
     "text": [
      "[Parallel(n_jobs=-1)]: Done 120 tasks      | elapsed: 70.7min\n",
      "/Users/miljanstojiljkovic/anaconda3/lib/python3.6/site-packages/sklearn/preprocessing/label.py:151: DeprecationWarning: The truth value of an empty array is ambiguous. Returning False, but in future this will result in an error. Use `array.size > 0` to check that an array is not empty.\n",
      "  if diff:\n",
      "/Users/miljanstojiljkovic/anaconda3/lib/python3.6/site-packages/sklearn/preprocessing/label.py:151: DeprecationWarning: The truth value of an empty array is ambiguous. Returning False, but in future this will result in an error. Use `array.size > 0` to check that an array is not empty.\n",
      "  if diff:\n"
     ]
    },
    {
     "name": "stdout",
     "output_type": "stream",
     "text": [
      "[CV]  colsample_bytree=0.8, gamma=2, max_depth=5, min_child_weight=1, subsample=0.6, score=0.986468200270636, total= 2.6min\n",
      "[CV] colsample_bytree=0.8, gamma=2, max_depth=5, min_child_weight=1, subsample=0.6 \n"
     ]
    },
    {
     "name": "stderr",
     "output_type": "stream",
     "text": [
      "/Users/miljanstojiljkovic/anaconda3/lib/python3.6/site-packages/sklearn/preprocessing/label.py:151: DeprecationWarning: The truth value of an empty array is ambiguous. Returning False, but in future this will result in an error. Use `array.size > 0` to check that an array is not empty.\n",
      "  if diff:\n",
      "/Users/miljanstojiljkovic/anaconda3/lib/python3.6/site-packages/sklearn/preprocessing/label.py:151: DeprecationWarning: The truth value of an empty array is ambiguous. Returning False, but in future this will result in an error. Use `array.size > 0` to check that an array is not empty.\n",
      "  if diff:\n"
     ]
    },
    {
     "name": "stdout",
     "output_type": "stream",
     "text": [
      "[CV]  colsample_bytree=0.8, gamma=2, max_depth=5, min_child_weight=1, subsample=0.6, score=0.9769959404600812, total= 2.6min\n",
      "[CV] colsample_bytree=0.8, gamma=2, max_depth=5, min_child_weight=1, subsample=0.8 \n"
     ]
    },
    {
     "name": "stderr",
     "output_type": "stream",
     "text": [
      "/Users/miljanstojiljkovic/anaconda3/lib/python3.6/site-packages/sklearn/preprocessing/label.py:151: DeprecationWarning: The truth value of an empty array is ambiguous. Returning False, but in future this will result in an error. Use `array.size > 0` to check that an array is not empty.\n",
      "  if diff:\n",
      "/Users/miljanstojiljkovic/anaconda3/lib/python3.6/site-packages/sklearn/preprocessing/label.py:151: DeprecationWarning: The truth value of an empty array is ambiguous. Returning False, but in future this will result in an error. Use `array.size > 0` to check that an array is not empty.\n",
      "  if diff:\n"
     ]
    },
    {
     "name": "stdout",
     "output_type": "stream",
     "text": [
      "[CV]  colsample_bytree=0.8, gamma=2, max_depth=5, min_child_weight=1, subsample=0.6, score=0.9877717391304348, total= 2.6min\n",
      "[CV] colsample_bytree=0.8, gamma=2, max_depth=5, min_child_weight=1, subsample=0.8 \n"
     ]
    },
    {
     "name": "stderr",
     "output_type": "stream",
     "text": [
      "/Users/miljanstojiljkovic/anaconda3/lib/python3.6/site-packages/sklearn/preprocessing/label.py:151: DeprecationWarning: The truth value of an empty array is ambiguous. Returning False, but in future this will result in an error. Use `array.size > 0` to check that an array is not empty.\n",
      "  if diff:\n",
      "/Users/miljanstojiljkovic/anaconda3/lib/python3.6/site-packages/sklearn/preprocessing/label.py:151: DeprecationWarning: The truth value of an empty array is ambiguous. Returning False, but in future this will result in an error. Use `array.size > 0` to check that an array is not empty.\n",
      "  if diff:\n"
     ]
    },
    {
     "name": "stdout",
     "output_type": "stream",
     "text": [
      "[CV]  colsample_bytree=0.8, gamma=2, max_depth=5, min_child_weight=1, subsample=0.6, score=0.9768392370572208, total= 2.6min\n",
      "[CV] colsample_bytree=0.8, gamma=2, max_depth=5, min_child_weight=1, subsample=0.8 \n"
     ]
    },
    {
     "name": "stderr",
     "output_type": "stream",
     "text": [
      "/Users/miljanstojiljkovic/anaconda3/lib/python3.6/site-packages/sklearn/preprocessing/label.py:151: DeprecationWarning: The truth value of an empty array is ambiguous. Returning False, but in future this will result in an error. Use `array.size > 0` to check that an array is not empty.\n",
      "  if diff:\n",
      "/Users/miljanstojiljkovic/anaconda3/lib/python3.6/site-packages/sklearn/preprocessing/label.py:151: DeprecationWarning: The truth value of an empty array is ambiguous. Returning False, but in future this will result in an error. Use `array.size > 0` to check that an array is not empty.\n",
      "  if diff:\n"
     ]
    },
    {
     "name": "stdout",
     "output_type": "stream",
     "text": [
      "[CV]  colsample_bytree=0.8, gamma=2, max_depth=5, min_child_weight=1, subsample=0.6, score=0.9904632152588556, total= 2.6min\n",
      "[CV] colsample_bytree=0.8, gamma=2, max_depth=5, min_child_weight=1, subsample=0.8 \n"
     ]
    },
    {
     "name": "stderr",
     "output_type": "stream",
     "text": [
      "/Users/miljanstojiljkovic/anaconda3/lib/python3.6/site-packages/sklearn/preprocessing/label.py:151: DeprecationWarning: The truth value of an empty array is ambiguous. Returning False, but in future this will result in an error. Use `array.size > 0` to check that an array is not empty.\n",
      "  if diff:\n",
      "/Users/miljanstojiljkovic/anaconda3/lib/python3.6/site-packages/sklearn/preprocessing/label.py:151: DeprecationWarning: The truth value of an empty array is ambiguous. Returning False, but in future this will result in an error. Use `array.size > 0` to check that an array is not empty.\n",
      "  if diff:\n"
     ]
    },
    {
     "name": "stdout",
     "output_type": "stream",
     "text": [
      "[CV]  colsample_bytree=0.8, gamma=2, max_depth=5, min_child_weight=1, subsample=0.8, score=0.9851150202976996, total= 2.8min\n",
      "[CV] colsample_bytree=0.8, gamma=2, max_depth=5, min_child_weight=1, subsample=0.8 \n"
     ]
    },
    {
     "name": "stderr",
     "output_type": "stream",
     "text": [
      "/Users/miljanstojiljkovic/anaconda3/lib/python3.6/site-packages/sklearn/preprocessing/label.py:151: DeprecationWarning: The truth value of an empty array is ambiguous. Returning False, but in future this will result in an error. Use `array.size > 0` to check that an array is not empty.\n",
      "  if diff:\n",
      "/Users/miljanstojiljkovic/anaconda3/lib/python3.6/site-packages/sklearn/preprocessing/label.py:151: DeprecationWarning: The truth value of an empty array is ambiguous. Returning False, but in future this will result in an error. Use `array.size > 0` to check that an array is not empty.\n",
      "  if diff:\n"
     ]
    },
    {
     "name": "stdout",
     "output_type": "stream",
     "text": [
      "[CV]  colsample_bytree=0.8, gamma=2, max_depth=5, min_child_weight=1, subsample=0.8, score=0.9756427604871448, total= 2.8min\n",
      "[CV] colsample_bytree=0.8, gamma=2, max_depth=5, min_child_weight=5, subsample=0.6 \n"
     ]
    },
    {
     "name": "stderr",
     "output_type": "stream",
     "text": [
      "/Users/miljanstojiljkovic/anaconda3/lib/python3.6/site-packages/sklearn/preprocessing/label.py:151: DeprecationWarning: The truth value of an empty array is ambiguous. Returning False, but in future this will result in an error. Use `array.size > 0` to check that an array is not empty.\n",
      "  if diff:\n",
      "/Users/miljanstojiljkovic/anaconda3/lib/python3.6/site-packages/sklearn/preprocessing/label.py:151: DeprecationWarning: The truth value of an empty array is ambiguous. Returning False, but in future this will result in an error. Use `array.size > 0` to check that an array is not empty.\n",
      "  if diff:\n"
     ]
    },
    {
     "name": "stdout",
     "output_type": "stream",
     "text": [
      "[CV]  colsample_bytree=0.8, gamma=2, max_depth=5, min_child_weight=1, subsample=0.8, score=0.9877717391304348, total= 2.9min\n",
      "[CV] colsample_bytree=0.8, gamma=2, max_depth=5, min_child_weight=5, subsample=0.6 \n"
     ]
    },
    {
     "name": "stderr",
     "output_type": "stream",
     "text": [
      "/Users/miljanstojiljkovic/anaconda3/lib/python3.6/site-packages/sklearn/preprocessing/label.py:151: DeprecationWarning: The truth value of an empty array is ambiguous. Returning False, but in future this will result in an error. Use `array.size > 0` to check that an array is not empty.\n",
      "  if diff:\n",
      "/Users/miljanstojiljkovic/anaconda3/lib/python3.6/site-packages/sklearn/preprocessing/label.py:151: DeprecationWarning: The truth value of an empty array is ambiguous. Returning False, but in future this will result in an error. Use `array.size > 0` to check that an array is not empty.\n",
      "  if diff:\n"
     ]
    },
    {
     "name": "stdout",
     "output_type": "stream",
     "text": [
      "[CV]  colsample_bytree=0.8, gamma=2, max_depth=5, min_child_weight=5, subsample=0.6, score=0.986468200270636, total= 2.2min\n",
      "[CV] colsample_bytree=0.8, gamma=2, max_depth=5, min_child_weight=5, subsample=0.6 \n"
     ]
    },
    {
     "name": "stderr",
     "output_type": "stream",
     "text": [
      "/Users/miljanstojiljkovic/anaconda3/lib/python3.6/site-packages/sklearn/preprocessing/label.py:151: DeprecationWarning: The truth value of an empty array is ambiguous. Returning False, but in future this will result in an error. Use `array.size > 0` to check that an array is not empty.\n",
      "  if diff:\n",
      "/Users/miljanstojiljkovic/anaconda3/lib/python3.6/site-packages/sklearn/preprocessing/label.py:151: DeprecationWarning: The truth value of an empty array is ambiguous. Returning False, but in future this will result in an error. Use `array.size > 0` to check that an array is not empty.\n",
      "  if diff:\n"
     ]
    },
    {
     "name": "stdout",
     "output_type": "stream",
     "text": [
      "[CV]  colsample_bytree=0.8, gamma=2, max_depth=5, min_child_weight=1, subsample=0.8, score=0.9782016348773842, total= 2.9min\n",
      "[CV] colsample_bytree=0.8, gamma=2, max_depth=5, min_child_weight=5, subsample=0.6 \n"
     ]
    },
    {
     "name": "stderr",
     "output_type": "stream",
     "text": [
      "/Users/miljanstojiljkovic/anaconda3/lib/python3.6/site-packages/sklearn/preprocessing/label.py:151: DeprecationWarning: The truth value of an empty array is ambiguous. Returning False, but in future this will result in an error. Use `array.size > 0` to check that an array is not empty.\n",
      "  if diff:\n",
      "/Users/miljanstojiljkovic/anaconda3/lib/python3.6/site-packages/sklearn/preprocessing/label.py:151: DeprecationWarning: The truth value of an empty array is ambiguous. Returning False, but in future this will result in an error. Use `array.size > 0` to check that an array is not empty.\n",
      "  if diff:\n"
     ]
    },
    {
     "name": "stdout",
     "output_type": "stream",
     "text": [
      "[CV]  colsample_bytree=0.8, gamma=2, max_depth=5, min_child_weight=1, subsample=0.8, score=0.9904632152588556, total= 2.9min\n",
      "[CV] colsample_bytree=0.8, gamma=2, max_depth=5, min_child_weight=5, subsample=0.6 \n"
     ]
    },
    {
     "name": "stderr",
     "output_type": "stream",
     "text": [
      "/Users/miljanstojiljkovic/anaconda3/lib/python3.6/site-packages/sklearn/preprocessing/label.py:151: DeprecationWarning: The truth value of an empty array is ambiguous. Returning False, but in future this will result in an error. Use `array.size > 0` to check that an array is not empty.\n",
      "  if diff:\n",
      "/Users/miljanstojiljkovic/anaconda3/lib/python3.6/site-packages/sklearn/preprocessing/label.py:151: DeprecationWarning: The truth value of an empty array is ambiguous. Returning False, but in future this will result in an error. Use `array.size > 0` to check that an array is not empty.\n",
      "  if diff:\n"
     ]
    },
    {
     "name": "stdout",
     "output_type": "stream",
     "text": [
      "[CV]  colsample_bytree=0.8, gamma=2, max_depth=5, min_child_weight=5, subsample=0.6, score=0.9756427604871448, total= 2.2min\n",
      "[CV] colsample_bytree=0.8, gamma=2, max_depth=5, min_child_weight=5, subsample=0.8 \n"
     ]
    },
    {
     "name": "stderr",
     "output_type": "stream",
     "text": [
      "/Users/miljanstojiljkovic/anaconda3/lib/python3.6/site-packages/sklearn/preprocessing/label.py:151: DeprecationWarning: The truth value of an empty array is ambiguous. Returning False, but in future this will result in an error. Use `array.size > 0` to check that an array is not empty.\n",
      "  if diff:\n",
      "/Users/miljanstojiljkovic/anaconda3/lib/python3.6/site-packages/sklearn/preprocessing/label.py:151: DeprecationWarning: The truth value of an empty array is ambiguous. Returning False, but in future this will result in an error. Use `array.size > 0` to check that an array is not empty.\n",
      "  if diff:\n",
      "/Users/miljanstojiljkovic/anaconda3/lib/python3.6/site-packages/sklearn/preprocessing/label.py:151: DeprecationWarning: The truth value of an empty array is ambiguous. Returning False, but in future this will result in an error. Use `array.size > 0` to check that an array is not empty.\n",
      "  if diff:\n"
     ]
    },
    {
     "name": "stdout",
     "output_type": "stream",
     "text": [
      "[CV]  colsample_bytree=0.8, gamma=2, max_depth=5, min_child_weight=5, subsample=0.6, score=0.9727520435967303, total= 2.2min\n",
      "[CV] colsample_bytree=0.8, gamma=2, max_depth=5, min_child_weight=5, subsample=0.8 \n"
     ]
    },
    {
     "name": "stderr",
     "output_type": "stream",
     "text": [
      "/Users/miljanstojiljkovic/anaconda3/lib/python3.6/site-packages/sklearn/preprocessing/label.py:151: DeprecationWarning: The truth value of an empty array is ambiguous. Returning False, but in future this will result in an error. Use `array.size > 0` to check that an array is not empty.\n",
      "  if diff:\n"
     ]
    },
    {
     "name": "stdout",
     "output_type": "stream",
     "text": [
      "[CV]  colsample_bytree=0.8, gamma=2, max_depth=5, min_child_weight=5, subsample=0.6, score=0.9850543478260869, total= 2.2min\n",
      "[CV] colsample_bytree=0.8, gamma=2, max_depth=5, min_child_weight=5, subsample=0.8 \n"
     ]
    },
    {
     "name": "stderr",
     "output_type": "stream",
     "text": [
      "/Users/miljanstojiljkovic/anaconda3/lib/python3.6/site-packages/sklearn/preprocessing/label.py:151: DeprecationWarning: The truth value of an empty array is ambiguous. Returning False, but in future this will result in an error. Use `array.size > 0` to check that an array is not empty.\n",
      "  if diff:\n",
      "/Users/miljanstojiljkovic/anaconda3/lib/python3.6/site-packages/sklearn/preprocessing/label.py:151: DeprecationWarning: The truth value of an empty array is ambiguous. Returning False, but in future this will result in an error. Use `array.size > 0` to check that an array is not empty.\n",
      "  if diff:\n"
     ]
    },
    {
     "name": "stdout",
     "output_type": "stream",
     "text": [
      "[CV]  colsample_bytree=0.8, gamma=2, max_depth=5, min_child_weight=5, subsample=0.6, score=0.989100817438692, total= 2.2min\n",
      "[CV] colsample_bytree=0.8, gamma=2, max_depth=5, min_child_weight=5, subsample=0.8 \n"
     ]
    },
    {
     "name": "stderr",
     "output_type": "stream",
     "text": [
      "/Users/miljanstojiljkovic/anaconda3/lib/python3.6/site-packages/sklearn/preprocessing/label.py:151: DeprecationWarning: The truth value of an empty array is ambiguous. Returning False, but in future this will result in an error. Use `array.size > 0` to check that an array is not empty.\n",
      "  if diff:\n",
      "/Users/miljanstojiljkovic/anaconda3/lib/python3.6/site-packages/sklearn/preprocessing/label.py:151: DeprecationWarning: The truth value of an empty array is ambiguous. Returning False, but in future this will result in an error. Use `array.size > 0` to check that an array is not empty.\n",
      "  if diff:\n"
     ]
    },
    {
     "name": "stdout",
     "output_type": "stream",
     "text": [
      "[CV]  colsample_bytree=0.8, gamma=2, max_depth=5, min_child_weight=5, subsample=0.8, score=0.9851150202976996, total= 2.4min\n",
      "[CV] colsample_bytree=0.8, gamma=2, max_depth=5, min_child_weight=5, subsample=0.8 \n"
     ]
    },
    {
     "name": "stderr",
     "output_type": "stream",
     "text": [
      "/Users/miljanstojiljkovic/anaconda3/lib/python3.6/site-packages/sklearn/preprocessing/label.py:151: DeprecationWarning: The truth value of an empty array is ambiguous. Returning False, but in future this will result in an error. Use `array.size > 0` to check that an array is not empty.\n",
      "  if diff:\n",
      "/Users/miljanstojiljkovic/anaconda3/lib/python3.6/site-packages/sklearn/preprocessing/label.py:151: DeprecationWarning: The truth value of an empty array is ambiguous. Returning False, but in future this will result in an error. Use `array.size > 0` to check that an array is not empty.\n",
      "  if diff:\n"
     ]
    },
    {
     "name": "stdout",
     "output_type": "stream",
     "text": [
      "[CV]  colsample_bytree=0.8, gamma=2, max_depth=5, min_child_weight=5, subsample=0.8, score=0.9769959404600812, total= 2.4min\n",
      "[CV] colsample_bytree=0.8, gamma=2, max_depth=7, min_child_weight=1, subsample=0.6 \n"
     ]
    },
    {
     "name": "stderr",
     "output_type": "stream",
     "text": [
      "[Parallel(n_jobs=-1)]: Done 137 tasks      | elapsed: 82.6min\n",
      "/Users/miljanstojiljkovic/anaconda3/lib/python3.6/site-packages/sklearn/preprocessing/label.py:151: DeprecationWarning: The truth value of an empty array is ambiguous. Returning False, but in future this will result in an error. Use `array.size > 0` to check that an array is not empty.\n",
      "  if diff:\n",
      "/Users/miljanstojiljkovic/anaconda3/lib/python3.6/site-packages/sklearn/preprocessing/label.py:151: DeprecationWarning: The truth value of an empty array is ambiguous. Returning False, but in future this will result in an error. Use `array.size > 0` to check that an array is not empty.\n",
      "  if diff:\n"
     ]
    },
    {
     "name": "stdout",
     "output_type": "stream",
     "text": [
      "[CV]  colsample_bytree=0.8, gamma=2, max_depth=5, min_child_weight=5, subsample=0.8, score=0.9850543478260869, total= 2.5min\n",
      "[CV] colsample_bytree=0.8, gamma=2, max_depth=7, min_child_weight=1, subsample=0.6 \n"
     ]
    },
    {
     "name": "stderr",
     "output_type": "stream",
     "text": [
      "/Users/miljanstojiljkovic/anaconda3/lib/python3.6/site-packages/sklearn/preprocessing/label.py:151: DeprecationWarning: The truth value of an empty array is ambiguous. Returning False, but in future this will result in an error. Use `array.size > 0` to check that an array is not empty.\n",
      "  if diff:\n",
      "/Users/miljanstojiljkovic/anaconda3/lib/python3.6/site-packages/sklearn/preprocessing/label.py:151: DeprecationWarning: The truth value of an empty array is ambiguous. Returning False, but in future this will result in an error. Use `array.size > 0` to check that an array is not empty.\n",
      "  if diff:\n"
     ]
    },
    {
     "name": "stdout",
     "output_type": "stream",
     "text": [
      "[CV]  colsample_bytree=0.8, gamma=2, max_depth=5, min_child_weight=5, subsample=0.8, score=0.9754768392370572, total= 2.4min\n",
      "[CV] colsample_bytree=0.8, gamma=2, max_depth=7, min_child_weight=1, subsample=0.6 \n"
     ]
    },
    {
     "name": "stderr",
     "output_type": "stream",
     "text": [
      "/Users/miljanstojiljkovic/anaconda3/lib/python3.6/site-packages/sklearn/preprocessing/label.py:151: DeprecationWarning: The truth value of an empty array is ambiguous. Returning False, but in future this will result in an error. Use `array.size > 0` to check that an array is not empty.\n",
      "  if diff:\n",
      "/Users/miljanstojiljkovic/anaconda3/lib/python3.6/site-packages/sklearn/preprocessing/label.py:151: DeprecationWarning: The truth value of an empty array is ambiguous. Returning False, but in future this will result in an error. Use `array.size > 0` to check that an array is not empty.\n",
      "  if diff:\n"
     ]
    },
    {
     "name": "stdout",
     "output_type": "stream",
     "text": [
      "[CV]  colsample_bytree=0.8, gamma=2, max_depth=5, min_child_weight=5, subsample=0.8, score=0.9904632152588556, total= 2.4min\n",
      "[CV] colsample_bytree=0.8, gamma=2, max_depth=7, min_child_weight=1, subsample=0.6 \n"
     ]
    },
    {
     "name": "stderr",
     "output_type": "stream",
     "text": [
      "/Users/miljanstojiljkovic/anaconda3/lib/python3.6/site-packages/sklearn/preprocessing/label.py:151: DeprecationWarning: The truth value of an empty array is ambiguous. Returning False, but in future this will result in an error. Use `array.size > 0` to check that an array is not empty.\n",
      "  if diff:\n",
      "/Users/miljanstojiljkovic/anaconda3/lib/python3.6/site-packages/sklearn/preprocessing/label.py:151: DeprecationWarning: The truth value of an empty array is ambiguous. Returning False, but in future this will result in an error. Use `array.size > 0` to check that an array is not empty.\n",
      "  if diff:\n"
     ]
    },
    {
     "name": "stdout",
     "output_type": "stream",
     "text": [
      "[CV]  colsample_bytree=0.8, gamma=2, max_depth=7, min_child_weight=1, subsample=0.6, score=0.986468200270636, total= 2.9min\n",
      "[CV] colsample_bytree=0.8, gamma=2, max_depth=7, min_child_weight=1, subsample=0.6 \n"
     ]
    },
    {
     "name": "stderr",
     "output_type": "stream",
     "text": [
      "/Users/miljanstojiljkovic/anaconda3/lib/python3.6/site-packages/sklearn/preprocessing/label.py:151: DeprecationWarning: The truth value of an empty array is ambiguous. Returning False, but in future this will result in an error. Use `array.size > 0` to check that an array is not empty.\n",
      "  if diff:\n",
      "/Users/miljanstojiljkovic/anaconda3/lib/python3.6/site-packages/sklearn/preprocessing/label.py:151: DeprecationWarning: The truth value of an empty array is ambiguous. Returning False, but in future this will result in an error. Use `array.size > 0` to check that an array is not empty.\n",
      "  if diff:\n"
     ]
    },
    {
     "name": "stdout",
     "output_type": "stream",
     "text": [
      "[CV]  colsample_bytree=0.8, gamma=2, max_depth=7, min_child_weight=1, subsample=0.6, score=0.9769959404600812, total= 2.9min\n",
      "[CV] colsample_bytree=0.8, gamma=2, max_depth=7, min_child_weight=1, subsample=0.8 \n"
     ]
    },
    {
     "name": "stderr",
     "output_type": "stream",
     "text": [
      "/Users/miljanstojiljkovic/anaconda3/lib/python3.6/site-packages/sklearn/preprocessing/label.py:151: DeprecationWarning: The truth value of an empty array is ambiguous. Returning False, but in future this will result in an error. Use `array.size > 0` to check that an array is not empty.\n",
      "  if diff:\n",
      "/Users/miljanstojiljkovic/anaconda3/lib/python3.6/site-packages/sklearn/preprocessing/label.py:151: DeprecationWarning: The truth value of an empty array is ambiguous. Returning False, but in future this will result in an error. Use `array.size > 0` to check that an array is not empty.\n",
      "  if diff:\n"
     ]
    },
    {
     "name": "stdout",
     "output_type": "stream",
     "text": [
      "[CV]  colsample_bytree=0.8, gamma=2, max_depth=7, min_child_weight=1, subsample=0.6, score=0.9877717391304348, total= 3.0min\n",
      "[CV] colsample_bytree=0.8, gamma=2, max_depth=7, min_child_weight=1, subsample=0.8 \n"
     ]
    },
    {
     "name": "stderr",
     "output_type": "stream",
     "text": [
      "/Users/miljanstojiljkovic/anaconda3/lib/python3.6/site-packages/sklearn/preprocessing/label.py:151: DeprecationWarning: The truth value of an empty array is ambiguous. Returning False, but in future this will result in an error. Use `array.size > 0` to check that an array is not empty.\n",
      "  if diff:\n",
      "/Users/miljanstojiljkovic/anaconda3/lib/python3.6/site-packages/sklearn/preprocessing/label.py:151: DeprecationWarning: The truth value of an empty array is ambiguous. Returning False, but in future this will result in an error. Use `array.size > 0` to check that an array is not empty.\n",
      "  if diff:\n"
     ]
    },
    {
     "name": "stdout",
     "output_type": "stream",
     "text": [
      "[CV]  colsample_bytree=0.8, gamma=2, max_depth=7, min_child_weight=1, subsample=0.6, score=0.9782016348773842, total= 3.0min\n",
      "[CV] colsample_bytree=0.8, gamma=2, max_depth=7, min_child_weight=1, subsample=0.8 \n"
     ]
    },
    {
     "name": "stderr",
     "output_type": "stream",
     "text": [
      "/Users/miljanstojiljkovic/anaconda3/lib/python3.6/site-packages/sklearn/preprocessing/label.py:151: DeprecationWarning: The truth value of an empty array is ambiguous. Returning False, but in future this will result in an error. Use `array.size > 0` to check that an array is not empty.\n",
      "  if diff:\n",
      "/Users/miljanstojiljkovic/anaconda3/lib/python3.6/site-packages/sklearn/preprocessing/label.py:151: DeprecationWarning: The truth value of an empty array is ambiguous. Returning False, but in future this will result in an error. Use `array.size > 0` to check that an array is not empty.\n",
      "  if diff:\n"
     ]
    },
    {
     "name": "stdout",
     "output_type": "stream",
     "text": [
      "[CV]  colsample_bytree=0.8, gamma=2, max_depth=7, min_child_weight=1, subsample=0.6, score=0.9904632152588556, total= 2.9min\n",
      "[CV] colsample_bytree=0.8, gamma=2, max_depth=7, min_child_weight=1, subsample=0.8 \n"
     ]
    },
    {
     "name": "stderr",
     "output_type": "stream",
     "text": [
      "/Users/miljanstojiljkovic/anaconda3/lib/python3.6/site-packages/sklearn/preprocessing/label.py:151: DeprecationWarning: The truth value of an empty array is ambiguous. Returning False, but in future this will result in an error. Use `array.size > 0` to check that an array is not empty.\n",
      "  if diff:\n",
      "/Users/miljanstojiljkovic/anaconda3/lib/python3.6/site-packages/sklearn/preprocessing/label.py:151: DeprecationWarning: The truth value of an empty array is ambiguous. Returning False, but in future this will result in an error. Use `array.size > 0` to check that an array is not empty.\n",
      "  if diff:\n"
     ]
    },
    {
     "name": "stdout",
     "output_type": "stream",
     "text": [
      "[CV]  colsample_bytree=0.8, gamma=2, max_depth=7, min_child_weight=1, subsample=0.8, score=0.9851150202976996, total= 3.2min\n",
      "[CV] colsample_bytree=0.8, gamma=2, max_depth=7, min_child_weight=1, subsample=0.8 \n"
     ]
    },
    {
     "name": "stderr",
     "output_type": "stream",
     "text": [
      "/Users/miljanstojiljkovic/anaconda3/lib/python3.6/site-packages/sklearn/preprocessing/label.py:151: DeprecationWarning: The truth value of an empty array is ambiguous. Returning False, but in future this will result in an error. Use `array.size > 0` to check that an array is not empty.\n",
      "  if diff:\n",
      "/Users/miljanstojiljkovic/anaconda3/lib/python3.6/site-packages/sklearn/preprocessing/label.py:151: DeprecationWarning: The truth value of an empty array is ambiguous. Returning False, but in future this will result in an error. Use `array.size > 0` to check that an array is not empty.\n",
      "  if diff:\n"
     ]
    },
    {
     "name": "stdout",
     "output_type": "stream",
     "text": [
      "[CV]  colsample_bytree=0.8, gamma=2, max_depth=7, min_child_weight=1, subsample=0.8, score=0.9756427604871448, total= 3.2min\n",
      "[CV] colsample_bytree=0.8, gamma=2, max_depth=7, min_child_weight=5, subsample=0.6 \n"
     ]
    },
    {
     "name": "stderr",
     "output_type": "stream",
     "text": [
      "/Users/miljanstojiljkovic/anaconda3/lib/python3.6/site-packages/sklearn/preprocessing/label.py:151: DeprecationWarning: The truth value of an empty array is ambiguous. Returning False, but in future this will result in an error. Use `array.size > 0` to check that an array is not empty.\n",
      "  if diff:\n",
      "/Users/miljanstojiljkovic/anaconda3/lib/python3.6/site-packages/sklearn/preprocessing/label.py:151: DeprecationWarning: The truth value of an empty array is ambiguous. Returning False, but in future this will result in an error. Use `array.size > 0` to check that an array is not empty.\n",
      "  if diff:\n"
     ]
    },
    {
     "name": "stdout",
     "output_type": "stream",
     "text": [
      "[CV]  colsample_bytree=0.8, gamma=2, max_depth=7, min_child_weight=1, subsample=0.8, score=0.9864130434782609, total= 3.3min\n",
      "[CV] colsample_bytree=0.8, gamma=2, max_depth=7, min_child_weight=5, subsample=0.6 \n"
     ]
    },
    {
     "name": "stderr",
     "output_type": "stream",
     "text": [
      "/Users/miljanstojiljkovic/anaconda3/lib/python3.6/site-packages/sklearn/preprocessing/label.py:151: DeprecationWarning: The truth value of an empty array is ambiguous. Returning False, but in future this will result in an error. Use `array.size > 0` to check that an array is not empty.\n",
      "  if diff:\n",
      "/Users/miljanstojiljkovic/anaconda3/lib/python3.6/site-packages/sklearn/preprocessing/label.py:151: DeprecationWarning: The truth value of an empty array is ambiguous. Returning False, but in future this will result in an error. Use `array.size > 0` to check that an array is not empty.\n",
      "  if diff:\n"
     ]
    },
    {
     "name": "stdout",
     "output_type": "stream",
     "text": [
      "[CV]  colsample_bytree=0.8, gamma=2, max_depth=7, min_child_weight=5, subsample=0.6, score=0.9878213802435724, total= 2.3min\n",
      "[CV] colsample_bytree=0.8, gamma=2, max_depth=7, min_child_weight=5, subsample=0.6 \n"
     ]
    },
    {
     "name": "stderr",
     "output_type": "stream",
     "text": [
      "/Users/miljanstojiljkovic/anaconda3/lib/python3.6/site-packages/sklearn/preprocessing/label.py:151: DeprecationWarning: The truth value of an empty array is ambiguous. Returning False, but in future this will result in an error. Use `array.size > 0` to check that an array is not empty.\n",
      "  if diff:\n",
      "/Users/miljanstojiljkovic/anaconda3/lib/python3.6/site-packages/sklearn/preprocessing/label.py:151: DeprecationWarning: The truth value of an empty array is ambiguous. Returning False, but in future this will result in an error. Use `array.size > 0` to check that an array is not empty.\n",
      "  if diff:\n"
     ]
    },
    {
     "name": "stdout",
     "output_type": "stream",
     "text": [
      "[CV]  colsample_bytree=0.8, gamma=2, max_depth=7, min_child_weight=1, subsample=0.8, score=0.9782016348773842, total= 3.3min\n",
      "[CV] colsample_bytree=0.8, gamma=2, max_depth=7, min_child_weight=5, subsample=0.6 \n"
     ]
    },
    {
     "name": "stderr",
     "output_type": "stream",
     "text": [
      "/Users/miljanstojiljkovic/anaconda3/lib/python3.6/site-packages/sklearn/preprocessing/label.py:151: DeprecationWarning: The truth value of an empty array is ambiguous. Returning False, but in future this will result in an error. Use `array.size > 0` to check that an array is not empty.\n",
      "  if diff:\n",
      "/Users/miljanstojiljkovic/anaconda3/lib/python3.6/site-packages/sklearn/preprocessing/label.py:151: DeprecationWarning: The truth value of an empty array is ambiguous. Returning False, but in future this will result in an error. Use `array.size > 0` to check that an array is not empty.\n",
      "  if diff:\n"
     ]
    },
    {
     "name": "stdout",
     "output_type": "stream",
     "text": [
      "[CV]  colsample_bytree=0.8, gamma=2, max_depth=7, min_child_weight=5, subsample=0.6, score=0.9769959404600812, total= 2.3min\n",
      "[CV] colsample_bytree=0.8, gamma=2, max_depth=7, min_child_weight=5, subsample=0.6 \n"
     ]
    },
    {
     "name": "stderr",
     "output_type": "stream",
     "text": [
      "/Users/miljanstojiljkovic/anaconda3/lib/python3.6/site-packages/sklearn/preprocessing/label.py:151: DeprecationWarning: The truth value of an empty array is ambiguous. Returning False, but in future this will result in an error. Use `array.size > 0` to check that an array is not empty.\n",
      "  if diff:\n",
      "/Users/miljanstojiljkovic/anaconda3/lib/python3.6/site-packages/sklearn/preprocessing/label.py:151: DeprecationWarning: The truth value of an empty array is ambiguous. Returning False, but in future this will result in an error. Use `array.size > 0` to check that an array is not empty.\n",
      "  if diff:\n"
     ]
    },
    {
     "name": "stdout",
     "output_type": "stream",
     "text": [
      "[CV]  colsample_bytree=0.8, gamma=2, max_depth=7, min_child_weight=1, subsample=0.8, score=0.9904632152588556, total= 3.3min\n",
      "[CV] colsample_bytree=0.8, gamma=2, max_depth=7, min_child_weight=5, subsample=0.8 \n"
     ]
    },
    {
     "name": "stderr",
     "output_type": "stream",
     "text": [
      "/Users/miljanstojiljkovic/anaconda3/lib/python3.6/site-packages/sklearn/preprocessing/label.py:151: DeprecationWarning: The truth value of an empty array is ambiguous. Returning False, but in future this will result in an error. Use `array.size > 0` to check that an array is not empty.\n",
      "  if diff:\n",
      "/Users/miljanstojiljkovic/anaconda3/lib/python3.6/site-packages/sklearn/preprocessing/label.py:151: DeprecationWarning: The truth value of an empty array is ambiguous. Returning False, but in future this will result in an error. Use `array.size > 0` to check that an array is not empty.\n",
      "  if diff:\n"
     ]
    },
    {
     "name": "stdout",
     "output_type": "stream",
     "text": [
      "[CV]  colsample_bytree=0.8, gamma=2, max_depth=7, min_child_weight=5, subsample=0.6, score=0.9850543478260869, total= 2.4min\n",
      "[CV] colsample_bytree=0.8, gamma=2, max_depth=7, min_child_weight=5, subsample=0.8 \n"
     ]
    },
    {
     "name": "stderr",
     "output_type": "stream",
     "text": [
      "/Users/miljanstojiljkovic/anaconda3/lib/python3.6/site-packages/sklearn/preprocessing/label.py:151: DeprecationWarning: The truth value of an empty array is ambiguous. Returning False, but in future this will result in an error. Use `array.size > 0` to check that an array is not empty.\n",
      "  if diff:\n",
      "/Users/miljanstojiljkovic/anaconda3/lib/python3.6/site-packages/sklearn/preprocessing/label.py:151: DeprecationWarning: The truth value of an empty array is ambiguous. Returning False, but in future this will result in an error. Use `array.size > 0` to check that an array is not empty.\n",
      "  if diff:\n"
     ]
    },
    {
     "name": "stdout",
     "output_type": "stream",
     "text": [
      "[CV]  colsample_bytree=0.8, gamma=2, max_depth=7, min_child_weight=5, subsample=0.6, score=0.9741144414168937, total= 2.4min\n",
      "[CV] colsample_bytree=0.8, gamma=2, max_depth=7, min_child_weight=5, subsample=0.8 \n"
     ]
    },
    {
     "name": "stderr",
     "output_type": "stream",
     "text": [
      "/Users/miljanstojiljkovic/anaconda3/lib/python3.6/site-packages/sklearn/preprocessing/label.py:151: DeprecationWarning: The truth value of an empty array is ambiguous. Returning False, but in future this will result in an error. Use `array.size > 0` to check that an array is not empty.\n",
      "  if diff:\n",
      "/Users/miljanstojiljkovic/anaconda3/lib/python3.6/site-packages/sklearn/preprocessing/label.py:151: DeprecationWarning: The truth value of an empty array is ambiguous. Returning False, but in future this will result in an error. Use `array.size > 0` to check that an array is not empty.\n",
      "  if diff:\n"
     ]
    },
    {
     "name": "stdout",
     "output_type": "stream",
     "text": [
      "[CV]  colsample_bytree=0.8, gamma=2, max_depth=7, min_child_weight=5, subsample=0.6, score=0.989100817438692, total= 2.4min\n",
      "[CV] colsample_bytree=0.8, gamma=2, max_depth=7, min_child_weight=5, subsample=0.8 \n"
     ]
    },
    {
     "name": "stderr",
     "output_type": "stream",
     "text": [
      "/Users/miljanstojiljkovic/anaconda3/lib/python3.6/site-packages/sklearn/preprocessing/label.py:151: DeprecationWarning: The truth value of an empty array is ambiguous. Returning False, but in future this will result in an error. Use `array.size > 0` to check that an array is not empty.\n",
      "  if diff:\n",
      "/Users/miljanstojiljkovic/anaconda3/lib/python3.6/site-packages/sklearn/preprocessing/label.py:151: DeprecationWarning: The truth value of an empty array is ambiguous. Returning False, but in future this will result in an error. Use `array.size > 0` to check that an array is not empty.\n",
      "  if diff:\n"
     ]
    },
    {
     "name": "stdout",
     "output_type": "stream",
     "text": [
      "[CV]  colsample_bytree=0.8, gamma=2, max_depth=7, min_child_weight=5, subsample=0.8, score=0.9837618403247632, total= 2.6min\n",
      "[CV] colsample_bytree=0.8, gamma=2, max_depth=7, min_child_weight=5, subsample=0.8 \n"
     ]
    },
    {
     "name": "stderr",
     "output_type": "stream",
     "text": [
      "/Users/miljanstojiljkovic/anaconda3/lib/python3.6/site-packages/sklearn/preprocessing/label.py:151: DeprecationWarning: The truth value of an empty array is ambiguous. Returning False, but in future this will result in an error. Use `array.size > 0` to check that an array is not empty.\n",
      "  if diff:\n",
      "/Users/miljanstojiljkovic/anaconda3/lib/python3.6/site-packages/sklearn/preprocessing/label.py:151: DeprecationWarning: The truth value of an empty array is ambiguous. Returning False, but in future this will result in an error. Use `array.size > 0` to check that an array is not empty.\n",
      "  if diff:\n"
     ]
    },
    {
     "name": "stdout",
     "output_type": "stream",
     "text": [
      "[CV]  colsample_bytree=0.8, gamma=2, max_depth=7, min_child_weight=5, subsample=0.8, score=0.9769959404600812, total= 2.6min\n"
     ]
    },
    {
     "name": "stderr",
     "output_type": "stream",
     "text": [
      "/Users/miljanstojiljkovic/anaconda3/lib/python3.6/site-packages/sklearn/preprocessing/label.py:151: DeprecationWarning: The truth value of an empty array is ambiguous. Returning False, but in future this will result in an error. Use `array.size > 0` to check that an array is not empty.\n",
      "  if diff:\n",
      "/Users/miljanstojiljkovic/anaconda3/lib/python3.6/site-packages/sklearn/preprocessing/label.py:151: DeprecationWarning: The truth value of an empty array is ambiguous. Returning False, but in future this will result in an error. Use `array.size > 0` to check that an array is not empty.\n",
      "  if diff:\n"
     ]
    },
    {
     "name": "stdout",
     "output_type": "stream",
     "text": [
      "[CV]  colsample_bytree=0.8, gamma=2, max_depth=7, min_child_weight=5, subsample=0.8, score=0.9850543478260869, total= 2.6min\n"
     ]
    },
    {
     "name": "stderr",
     "output_type": "stream",
     "text": [
      "/Users/miljanstojiljkovic/anaconda3/lib/python3.6/site-packages/sklearn/preprocessing/label.py:151: DeprecationWarning: The truth value of an empty array is ambiguous. Returning False, but in future this will result in an error. Use `array.size > 0` to check that an array is not empty.\n",
      "  if diff:\n",
      "/Users/miljanstojiljkovic/anaconda3/lib/python3.6/site-packages/sklearn/preprocessing/label.py:151: DeprecationWarning: The truth value of an empty array is ambiguous. Returning False, but in future this will result in an error. Use `array.size > 0` to check that an array is not empty.\n",
      "  if diff:\n"
     ]
    },
    {
     "name": "stdout",
     "output_type": "stream",
     "text": [
      "[CV]  colsample_bytree=0.8, gamma=2, max_depth=7, min_child_weight=5, subsample=0.8, score=0.9768392370572208, total= 2.5min\n"
     ]
    },
    {
     "name": "stderr",
     "output_type": "stream",
     "text": [
      "/Users/miljanstojiljkovic/anaconda3/lib/python3.6/site-packages/sklearn/preprocessing/label.py:151: DeprecationWarning: The truth value of an empty array is ambiguous. Returning False, but in future this will result in an error. Use `array.size > 0` to check that an array is not empty.\n",
      "  if diff:\n",
      "/Users/miljanstojiljkovic/anaconda3/lib/python3.6/site-packages/sklearn/preprocessing/label.py:151: DeprecationWarning: The truth value of an empty array is ambiguous. Returning False, but in future this will result in an error. Use `array.size > 0` to check that an array is not empty.\n",
      "  if diff:\n"
     ]
    },
    {
     "name": "stdout",
     "output_type": "stream",
     "text": [
      "[CV]  colsample_bytree=0.8, gamma=2, max_depth=7, min_child_weight=5, subsample=0.8, score=0.9904632152588556, total= 2.4min\n"
     ]
    },
    {
     "name": "stderr",
     "output_type": "stream",
     "text": [
      "[Parallel(n_jobs=-1)]: Done 160 out of 160 | elapsed: 97.2min finished\n"
     ]
    },
    {
     "data": {
      "text/plain": [
       "GridSearchCV(cv=5, error_score='raise',\n",
       "       estimator=XGBClassifier(base_score=0.5, booster='gbtree', colsample_bylevel=1,\n",
       "       colsample_bytree=1, gamma=0, learning_rate=0.01, max_delta_step=0,\n",
       "       max_depth=3, min_child_weight=1, missing=None, n_estimators=1000,\n",
       "       n_jobs=1, nthread=None, objective='multi:softprob', random_state=0,\n",
       "       reg_alpha=0, reg_lambda=1, scale_pos_weight=1, seed=None,\n",
       "       silent=True, subsample=1),\n",
       "       fit_params=None, iid=True, n_jobs=-1,\n",
       "       param_grid={'min_child_weight': [1, 5], 'max_depth': [5, 7], 'gamma': [0.5, 2], 'subsample': [0.6, 0.8], 'colsample_bytree': [0.6, 0.8]},\n",
       "       pre_dispatch='2*n_jobs', refit=True, return_train_score='warn',\n",
       "       scoring='accuracy', verbose=10)"
      ]
     },
     "execution_count": 74,
     "metadata": {},
     "output_type": "execute_result"
    }
   ],
   "source": [
    "CV_xgb_random = model_selection.GridSearchCV(estimator=xgb_random, param_grid=parameters, cv= 5,\n",
    "                                             verbose=10, n_jobs=-1, scoring='accuracy')\n",
    "CV_xgb_random.fit(X_train_random, y_train_random)\n",
    "\n",
    "CV_xgb_biased = model_selection.GridSearchCV(estimator=xgb_biased, param_grid=parameters, cv= 5,\n",
    "                                             verbose=10, n_jobs=-1, scoring='accuracy')\n",
    "CV_xgb_biased.fit(X_train_biased, y_train_biased)"
   ]
  },
  {
   "cell_type": "code",
   "execution_count": 77,
   "metadata": {},
   "outputs": [
    {
     "data": {
      "text/plain": [
       "{'colsample_bytree': 0.6,\n",
       " 'gamma': 0.5,\n",
       " 'max_depth': 7,\n",
       " 'min_child_weight': 1,\n",
       " 'subsample': 0.8}"
      ]
     },
     "execution_count": 77,
     "metadata": {},
     "output_type": "execute_result"
    }
   ],
   "source": [
    "CV_xgb_random.best_params_"
   ]
  },
  {
   "cell_type": "code",
   "execution_count": 78,
   "metadata": {},
   "outputs": [
    {
     "data": {
      "text/plain": [
       "{'colsample_bytree': 0.6,\n",
       " 'gamma': 0.5,\n",
       " 'max_depth': 7,\n",
       " 'min_child_weight': 1,\n",
       " 'subsample': 0.6}"
      ]
     },
     "execution_count": 78,
     "metadata": {},
     "output_type": "execute_result"
    }
   ],
   "source": [
    "CV_xgb_biased.best_params_"
   ]
  },
  {
   "cell_type": "code",
   "execution_count": 76,
   "metadata": {},
   "outputs": [
    {
     "name": "stderr",
     "output_type": "stream",
     "text": [
      "/Users/miljanstojiljkovic/anaconda3/lib/python3.6/site-packages/sklearn/preprocessing/label.py:151: DeprecationWarning: The truth value of an empty array is ambiguous. Returning False, but in future this will result in an error. Use `array.size > 0` to check that an array is not empty.\n",
      "  if diff:\n"
     ]
    },
    {
     "name": "stdout",
     "output_type": "stream",
     "text": [
      "Accuracy for XGBoost with random sampling on CV data:  98.84393063583815\n",
      "Accuracy for XGBoost with biased sampling on CV data:  72.16174183514774\n"
     ]
    },
    {
     "name": "stderr",
     "output_type": "stream",
     "text": [
      "/Users/miljanstojiljkovic/anaconda3/lib/python3.6/site-packages/sklearn/preprocessing/label.py:151: DeprecationWarning: The truth value of an empty array is ambiguous. Returning False, but in future this will result in an error. Use `array.size > 0` to check that an array is not empty.\n",
      "  if diff:\n"
     ]
    }
   ],
   "source": [
    "print(\"Accuracy for XGBoost with random sampling on CV data: \", (CV_xgb_random.score(X_test_random, y_test_random))*100)\n",
    "print(\"Accuracy for XGBoost with biased sampling on CV data: \", (CV_xgb_biased.score(X_test_biased, y_test_biased))*100)"
   ]
  },
  {
   "cell_type": "code",
   "execution_count": 82,
   "metadata": {},
   "outputs": [],
   "source": [
    "from sklearn.metrics import confusion_matrix"
   ]
  },
  {
   "cell_type": "code",
   "execution_count": 83,
   "metadata": {},
   "outputs": [
    {
     "name": "stderr",
     "output_type": "stream",
     "text": [
      "/Users/miljanstojiljkovic/anaconda3/lib/python3.6/site-packages/sklearn/preprocessing/label.py:151: DeprecationWarning: The truth value of an empty array is ambiguous. Returning False, but in future this will result in an error. Use `array.size > 0` to check that an array is not empty.\n",
      "  if diff:\n"
     ]
    }
   ],
   "source": [
    "y_pred_random = CV_xgb_random.predict(X_test_random)"
   ]
  },
  {
   "cell_type": "code",
   "execution_count": 104,
   "metadata": {},
   "outputs": [
    {
     "data": {
      "image/png": "[encoded data removed]",
      "text/plain": [
       "<matplotlib.figure.Figure at 0x112488f60>"
      ]
     },
     "metadata": {},
     "output_type": "display_data"
    }
   ],
   "source": [
    "class_names = [\"Cluster {}\".format(x) for x in range(8)]\n",
    "\n",
    "    \n",
    "# Compute confusion matrix\n",
    "cnf_matrix = confusion_matrix(y_test_random, y_pred_random)\n",
    "np.set_printoptions(precision=2)\n",
    "\n",
    "# Plot non-normalized confusion matrix\n",
    "plt.figure(figsize=(10,7))\n",
    "plot_confusion_matrix(cnf_matrix, classes=class_names,\n",
    "                      title='Confusion matrix with XGBoost')"
   ]
  },
  {
   "cell_type": "code",
   "execution_count": 99,
   "metadata": {
    "scrolled": true
   },
   "outputs": [
    {
     "data": {
      "text/plain": [
       "array([[188,   0,   0,   0,   0,   0,   0],\n",
       "       [  4, 294,   0,   0,   2,   0,   0],\n",
       "       [  0,   0,   0,   0,   0,   0,   1],\n",
       "       [  0,   0,   0,  63,   0,   0,   0],\n",
       "       [  1,   1,   0,   0, 297,   0,   0],\n",
       "       [  0,   1,   0,   0,   0,  10,   0],\n",
       "       [  0,   0,   0,   0,   0,   0,   3]])"
      ]
     },
     "execution_count": 99,
     "metadata": {},
     "output_type": "execute_result"
    }
   ],
   "source": [
    "confusion_matrix(y_test_random, y_pred_random)"
   ]
  },
  {
   "cell_type": "markdown",
   "metadata": {},
   "source": [
    "We don't have all of the clusters represented in the test sample so I'll try to add it manually."
   ]
  },
  {
   "cell_type": "markdown",
   "metadata": {},
   "source": [
    "## Resampling"
   ]
  },
  {
   "cell_type": "code",
   "execution_count": 108,
   "metadata": {},
   "outputs": [
    {
     "name": "stdout",
     "output_type": "stream",
     "text": [
      "944 1544 3 296 4 1453 62 19\n"
     ]
    }
   ],
   "source": [
    "print(cluster0.shape[0], cluster1.shape[0], cluster2.shape[0], cluster3.shape[0], \n",
    "      cluster4.shape[0], cluster5.shape[0], cluster6.shape[0], cluster7.shape[0])"
   ]
  },
  {
   "cell_type": "code",
   "execution_count": 109,
   "metadata": {},
   "outputs": [],
   "source": [
    "frames = [cluster0.sample(frac=0.8, random_state=0), cluster1.sample(frac=0.8, random_state=0),\n",
    "          cluster2.sample(n=2, random_state=0),cluster3.sample(frac=0.8, random_state=0),\n",
    "          cluster4.sample(n=2, random_state=0), cluster5.sample(frac=0.8, random_state=0),\n",
    "          cluster6.sample(frac=0.8, random_state=0), cluster7.sample(frac=0.8, random_state=0)]\n",
    "\n",
    "\n",
    "data_train_biased = pd.concat(frames)\n",
    "data_test_biased = data.drop(data_train_biased.index, axis = 0)"
   ]
  },
  {
   "cell_type": "code",
   "execution_count": 110,
   "metadata": {},
   "outputs": [],
   "source": [
    "X_train_biased = data_train_biased.drop(columns=['CustomerID', 'cluster'])\n",
    "X_test_biased = data_test_biased.drop(columns=['CustomerID', 'cluster'])\n",
    "y_train_biased = data_train_biased['cluster'].values\n",
    "y_test_biased = data_test_biased['cluster'].values"
   ]
  },
  {
   "cell_type": "code",
   "execution_count": 111,
   "metadata": {},
   "outputs": [],
   "source": [
    "scaler = StandardScaler() # create scaler object\n",
    "\n",
    "X_train_biased = scaler.fit_transform(X_train_biased)\n",
    "X_test_biased = scaler.fit_transform(X_test_biased)"
   ]
  },
  {
   "cell_type": "code",
   "execution_count": 135,
   "metadata": {},
   "outputs": [],
   "source": [
    "with open('scaler.pickle', 'wb') as g:\n",
    "    pickle.dump(scaler, g)"
   ]
  },
  {
   "cell_type": "markdown",
   "metadata": {},
   "source": [
    "## Random Forest"
   ]
  },
  {
   "cell_type": "code",
   "execution_count": 112,
   "metadata": {},
   "outputs": [],
   "source": [
    "rfc_biased=RandomForestClassifier(random_state=0, n_estimators = 1000)"
   ]
  },
  {
   "cell_type": "code",
   "execution_count": 113,
   "metadata": {},
   "outputs": [],
   "source": [
    "param_grid = { \n",
    "    'n_estimators' : [100, 500, 1000],\n",
    "    'max_features' : ['auto', 'sqrt', 'log2'],\n",
    "    'max_depth' : [4, 6],\n",
    "    'criterion' :['gini', 'entropy']\n",
    "}"
   ]
  },
  {
   "cell_type": "code",
   "execution_count": 114,
   "metadata": {},
   "outputs": [
    {
     "name": "stdout",
     "output_type": "stream",
     "text": [
      "Fitting 5 folds for each of 36 candidates, totalling 180 fits\n"
     ]
    },
    {
     "name": "stderr",
     "output_type": "stream",
     "text": [
      "/Users/miljanstojiljkovic/anaconda3/lib/python3.6/site-packages/sklearn/model_selection/_split.py:605: Warning: The least populated class in y has only 2 members, which is too few. The minimum number of members in any class cannot be less than n_splits=5.\n",
      "  % (min_groups, self.n_splits)), Warning)\n"
     ]
    },
    {
     "name": "stdout",
     "output_type": "stream",
     "text": [
      "[CV] criterion=gini, max_depth=4, max_features=auto, n_estimators=100 \n",
      "[CV] criterion=gini, max_depth=4, max_features=auto, n_estimators=100 \n",
      "[CV] criterion=gini, max_depth=4, max_features=auto, n_estimators=100 \n",
      "[CV] criterion=gini, max_depth=4, max_features=auto, n_estimators=100 \n",
      "[CV]  criterion=gini, max_depth=4, max_features=auto, n_estimators=100, score=0.8681159420289855, total=   0.8s\n",
      "[CV]  criterion=gini, max_depth=4, max_features=auto, n_estimators=100, score=0.8804034582132565, total=   0.9s\n",
      "[CV] criterion=gini, max_depth=4, max_features=auto, n_estimators=100 \n",
      "[CV] criterion=gini, max_depth=4, max_features=auto, n_estimators=500 \n",
      "[CV]  criterion=gini, max_depth=4, max_features=auto, n_estimators=100, score=0.8768115942028986, total=   0.9s\n",
      "[CV] criterion=gini, max_depth=4, max_features=auto, n_estimators=500 \n",
      "[CV]  criterion=gini, max_depth=4, max_features=auto, n_estimators=100, score=0.877521613832853, total=   1.0s\n",
      "[CV] criterion=gini, max_depth=4, max_features=auto, n_estimators=500 \n",
      "[CV]  criterion=gini, max_depth=4, max_features=auto, n_estimators=100, score=0.8623188405797102, total=   0.8s\n",
      "[CV] criterion=gini, max_depth=4, max_features=auto, n_estimators=500 \n"
     ]
    },
    {
     "name": "stderr",
     "output_type": "stream",
     "text": [
      "[Parallel(n_jobs=-1)]: Done   5 tasks      | elapsed:    1.9s\n"
     ]
    },
    {
     "name": "stdout",
     "output_type": "stream",
     "text": [
      "[CV]  criterion=gini, max_depth=4, max_features=auto, n_estimators=500, score=0.8659942363112392, total=   4.1s\n",
      "[CV] criterion=gini, max_depth=4, max_features=auto, n_estimators=500 \n",
      "[CV]  criterion=gini, max_depth=4, max_features=auto, n_estimators=500, score=0.8695652173913043, total=   4.0s\n",
      "[CV] criterion=gini, max_depth=4, max_features=auto, n_estimators=1000 \n",
      "[CV]  criterion=gini, max_depth=4, max_features=auto, n_estimators=500, score=0.8760806916426513, total=   4.3s\n",
      "[CV] criterion=gini, max_depth=4, max_features=auto, n_estimators=1000 \n",
      "[CV]  criterion=gini, max_depth=4, max_features=auto, n_estimators=500, score=0.863768115942029, total=   4.3s\n",
      "[CV] criterion=gini, max_depth=4, max_features=auto, n_estimators=1000 \n",
      "[CV]  criterion=gini, max_depth=4, max_features=auto, n_estimators=500, score=0.8420289855072464, total=   3.5s\n",
      "[CV] criterion=gini, max_depth=4, max_features=auto, n_estimators=1000 \n"
     ]
    },
    {
     "name": "stderr",
     "output_type": "stream",
     "text": [
      "[Parallel(n_jobs=-1)]: Done  10 tasks      | elapsed:    9.5s\n"
     ]
    },
    {
     "name": "stdout",
     "output_type": "stream",
     "text": [
      "[CV]  criterion=gini, max_depth=4, max_features=auto, n_estimators=1000, score=0.8804034582132565, total=   7.0s\n",
      "[CV] criterion=gini, max_depth=4, max_features=auto, n_estimators=1000 \n",
      "[CV]  criterion=gini, max_depth=4, max_features=auto, n_estimators=1000, score=0.8659942363112392, total=   7.0s\n",
      "[CV] criterion=gini, max_depth=4, max_features=sqrt, n_estimators=100 \n",
      "[CV]  criterion=gini, max_depth=4, max_features=auto, n_estimators=1000, score=0.8666666666666667, total=   7.1s\n",
      "[CV] criterion=gini, max_depth=4, max_features=sqrt, n_estimators=100 \n",
      "[CV]  criterion=gini, max_depth=4, max_features=sqrt, n_estimators=100, score=0.877521613832853, total=   0.8s\n",
      "[CV] criterion=gini, max_depth=4, max_features=sqrt, n_estimators=100 \n",
      "[CV]  criterion=gini, max_depth=4, max_features=sqrt, n_estimators=100, score=0.8804034582132565, total=   0.8s\n",
      "[CV] criterion=gini, max_depth=4, max_features=sqrt, n_estimators=100 \n",
      "[CV]  criterion=gini, max_depth=4, max_features=sqrt, n_estimators=100, score=0.8768115942028986, total=   0.7s\n",
      "[CV] criterion=gini, max_depth=4, max_features=sqrt, n_estimators=100 \n",
      "[CV]  criterion=gini, max_depth=4, max_features=sqrt, n_estimators=100, score=0.8681159420289855, total=   0.8s\n",
      "[CV] criterion=gini, max_depth=4, max_features=sqrt, n_estimators=500 \n",
      "[CV]  criterion=gini, max_depth=4, max_features=sqrt, n_estimators=100, score=0.8623188405797102, total=   0.7s\n",
      "[CV] criterion=gini, max_depth=4, max_features=sqrt, n_estimators=500 \n"
     ]
    },
    {
     "name": "stderr",
     "output_type": "stream",
     "text": [
      "[Parallel(n_jobs=-1)]: Done  17 tasks      | elapsed:   16.0s\n"
     ]
    },
    {
     "name": "stdout",
     "output_type": "stream",
     "text": [
      "[CV]  criterion=gini, max_depth=4, max_features=auto, n_estimators=1000, score=0.8594202898550725, total=   7.4s\n",
      "[CV] criterion=gini, max_depth=4, max_features=sqrt, n_estimators=500 \n",
      "[CV]  criterion=gini, max_depth=4, max_features=sqrt, n_estimators=500, score=0.8760806916426513, total=   3.6s\n",
      "[CV] criterion=gini, max_depth=4, max_features=sqrt, n_estimators=500 \n",
      "[CV]  criterion=gini, max_depth=4, max_features=sqrt, n_estimators=500, score=0.8659942363112392, total=   3.5s\n",
      "[CV] criterion=gini, max_depth=4, max_features=sqrt, n_estimators=500 \n",
      "[CV]  criterion=gini, max_depth=4, max_features=auto, n_estimators=1000, score=0.8333333333333334, total=   7.3s\n",
      "[CV] criterion=gini, max_depth=4, max_features=sqrt, n_estimators=1000 \n",
      "[CV]  criterion=gini, max_depth=4, max_features=sqrt, n_estimators=500, score=0.8695652173913043, total=   3.5s\n",
      "[CV] criterion=gini, max_depth=4, max_features=sqrt, n_estimators=1000 \n",
      "[CV]  criterion=gini, max_depth=4, max_features=sqrt, n_estimators=500, score=0.863768115942029, total=   4.5s\n",
      "[CV] criterion=gini, max_depth=4, max_features=sqrt, n_estimators=1000 \n",
      "[CV]  criterion=gini, max_depth=4, max_features=sqrt, n_estimators=500, score=0.8420289855072464, total=   4.4s\n",
      "[CV] criterion=gini, max_depth=4, max_features=sqrt, n_estimators=1000 \n"
     ]
    },
    {
     "name": "stderr",
     "output_type": "stream",
     "text": [
      "[Parallel(n_jobs=-1)]: Done  24 tasks      | elapsed:   24.8s\n"
     ]
    },
    {
     "name": "stdout",
     "output_type": "stream",
     "text": [
      "[CV]  criterion=gini, max_depth=4, max_features=sqrt, n_estimators=1000, score=0.8804034582132565, total=  11.8s\n",
      "[CV] criterion=gini, max_depth=4, max_features=sqrt, n_estimators=1000 \n",
      "[CV]  criterion=gini, max_depth=4, max_features=sqrt, n_estimators=1000, score=0.8659942363112392, total=  11.8s\n",
      "[CV] criterion=gini, max_depth=4, max_features=log2, n_estimators=100 \n",
      "[CV]  criterion=gini, max_depth=4, max_features=log2, n_estimators=100, score=0.8040345821325648, total=   0.8s\n",
      "[CV] criterion=gini, max_depth=4, max_features=log2, n_estimators=100 \n",
      "[CV]  criterion=gini, max_depth=4, max_features=log2, n_estimators=100, score=0.80835734870317, total=   0.6s\n",
      "[CV] criterion=gini, max_depth=4, max_features=log2, n_estimators=100 \n",
      "[CV]  criterion=gini, max_depth=4, max_features=log2, n_estimators=100, score=0.808695652173913, total=   0.6s\n",
      "[CV] criterion=gini, max_depth=4, max_features=log2, n_estimators=100 \n",
      "[CV]  criterion=gini, max_depth=4, max_features=sqrt, n_estimators=1000, score=0.8666666666666667, total=  11.9s\n",
      "[CV] criterion=gini, max_depth=4, max_features=log2, n_estimators=100 \n",
      "[CV]  criterion=gini, max_depth=4, max_features=sqrt, n_estimators=1000, score=0.8594202898550725, total=  11.8s\n",
      "[CV] criterion=gini, max_depth=4, max_features=log2, n_estimators=500 \n",
      "[CV]  criterion=gini, max_depth=4, max_features=log2, n_estimators=100, score=0.8101449275362319, total=   0.8s\n",
      "[CV] criterion=gini, max_depth=4, max_features=log2, n_estimators=500 \n"
     ]
    },
    {
     "name": "stderr",
     "output_type": "stream",
     "text": [
      "[Parallel(n_jobs=-1)]: Done  33 tasks      | elapsed:   37.7s\n"
     ]
    },
    {
     "name": "stdout",
     "output_type": "stream",
     "text": [
      "[CV]  criterion=gini, max_depth=4, max_features=log2, n_estimators=100, score=0.7913043478260869, total=   0.9s\n",
      "[CV] criterion=gini, max_depth=4, max_features=log2, n_estimators=500 \n",
      "[CV]  criterion=gini, max_depth=4, max_features=log2, n_estimators=500, score=0.8155619596541787, total=   3.5s\n",
      "[CV] criterion=gini, max_depth=4, max_features=log2, n_estimators=500 \n",
      "[CV]  criterion=gini, max_depth=4, max_features=log2, n_estimators=500, score=0.8184438040345822, total=   3.7s\n",
      "[CV] criterion=gini, max_depth=4, max_features=log2, n_estimators=500 \n",
      "[CV]  criterion=gini, max_depth=4, max_features=log2, n_estimators=500, score=0.8159420289855073, total=   3.4s\n",
      "[CV] criterion=gini, max_depth=4, max_features=log2, n_estimators=1000 \n",
      "[CV]  criterion=gini, max_depth=4, max_features=sqrt, n_estimators=1000, score=0.8333333333333334, total=   9.1s\n",
      "[CV] criterion=gini, max_depth=4, max_features=log2, n_estimators=1000 \n",
      "[CV]  criterion=gini, max_depth=4, max_features=log2, n_estimators=500, score=0.8144927536231884, total=   3.3s\n",
      "[CV] criterion=gini, max_depth=4, max_features=log2, n_estimators=1000 \n",
      "[CV]  criterion=gini, max_depth=4, max_features=log2, n_estimators=500, score=0.7985507246376812, total=   3.3s\n",
      "[CV] criterion=gini, max_depth=4, max_features=log2, n_estimators=1000 \n",
      "[CV]  criterion=gini, max_depth=4, max_features=log2, n_estimators=1000, score=0.8170028818443804, total=   6.4s\n",
      "[CV] criterion=gini, max_depth=4, max_features=log2, n_estimators=1000 \n",
      "[CV]  criterion=gini, max_depth=4, max_features=log2, n_estimators=1000, score=0.8213256484149856, total=   6.6s\n",
      "[CV] criterion=gini, max_depth=6, max_features=auto, n_estimators=100 \n"
     ]
    },
    {
     "name": "stderr",
     "output_type": "stream",
     "text": [
      "[Parallel(n_jobs=-1)]: Done  42 tasks      | elapsed:   51.7s\n"
     ]
    },
    {
     "name": "stdout",
     "output_type": "stream",
     "text": [
      "[CV]  criterion=gini, max_depth=4, max_features=log2, n_estimators=1000, score=0.8144927536231884, total=   7.0s\n",
      "[CV] criterion=gini, max_depth=6, max_features=auto, n_estimators=100 \n",
      "[CV]  criterion=gini, max_depth=6, max_features=auto, n_estimators=100, score=0.9236311239193083, total=   1.3s\n",
      "[CV] criterion=gini, max_depth=6, max_features=auto, n_estimators=100 \n",
      "[CV]  criterion=gini, max_depth=4, max_features=log2, n_estimators=1000, score=0.8173913043478261, total=   6.9s\n",
      "[CV] criterion=gini, max_depth=6, max_features=auto, n_estimators=100 \n",
      "[CV]  criterion=gini, max_depth=6, max_features=auto, n_estimators=100, score=0.9135446685878963, total=   1.2s\n",
      "[CV] criterion=gini, max_depth=6, max_features=auto, n_estimators=100 \n",
      "[CV]  criterion=gini, max_depth=6, max_features=auto, n_estimators=100, score=0.927536231884058, total=   1.2s\n",
      "[CV] criterion=gini, max_depth=6, max_features=auto, n_estimators=500 \n",
      "[CV]  criterion=gini, max_depth=6, max_features=auto, n_estimators=100, score=0.908695652173913, total=   1.2s\n",
      "[CV] criterion=gini, max_depth=6, max_features=auto, n_estimators=500 \n",
      "[CV]  criterion=gini, max_depth=6, max_features=auto, n_estimators=100, score=0.9115942028985508, total=   1.1s\n",
      "[CV] criterion=gini, max_depth=6, max_features=auto, n_estimators=500 \n",
      "[CV]  criterion=gini, max_depth=4, max_features=log2, n_estimators=1000, score=0.8, total=   6.9s\n",
      "[CV] criterion=gini, max_depth=6, max_features=auto, n_estimators=500 \n",
      "[CV]  criterion=gini, max_depth=6, max_features=auto, n_estimators=500, score=0.9279538904899135, total=   7.1s\n",
      "[CV] criterion=gini, max_depth=6, max_features=auto, n_estimators=500 \n",
      "[CV]  criterion=gini, max_depth=6, max_features=auto, n_estimators=500, score=0.9293948126801153, total=   7.1s\n",
      "[CV] criterion=gini, max_depth=6, max_features=auto, n_estimators=1000 \n",
      "[CV]  criterion=gini, max_depth=6, max_features=auto, n_estimators=500, score=0.9173913043478261, total=   7.3s\n",
      "[CV] criterion=gini, max_depth=6, max_features=auto, n_estimators=1000 \n"
     ]
    },
    {
     "name": "stderr",
     "output_type": "stream",
     "text": [
      "[Parallel(n_jobs=-1)]: Done  53 tasks      | elapsed:  1.1min\n"
     ]
    },
    {
     "name": "stdout",
     "output_type": "stream",
     "text": [
      "[CV]  criterion=gini, max_depth=6, max_features=auto, n_estimators=500, score=0.9188405797101449, total=   7.9s\n",
      "[CV] criterion=gini, max_depth=6, max_features=auto, n_estimators=1000 \n",
      "[CV]  criterion=gini, max_depth=6, max_features=auto, n_estimators=500, score=0.9159420289855073, total=   7.4s\n",
      "[CV] criterion=gini, max_depth=6, max_features=auto, n_estimators=1000 \n",
      "[CV]  criterion=gini, max_depth=6, max_features=auto, n_estimators=1000, score=0.9322766570605188, total=  13.6s\n",
      "[CV] criterion=gini, max_depth=6, max_features=auto, n_estimators=1000 \n",
      "[CV]  criterion=gini, max_depth=6, max_features=auto, n_estimators=1000, score=0.9394812680115274, total=  13.1s\n",
      "[CV] criterion=gini, max_depth=6, max_features=sqrt, n_estimators=100 \n",
      "[CV]  criterion=gini, max_depth=6, max_features=sqrt, n_estimators=100, score=0.9236311239193083, total=   1.1s\n",
      "[CV] criterion=gini, max_depth=6, max_features=sqrt, n_estimators=100 \n",
      "[CV]  criterion=gini, max_depth=6, max_features=auto, n_estimators=1000, score=0.9260869565217391, total=  12.3s\n",
      "[CV] criterion=gini, max_depth=6, max_features=sqrt, n_estimators=100 \n",
      "[CV]  criterion=gini, max_depth=6, max_features=sqrt, n_estimators=100, score=0.9135446685878963, total=   1.7s\n",
      "[CV] criterion=gini, max_depth=6, max_features=sqrt, n_estimators=100 \n",
      "[CV]  criterion=gini, max_depth=6, max_features=sqrt, n_estimators=100, score=0.927536231884058, total=   1.8s\n",
      "[CV] criterion=gini, max_depth=6, max_features=sqrt, n_estimators=100 \n",
      "[CV]  criterion=gini, max_depth=6, max_features=sqrt, n_estimators=100, score=0.908695652173913, total=   1.8s\n",
      "[CV] criterion=gini, max_depth=6, max_features=sqrt, n_estimators=500 \n",
      "[CV]  criterion=gini, max_depth=6, max_features=sqrt, n_estimators=100, score=0.9115942028985508, total=   1.2s\n",
      "[CV] criterion=gini, max_depth=6, max_features=sqrt, n_estimators=500 \n",
      "[CV]  criterion=gini, max_depth=6, max_features=auto, n_estimators=1000, score=0.9188405797101449, total=  13.0s\n",
      "[CV] criterion=gini, max_depth=6, max_features=sqrt, n_estimators=500 \n"
     ]
    },
    {
     "name": "stderr",
     "output_type": "stream",
     "text": [
      "[Parallel(n_jobs=-1)]: Done  64 tasks      | elapsed:  1.4min\n"
     ]
    },
    {
     "name": "stdout",
     "output_type": "stream",
     "text": [
      "[CV]  criterion=gini, max_depth=6, max_features=sqrt, n_estimators=500, score=0.9279538904899135, total=   6.3s\n",
      "[CV] criterion=gini, max_depth=6, max_features=sqrt, n_estimators=500 \n",
      "[CV]  criterion=gini, max_depth=6, max_features=sqrt, n_estimators=500, score=0.9293948126801153, total=   6.2s\n",
      "[CV] criterion=gini, max_depth=6, max_features=sqrt, n_estimators=500 \n",
      "[CV]  criterion=gini, max_depth=6, max_features=sqrt, n_estimators=500, score=0.9173913043478261, total=   6.2s\n",
      "[CV]  criterion=gini, max_depth=6, max_features=auto, n_estimators=1000, score=0.9130434782608695, total=  13.2s\n",
      "[CV] criterion=gini, max_depth=6, max_features=sqrt, n_estimators=1000 \n",
      "[CV] criterion=gini, max_depth=6, max_features=sqrt, n_estimators=1000 \n",
      "[CV]  criterion=gini, max_depth=6, max_features=sqrt, n_estimators=500, score=0.9188405797101449, total=   5.9s\n",
      "[CV] criterion=gini, max_depth=6, max_features=sqrt, n_estimators=1000 \n",
      "[CV]  criterion=gini, max_depth=6, max_features=sqrt, n_estimators=500, score=0.9159420289855073, total=   5.9s\n",
      "[CV] criterion=gini, max_depth=6, max_features=sqrt, n_estimators=1000 \n",
      "[CV]  criterion=gini, max_depth=6, max_features=sqrt, n_estimators=1000, score=0.9394812680115274, total=  12.2s\n",
      "[CV] criterion=gini, max_depth=6, max_features=sqrt, n_estimators=1000 \n",
      "[CV]  criterion=gini, max_depth=6, max_features=sqrt, n_estimators=1000, score=0.9322766570605188, total=  12.2s\n",
      "[CV] criterion=gini, max_depth=6, max_features=log2, n_estimators=100 \n",
      "[CV]  criterion=gini, max_depth=6, max_features=log2, n_estimators=100, score=0.8703170028818443, total=   0.8s\n",
      "[CV] criterion=gini, max_depth=6, max_features=log2, n_estimators=100 \n",
      "[CV]  criterion=gini, max_depth=6, max_features=log2, n_estimators=100, score=0.8674351585014409, total=   1.3s\n",
      "[CV] criterion=gini, max_depth=6, max_features=log2, n_estimators=100 \n",
      "[CV]  criterion=gini, max_depth=6, max_features=log2, n_estimators=100, score=0.8449275362318841, total=   0.8s\n",
      "[CV] criterion=gini, max_depth=6, max_features=log2, n_estimators=100 \n",
      "[CV]  criterion=gini, max_depth=6, max_features=log2, n_estimators=100, score=0.8594202898550725, total=   0.8s\n",
      "[CV] criterion=gini, max_depth=6, max_features=log2, n_estimators=100 \n",
      "[CV]  criterion=gini, max_depth=6, max_features=sqrt, n_estimators=1000, score=0.9260869565217391, total=  12.3s\n",
      "[CV] criterion=gini, max_depth=6, max_features=log2, n_estimators=500 \n"
     ]
    },
    {
     "name": "stderr",
     "output_type": "stream",
     "text": [
      "[Parallel(n_jobs=-1)]: Done  77 tasks      | elapsed:  1.8min\n"
     ]
    },
    {
     "name": "stdout",
     "output_type": "stream",
     "text": [
      "[CV]  criterion=gini, max_depth=6, max_features=log2, n_estimators=100, score=0.8289855072463768, total=   0.8s\n",
      "[CV] criterion=gini, max_depth=6, max_features=log2, n_estimators=500 \n",
      "[CV]  criterion=gini, max_depth=6, max_features=sqrt, n_estimators=1000, score=0.9188405797101449, total=  12.5s\n",
      "[CV] criterion=gini, max_depth=6, max_features=log2, n_estimators=500 \n",
      "[CV]  criterion=gini, max_depth=6, max_features=log2, n_estimators=500, score=0.8602305475504323, total=   3.8s\n",
      "[CV] criterion=gini, max_depth=6, max_features=log2, n_estimators=500 \n",
      "[CV]  criterion=gini, max_depth=6, max_features=log2, n_estimators=500, score=0.8674351585014409, total=   3.9s\n",
      "[CV] criterion=gini, max_depth=6, max_features=log2, n_estimators=500 \n",
      "[CV]  criterion=gini, max_depth=6, max_features=log2, n_estimators=500, score=0.863768115942029, total=   3.8s\n",
      "[CV] criterion=gini, max_depth=6, max_features=log2, n_estimators=1000 \n",
      "[CV]  criterion=gini, max_depth=6, max_features=sqrt, n_estimators=1000, score=0.9130434782608695, total=  11.4s\n",
      "[CV] criterion=gini, max_depth=6, max_features=log2, n_estimators=1000 \n",
      "[CV]  criterion=gini, max_depth=6, max_features=log2, n_estimators=500, score=0.8579710144927536, total=   3.9s\n",
      "[CV] criterion=gini, max_depth=6, max_features=log2, n_estimators=1000 \n",
      "[CV]  criterion=gini, max_depth=6, max_features=log2, n_estimators=500, score=0.8318840579710145, total=   3.9s\n",
      "[CV] criterion=gini, max_depth=6, max_features=log2, n_estimators=1000 \n",
      "[CV]  criterion=gini, max_depth=6, max_features=log2, n_estimators=1000, score=0.8587896253602305, total=   9.6s\n",
      "[CV] criterion=gini, max_depth=6, max_features=log2, n_estimators=1000 \n",
      "[CV]  criterion=gini, max_depth=6, max_features=log2, n_estimators=1000, score=0.8631123919308358, total=  10.2s\n",
      "[CV] criterion=entropy, max_depth=4, max_features=auto, n_estimators=100 \n",
      "[CV]  criterion=gini, max_depth=6, max_features=log2, n_estimators=1000, score=0.8579710144927536, total=  10.7s\n",
      "[CV] criterion=entropy, max_depth=4, max_features=auto, n_estimators=100 \n",
      "[CV]  criterion=entropy, max_depth=4, max_features=auto, n_estimators=100, score=0.9063400576368876, total=   2.1s\n",
      "[CV] criterion=entropy, max_depth=4, max_features=auto, n_estimators=100 \n",
      "[CV]  criterion=gini, max_depth=6, max_features=log2, n_estimators=1000, score=0.855072463768116, total=  11.0s\n",
      "[CV] criterion=entropy, max_depth=4, max_features=auto, n_estimators=100 \n"
     ]
    },
    {
     "name": "stderr",
     "output_type": "stream",
     "text": [
      "[Parallel(n_jobs=-1)]: Done  90 tasks      | elapsed:  2.2min\n"
     ]
    },
    {
     "name": "stdout",
     "output_type": "stream",
     "text": [
      "[CV]  criterion=entropy, max_depth=4, max_features=auto, n_estimators=100, score=0.8976945244956772, total=   1.5s\n",
      "[CV] criterion=entropy, max_depth=4, max_features=auto, n_estimators=100 \n",
      "[CV]  criterion=entropy, max_depth=4, max_features=auto, n_estimators=100, score=0.9014492753623189, total=   1.4s\n",
      "[CV] criterion=entropy, max_depth=4, max_features=auto, n_estimators=500 \n",
      "[CV]  criterion=entropy, max_depth=4, max_features=auto, n_estimators=100, score=0.8869565217391304, total=   1.4s\n",
      "[CV] criterion=entropy, max_depth=4, max_features=auto, n_estimators=500 \n",
      "[CV]  criterion=entropy, max_depth=4, max_features=auto, n_estimators=100, score=0.8695652173913043, total=   1.4s\n",
      "[CV] criterion=entropy, max_depth=4, max_features=auto, n_estimators=500 \n",
      "[CV]  criterion=gini, max_depth=6, max_features=log2, n_estimators=1000, score=0.8318840579710145, total=   9.6s\n",
      "[CV] criterion=entropy, max_depth=4, max_features=auto, n_estimators=500 \n",
      "[CV]  criterion=entropy, max_depth=4, max_features=auto, n_estimators=500, score=0.9034582132564841, total=   7.1s\n",
      "[CV] criterion=entropy, max_depth=4, max_features=auto, n_estimators=500 \n",
      "[CV]  criterion=entropy, max_depth=4, max_features=auto, n_estimators=500, score=0.8818443804034583, total=   6.8s\n",
      "[CV] criterion=entropy, max_depth=4, max_features=auto, n_estimators=1000 \n",
      "[CV]  criterion=entropy, max_depth=4, max_features=auto, n_estimators=500, score=0.8927536231884058, total=   7.0s\n",
      "[CV] criterion=entropy, max_depth=4, max_features=auto, n_estimators=1000 \n",
      "[CV]  criterion=entropy, max_depth=4, max_features=auto, n_estimators=500, score=0.8927536231884058, total=   6.6s\n",
      "[CV] criterion=entropy, max_depth=4, max_features=auto, n_estimators=1000 \n",
      "[CV]  criterion=entropy, max_depth=4, max_features=auto, n_estimators=500, score=0.8768115942028986, total=   7.0s\n",
      "[CV] criterion=entropy, max_depth=4, max_features=auto, n_estimators=1000 \n",
      "[CV]  criterion=entropy, max_depth=4, max_features=auto, n_estimators=1000, score=0.9005763688760807, total=  13.1s\n",
      "[CV] criterion=entropy, max_depth=4, max_features=auto, n_estimators=1000 \n",
      "[CV]  criterion=entropy, max_depth=4, max_features=auto, n_estimators=1000, score=0.8904899135446686, total=  13.0s\n",
      "[CV] criterion=entropy, max_depth=4, max_features=sqrt, n_estimators=100 \n",
      "[CV]  criterion=entropy, max_depth=4, max_features=sqrt, n_estimators=100, score=0.9063400576368876, total=   1.3s\n",
      "[CV] criterion=entropy, max_depth=4, max_features=sqrt, n_estimators=100 \n",
      "[CV]  criterion=entropy, max_depth=4, max_features=sqrt, n_estimators=100, score=0.8976945244956772, total=   1.3s\n",
      "[CV] criterion=entropy, max_depth=4, max_features=sqrt, n_estimators=100 \n",
      "[CV]  criterion=entropy, max_depth=4, max_features=auto, n_estimators=1000, score=0.8855072463768116, total=  13.5s\n",
      "[CV] criterion=entropy, max_depth=4, max_features=sqrt, n_estimators=100 \n"
     ]
    },
    {
     "name": "stderr",
     "output_type": "stream",
     "text": [
      "[Parallel(n_jobs=-1)]: Done 105 tasks      | elapsed:  2.6min\n"
     ]
    },
    {
     "name": "stdout",
     "output_type": "stream",
     "text": [
      "[CV]  criterion=entropy, max_depth=4, max_features=sqrt, n_estimators=100, score=0.8869565217391304, total=   1.3s\n",
      "[CV]  criterion=entropy, max_depth=4, max_features=sqrt, n_estimators=100, score=0.9014492753623189, total=   1.4s\n",
      "[CV] criterion=entropy, max_depth=4, max_features=sqrt, n_estimators=100 \n",
      "[CV] criterion=entropy, max_depth=4, max_features=sqrt, n_estimators=500 \n",
      "[CV]  criterion=entropy, max_depth=4, max_features=sqrt, n_estimators=100, score=0.8695652173913043, total=   1.8s\n",
      "[CV] criterion=entropy, max_depth=4, max_features=sqrt, n_estimators=500 \n",
      "[CV]  criterion=entropy, max_depth=4, max_features=auto, n_estimators=1000, score=0.8869565217391304, total=  13.2s\n",
      "[CV] criterion=entropy, max_depth=4, max_features=sqrt, n_estimators=500 \n",
      "[CV]  criterion=entropy, max_depth=4, max_features=sqrt, n_estimators=500, score=0.9034582132564841, total=   8.5s\n",
      "[CV] criterion=entropy, max_depth=4, max_features=sqrt, n_estimators=500 \n",
      "[CV]  criterion=entropy, max_depth=4, max_features=auto, n_estimators=1000, score=0.8695652173913043, total=  14.9s\n",
      "[CV] criterion=entropy, max_depth=4, max_features=sqrt, n_estimators=500 \n",
      "[CV]  criterion=entropy, max_depth=4, max_features=sqrt, n_estimators=500, score=0.8818443804034583, total=   8.2s\n",
      "[CV] criterion=entropy, max_depth=4, max_features=sqrt, n_estimators=1000 \n",
      "[CV]  criterion=entropy, max_depth=4, max_features=sqrt, n_estimators=500, score=0.8927536231884058, total=   8.2s\n",
      "[CV] criterion=entropy, max_depth=4, max_features=sqrt, n_estimators=1000 \n",
      "[CV]  criterion=entropy, max_depth=4, max_features=sqrt, n_estimators=500, score=0.8927536231884058, total=   6.5s\n",
      "[CV] criterion=entropy, max_depth=4, max_features=sqrt, n_estimators=1000 \n",
      "[CV]  criterion=entropy, max_depth=4, max_features=sqrt, n_estimators=500, score=0.8768115942028986, total=   6.5s\n",
      "[CV] criterion=entropy, max_depth=4, max_features=sqrt, n_estimators=1000 \n",
      "[CV]  criterion=entropy, max_depth=4, max_features=sqrt, n_estimators=1000, score=0.8904899135446686, total=  12.4s\n",
      "[CV] criterion=entropy, max_depth=4, max_features=sqrt, n_estimators=1000 \n",
      "[CV]  criterion=entropy, max_depth=4, max_features=sqrt, n_estimators=1000, score=0.9005763688760807, total=  12.6s\n",
      "[CV] criterion=entropy, max_depth=4, max_features=log2, n_estimators=100 \n",
      "[CV]  criterion=entropy, max_depth=4, max_features=log2, n_estimators=100, score=0.8112391930835735, total=   0.9s\n",
      "[CV] criterion=entropy, max_depth=4, max_features=log2, n_estimators=100 \n",
      "[CV]  criterion=entropy, max_depth=4, max_features=log2, n_estimators=100, score=0.8069164265129684, total=   0.8s\n",
      "[CV] criterion=entropy, max_depth=4, max_features=log2, n_estimators=100 \n",
      "[CV]  criterion=entropy, max_depth=4, max_features=log2, n_estimators=100, score=0.8130434782608695, total=   0.8s\n",
      "[CV] criterion=entropy, max_depth=4, max_features=log2, n_estimators=100 \n"
     ]
    },
    {
     "name": "stderr",
     "output_type": "stream",
     "text": [
      "[Parallel(n_jobs=-1)]: Done 120 tasks      | elapsed:  3.1min\n"
     ]
    },
    {
     "name": "stdout",
     "output_type": "stream",
     "text": [
      "[CV]  criterion=entropy, max_depth=4, max_features=log2, n_estimators=100, score=0.8173913043478261, total=   0.9s\n",
      "[CV] criterion=entropy, max_depth=4, max_features=log2, n_estimators=100 \n",
      "[CV]  criterion=entropy, max_depth=4, max_features=log2, n_estimators=100, score=0.7942028985507247, total=   0.8s\n",
      "[CV] criterion=entropy, max_depth=4, max_features=log2, n_estimators=500 \n",
      "[CV]  criterion=entropy, max_depth=4, max_features=sqrt, n_estimators=1000, score=0.8855072463768116, total=  12.9s\n",
      "[CV] criterion=entropy, max_depth=4, max_features=log2, n_estimators=500 \n",
      "[CV]  criterion=entropy, max_depth=4, max_features=sqrt, n_estimators=1000, score=0.8869565217391304, total=  12.6s\n",
      "[CV] criterion=entropy, max_depth=4, max_features=log2, n_estimators=500 \n",
      "[CV]  criterion=entropy, max_depth=4, max_features=log2, n_estimators=500, score=0.8285302593659942, total=   4.2s\n",
      "[CV] criterion=entropy, max_depth=4, max_features=log2, n_estimators=500 \n",
      "[CV]  criterion=entropy, max_depth=4, max_features=log2, n_estimators=500, score=0.8328530259365994, total=   4.2s\n",
      "[CV] criterion=entropy, max_depth=4, max_features=log2, n_estimators=500 \n",
      "[CV]  criterion=entropy, max_depth=4, max_features=log2, n_estimators=500, score=0.8304347826086956, total=   4.2s\n",
      "[CV] criterion=entropy, max_depth=4, max_features=log2, n_estimators=1000 \n",
      "[CV]  criterion=entropy, max_depth=4, max_features=sqrt, n_estimators=1000, score=0.8695652173913043, total=  12.4s\n",
      "[CV] criterion=entropy, max_depth=4, max_features=log2, n_estimators=1000 \n",
      "[CV]  criterion=entropy, max_depth=4, max_features=log2, n_estimators=500, score=0.827536231884058, total=   4.3s\n",
      "[CV] criterion=entropy, max_depth=4, max_features=log2, n_estimators=1000 \n",
      "[CV]  criterion=entropy, max_depth=4, max_features=log2, n_estimators=500, score=0.8043478260869565, total=   4.3s\n",
      "[CV] criterion=entropy, max_depth=4, max_features=log2, n_estimators=1000 \n",
      "[CV]  criterion=entropy, max_depth=4, max_features=log2, n_estimators=1000, score=0.8285302593659942, total=   8.2s\n",
      "[CV] criterion=entropy, max_depth=4, max_features=log2, n_estimators=1000 \n",
      "[CV]  criterion=entropy, max_depth=4, max_features=log2, n_estimators=1000, score=0.8357348703170029, total=   8.3s\n",
      "[CV] criterion=entropy, max_depth=6, max_features=auto, n_estimators=100 \n",
      "[CV]  criterion=entropy, max_depth=4, max_features=log2, n_estimators=1000, score=0.8333333333333334, total=   8.4s\n",
      "[CV] criterion=entropy, max_depth=6, max_features=auto, n_estimators=100 \n",
      "[CV]  criterion=entropy, max_depth=6, max_features=auto, n_estimators=100, score=0.946685878962536, total=   1.6s\n",
      "[CV] criterion=entropy, max_depth=6, max_features=auto, n_estimators=100 \n",
      "[CV]  criterion=entropy, max_depth=4, max_features=log2, n_estimators=1000, score=0.827536231884058, total=   8.6s\n",
      "[CV] criterion=entropy, max_depth=6, max_features=auto, n_estimators=100 \n",
      "[CV]  criterion=entropy, max_depth=6, max_features=auto, n_estimators=100, score=0.9438040345821326, total=   1.6s\n",
      "[CV] criterion=entropy, max_depth=6, max_features=auto, n_estimators=100 \n",
      "[CV]  criterion=entropy, max_depth=6, max_features=auto, n_estimators=100, score=0.946376811594203, total=   1.7s\n",
      "[CV] criterion=entropy, max_depth=6, max_features=auto, n_estimators=500 \n"
     ]
    },
    {
     "name": "stderr",
     "output_type": "stream",
     "text": [
      "[Parallel(n_jobs=-1)]: Done 137 tasks      | elapsed:  3.4min\n"
     ]
    },
    {
     "name": "stdout",
     "output_type": "stream",
     "text": [
      "[CV]  criterion=entropy, max_depth=6, max_features=auto, n_estimators=100, score=0.9202898550724637, total=   1.6s\n",
      "[CV] criterion=entropy, max_depth=6, max_features=auto, n_estimators=500 \n",
      "[CV]  criterion=entropy, max_depth=6, max_features=auto, n_estimators=100, score=0.9188405797101449, total=   1.6s\n",
      "[CV] criterion=entropy, max_depth=6, max_features=auto, n_estimators=500 \n",
      "[CV]  criterion=entropy, max_depth=4, max_features=log2, n_estimators=1000, score=0.8057971014492754, total=   8.6s\n",
      "[CV] criterion=entropy, max_depth=6, max_features=auto, n_estimators=500 \n",
      "[CV]  criterion=entropy, max_depth=6, max_features=auto, n_estimators=500, score=0.9481268011527377, total=   7.7s\n",
      "[CV] criterion=entropy, max_depth=6, max_features=auto, n_estimators=500 \n",
      "[CV]  criterion=entropy, max_depth=6, max_features=auto, n_estimators=500, score=0.9481268011527377, total=   7.7s\n",
      "[CV] criterion=entropy, max_depth=6, max_features=auto, n_estimators=1000 \n",
      "[CV]  criterion=entropy, max_depth=6, max_features=auto, n_estimators=500, score=0.9536231884057971, total=   7.8s\n",
      "[CV] criterion=entropy, max_depth=6, max_features=auto, n_estimators=1000 \n",
      "[CV]  criterion=entropy, max_depth=6, max_features=auto, n_estimators=500, score=0.9347826086956522, total=   7.8s\n",
      "[CV] criterion=entropy, max_depth=6, max_features=auto, n_estimators=1000 \n",
      "[CV]  criterion=entropy, max_depth=6, max_features=auto, n_estimators=500, score=0.9217391304347826, total=   7.8s\n",
      "[CV] criterion=entropy, max_depth=6, max_features=auto, n_estimators=1000 \n",
      "[CV]  criterion=entropy, max_depth=6, max_features=auto, n_estimators=1000, score=0.946685878962536, total=  15.3s\n",
      "[CV] criterion=entropy, max_depth=6, max_features=auto, n_estimators=1000 \n",
      "[CV]  criterion=entropy, max_depth=6, max_features=auto, n_estimators=1000, score=0.9495677233429395, total=  15.4s\n",
      "[CV] criterion=entropy, max_depth=6, max_features=sqrt, n_estimators=100 \n",
      "[CV]  criterion=entropy, max_depth=6, max_features=sqrt, n_estimators=100, score=0.946685878962536, total=   1.5s\n",
      "[CV] criterion=entropy, max_depth=6, max_features=sqrt, n_estimators=100 \n",
      "[CV]  criterion=entropy, max_depth=6, max_features=auto, n_estimators=1000, score=0.9536231884057971, total=  15.6s\n",
      "[CV] criterion=entropy, max_depth=6, max_features=sqrt, n_estimators=100 \n",
      "[CV]  criterion=entropy, max_depth=6, max_features=sqrt, n_estimators=100, score=0.9438040345821326, total=   1.6s\n",
      "[CV] criterion=entropy, max_depth=6, max_features=sqrt, n_estimators=100 \n",
      "[CV]  criterion=entropy, max_depth=6, max_features=sqrt, n_estimators=100, score=0.946376811594203, total=   1.6s\n",
      "[CV] criterion=entropy, max_depth=6, max_features=sqrt, n_estimators=100 \n",
      "[CV]  criterion=entropy, max_depth=6, max_features=sqrt, n_estimators=100, score=0.9202898550724637, total=   1.6s\n",
      "[CV] criterion=entropy, max_depth=6, max_features=sqrt, n_estimators=500 \n",
      "[CV]  criterion=entropy, max_depth=6, max_features=sqrt, n_estimators=100, score=0.9188405797101449, total=   1.6s\n",
      "[CV] criterion=entropy, max_depth=6, max_features=sqrt, n_estimators=500 \n",
      "[CV]  criterion=entropy, max_depth=6, max_features=auto, n_estimators=1000, score=0.9391304347826087, total=  15.7s\n",
      "[CV] criterion=entropy, max_depth=6, max_features=sqrt, n_estimators=500 \n"
     ]
    },
    {
     "name": "stderr",
     "output_type": "stream",
     "text": [
      "[Parallel(n_jobs=-1)]: Done 154 tasks      | elapsed:  4.0min\n"
     ]
    },
    {
     "name": "stdout",
     "output_type": "stream",
     "text": [
      "[CV]  criterion=entropy, max_depth=6, max_features=sqrt, n_estimators=500, score=0.9481268011527377, total=   7.6s\n",
      "[CV] criterion=entropy, max_depth=6, max_features=sqrt, n_estimators=500 \n",
      "[CV]  criterion=entropy, max_depth=6, max_features=sqrt, n_estimators=500, score=0.9481268011527377, total=   7.7s\n",
      "[CV] criterion=entropy, max_depth=6, max_features=sqrt, n_estimators=500 \n",
      "[CV]  criterion=entropy, max_depth=6, max_features=sqrt, n_estimators=500, score=0.9536231884057971, total=   7.6s\n",
      "[CV] criterion=entropy, max_depth=6, max_features=sqrt, n_estimators=1000 \n",
      "[CV]  criterion=entropy, max_depth=6, max_features=auto, n_estimators=1000, score=0.9318840579710145, total=  16.0s\n",
      "[CV] criterion=entropy, max_depth=6, max_features=sqrt, n_estimators=1000 \n",
      "[CV]  criterion=entropy, max_depth=6, max_features=sqrt, n_estimators=500, score=0.9347826086956522, total=   7.8s\n",
      "[CV] criterion=entropy, max_depth=6, max_features=sqrt, n_estimators=1000 \n",
      "[CV]  criterion=entropy, max_depth=6, max_features=sqrt, n_estimators=500, score=0.9217391304347826, total=   7.8s\n",
      "[CV] criterion=entropy, max_depth=6, max_features=sqrt, n_estimators=1000 \n",
      "[CV]  criterion=entropy, max_depth=6, max_features=sqrt, n_estimators=1000, score=0.946685878962536, total=  15.6s\n",
      "[CV] criterion=entropy, max_depth=6, max_features=sqrt, n_estimators=1000 \n",
      "[CV]  criterion=entropy, max_depth=6, max_features=sqrt, n_estimators=1000, score=0.9495677233429395, total=  15.4s\n",
      "[CV] criterion=entropy, max_depth=6, max_features=log2, n_estimators=100 \n",
      "[CV]  criterion=entropy, max_depth=6, max_features=log2, n_estimators=100, score=0.8703170028818443, total=   1.0s\n",
      "[CV] criterion=entropy, max_depth=6, max_features=log2, n_estimators=100 \n",
      "[CV]  criterion=entropy, max_depth=6, max_features=log2, n_estimators=100, score=0.8933717579250721, total=   1.1s\n",
      "[CV] criterion=entropy, max_depth=6, max_features=log2, n_estimators=100 \n",
      "[CV]  criterion=entropy, max_depth=6, max_features=log2, n_estimators=100, score=0.863768115942029, total=   1.1s\n",
      "[CV] criterion=entropy, max_depth=6, max_features=log2, n_estimators=100 \n",
      "[CV]  criterion=entropy, max_depth=6, max_features=log2, n_estimators=100, score=0.8797101449275362, total=   1.1s\n",
      "[CV] criterion=entropy, max_depth=6, max_features=log2, n_estimators=100 \n",
      "[CV]  criterion=entropy, max_depth=6, max_features=sqrt, n_estimators=1000, score=0.9536231884057971, total=  15.8s\n",
      "[CV] criterion=entropy, max_depth=6, max_features=log2, n_estimators=500 \n",
      "[CV]  criterion=entropy, max_depth=6, max_features=log2, n_estimators=100, score=0.8579710144927536, total=   1.1s\n",
      "[CV] criterion=entropy, max_depth=6, max_features=log2, n_estimators=500 \n",
      "[CV]  criterion=entropy, max_depth=6, max_features=sqrt, n_estimators=1000, score=0.9391304347826087, total=  15.6s\n",
      "[CV] criterion=entropy, max_depth=6, max_features=log2, n_estimators=500 \n",
      "[CV]  criterion=entropy, max_depth=6, max_features=log2, n_estimators=500, score=0.8703170028818443, total=   5.2s\n",
      "[CV] criterion=entropy, max_depth=6, max_features=log2, n_estimators=500 \n",
      "[CV]  criterion=entropy, max_depth=6, max_features=log2, n_estimators=500, score=0.8847262247838616, total=   5.2s\n",
      "[CV] criterion=entropy, max_depth=6, max_features=log2, n_estimators=500 \n",
      "[CV]  criterion=entropy, max_depth=6, max_features=log2, n_estimators=500, score=0.881159420289855, total=   5.3s\n",
      "[CV] criterion=entropy, max_depth=6, max_features=log2, n_estimators=1000 \n",
      "[CV]  criterion=entropy, max_depth=6, max_features=sqrt, n_estimators=1000, score=0.9318840579710145, total=  15.9s\n",
      "[CV] criterion=entropy, max_depth=6, max_features=log2, n_estimators=1000 \n"
     ]
    },
    {
     "name": "stderr",
     "output_type": "stream",
     "text": [
      "[Parallel(n_jobs=-1)]: Done 173 tasks      | elapsed:  4.7min\n"
     ]
    },
    {
     "name": "stdout",
     "output_type": "stream",
     "text": [
      "[CV]  criterion=entropy, max_depth=6, max_features=log2, n_estimators=500, score=0.8710144927536232, total=   5.3s\n",
      "[CV] criterion=entropy, max_depth=6, max_features=log2, n_estimators=1000 \n",
      "[CV]  criterion=entropy, max_depth=6, max_features=log2, n_estimators=500, score=0.8478260869565217, total=   5.3s\n",
      "[CV] criterion=entropy, max_depth=6, max_features=log2, n_estimators=1000 \n",
      "[CV]  criterion=entropy, max_depth=6, max_features=log2, n_estimators=1000, score=0.8674351585014409, total=  10.4s\n",
      "[CV] criterion=entropy, max_depth=6, max_features=log2, n_estimators=1000 \n",
      "[CV]  criterion=entropy, max_depth=6, max_features=log2, n_estimators=1000, score=0.8876080691642652, total=  10.7s\n",
      "[CV]  criterion=entropy, max_depth=6, max_features=log2, n_estimators=1000, score=0.8797101449275362, total=  10.6s\n",
      "[CV]  criterion=entropy, max_depth=6, max_features=log2, n_estimators=1000, score=0.8724637681159421, total=  10.8s\n",
      "[CV]  criterion=entropy, max_depth=6, max_features=log2, n_estimators=1000, score=0.8492753623188406, total=   8.6s\n"
     ]
    },
    {
     "name": "stderr",
     "output_type": "stream",
     "text": [
      "[Parallel(n_jobs=-1)]: Done 180 out of 180 | elapsed:  4.9min finished\n"
     ]
    },
    {
     "data": {
      "text/plain": [
       "GridSearchCV(cv=5, error_score='raise',\n",
       "       estimator=RandomForestClassifier(bootstrap=True, class_weight=None, criterion='gini',\n",
       "            max_depth=None, max_features='auto', max_leaf_nodes=None,\n",
       "            min_impurity_decrease=0.0, min_impurity_split=None,\n",
       "            min_samples_leaf=1, min_samples_split=2,\n",
       "            min_weight_fraction_leaf=0.0, n_estimators=1000, n_jobs=1,\n",
       "            oob_score=False, random_state=0, verbose=0, warm_start=False),\n",
       "       fit_params=None, iid=True, n_jobs=-1,\n",
       "       param_grid={'n_estimators': [100, 500, 1000], 'max_features': ['auto', 'sqrt', 'log2'], 'max_depth': [4, 6], 'criterion': ['gini', 'entropy']},\n",
       "       pre_dispatch='2*n_jobs', refit=True, return_train_score='warn',\n",
       "       scoring='accuracy', verbose=10)"
      ]
     },
     "execution_count": 114,
     "metadata": {},
     "output_type": "execute_result"
    }
   ],
   "source": [
    "CV_rfc_biased = model_selection.GridSearchCV(estimator=rfc_biased, param_grid=param_grid, cv= 5, verbose=10, n_jobs=-1, scoring='accuracy')\n",
    "CV_rfc_biased.fit(X_train_biased, y_train_biased)"
   ]
  },
  {
   "cell_type": "code",
   "execution_count": 115,
   "metadata": {},
   "outputs": [
    {
     "data": {
      "text/plain": [
       "{'criterion': 'entropy',\n",
       " 'max_depth': 6,\n",
       " 'max_features': 'auto',\n",
       " 'n_estimators': 1000}"
      ]
     },
     "execution_count": 115,
     "metadata": {},
     "output_type": "execute_result"
    }
   ],
   "source": [
    "CV_rfc_biased.best_params_"
   ]
  },
  {
   "cell_type": "code",
   "execution_count": 116,
   "metadata": {},
   "outputs": [
    {
     "name": "stdout",
     "output_type": "stream",
     "text": [
      "Accuracy for Random Forest with biased sampling on CV data:  93.07958477508652\n"
     ]
    }
   ],
   "source": [
    "print(\"Accuracy for Random Forest with biased sampling on CV data: \", (CV_rfc_biased.score(X_test_biased, y_test_biased))*100)"
   ]
  },
  {
   "cell_type": "code",
   "execution_count": 124,
   "metadata": {},
   "outputs": [],
   "source": [
    "y_pred_biased = CV_rfc_biased.predict(X_test_biased)"
   ]
  },
  {
   "cell_type": "code",
   "execution_count": 125,
   "metadata": {},
   "outputs": [
    {
     "data": {
      "image/png": "[encoded data removed]",
      "text/plain": [
       "<matplotlib.figure.Figure at 0x111a94908>"
      ]
     },
     "metadata": {},
     "output_type": "display_data"
    }
   ],
   "source": [
    "# Compute confusion matrix\n",
    "cnf_matrix = confusion_matrix(y_test_biased, y_pred_biased)\n",
    "np.set_printoptions(precision=2)\n",
    "\n",
    "# Plot non-normalized confusion matrix\n",
    "plt.figure(figsize=(10,7))\n",
    "plot_confusion_matrix(cnf_matrix, classes=class_names,\n",
    "                      title='Confusion matrix with RandomForest')"
   ]
  },
  {
   "cell_type": "markdown",
   "metadata": {},
   "source": [
    "## XGBoost"
   ]
  },
  {
   "cell_type": "code",
   "execution_count": 126,
   "metadata": {},
   "outputs": [],
   "source": [
    "xgb_biased = xgboost.XGBClassifier(random_state = 0, learning_rate = 0.01, \n",
    "                                   objective = 'multi:softprob', n_estimators = 1000,\n",
    "                                  colsample_bytree = 0.6, gamma = 0.5, max_depth = 7,\n",
    "                                  min_child_weight = 1, subsample=0.8, n_jobs=-1, scoring='accuracy')"
   ]
  },
  {
   "cell_type": "code",
   "execution_count": 127,
   "metadata": {},
   "outputs": [
    {
     "data": {
      "text/plain": [
       "XGBClassifier(base_score=0.5, booster='gbtree', colsample_bylevel=1,\n",
       "       colsample_bytree=0.6, gamma=0.5, learning_rate=0.01,\n",
       "       max_delta_step=0, max_depth=7, min_child_weight=1, missing=None,\n",
       "       n_estimators=1000, n_jobs=-1, nthread=None,\n",
       "       objective='multi:softprob', random_state=0, reg_alpha=0,\n",
       "       reg_lambda=1, scale_pos_weight=1, scoring='accuracy', seed=None,\n",
       "       silent=True, subsample=0.8)"
      ]
     },
     "execution_count": 127,
     "metadata": {},
     "output_type": "execute_result"
    }
   ],
   "source": [
    "xgb_biased.fit(X_train_biased, y_train_biased)"
   ]
  },
  {
   "cell_type": "code",
   "execution_count": 128,
   "metadata": {},
   "outputs": [
    {
     "name": "stdout",
     "output_type": "stream",
     "text": [
      "Accuracy for XGBoost with biased sampling on CV data:  97.80853517877739\n"
     ]
    },
    {
     "name": "stderr",
     "output_type": "stream",
     "text": [
      "/Users/miljanstojiljkovic/anaconda3/lib/python3.6/site-packages/sklearn/preprocessing/label.py:151: DeprecationWarning: The truth value of an empty array is ambiguous. Returning False, but in future this will result in an error. Use `array.size > 0` to check that an array is not empty.\n",
      "  if diff:\n"
     ]
    }
   ],
   "source": [
    "print(\"Accuracy for XGBoost with biased sampling on CV data: \", (xgb_biased.score(X_test_biased, y_test_biased))*100)"
   ]
  },
  {
   "cell_type": "code",
   "execution_count": 129,
   "metadata": {},
   "outputs": [
    {
     "name": "stderr",
     "output_type": "stream",
     "text": [
      "/Users/miljanstojiljkovic/anaconda3/lib/python3.6/site-packages/sklearn/preprocessing/label.py:151: DeprecationWarning: The truth value of an empty array is ambiguous. Returning False, but in future this will result in an error. Use `array.size > 0` to check that an array is not empty.\n",
      "  if diff:\n"
     ]
    }
   ],
   "source": [
    "y_pred_biased = xgb_biased.predict(X_test_biased)"
   ]
  },
  {
   "cell_type": "code",
   "execution_count": 130,
   "metadata": {},
   "outputs": [
    {
     "data": {
      "image/png": "[encoded data removed]",
      "text/plain": [
       "<matplotlib.figure.Figure at 0x11676ea58>"
      ]
     },
     "metadata": {},
     "output_type": "display_data"
    }
   ],
   "source": [
    "# Compute confusion matrix\n",
    "cnf_matrix = confusion_matrix(y_test_biased, y_pred_biased)\n",
    "np.set_printoptions(precision=2)\n",
    "\n",
    "# Plot non-normalized confusion matrix\n",
    "plt.figure(figsize=(10,7))\n",
    "plot_confusion_matrix(cnf_matrix, classes=class_names,\n",
    "                      title='Confusion matrix with XGBoost')"
   ]
  },
  {
   "cell_type": "code",
   "execution_count": 302,
   "metadata": {},
   "outputs": [
    {
     "name": "stdout",
     "output_type": "stream",
     "text": [
      "Confusion matrix, without normalization\n",
      "[[185   2   0   1   0   1   0   0]\n",
      " [  1 306   0   0   0   2   0   0]\n",
      " [  0   0   0   0   0   0   0   1]\n",
      " [  0   1   0  58   0   0   0   0]\n",
      " [  0   0   0   0   0   0   2   0]\n",
      " [  0   0   0   0   0 291   0   0]\n",
      " [  1   1   0   1   0   2   7   0]\n",
      " [  0   1   0   1   0   0   1   1]]\n",
      "Confusion matrix, without normalization\n",
      "[[185   2   0   1   0   1   0   0]\n",
      " [  1 306   0   0   0   2   0   0]\n",
      " [  0   0   0   0   0   0   0   1]\n",
      " [  0   1   0  58   0   0   0   0]\n",
      " [  0   0   0   0   0   0   2   0]\n",
      " [  0   0   0   0   0 291   0   0]\n",
      " [  1   1   0   1   0   2   7   0]\n",
      " [  0   1   0   1   0   0   1   1]]\n",
      "Normalized confusion matrix\n",
      "[[0.98 0.01 0.   0.01 0.   0.01 0.   0.  ]\n",
      " [0.   0.99 0.   0.   0.   0.01 0.   0.  ]\n",
      " [0.   0.   0.   0.   0.   0.   0.   1.  ]\n",
      " [0.   0.02 0.   0.98 0.   0.   0.   0.  ]\n",
      " [0.   0.   0.   0.   0.   0.   1.   0.  ]\n",
      " [0.   0.   0.   0.   0.   1.   0.   0.  ]\n",
      " [0.08 0.08 0.   0.08 0.   0.17 0.58 0.  ]\n",
      " [0.   0.25 0.   0.25 0.   0.   0.25 0.25]]\n"
     ]
    },
    {
     "data": {
      "image/png": "[encoded data removed]",
      "text/plain": [
       "<matplotlib.figure.Figure at 0x1146a3f28>"
      ]
     },
     "metadata": {},
     "output_type": "display_data"
    },
    {
     "data": {
      "image/png": "[encoded data removed]",
      "text/plain": [
       "<matplotlib.figure.Figure at 0x1146c55f8>"
      ]
     },
     "metadata": {},
     "output_type": "display_data"
    },
    {
     "data": {
      "image/png": "[encoded data removed]",
      "text/plain": [
       "<matplotlib.figure.Figure at 0x1144cb240>"
      ]
     },
     "metadata": {},
     "output_type": "display_data"
    }
   ],
   "source": [
    "def plot_confusion_matrix(cm, classes,\n",
    "                          normalize=False,\n",
    "                          title='Confusion matrix',\n",
    "                          cmap=plt.cm.Blues):\n",
    "    \"\"\"\n",
    "    This function prints and plots the confusion matrix.\n",
    "    Normalization can be applied by setting `normalize=True`.\n",
    "    \"\"\"\n",
    "    if normalize:\n",
    "        cm = cm.astype('float') / cm.sum(axis=1)[:, np.newaxis]\n",
    "        print(\"Normalized confusion matrix\")\n",
    "    else:\n",
    "        print('Confusion matrix, without normalization')\n",
    "\n",
    "    print(cm)\n",
    "\n",
    "    plt.imshow(cm, interpolation='nearest', cmap=cmap)\n",
    "    plt.title(title)\n",
    "    plt.colorbar()\n",
    "    tick_marks = np.arange(len(classes))\n",
    "    plt.xticks(tick_marks, classes, rotation=45)\n",
    "    plt.yticks(tick_marks, classes)\n",
    "\n",
    "    fmt = '.2f' if normalize else 'd'\n",
    "    thresh = cm.max() / 2.\n",
    "    for i, j in itertools.product(range(cm.shape[0]), range(cm.shape[1])):\n",
    "        plt.text(j, i, format(cm[i, j], fmt),\n",
    "                 horizontalalignment=\"center\",\n",
    "                 color=\"white\" if cm[i, j] > thresh else \"black\")\n",
    "\n",
    "    plt.tight_layout()\n",
    "    plt.ylabel('True label')\n",
    "    plt.xlabel('Predicted label')\n",
    "\n",
    "# Compute confusion matrix\n",
    "cnf_matrix = confusion_matrix(y_test_biased, y_pred_biased)\n",
    "np.set_printoptions(precision=2)\n",
    "\n",
    "# Plot non-normalized confusion matrix\n",
    "plt.figure(figsize=(10,7))\n",
    "plot_confusion_matrix(cnf_matrix, classes=class_names,\n",
    "                      title='Confusion matrix with XGBoost')\n",
    "\n",
    "# Plot non-normalized confusion matrix\n",
    "plt.figure(figsize=(10,7))\n",
    "plot_confusion_matrix(cnf_matrix, classes=class_names,\n",
    "                      title='Confusion matrix, without normalization')\n",
    "\n",
    "# Plot normalized confusion matrix\n",
    "plt.figure(figsize=(10,7))\n",
    "plot_confusion_matrix(cnf_matrix, classes=class_names, normalize=True,\n",
    "                      title='Normalized confusion matrix')"
   ]
  },
  {
   "cell_type": "markdown",
   "metadata": {},
   "source": [
    "# Saving the best estimator"
   ]
  },
  {
   "cell_type": "code",
   "execution_count": 134,
   "metadata": {},
   "outputs": [],
   "source": [
    "with open('training_algos.pickle', 'wb') as f:\n",
    "    pickle.dump([CV_xgb_random, CV_rfc_random, xgb_biased], f)"
   ]
  }
 ],
 "metadata": {
  "kernelspec": {
   "display_name": "Python 3",
   "language": "python",
   "name": "python3"
  },
  "language_info": {
   "codemirror_mode": {
    "name": "ipython",
    "version": 3
   },
   "file_extension": ".py",
   "mimetype": "text/x-python",
   "name": "python",
   "nbconvert_exporter": "python",
   "pygments_lexer": "ipython3",
   "version": "3.6.8"
  }
 },
 "nbformat": 4,
 "nbformat_minor": 2
}
